{
 "cells": [
  {
   "cell_type": "markdown",
   "id": "ac1b2f06",
   "metadata": {
    "ExecuteTime": {
     "end_time": "2022-09-23T13:25:14.682885Z",
     "start_time": "2022-09-23T13:25:14.680690Z"
    }
   },
   "source": [
    "# Carrifran Rewilding Area\n",
    "\n",
    "\n",
    "\n",
    "Carrifran has an area of 3,100 hectares has been rewilding since 2000 [1, 2].\n",
    "The first trees were planted on Millennium Day and the Carrifran Wildwood now boasts around 750,000 trees [3].\n",
    "\n",
    "[1] <https://www.rewildingbritain.org.uk/rewilding-projects/reviving-the-wild-heart-of-southern-scotland>\n",
    "\n",
    "[2] <https://www.bbc.co.uk/newsround/62344491>\n",
    "\n",
    "[3] <https://www.bordersforesttrust.org/about-us/vision>\n",
    "\n",
    "![Carrifran Boundary](https://images.ctfassets.net/p3r8buzp5omt/6YcMwwBKEeBX5QACsGd7vN/c0a3940577c3ba368632e0d829887378/Carrifran_2021_Boundary.jpg)\n"
   ]
  },
  {
   "cell_type": "code",
   "execution_count": 30,
   "id": "c51b2910",
   "metadata": {},
   "outputs": [
    {
     "name": "stdout",
     "output_type": "stream",
     "text": [
      "Requirement already satisfied: sithom in /Users/simon/geograph/env/lib/python3.8/site-packages (0.0.3)\n",
      "Requirement already satisfied: xarray in /Users/simon/geograph/env/lib/python3.8/site-packages (from sithom) (2022.6.0)\n",
      "Requirement already satisfied: matplotlib in /Users/simon/geograph/env/lib/python3.8/site-packages (from sithom) (3.5.2)\n",
      "Requirement already satisfied: uncertainties in /Users/simon/geograph/env/lib/python3.8/site-packages (from sithom) (3.1.7)\n",
      "Requirement already satisfied: seaborn in /Users/simon/geograph/env/lib/python3.8/site-packages (from sithom) (0.12.0)\n",
      "Requirement already satisfied: jupyterthemes in /Users/simon/geograph/env/lib/python3.8/site-packages (from sithom) (0.20.0)\n",
      "Requirement already satisfied: pooch in /Users/simon/geograph/env/lib/python3.8/site-packages (from sithom) (1.6.0)\n",
      "Requirement already satisfied: cmocean in /Users/simon/geograph/env/lib/python3.8/site-packages (from sithom) (2.0)\n",
      "Requirement already satisfied: jupyter-core in /Users/simon/geograph/env/lib/python3.8/site-packages (from jupyterthemes->sithom) (4.11.1)\n",
      "Requirement already satisfied: notebook>=5.6.0 in /Users/simon/geograph/env/lib/python3.8/site-packages (from jupyterthemes->sithom) (6.4.12)\n",
      "Requirement already satisfied: lesscpy>=0.11.2 in /Users/simon/geograph/env/lib/python3.8/site-packages (from jupyterthemes->sithom) (0.15.0)\n",
      "Requirement already satisfied: ipython>=5.4.1 in /Users/simon/geograph/env/lib/python3.8/site-packages (from jupyterthemes->sithom) (8.5.0)\n",
      "Requirement already satisfied: packaging>=20.0 in /Users/simon/geograph/env/lib/python3.8/site-packages (from matplotlib->sithom) (21.3)\n",
      "Requirement already satisfied: pyparsing>=2.2.1 in /Users/simon/geograph/env/lib/python3.8/site-packages (from matplotlib->sithom) (3.0.9)\n",
      "Requirement already satisfied: kiwisolver>=1.0.1 in /Users/simon/geograph/env/lib/python3.8/site-packages (from matplotlib->sithom) (1.4.4)\n",
      "Requirement already satisfied: pillow>=6.2.0 in /Users/simon/geograph/env/lib/python3.8/site-packages (from matplotlib->sithom) (9.2.0)\n",
      "Requirement already satisfied: fonttools>=4.22.0 in /Users/simon/geograph/env/lib/python3.8/site-packages (from matplotlib->sithom) (4.37.3)\n",
      "Requirement already satisfied: cycler>=0.10 in /Users/simon/geograph/env/lib/python3.8/site-packages (from matplotlib->sithom) (0.11.0)\n",
      "Requirement already satisfied: numpy>=1.17 in /Users/simon/geograph/env/lib/python3.8/site-packages (from matplotlib->sithom) (1.23.3)\n",
      "Requirement already satisfied: python-dateutil>=2.7 in /Users/simon/geograph/env/lib/python3.8/site-packages (from matplotlib->sithom) (2.8.2)\n",
      "Requirement already satisfied: requests>=2.19.0 in /Users/simon/geograph/env/lib/python3.8/site-packages (from pooch->sithom) (2.28.1)\n",
      "Requirement already satisfied: appdirs>=1.3.0 in /Users/simon/geograph/env/lib/python3.8/site-packages (from pooch->sithom) (1.4.4)\n",
      "Requirement already satisfied: pandas>=0.25 in /Users/simon/geograph/env/lib/python3.8/site-packages (from seaborn->sithom) (1.5.0)\n",
      "Requirement already satisfied: future in /Users/simon/geograph/env/lib/python3.8/site-packages (from uncertainties->sithom) (0.18.2)\n",
      "Requirement already satisfied: backcall in /Users/simon/geograph/env/lib/python3.8/site-packages (from ipython>=5.4.1->jupyterthemes->sithom) (0.2.0)\n",
      "Requirement already satisfied: prompt-toolkit<3.1.0,>3.0.1 in /Users/simon/geograph/env/lib/python3.8/site-packages (from ipython>=5.4.1->jupyterthemes->sithom) (3.0.31)\n",
      "Requirement already satisfied: decorator in /Users/simon/geograph/env/lib/python3.8/site-packages (from ipython>=5.4.1->jupyterthemes->sithom) (5.1.1)\n",
      "Requirement already satisfied: pickleshare in /Users/simon/geograph/env/lib/python3.8/site-packages (from ipython>=5.4.1->jupyterthemes->sithom) (0.7.5)\n",
      "Requirement already satisfied: pexpect>4.3 in /Users/simon/geograph/env/lib/python3.8/site-packages (from ipython>=5.4.1->jupyterthemes->sithom) (4.8.0)\n",
      "Requirement already satisfied: stack-data in /Users/simon/geograph/env/lib/python3.8/site-packages (from ipython>=5.4.1->jupyterthemes->sithom) (0.5.0)\n",
      "Requirement already satisfied: traitlets>=5 in /Users/simon/geograph/env/lib/python3.8/site-packages (from ipython>=5.4.1->jupyterthemes->sithom) (5.4.0)\n",
      "Requirement already satisfied: jedi>=0.16 in /Users/simon/geograph/env/lib/python3.8/site-packages (from ipython>=5.4.1->jupyterthemes->sithom) (0.18.1)\n",
      "Requirement already satisfied: matplotlib-inline in /Users/simon/geograph/env/lib/python3.8/site-packages (from ipython>=5.4.1->jupyterthemes->sithom) (0.1.6)\n",
      "Requirement already satisfied: appnope in /Users/simon/geograph/env/lib/python3.8/site-packages (from ipython>=5.4.1->jupyterthemes->sithom) (0.1.3)\n",
      "Requirement already satisfied: pygments>=2.4.0 in /Users/simon/geograph/env/lib/python3.8/site-packages (from ipython>=5.4.1->jupyterthemes->sithom) (2.13.0)\n",
      "Requirement already satisfied: ply in /Users/simon/geograph/env/lib/python3.8/site-packages (from lesscpy>=0.11.2->jupyterthemes->sithom) (3.11)\n",
      "Requirement already satisfied: six in /Users/simon/geograph/env/lib/python3.8/site-packages (from lesscpy>=0.11.2->jupyterthemes->sithom) (1.16.0)\n",
      "Requirement already satisfied: terminado>=0.8.3 in /Users/simon/geograph/env/lib/python3.8/site-packages (from notebook>=5.6.0->jupyterthemes->sithom) (0.15.0)\n",
      "Requirement already satisfied: ipykernel in /Users/simon/geograph/env/lib/python3.8/site-packages (from notebook>=5.6.0->jupyterthemes->sithom) (6.15.3)\n",
      "Requirement already satisfied: nbconvert>=5 in /Users/simon/geograph/env/lib/python3.8/site-packages (from notebook>=5.6.0->jupyterthemes->sithom) (7.0.0)\n",
      "Requirement already satisfied: nbformat in /Users/simon/geograph/env/lib/python3.8/site-packages (from notebook>=5.6.0->jupyterthemes->sithom) (5.6.0)\n",
      "Requirement already satisfied: jupyter-client>=5.3.4 in /Users/simon/geograph/env/lib/python3.8/site-packages (from notebook>=5.6.0->jupyterthemes->sithom) (7.3.4)\n",
      "Requirement already satisfied: argon2-cffi in /Users/simon/geograph/env/lib/python3.8/site-packages (from notebook>=5.6.0->jupyterthemes->sithom) (21.3.0)\n",
      "Requirement already satisfied: nest-asyncio>=1.5 in /Users/simon/geograph/env/lib/python3.8/site-packages (from notebook>=5.6.0->jupyterthemes->sithom) (1.5.5)\n",
      "Requirement already satisfied: Send2Trash>=1.8.0 in /Users/simon/geograph/env/lib/python3.8/site-packages (from notebook>=5.6.0->jupyterthemes->sithom) (1.8.0)\n",
      "Requirement already satisfied: ipython-genutils in /Users/simon/geograph/env/lib/python3.8/site-packages (from notebook>=5.6.0->jupyterthemes->sithom) (0.2.0)\n",
      "Requirement already satisfied: jinja2 in /Users/simon/geograph/env/lib/python3.8/site-packages (from notebook>=5.6.0->jupyterthemes->sithom) (3.1.2)\n",
      "Requirement already satisfied: prometheus-client in /Users/simon/geograph/env/lib/python3.8/site-packages (from notebook>=5.6.0->jupyterthemes->sithom) (0.14.1)\n",
      "Requirement already satisfied: tornado>=6.1 in /Users/simon/geograph/env/lib/python3.8/site-packages (from notebook>=5.6.0->jupyterthemes->sithom) (6.2)\n",
      "Requirement already satisfied: pyzmq>=17 in /Users/simon/geograph/env/lib/python3.8/site-packages (from notebook>=5.6.0->jupyterthemes->sithom) (24.0.1)\n",
      "Requirement already satisfied: pytz>=2020.1 in /Users/simon/geograph/env/lib/python3.8/site-packages (from pandas>=0.25->seaborn->sithom) (2022.2.1)\n",
      "Requirement already satisfied: urllib3<1.27,>=1.21.1 in /Users/simon/geograph/env/lib/python3.8/site-packages (from requests>=2.19.0->pooch->sithom) (1.26.12)\n",
      "Requirement already satisfied: charset-normalizer<3,>=2 in /Users/simon/geograph/env/lib/python3.8/site-packages (from requests>=2.19.0->pooch->sithom) (2.1.1)\n",
      "Requirement already satisfied: idna<4,>=2.5 in /Users/simon/geograph/env/lib/python3.8/site-packages (from requests>=2.19.0->pooch->sithom) (3.4)\n",
      "Requirement already satisfied: certifi>=2017.4.17 in /Users/simon/geograph/env/lib/python3.8/site-packages (from requests>=2.19.0->pooch->sithom) (2022.9.14)\n",
      "Requirement already satisfied: parso<0.9.0,>=0.8.0 in /Users/simon/geograph/env/lib/python3.8/site-packages (from jedi>=0.16->ipython>=5.4.1->jupyterthemes->sithom) (0.8.3)\n",
      "Requirement already satisfied: entrypoints in /Users/simon/geograph/env/lib/python3.8/site-packages (from jupyter-client>=5.3.4->notebook>=5.6.0->jupyterthemes->sithom) (0.4)\n",
      "Requirement already satisfied: nbclient>=0.5.0 in /Users/simon/geograph/env/lib/python3.8/site-packages (from nbconvert>=5->notebook>=5.6.0->jupyterthemes->sithom) (0.6.8)\n",
      "Requirement already satisfied: lxml in /Users/simon/geograph/env/lib/python3.8/site-packages (from nbconvert>=5->notebook>=5.6.0->jupyterthemes->sithom) (4.9.1)\n",
      "Requirement already satisfied: mistune<3,>=2.0.3 in /Users/simon/geograph/env/lib/python3.8/site-packages (from nbconvert>=5->notebook>=5.6.0->jupyterthemes->sithom) (2.0.4)\n",
      "Requirement already satisfied: defusedxml in /Users/simon/geograph/env/lib/python3.8/site-packages (from nbconvert>=5->notebook>=5.6.0->jupyterthemes->sithom) (0.7.1)\n",
      "Requirement already satisfied: tinycss2 in /Users/simon/geograph/env/lib/python3.8/site-packages (from nbconvert>=5->notebook>=5.6.0->jupyterthemes->sithom) (1.1.1)\n",
      "Requirement already satisfied: importlib-metadata>=3.6 in /Users/simon/geograph/env/lib/python3.8/site-packages (from nbconvert>=5->notebook>=5.6.0->jupyterthemes->sithom) (4.12.0)\n",
      "Requirement already satisfied: jupyterlab-pygments in /Users/simon/geograph/env/lib/python3.8/site-packages (from nbconvert>=5->notebook>=5.6.0->jupyterthemes->sithom) (0.2.2)\n",
      "Requirement already satisfied: pandocfilters>=1.4.1 in /Users/simon/geograph/env/lib/python3.8/site-packages (from nbconvert>=5->notebook>=5.6.0->jupyterthemes->sithom) (1.5.0)\n",
      "Requirement already satisfied: beautifulsoup4 in /Users/simon/geograph/env/lib/python3.8/site-packages (from nbconvert>=5->notebook>=5.6.0->jupyterthemes->sithom) (4.11.1)\n",
      "Requirement already satisfied: markupsafe>=2.0 in /Users/simon/geograph/env/lib/python3.8/site-packages (from nbconvert>=5->notebook>=5.6.0->jupyterthemes->sithom) (2.1.1)\n",
      "Requirement already satisfied: bleach in /Users/simon/geograph/env/lib/python3.8/site-packages (from nbconvert>=5->notebook>=5.6.0->jupyterthemes->sithom) (5.0.1)\n",
      "Requirement already satisfied: jsonschema>=2.6 in /Users/simon/geograph/env/lib/python3.8/site-packages (from nbformat->notebook>=5.6.0->jupyterthemes->sithom) (4.16.0)\n",
      "Requirement already satisfied: fastjsonschema in /Users/simon/geograph/env/lib/python3.8/site-packages (from nbformat->notebook>=5.6.0->jupyterthemes->sithom) (2.16.2)\n",
      "Requirement already satisfied: ptyprocess>=0.5 in /Users/simon/geograph/env/lib/python3.8/site-packages (from pexpect>4.3->ipython>=5.4.1->jupyterthemes->sithom) (0.7.0)\n",
      "Requirement already satisfied: wcwidth in /Users/simon/geograph/env/lib/python3.8/site-packages (from prompt-toolkit<3.1.0,>3.0.1->ipython>=5.4.1->jupyterthemes->sithom) (0.2.5)\n",
      "Requirement already satisfied: argon2-cffi-bindings in /Users/simon/geograph/env/lib/python3.8/site-packages (from argon2-cffi->notebook>=5.6.0->jupyterthemes->sithom) (21.2.0)\n",
      "Requirement already satisfied: debugpy>=1.0 in /Users/simon/geograph/env/lib/python3.8/site-packages (from ipykernel->notebook>=5.6.0->jupyterthemes->sithom) (1.6.3)\n",
      "Requirement already satisfied: psutil in /Users/simon/geograph/env/lib/python3.8/site-packages (from ipykernel->notebook>=5.6.0->jupyterthemes->sithom) (5.9.2)\n",
      "Requirement already satisfied: pure-eval in /Users/simon/geograph/env/lib/python3.8/site-packages (from stack-data->ipython>=5.4.1->jupyterthemes->sithom) (0.2.2)\n",
      "Requirement already satisfied: executing in /Users/simon/geograph/env/lib/python3.8/site-packages (from stack-data->ipython>=5.4.1->jupyterthemes->sithom) (1.0.0)\n",
      "Requirement already satisfied: asttokens in /Users/simon/geograph/env/lib/python3.8/site-packages (from stack-data->ipython>=5.4.1->jupyterthemes->sithom) (2.0.8)\n",
      "Requirement already satisfied: zipp>=0.5 in /Users/simon/geograph/env/lib/python3.8/site-packages (from importlib-metadata>=3.6->nbconvert>=5->notebook>=5.6.0->jupyterthemes->sithom) (3.8.1)\n",
      "Requirement already satisfied: pyrsistent!=0.17.0,!=0.17.1,!=0.17.2,>=0.14.0 in /Users/simon/geograph/env/lib/python3.8/site-packages (from jsonschema>=2.6->nbformat->notebook>=5.6.0->jupyterthemes->sithom) (0.18.1)\n",
      "Requirement already satisfied: importlib-resources>=1.4.0 in /Users/simon/geograph/env/lib/python3.8/site-packages (from jsonschema>=2.6->nbformat->notebook>=5.6.0->jupyterthemes->sithom) (5.9.0)\n",
      "Requirement already satisfied: pkgutil-resolve-name>=1.3.10 in /Users/simon/geograph/env/lib/python3.8/site-packages (from jsonschema>=2.6->nbformat->notebook>=5.6.0->jupyterthemes->sithom) (1.3.10)\n",
      "Requirement already satisfied: attrs>=17.4.0 in /Users/simon/geograph/env/lib/python3.8/site-packages (from jsonschema>=2.6->nbformat->notebook>=5.6.0->jupyterthemes->sithom) (22.1.0)\n",
      "Requirement already satisfied: cffi>=1.0.1 in /Users/simon/geograph/env/lib/python3.8/site-packages (from argon2-cffi-bindings->argon2-cffi->notebook>=5.6.0->jupyterthemes->sithom) (1.15.1)\n",
      "Requirement already satisfied: soupsieve>1.2 in /Users/simon/geograph/env/lib/python3.8/site-packages (from beautifulsoup4->nbconvert>=5->notebook>=5.6.0->jupyterthemes->sithom) (2.3.2.post1)\n",
      "Requirement already satisfied: webencodings in /Users/simon/geograph/env/lib/python3.8/site-packages (from bleach->nbconvert>=5->notebook>=5.6.0->jupyterthemes->sithom) (0.5.1)\n",
      "Requirement already satisfied: pycparser in /Users/simon/geograph/env/lib/python3.8/site-packages (from cffi>=1.0.1->argon2-cffi-bindings->argon2-cffi->notebook>=5.6.0->jupyterthemes->sithom) (2.21)\n"
     ]
    }
   ],
   "source": [
    "! pip install sithom"
   ]
  },
  {
   "cell_type": "code",
   "execution_count": 1,
   "id": "f1b742fe",
   "metadata": {
    "ExecuteTime": {
     "end_time": "2022-09-23T13:42:02.633735Z",
     "start_time": "2022-09-23T13:42:02.624444Z"
    }
   },
   "outputs": [],
   "source": [
    "from sithom.place import Point\n",
    "carrifran_wildwoods = Point(-3.3280582890583266, 55.39046283461186)"
   ]
  },
  {
   "cell_type": "code",
   "execution_count": 2,
   "id": "52217fea",
   "metadata": {
    "ExecuteTime": {
     "end_time": "2022-09-23T16:03:21.599621Z",
     "start_time": "2022-09-23T16:03:21.586103Z"
    }
   },
   "outputs": [
    {
     "data": {
      "text/plain": [
       "[-3.8280582890583266,\n",
       " -2.8280582890583266,\n",
       " 54.89046283461186,\n",
       " 55.89046283461186]"
      ]
     },
     "execution_count": 2,
     "metadata": {},
     "output_type": "execute_result"
    }
   ],
   "source": [
    "carrifran_wildwoods.bbox(buffer=0.5).cartopy()"
   ]
  },
  {
   "cell_type": "markdown",
   "id": "174757de",
   "metadata": {
    "ExecuteTime": {
     "end_time": "2022-09-23T14:18:42.376691Z",
     "start_time": "2022-09-23T14:18:42.370812Z"
    }
   },
   "source": [
    "## Boundary from OS Map"
   ]
  },
  {
   "cell_type": "code",
   "execution_count": 3,
   "id": "148f634e",
   "metadata": {
    "ExecuteTime": {
     "end_time": "2022-09-23T14:38:29.282284Z",
     "start_time": "2022-09-23T14:38:29.278745Z"
    }
   },
   "outputs": [],
   "source": [
    "data = \"\"\"315429.5612009238, 610520.5072277822\n",
    "315309.4688221709, 610732.9142075101\n",
    "315133.94919168594, 611093.2127277394\n",
    "315198.61431870674, 611380.5491403644\n",
    "315254.0415704388, 611621.5464887521\n",
    "315272.5173210162, 611853.1135061159\n",
    "315161.662817552, 612037.7854760073\n",
    "315032.3325635104, 612222.3719100163\n",
    "314856.8129330254, 612360.4482080233\n",
    "314635.103926097, 612377.9402959542\n",
    "314450.34642032336, 612377.0849371311\n",
    "314311.77829099307, 612561.6286031991\n",
    "314173.21016166284, 612810.9870840819\n",
    "314043.87990762125, 613097.4253699428\n",
    "313997.69053117785, 613282.3967154222\n",
    "314006.9284064665, 613421.3283722522\n",
    "314053.11778290995, 613514.1348045506\n",
    "314034.6420323326, 613652.9381575572\n",
    "314016.1662817552, 613791.7415105638\n",
    "314016.1662817552, 613912.1118809341\n",
    "314043.87990762125, 614032.610555128\n",
    "314090.0692840647, 614125.4169874262\n",
    "314127.0207852194, 614153.3658369686\n",
    "314219.3995381062, 614227.8675904543\n",
    "314321.01616628177, 614348.7084081772\n",
    "314390.3002309469, 614436.9921306989\n",
    "314454.96535796765, 614543.7729877684\n",
    "314524.2494226328, 614710.7604139937\n",
    "314588.9145496536, 614766.6153451373\n",
    "314579.6766743649, 614868.4244290481\n",
    "314616.62817551964, 615016.7436489608\n",
    "314745.95842956123, 615221.0461038406\n",
    "315346.42032332567, 615390.4926866821\n",
    "315364.896073903, 615464.6522966385\n",
    "316348.7297921478, 615186.7996749637\n",
    "316316.3972286374, 615070.909246429\n",
    "316039.2609699769, 614727.0336156018\n",
    "315775.9815242494, 614248.9628774271\n",
    "315942.26327944576, 613856.2141818494\n",
    "315891.45496535796, 613578.2011803952\n",
    "315872.9792147806, 613689.226755624\n",
    "315928.4064665127, 613458.0018817894\n",
    "315988.45265588915, 613384.2057993328\n",
    "316076.21247113164, 613208.6861688478\n",
    "316113.1639722864, 613042.1905739459\n",
    "316150.11547344114, 612884.954238303\n",
    "316214.7806004619, 612737.105465743\n",
    "316242.494226328, 612653.900436233\n",
    "316205.54272517323, 612477.8034385425\n",
    "316187.06697459583, 612338.8290137714\n",
    "316177.8290993072, 612236.9343939783\n",
    "316177.8290993072, 612144.3418013857\n",
    "316177.8290993072, 612042.4899495338\n",
    "316168.5912240185, 611922.0768112224\n",
    "316163.97228637413, 611810.9443161407\n",
    "316131.63972286374, 611699.6835172356\n",
    "316048.4988452656, 611634.4837909504\n",
    "315956.12009237875, 611559.9820374647\n",
    "315882.2170900693, 611485.5658198615\n",
    "315882.2170900693, 611346.6769309726\n",
    "315817.5519630485, 611188.9701479771\n",
    "315734.4110854504, 611049.6963476179\n",
    "315678.98383371823, 610915.1804807117\n",
    "315586.60508083145, 610748.0861346335\n",
    "315429.5612009238, 610520.5072277822\"\"\"\n",
    "\n",
    "old = (315928.4064665127, 615319.1129929005)\n"
   ]
  },
  {
   "cell_type": "code",
   "execution_count": 4,
   "id": "fe398c3b",
   "metadata": {
    "ExecuteTime": {
     "end_time": "2022-09-23T14:38:31.893972Z",
     "start_time": "2022-09-23T14:38:31.891332Z"
    }
   },
   "outputs": [],
   "source": [
    "import numpy as np\n",
    "data_np = np.array([[float(y) for y in x.split(\",\")] for x in data.split(\"\\n\")])"
   ]
  },
  {
   "cell_type": "code",
   "execution_count": 5,
   "id": "50994cc5",
   "metadata": {
    "ExecuteTime": {
     "end_time": "2022-09-23T14:34:45.296246Z",
     "start_time": "2022-09-23T14:34:45.293445Z"
    }
   },
   "outputs": [
    {
     "data": {
      "text/plain": [
       "(65, 2)"
      ]
     },
     "execution_count": 5,
     "metadata": {},
     "output_type": "execute_result"
    }
   ],
   "source": [
    "data_np.shape"
   ]
  },
  {
   "cell_type": "code",
   "execution_count": 6,
   "id": "57ac9bf7",
   "metadata": {
    "ExecuteTime": {
     "end_time": "2022-09-23T14:38:33.888695Z",
     "start_time": "2022-09-23T14:38:33.795338Z"
    }
   },
   "outputs": [
    {
     "data": {
      "text/plain": [
       "Text(0.5, 1.0, 'Carrifran Rewilding Box')"
      ]
     },
     "execution_count": 6,
     "metadata": {},
     "output_type": "execute_result"
    },
    {
     "data": {
      "image/png": "[encoded data removed]",
      "text/plain": [
       "<Figure size 640x480 with 1 Axes>"
      ]
     },
     "metadata": {},
     "output_type": "display_data"
    }
   ],
   "source": [
    "import matplotlib.pyplot as plt\n",
    "plt.plot(data_np[:, 0], data_np[:, 1])\n",
    "plt.xlabel(\"x coord\")\n",
    "plt.ylabel(\"y coord\")\n",
    "plt.title(\"Carrifran Rewilding Box\")"
   ]
  },
  {
   "cell_type": "code",
   "execution_count": 7,
   "id": "b7ca5c20",
   "metadata": {
    "ExecuteTime": {
     "end_time": "2022-09-23T15:53:10.146380Z",
     "start_time": "2022-09-23T15:53:07.581828Z"
    }
   },
   "outputs": [
    {
     "name": "stdout",
     "output_type": "stream",
     "text": [
      "Requirement already satisfied: OSGridConverter in /Users/simon/geograph/env/lib/python3.8/site-packages (0.1.3)\n"
     ]
    }
   ],
   "source": [
    "!pip install OSGridConverter"
   ]
  },
  {
   "cell_type": "code",
   "execution_count": 28,
   "id": "4f23c41a",
   "metadata": {
    "ExecuteTime": {
     "end_time": "2022-09-23T16:10:41.611857Z",
     "start_time": "2022-09-23T16:10:41.597461Z"
    }
   },
   "outputs": [],
   "source": [
    "from typing import List\n",
    "from OSGridConverter import grid2latlong, latlong2grid\n",
    "\n",
    "\n",
    "def lonlat_to_os(lonlat_array: np.ndarray) -> np.ndarray:\n",
    "    \"\"\"WGS84 Lon Lat to OS grid\"\"\"\n",
    "    output = []\n",
    "    shape = lonlat_array.shape\n",
    "    for i in range(shape[0]):\n",
    "        l = latlong2grid(lonlat_array[i, 1], lonlat_array[i, 0])\n",
    "        output.append([l.E, l.N])\n",
    "        assert \"NT\" in str(l)\n",
    "    return np.array(output)\n",
    "\n",
    "\n",
    "def os_to_lonlat(os_array: np.ndarray, os_sheet=\"NT\") -> np.ndarray:\n",
    "    \"\"\"Ordinace Survey to WGS84 Lon Lat.\n",
    "    \n",
    "    Args:\n",
    "        os_array (np.ndarray): Ordinance survey points. np.array([[x_point0, y_point0] ...]).\n",
    "        os_sheet (str, optional): Ordinance survey sheet. Defaults to \"NT\".\n",
    "    \"\"\"\n",
    "    output = []\n",
    "    shape = os_array.shape\n",
    "    for i in range(shape[0]):\n",
    "        l = grid2latlong(\n",
    "            os_sheet + \" \" + str(int(os_array[i, 0])) + \" \" + str(int(os_array[i, 1]))\n",
    "        )\n",
    "        output.append([l.longitude, l.latitude])\n",
    "    return np.array(output)"
   ]
  },
  {
   "cell_type": "code",
   "execution_count": 32,
   "id": "6c5ef9e8",
   "metadata": {},
   "outputs": [
    {
     "data": {
      "text/plain": [
       "False"
      ]
     },
     "execution_count": 32,
     "metadata": {},
     "output_type": "execute_result"
    }
   ],
   "source": [
    "lonlat_np = os_to_lonlat(data_np)\n",
    "test_np = lonlat_to_os(lonlat_np)\n",
    "np.all(test_np == data_np) # Testing circularity"
   ]
  },
  {
   "cell_type": "code",
   "execution_count": 33,
   "id": "5af4ca39",
   "metadata": {},
   "outputs": [
    {
     "data": {
      "text/plain": [
       "array([[315429.56120092, 610520.50722778],\n",
       "       [315309.46882217, 610732.91420751],\n",
       "       [315133.94919169, 611093.21272774],\n",
       "       [315198.61431871, 611380.54914036],\n",
       "       [315254.04157044, 611621.54648875],\n",
       "       [315272.51732102, 611853.11350612],\n",
       "       [315161.66281755, 612037.78547601],\n",
       "       [315032.33256351, 612222.37191002],\n",
       "       [314856.81293303, 612360.44820802],\n",
       "       [314635.1039261 , 612377.94029595],\n",
       "       [314450.34642032, 612377.08493713],\n",
       "       [314311.77829099, 612561.6286032 ],\n",
       "       [314173.21016166, 612810.98708408],\n",
       "       [314043.87990762, 613097.42536994],\n",
       "       [313997.69053118, 613282.39671542],\n",
       "       [314006.92840647, 613421.32837225],\n",
       "       [314053.11778291, 613514.13480455],\n",
       "       [314034.64203233, 613652.93815756],\n",
       "       [314016.16628176, 613791.74151056],\n",
       "       [314016.16628176, 613912.11188093],\n",
       "       [314043.87990762, 614032.61055513],\n",
       "       [314090.06928406, 614125.41698743],\n",
       "       [314127.02078522, 614153.36583697],\n",
       "       [314219.39953811, 614227.86759045],\n",
       "       [314321.01616628, 614348.70840818],\n",
       "       [314390.30023095, 614436.9921307 ],\n",
       "       [314454.96535797, 614543.77298777],\n",
       "       [314524.24942263, 614710.76041399],\n",
       "       [314588.91454965, 614766.61534514],\n",
       "       [314579.67667436, 614868.42442905],\n",
       "       [314616.62817552, 615016.74364896],\n",
       "       [314745.95842956, 615221.04610384],\n",
       "       [315346.42032333, 615390.49268668],\n",
       "       [315364.8960739 , 615464.65229664],\n",
       "       [316348.72979215, 615186.79967496],\n",
       "       [316316.39722864, 615070.90924643],\n",
       "       [316039.26096998, 614727.0336156 ],\n",
       "       [315775.98152425, 614248.96287743],\n",
       "       [315942.26327945, 613856.21418185],\n",
       "       [315891.45496536, 613578.2011804 ],\n",
       "       [315872.97921478, 613689.22675562],\n",
       "       [315928.40646651, 613458.00188179],\n",
       "       [315988.45265589, 613384.20579933],\n",
       "       [316076.21247113, 613208.68616885],\n",
       "       [316113.16397229, 613042.19057395],\n",
       "       [316150.11547344, 612884.9542383 ],\n",
       "       [316214.78060046, 612737.10546574],\n",
       "       [316242.49422633, 612653.90043623],\n",
       "       [316205.54272517, 612477.80343854],\n",
       "       [316187.0669746 , 612338.82901377],\n",
       "       [316177.82909931, 612236.93439398],\n",
       "       [316177.82909931, 612144.34180139],\n",
       "       [316177.82909931, 612042.48994953],\n",
       "       [316168.59122402, 611922.07681122],\n",
       "       [316163.97228637, 611810.94431614],\n",
       "       [316131.63972286, 611699.68351724],\n",
       "       [316048.49884527, 611634.48379095],\n",
       "       [315956.12009238, 611559.98203746],\n",
       "       [315882.21709007, 611485.56581986],\n",
       "       [315882.21709007, 611346.67693097],\n",
       "       [315817.55196305, 611188.97014798],\n",
       "       [315734.41108545, 611049.69634762],\n",
       "       [315678.98383372, 610915.18048071],\n",
       "       [315586.60508083, 610748.08613463],\n",
       "       [315429.56120092, 610520.50722778]])"
      ]
     },
     "execution_count": 33,
     "metadata": {},
     "output_type": "execute_result"
    }
   ],
   "source": [
    "data_np"
   ]
  },
  {
   "cell_type": "code",
   "execution_count": 34,
   "id": "97118f87",
   "metadata": {},
   "outputs": [
    {
     "data": {
      "text/plain": [
       "array([[331535, 661052],\n",
       "       [331523, 661073],\n",
       "       [331506, 661109],\n",
       "       [331512, 661138],\n",
       "       [331518, 661162],\n",
       "       [331520, 661185],\n",
       "       [331509, 661203],\n",
       "       [331496, 661222],\n",
       "       [331478, 661236],\n",
       "       [331456, 661237],\n",
       "       [331438, 661237],\n",
       "       [331424, 661256],\n",
       "       [331410, 661281],\n",
       "       [331397, 661309],\n",
       "       [331392, 661328],\n",
       "       [331393, 661342],\n",
       "       [331398, 661351],\n",
       "       [331396, 661365],\n",
       "       [331394, 661379],\n",
       "       [331394, 661391],\n",
       "       [331397, 661403],\n",
       "       [331402, 661412],\n",
       "       [331405, 661415],\n",
       "       [331414, 661422],\n",
       "       [331425, 661434],\n",
       "       [331432, 661443],\n",
       "       [331438, 661454],\n",
       "       [331445, 661471],\n",
       "       [331451, 661476],\n",
       "       [331450, 661486],\n",
       "       [331454, 661501],\n",
       "       [331467, 661522],\n",
       "       [331527, 661539],\n",
       "       [331529, 661546],\n",
       "       [331627, 661518],\n",
       "       [331624, 661507],\n",
       "       [331596, 661472],\n",
       "       [331570, 661424],\n",
       "       [331587, 661385],\n",
       "       [331582, 661357],\n",
       "       [331580, 661368],\n",
       "       [331585, 661345],\n",
       "       [331591, 661338],\n",
       "       [331600, 661320],\n",
       "       [331604, 661304],\n",
       "       [331608, 661288],\n",
       "       [331614, 661273],\n",
       "       [331617, 661265],\n",
       "       [331613, 661247],\n",
       "       [331611, 661233],\n",
       "       [331610, 661223],\n",
       "       [331610, 661214],\n",
       "       [331610, 661204],\n",
       "       [331609, 661192],\n",
       "       [331609, 661181],\n",
       "       [331606, 661169],\n",
       "       [331597, 661163],\n",
       "       [331588, 661155],\n",
       "       [331581, 661148],\n",
       "       [331581, 661134],\n",
       "       [331574, 661118],\n",
       "       [331566, 661104],\n",
       "       [331560, 661091],\n",
       "       [331551, 661074],\n",
       "       [331535, 661052]])"
      ]
     },
     "execution_count": 34,
     "metadata": {},
     "output_type": "execute_result"
    }
   ],
   "source": [
    "test_np"
   ]
  },
  {
   "cell_type": "code",
   "execution_count": 19,
   "id": "b368b48e",
   "metadata": {
    "ExecuteTime": {
     "end_time": "2022-09-23T16:10:41.992418Z",
     "start_time": "2022-09-23T16:10:41.959306Z"
    }
   },
   "outputs": [],
   "source": [
    "lonlat_np = os_to_lonlat(data_np)"
   ]
  },
  {
   "cell_type": "code",
   "execution_count": 20,
   "id": "12b3d057",
   "metadata": {
    "ExecuteTime": {
     "end_time": "2022-09-23T16:08:01.739344Z",
     "start_time": "2022-09-23T16:08:01.552216Z"
    }
   },
   "outputs": [
    {
     "data": {
      "text/plain": [
       "<matplotlib.collections.PathCollection at 0x7fdc582b43d0>"
      ]
     },
     "execution_count": 20,
     "metadata": {},
     "output_type": "execute_result"
    },
    {
     "data": {
      "image/png": "[encoded data removed]",
      "text/plain": [
       "<Figure size 640x480 with 1 Axes>"
      ]
     },
     "metadata": {},
     "output_type": "display_data"
    }
   ],
   "source": [
    "import matplotlib.pyplot as plt\n",
    "plt.plot(lonlat_np[:, 0], lonlat_np[:, 1])\n",
    "plt.xlabel(\"Longitude [$^{\\circ}E$]\")\n",
    "plt.ylabel(\"Latitude [$^{\\circ}N$]\")\n",
    "plt.title(\"Carrifran Rewilding Box\")\n",
    "plt.scatter(carrifran_wildwoods.lon, carrifran_wildwoods.lat, color=\"red\")"
   ]
  },
  {
   "cell_type": "code",
   "execution_count": null,
   "id": "4ed5ceed",
   "metadata": {
    "ExecuteTime": {
     "end_time": "2022-09-23T16:03:53.508910Z",
     "start_time": "2022-09-23T16:03:53.497038Z"
    }
   },
   "outputs": [],
   "source": [
    "bbox = carrifran_wildwoods.bbox(buffer=0.5)"
   ]
  },
  {
   "cell_type": "code",
   "execution_count": null,
   "id": "b0855733",
   "metadata": {},
   "outputs": [],
   "source": []
  },
  {
   "cell_type": "code",
   "execution_count": null,
   "id": "c9236309",
   "metadata": {
    "ExecuteTime": {
     "end_time": "2022-09-23T16:03:53.731673Z",
     "start_time": "2022-09-23T16:03:53.715793Z"
    }
   },
   "outputs": [
    {
     "data": {
      "text/plain": [
       "[-3.8280582890583266,\n",
       " -2.8280582890583266,\n",
       " 54.89046283461186,\n",
       " 55.89046283461186]"
      ]
     },
     "execution_count": 79,
     "metadata": {},
     "output_type": "execute_result"
    }
   ],
   "source": [
    "bbox.cartopy()"
   ]
  },
  {
   "cell_type": "code",
   "execution_count": null,
   "id": "a74db15c",
   "metadata": {
    "ExecuteTime": {
     "end_time": "2022-09-23T16:08:09.377176Z",
     "start_time": "2022-09-23T16:08:09.360873Z"
    }
   },
   "outputs": [
    {
     "data": {
      "text/plain": [
       "array([[-3.09474752, 55.83781659],\n",
       "       [-3.09494445, 55.83800353],\n",
       "       [-3.09522501, 55.83832452],\n",
       "       [-3.09513653, 55.83858588],\n",
       "       [-3.09504678, 55.83880233],\n",
       "       [-3.09502065, 55.83900923],\n",
       "       [-3.09520085, 55.83916937],\n",
       "       [-3.09541325, 55.8393382 ],\n",
       "       [-3.09570423, 55.83946141],\n",
       "       [-3.09605581, 55.83946727],\n",
       "       [-3.09634325, 55.83946471],\n",
       "       [-3.09657163, 55.8396334 ],\n",
       "       [-3.09680152, 55.83985598],\n",
       "       [-3.09701621, 55.84010567],\n",
       "       [-3.09710086, 55.84027564],\n",
       "       [-3.09708844, 55.84040154],\n",
       "       [-3.09701087, 55.8404831 ],\n",
       "       [-3.09704635, 55.84060859],\n",
       "       [-3.09708183, 55.84073407],\n",
       "       [-3.09708487, 55.84084187],\n",
       "       [-3.09704   , 55.84095009],\n",
       "       [-3.09696243, 55.84103165],\n",
       "       [-3.09691528, 55.84105903],\n",
       "       [-3.09677332, 55.84112319],\n",
       "       [-3.09660069, 55.84123256],\n",
       "       [-3.09649118, 55.8413144 ],\n",
       "       [-3.09639814, 55.84141407],\n",
       "       [-3.09629065, 55.84156779],\n",
       "       [-3.0961961 , 55.84161356],\n",
       "       [-3.0962146 , 55.84170325],\n",
       "       [-3.09615451, 55.84183856],\n",
       "       [-3.09595221, 55.84202906],\n",
       "       [-3.09499829, 55.84219031],\n",
       "       [-3.09496812, 55.84225347],\n",
       "       [-3.09339597, 55.84201586],\n",
       "       [-3.09344111, 55.84191662],\n",
       "       [-3.09387944, 55.84159823],\n",
       "       [-3.09428254, 55.84116334],\n",
       "       [-3.09400121, 55.84081541],\n",
       "       [-3.09407399, 55.84056316],\n",
       "       [-3.0941087 , 55.8406617 ],\n",
       "       [-3.09402305, 55.84045579],\n",
       "       [-3.09392547, 55.84039376],\n",
       "       [-3.0937772 , 55.84023334],\n",
       "       [-3.09370928, 55.84009017],\n",
       "       [-3.09364137, 55.83994701],\n",
       "       [-3.09354177, 55.83981311],\n",
       "       [-3.09349184, 55.83974167],\n",
       "       [-3.09355118, 55.8395794 ],\n",
       "       [-3.09357958, 55.83945335],\n",
       "       [-3.09359303, 55.83936338],\n",
       "       [-3.09359076, 55.83928253],\n",
       "       [-3.09358824, 55.8391927 ],\n",
       "       [-3.09360118, 55.83908476],\n",
       "       [-3.0935984 , 55.83898594],\n",
       "       [-3.09364328, 55.83887771],\n",
       "       [-3.09378549, 55.83882254],\n",
       "       [-3.09392719, 55.83874939],\n",
       "       [-3.0940372 , 55.83868552],\n",
       "       [-3.09403367, 55.83855975],\n",
       "       [-3.09414141, 55.83841503],\n",
       "       [-3.09426563, 55.83828812],\n",
       "       [-3.09435816, 55.83817049],\n",
       "       [-3.09449758, 55.83801649],\n",
       "       [-3.09474752, 55.83781659]])"
      ]
     },
     "execution_count": 83,
     "metadata": {},
     "output_type": "execute_result"
    }
   ],
   "source": [
    "lonlat_np"
   ]
  },
  {
   "cell_type": "code",
   "execution_count": null,
   "id": "9a193937",
   "metadata": {
    "ExecuteTime": {
     "end_time": "2022-09-23T16:08:40.532154Z",
     "start_time": "2022-09-23T16:08:40.514102Z"
    }
   },
   "outputs": [
    {
     "data": {
      "text/plain": [
       "array([-3.09506814, 55.84000703])"
      ]
     },
     "execution_count": 85,
     "metadata": {},
     "output_type": "execute_result"
    }
   ],
   "source": [
    "np.average(lonlat_np, axis=0)"
   ]
  },
  {
   "cell_type": "code",
   "execution_count": null,
   "id": "7f052bb6",
   "metadata": {},
   "outputs": [],
   "source": []
  }
 ],
 "metadata": {
  "hide_input": false,
  "kernelspec": {
   "display_name": "Python 3.8.13 64-bit ('env')",
   "language": "python",
   "name": "python3"
  },
  "language_info": {
   "codemirror_mode": {
    "name": "ipython",
    "version": 3
   },
   "file_extension": ".py",
   "mimetype": "text/x-python",
   "name": "python",
   "nbconvert_exporter": "python",
   "pygments_lexer": "ipython3",
   "version": "3.8.13"
  },
  "varInspector": {
   "cols": {
    "lenName": 16,
    "lenType": 16,
    "lenVar": 40
   },
   "kernels_config": {
    "python": {
     "delete_cmd_postfix": "",
     "delete_cmd_prefix": "del ",
     "library": "var_list.py",
     "varRefreshCmd": "print(var_dic_list())"
    },
    "r": {
     "delete_cmd_postfix": ") ",
     "delete_cmd_prefix": "rm(",
     "library": "var_list.r",
     "varRefreshCmd": "cat(var_dic_list()) "
    }
   },
   "types_to_exclude": [
    "module",
    "function",
    "builtin_function_or_method",
    "instance",
    "_Feature"
   ],
   "window_display": false
  },
  "vscode": {
   "interpreter": {
    "hash": "173ae1751010bd47726875333f23fd619733fddd514d23d2c75f46a1146414c3"
   }
  }
 },
 "nbformat": 4,
 "nbformat_minor": 5
}
