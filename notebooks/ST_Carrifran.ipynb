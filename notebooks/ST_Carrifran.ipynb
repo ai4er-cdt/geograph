{
 "cells": [
  {
   "cell_type": "markdown",
   "id": "87b7b5de",
   "metadata": {
    "ExecuteTime": {
     "end_time": "2022-09-23T13:25:14.682885Z",
     "start_time": "2022-09-23T13:25:14.680690Z"
    }
   },
   "source": [
    "# Carrifran Rewilding Area\n",
    "\n",
    "\n",
    "\n",
    "Carrifran has an area of 3,100 hectares has been rewilding since 2000 [1, 2].\n",
    "The first trees were planted on Millennium Day and the Carrifran Wildwood now boasts around 750,000 trees [3].\n",
    "\n",
    "[1] <https://www.rewildingbritain.org.uk/rewilding-projects/reviving-the-wild-heart-of-southern-scotland>\n",
    "\n",
    "[2] <https://www.bbc.co.uk/newsround/62344491>\n",
    "\n",
    "[3] <https://www.bordersforesttrust.org/about-us/vision>\n",
    "\n",
    "![Carrifran Boundary](https://images.ctfassets.net/p3r8buzp5omt/6YcMwwBKEeBX5QACsGd7vN/c0a3940577c3ba368632e0d829887378/Carrifran_2021_Boundary.jpg)\n"
   ]
  },
  {
   "cell_type": "code",
   "execution_count": 7,
   "id": "97f83413",
   "metadata": {
    "ExecuteTime": {
     "end_time": "2022-09-23T13:42:02.633735Z",
     "start_time": "2022-09-23T13:42:02.624444Z"
    }
   },
   "outputs": [],
   "source": [
    "from sithom.place import Point\n",
    "carrifran_wildwoods = Point(-3.3280582890583266, 55.39046283461186)"
   ]
  },
  {
   "cell_type": "code",
   "execution_count": 14,
   "id": "8b70cbe9",
   "metadata": {
    "ExecuteTime": {
     "end_time": "2022-09-23T13:59:59.371603Z",
     "start_time": "2022-09-23T13:59:59.362100Z"
    }
   },
   "outputs": [
    {
     "data": {
      "text/plain": [
       "[('Latitude bounds', [54.89046283461186, 55.89046283461186], 'degrees_north'), ('Longitude bounds', [-3.8280582890583266, -2.8280582890583266], 'degrees_east'), 'NONE']"
      ]
     },
     "execution_count": 14,
     "metadata": {},
     "output_type": "execute_result"
    }
   ],
   "source": [
    "carrifran_wildwoods.bbox(buffer=0.5)"
   ]
  },
  {
   "cell_type": "markdown",
   "id": "0f8ea30e",
   "metadata": {
    "ExecuteTime": {
     "end_time": "2022-09-23T14:18:42.376691Z",
     "start_time": "2022-09-23T14:18:42.370812Z"
    }
   },
   "source": [
    "## Boundary from OS Map"
   ]
  },
  {
   "cell_type": "markdown",
   "id": "94e0bdd6",
   "metadata": {
    "ExecuteTime": {
     "end_time": "2022-09-23T14:02:26.376265Z",
     "start_time": "2022-09-23T14:02:26.373128Z"
    }
   },
   "source": [
    "315429.5612009238, 610520.5072277822\n",
    "315309.4688221709, 610732.9142075101\n",
    "315133.94919168594, 611093.2127277394\n",
    "315198.61431870674, 611380.5491403644\n",
    "315254.0415704388, 611621.5464887521\n",
    "315272.5173210162, 611853.1135061159\n",
    "315161.662817552, 612037.7854760073\n",
    "315032.3325635104, 612222.3719100163\n",
    "314856.8129330254, 612360.4482080233\n",
    "314635.103926097, 612377.9402959542\n",
    "314450.34642032336, 612377.0849371311\n",
    "314311.77829099307, 612561.6286031991\n",
    "314173.21016166284, 612810.9870840819\n",
    "314043.87990762125, 613097.4253699428\n",
    "313997.69053117785, 613282.3967154222\n",
    "314006.9284064665, 613421.3283722522\n",
    "314053.11778290995, 613514.1348045506\n",
    "314034.6420323326, 613652.9381575572\n",
    "314016.1662817552, 613791.7415105638\n",
    "314016.1662817552, 613912.1118809341\n",
    "314043.87990762125, 614032.610555128\n",
    "314090.0692840647, 614125.4169874262\n",
    "314127.0207852194, 614153.3658369686\n",
    "314219.3995381062, 614227.8675904543\n",
    "314321.01616628177, 614348.7084081772\n",
    "314390.3002309469, 614436.9921306989\n",
    "314454.96535796765, 614543.7729877684\n",
    "314524.2494226328, 614710.7604139937\n",
    "314588.9145496536, 614766.6153451373\n",
    "314579.6766743649, 614868.4244290481\n",
    "314616.62817551964, 615016.7436489608\n",
    "314745.95842956123, 615221.0461038406\n",
    "315346.42032332567, 615390.4926866821\n",
    "315364.896073903, 615464.6522966385\n",
    "316348.7297921478, 615186.7996749637\n",
    "316316.3972286374, 615070.909246429\n",
    "316039.2609699769, 614727.0336156018\n",
    "315775.9815242494, 614248.9628774271\n",
    "315942.26327944576, 613856.2141818494\n",
    "315928.4064665127, 615319.1129929005\n",
    "315891.45496535796, 613578.2011803952\n",
    "315872.9792147806, 613689.226755624\n",
    "315928.4064665127, 613458.0018817894\n",
    "315988.45265588915, 613384.2057993328\n",
    "316076.21247113164, 613208.6861688478\n",
    "316113.1639722864, 613042.1905739459\n",
    "316150.11547344114, 612884.954238303\n",
    "316214.7806004619, 612737.105465743\n",
    "316242.494226328, 612653.900436233\n",
    "316205.54272517323, 612477.8034385425\n",
    "316187.06697459583, 612338.8290137714\n",
    "316177.8290993072, 612236.9343939783\n",
    "316177.8290993072, 612144.3418013857\n",
    "316177.8290993072, 612042.4899495338\n",
    "316168.5912240185, 611922.0768112224\n",
    "316163.97228637413, 611810.9443161407\n",
    "316131.63972286374, 611699.6835172356\n",
    "316048.4988452656, 611634.4837909504\n",
    "315956.12009237875, 611559.9820374647\n",
    "315882.2170900693, 611485.5658198615\n",
    "315882.2170900693, 611346.6769309726\n",
    "315817.5519630485, 611188.9701479771\n",
    "315734.4110854504, 611049.6963476179\n",
    "315678.98383371823, 610915.1804807117\n",
    "315586.60508083145, 610748.0861346335"
   ]
  },
  {
   "cell_type": "code",
   "execution_count": null,
   "id": "ccf82e8c",
   "metadata": {},
   "outputs": [],
   "source": []
  }
 ],
 "metadata": {
  "hide_input": false,
  "kernelspec": {
   "display_name": "Python 3 (ipykernel)",
   "language": "python",
   "name": "python3"
  },
  "language_info": {
   "codemirror_mode": {
    "name": "ipython",
    "version": 3
   },
   "file_extension": ".py",
   "mimetype": "text/x-python",
   "name": "python",
   "nbconvert_exporter": "python",
   "pygments_lexer": "ipython3",
   "version": "3.8.13"
  },
  "varInspector": {
   "cols": {
    "lenName": 16,
    "lenType": 16,
    "lenVar": 40
   },
   "kernels_config": {
    "python": {
     "delete_cmd_postfix": "",
     "delete_cmd_prefix": "del ",
     "library": "var_list.py",
     "varRefreshCmd": "print(var_dic_list())"
    },
    "r": {
     "delete_cmd_postfix": ") ",
     "delete_cmd_prefix": "rm(",
     "library": "var_list.r",
     "varRefreshCmd": "cat(var_dic_list()) "
    }
   },
   "types_to_exclude": [
    "module",
    "function",
    "builtin_function_or_method",
    "instance",
    "_Feature"
   ],
   "window_display": false
  }
 },
 "nbformat": 4,
 "nbformat_minor": 5
}
