{
 "cells": [
  {
   "cell_type": "markdown",
   "id": "asian-stability",
   "metadata": {
    "execution": {
     "iopub.execute_input": "2021-03-25T00:07:53.493619Z",
     "iopub.status.busy": "2021-03-25T00:07:53.493296Z",
     "iopub.status.idle": "2021-03-25T00:07:53.509659Z",
     "shell.execute_reply": "2021-03-25T00:07:53.508340Z",
     "shell.execute_reply.started": "2021-03-25T00:07:53.493590Z"
    }
   },
   "source": [
    "---\n",
    "\n",
    "## 0. Setup and Loading package"
   ]
  },
  {
   "cell_type": "code",
   "execution_count": 1,
   "id": "hindu-guide",
   "metadata": {
    "execution": {
     "iopub.execute_input": "2021-03-25T11:56:24.540709Z",
     "iopub.status.busy": "2021-03-25T11:56:24.540411Z",
     "iopub.status.idle": "2021-03-25T11:56:24.598678Z",
     "shell.execute_reply": "2021-03-25T11:56:24.597996Z",
     "shell.execute_reply.started": "2021-03-25T11:56:24.540623Z"
    }
   },
   "outputs": [],
   "source": [
    "%load_ext autoreload\n",
    "%autoreload 2\n",
    "%config IPCompleter.greedy=True"
   ]
  },
  {
   "cell_type": "code",
   "execution_count": 2,
   "id": "indoor-windsor",
   "metadata": {
    "execution": {
     "iopub.execute_input": "2021-03-25T11:56:24.600219Z",
     "iopub.status.busy": "2021-03-25T11:56:24.599934Z",
     "iopub.status.idle": "2021-03-25T11:56:35.557617Z",
     "shell.execute_reply": "2021-03-25T11:56:35.556844Z",
     "shell.execute_reply.started": "2021-03-25T11:56:24.600191Z"
    },
    "tags": []
   },
   "outputs": [
    {
     "name": "stderr",
     "output_type": "stream",
     "text": [
      "/home/users/svm/Code/gtc-biodiversity/env/lib/python3.8/site-packages/geopandas/_compat.py:84: UserWarning: The Shapely GEOS version (3.8.0-CAPI-1.13.1 ) is incompatible with the GEOS version PyGEOS was compiled with (3.9.0-CAPI-1.16.2). Conversions between both will be slow.\n",
      "  warnings.warn(\n"
     ]
    }
   ],
   "source": [
    "import ipyleaflet\n",
    "import geopandas as gpd\n",
    "import rioxarray as rxr\n",
    "\n",
    "from src import geograph\n",
    "from src import geotimeline\n",
    "from src.visualisation import geoviewer\n",
    "from src.constants import UTM35N, DATA_DIR, ROIS"
   ]
  },
  {
   "cell_type": "markdown",
   "id": "becoming-perspective",
   "metadata": {
    "execution": {
     "iopub.execute_input": "2021-03-25T00:08:04.986653Z",
     "iopub.status.busy": "2021-03-25T00:08:04.986358Z",
     "iopub.status.idle": "2021-03-25T00:08:05.016681Z",
     "shell.execute_reply": "2021-03-25T00:08:05.015799Z",
     "shell.execute_reply.started": "2021-03-25T00:08:04.986625Z"
    }
   },
   "source": [
    "---\n",
    "\n",
    "## 1. Loading Data"
   ]
  },
  {
   "cell_type": "code",
   "execution_count": 3,
   "id": "aboriginal-benchmark",
   "metadata": {
    "execution": {
     "iopub.execute_input": "2021-03-25T11:56:35.559259Z",
     "iopub.status.busy": "2021-03-25T11:56:35.558926Z",
     "iopub.status.idle": "2021-03-25T11:56:35.933626Z",
     "shell.execute_reply": "2021-03-25T11:56:35.932801Z",
     "shell.execute_reply.started": "2021-03-25T11:56:35.559164Z"
    },
    "tags": []
   },
   "outputs": [],
   "source": [
    "# Parse geotif landcover data\n",
    "chernobyl_path = lambda year: DATA_DIR / \"chernobyl\" / \"esa_cci\" / f\"esa_cci_{year}_chernobyl.tif\" \n",
    "\n",
    "# Parse ROIS\n",
    "rois = gpd.read_file(ROIS)\n",
    "cez = rois[rois[\"name\"] == \"Chernobyl Exclusion Zone\"]"
   ]
  },
  {
   "cell_type": "code",
   "execution_count": 4,
   "id": "judicial-multiple",
   "metadata": {
    "execution": {
     "iopub.execute_input": "2021-03-25T11:56:35.934790Z",
     "iopub.status.busy": "2021-03-25T11:56:35.934552Z",
     "iopub.status.idle": "2021-03-25T11:56:35.981718Z",
     "shell.execute_reply": "2021-03-25T11:56:35.980748Z",
     "shell.execute_reply.started": "2021-03-25T11:56:35.934762Z"
    }
   },
   "outputs": [],
   "source": [
    "def clip_and_reproject(xrdata, clip_geometry=None, to_crs=UTM35N, x_res=300, y_res=300):\n",
    "    \n",
    "    if clip_geometry is not None:\n",
    "        clipped_data = xrdata.rio.clip(clip_geometry)\n",
    "    else:\n",
    "        clipped_data = xrdata\n",
    "        \n",
    "    if to_crs is not None:\n",
    "        reprojected_data = clipped_data.rio.reproject(to_crs, resolution=(x_res, y_res))\n",
    "    else:\n",
    "        reprojected_data = clipped_data\n",
    "    \n",
    "    return reprojected_data"
   ]
  },
  {
   "cell_type": "code",
   "execution_count": 5,
   "id": "hybrid-glory",
   "metadata": {
    "execution": {
     "iopub.execute_input": "2021-03-25T11:56:35.982936Z",
     "iopub.status.busy": "2021-03-25T11:56:35.982726Z",
     "iopub.status.idle": "2021-03-25T11:56:37.182269Z",
     "shell.execute_reply": "2021-03-25T11:56:37.180036Z",
     "shell.execute_reply.started": "2021-03-25T11:56:35.982909Z"
    }
   },
   "outputs": [],
   "source": [
    "# Loading raster data\n",
    "years = list(range(2013,2015))\n",
    "cez_rasters = {year: clip_and_reproject(rxr.open_rasterio(chernobyl_path(year)), clip_geometry=cez.geometry) \n",
    "              for year in years\n",
    "             }"
   ]
  },
  {
   "cell_type": "markdown",
   "id": "consistent-permission",
   "metadata": {},
   "source": [
    "---\n",
    "\n",
    "## 2. Creating `GeoGraph`"
   ]
  },
  {
   "cell_type": "code",
   "execution_count": 6,
   "id": "sound-location",
   "metadata": {
    "execution": {
     "iopub.execute_input": "2021-03-25T11:56:37.183777Z",
     "iopub.status.busy": "2021-03-25T11:56:37.183535Z",
     "iopub.status.idle": "2021-03-25T11:57:17.503904Z",
     "shell.execute_reply": "2021-03-25T11:57:17.502715Z",
     "shell.execute_reply.started": "2021-03-25T11:56:37.183749Z"
    },
    "tags": []
   },
   "outputs": [
    {
     "name": "stdout",
     "output_type": "stream",
     "text": [
      "Analysing year 2013\n"
     ]
    },
    {
     "name": "stderr",
     "output_type": "stream",
     "text": [
      "Step 1 of 2: Creating nodes and finding neighbours: 100%|██████████| 2003/2003 [00:12<00:00, 166.89it/s]\n",
      "Step 2 of 2: Adding edges: 100%|██████████| 2003/2003 [00:00<00:00, 41990.63it/s]\n"
     ]
    },
    {
     "name": "stdout",
     "output_type": "stream",
     "text": [
      "Graph successfully loaded with 2003 nodes and 5140 edges.\n",
      "Analysing year 2014\n"
     ]
    },
    {
     "name": "stderr",
     "output_type": "stream",
     "text": [
      "Step 1 of 2: Creating nodes and finding neighbours: 100%|██████████| 1999/1999 [00:11<00:00, 170.06it/s]\n",
      "Step 2 of 2: Adding edges: 100%|██████████| 1999/1999 [00:00<00:00, 40553.78it/s]"
     ]
    },
    {
     "name": "stdout",
     "output_type": "stream",
     "text": [
      "Graph successfully loaded with 1999 nodes and 5117 edges.\n"
     ]
    },
    {
     "name": "stderr",
     "output_type": "stream",
     "text": [
      "\n"
     ]
    }
   ],
   "source": [
    "# Polygonising raster and transforming into graph\n",
    "cez_graphs = {}\n",
    "for year, raster in cez_rasters.items():\n",
    "    print(f\"Analysing year {year}\")\n",
    "    # Load geograph from the raster data (construction takes ~10s)\n",
    "    cez_graphs[year] = geograph.GeoGraph(data=raster.data, \n",
    "                                transform=raster.rio.transform(), \n",
    "                                crs=UTM35N, \n",
    "                                mask = raster.data > 0,\n",
    "                                connectivity=8)"
   ]
  },
  {
   "cell_type": "markdown",
   "id": "attractive-halifax",
   "metadata": {
    "execution": {
     "iopub.execute_input": "2021-03-25T00:14:12.973100Z",
     "iopub.status.busy": "2021-03-25T00:14:12.972772Z",
     "iopub.status.idle": "2021-03-25T00:14:13.867921Z",
     "shell.execute_reply": "2021-03-25T00:14:13.866972Z",
     "shell.execute_reply.started": "2021-03-25T00:14:12.973069Z"
    }
   },
   "source": [
    "---\n",
    "\n",
    "## 3. Creating `Timeline` and identifying nodes:"
   ]
  },
  {
   "cell_type": "code",
   "execution_count": 7,
   "id": "needed-noise",
   "metadata": {
    "execution": {
     "iopub.execute_input": "2021-03-25T11:57:17.505182Z",
     "iopub.status.busy": "2021-03-25T11:57:17.504944Z",
     "iopub.status.idle": "2021-03-25T11:57:27.533334Z",
     "shell.execute_reply": "2021-03-25T11:57:27.532644Z",
     "shell.execute_reply.started": "2021-03-25T11:57:17.505154Z"
    },
    "tags": []
   },
   "outputs": [],
   "source": [
    "cez_timeline = geotimeline.GeoGraphTimeline(cez_graphs)\n",
    "# Perform node identification\n",
    "cez_timeline.timestack()\n",
    "# Classify node dynamics for the year 2014\n",
    "cez_timeline.calculate_node_dynamics(2014);"
   ]
  },
  {
   "cell_type": "markdown",
   "id": "afraid-orbit",
   "metadata": {},
   "source": [
    "---\n",
    "\n",
    "## 4. Inspect in interactive viewer"
   ]
  },
  {
   "cell_type": "code",
   "execution_count": 8,
   "id": "quality-insurance",
   "metadata": {
    "execution": {
     "iopub.execute_input": "2021-03-25T11:57:27.535155Z",
     "iopub.status.busy": "2021-03-25T11:57:27.534916Z",
     "iopub.status.idle": "2021-03-25T11:57:51.198935Z",
     "shell.execute_reply": "2021-03-25T11:57:51.197853Z",
     "shell.execute_reply.started": "2021-03-25T11:57:27.535127Z"
    },
    "tags": []
   },
   "outputs": [
    {
     "data": {
      "application/vnd.jupyter.widget-view+json": {
       "model_id": "710011a07bb44e9fb08af2fa08234397",
       "version_major": 2,
       "version_minor": 0
      },
      "text/plain": [
       "GeoGraphViewer(center=[51.389167, 30.099444], controls=(ZoomControl(options=['position', 'zoom_in_text', 'zoom…"
      ]
     },
     "metadata": {},
     "output_type": "display_data"
    }
   ],
   "source": [
    "viewer = geoviewer.GeoGraphViewer(small_screen=True)\n",
    "viewer.add_layer(ipyleaflet.basemaps.Esri.WorldImagery)\n",
    "viewer.add_graph(cez_timeline[2014], name='Polesia data', with_components=False)\n",
    "viewer.enable_graph_controls()\n",
    "viewer"
   ]
  }
 ],
 "metadata": {
  "kernelspec": {
   "display_name": "Python 3.8.6 64-bit (conda)",
   "language": "python",
   "name": "python38664bitcondaa02632c3747848fca9e6bac7131e6e7e"
  },
  "language_info": {
   "codemirror_mode": {
    "name": "ipython",
    "version": 3
   },
   "file_extension": ".py",
   "mimetype": "text/x-python",
   "name": "python",
   "nbconvert_exporter": "python",
   "pygments_lexer": "ipython3",
   "version": "3.8.6"
  }
 },
 "nbformat": 4,
 "nbformat_minor": 5
}
