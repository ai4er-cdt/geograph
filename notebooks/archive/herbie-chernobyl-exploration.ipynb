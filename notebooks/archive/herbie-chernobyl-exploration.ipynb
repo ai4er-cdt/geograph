{
 "metadata": {
  "language_info": {
   "codemirror_mode": {
    "name": "ipython",
    "version": 3
   },
   "file_extension": ".py",
   "mimetype": "text/x-python",
   "name": "python",
   "nbconvert_exporter": "python",
   "pygments_lexer": "ipython3",
   "version": "3.8.6-final"
  },
  "orig_nbformat": 2,
  "kernelspec": {
   "name": "python38664bitf6a0caf0136e4826a085e3f20d9cebfc",
   "display_name": "Python 3.8.6 64-bit",
   "language": "python"
  }
 },
 "nbformat": 4,
 "nbformat_minor": 2,
 "cells": [
  {
   "cell_type": "code",
   "execution_count": 1,
   "metadata": {},
   "outputs": [],
   "source": [
    "import geopandas as gpd\n",
    "from shapely.strtree import STRtree\n",
    "import networkx as nx\n",
    "from src.constants import GWS_DATA_DIR\n",
    "veg_data = gpd.read_file(GWS_DATA_DIR / \"chernobyl_habitat_data\" / \"Vegetation_mape.shp\")"
   ]
  },
  {
   "cell_type": "code",
   "execution_count": 2,
   "metadata": {},
   "outputs": [
    {
     "output_type": "execute_result",
     "data": {
      "text/plain": [
       "       Vegetation       AREA  \\\n",
       "0               1   24.85380   \n",
       "1               1    7.91757   \n",
       "2               1    7.86063   \n",
       "3               1   10.45270   \n",
       "4               1    7.52688   \n",
       "...           ...        ...   \n",
       "14905          77    9.88831   \n",
       "14906          77    5.99406   \n",
       "14907          77    9.59274   \n",
       "14908          77   13.83560   \n",
       "14909          77  561.06600   \n",
       "\n",
       "                                                geometry  \n",
       "0      POLYGON Z ((547927.772 5710698.315 0.000, 5479...  \n",
       "1      POLYGON Z ((550978.781 5711148.814 0.000, 5510...  \n",
       "2      POLYGON Z ((594252.852 5711098.250 0.000, 5940...  \n",
       "3      POLYGON Z ((595635.535 5712690.988 0.000, 5956...  \n",
       "4      POLYGON Z ((595986.627 5712815.878 0.000, 5960...  \n",
       "...                                                  ...  \n",
       "14905  POLYGON Z ((585295.961 5773864.611 0.000, 5854...  \n",
       "14906  POLYGON Z ((588179.310 5773408.130 0.000, 5882...  \n",
       "14907  POLYGON Z ((575722.551 5775285.145 0.000, 5757...  \n",
       "14908  POLYGON Z ((576956.096 5775194.964 0.000, 5770...  \n",
       "14909  POLYGON Z ((604303.798 5777452.327 0.000, 6043...  \n",
       "\n",
       "[14910 rows x 3 columns]"
      ],
      "text/html": "<div>\n<style scoped>\n    .dataframe tbody tr th:only-of-type {\n        vertical-align: middle;\n    }\n\n    .dataframe tbody tr th {\n        vertical-align: top;\n    }\n\n    .dataframe thead th {\n        text-align: right;\n    }\n</style>\n<table border=\"1\" class=\"dataframe\">\n  <thead>\n    <tr style=\"text-align: right;\">\n      <th></th>\n      <th>Vegetation</th>\n      <th>AREA</th>\n      <th>geometry</th>\n    </tr>\n  </thead>\n  <tbody>\n    <tr>\n      <th>0</th>\n      <td>1</td>\n      <td>24.85380</td>\n      <td>POLYGON Z ((547927.772 5710698.315 0.000, 5479...</td>\n    </tr>\n    <tr>\n      <th>1</th>\n      <td>1</td>\n      <td>7.91757</td>\n      <td>POLYGON Z ((550978.781 5711148.814 0.000, 5510...</td>\n    </tr>\n    <tr>\n      <th>2</th>\n      <td>1</td>\n      <td>7.86063</td>\n      <td>POLYGON Z ((594252.852 5711098.250 0.000, 5940...</td>\n    </tr>\n    <tr>\n      <th>3</th>\n      <td>1</td>\n      <td>10.45270</td>\n      <td>POLYGON Z ((595635.535 5712690.988 0.000, 5956...</td>\n    </tr>\n    <tr>\n      <th>4</th>\n      <td>1</td>\n      <td>7.52688</td>\n      <td>POLYGON Z ((595986.627 5712815.878 0.000, 5960...</td>\n    </tr>\n    <tr>\n      <th>...</th>\n      <td>...</td>\n      <td>...</td>\n      <td>...</td>\n    </tr>\n    <tr>\n      <th>14905</th>\n      <td>77</td>\n      <td>9.88831</td>\n      <td>POLYGON Z ((585295.961 5773864.611 0.000, 5854...</td>\n    </tr>\n    <tr>\n      <th>14906</th>\n      <td>77</td>\n      <td>5.99406</td>\n      <td>POLYGON Z ((588179.310 5773408.130 0.000, 5882...</td>\n    </tr>\n    <tr>\n      <th>14907</th>\n      <td>77</td>\n      <td>9.59274</td>\n      <td>POLYGON Z ((575722.551 5775285.145 0.000, 5757...</td>\n    </tr>\n    <tr>\n      <th>14908</th>\n      <td>77</td>\n      <td>13.83560</td>\n      <td>POLYGON Z ((576956.096 5775194.964 0.000, 5770...</td>\n    </tr>\n    <tr>\n      <th>14909</th>\n      <td>77</td>\n      <td>561.06600</td>\n      <td>POLYGON Z ((604303.798 5777452.327 0.000, 6043...</td>\n    </tr>\n  </tbody>\n</table>\n<p>14910 rows × 3 columns</p>\n</div>"
     },
     "metadata": {},
     "execution_count": 2
    }
   ],
   "source": [
    "veg_data"
   ]
  },
  {
   "cell_type": "code",
   "execution_count": 38,
   "metadata": {},
   "outputs": [],
   "source": [
    "geom = veg_data.geometry.tolist()\n",
    "# build dict mapping hashable unique object ids for each polygon to their index in geom\n",
    "id_dict = {id(poly):index for index, poly in enumerate(geom)}\n",
    "# build Rtree from geometry\n",
    "tree = STRtree(geom)"
   ]
  },
  {
   "cell_type": "code",
   "execution_count": 39,
   "metadata": {},
   "outputs": [],
   "source": [
    "# This took about 3 minutes to run on sci 6\n",
    "graph_dict = {}\n",
    "G = nx.Graph()\n",
    "for index, polygon in enumerate(geom):\n",
    "    # find the indexes of all polygons which touch the borders of or overlap with this one\n",
    "    neighbours = [id_dict[id(nbr)] for nbr in tree.query(polygon) if nbr.touches(polygon) or nbr.overlaps(polygon)]\n",
    "    # this dict maps polygon indices in veg_data to a list of neighbouring polygon indices\n",
    "    graph_dict[index] = neighbours\n",
    "    row = veg_data.loc[index]\n",
    "    # add each polygon as a node to the graph, with the landcover class, area, and full polygon object as node attributes\n",
    "    G.add_node(index, landcover=row['Vegetation'], area=row['AREA'], geometry=polygon)\n"
   ]
  },
  {
   "cell_type": "code",
   "execution_count": 40,
   "metadata": {},
   "outputs": [],
   "source": [
    "# iterate through the dict and add all edges between neighbouring polygons\n",
    "for polygon_id, neighbours in graph_dict.items():\n",
    "    for neighbour_id in neighbours:\n",
    "        G.add_edge(polygon_id, neighbour_id)"
   ]
  },
  {
   "cell_type": "code",
   "execution_count": 41,
   "metadata": {},
   "outputs": [
    {
     "output_type": "stream",
     "name": "stdout",
     "text": [
      "14910 39562\n"
     ]
    }
   ],
   "source": [
    "print(G.number_of_nodes(), G.number_of_edges())"
   ]
  },
  {
   "cell_type": "code",
   "execution_count": 42,
   "metadata": {},
   "outputs": [
    {
     "output_type": "stream",
     "name": "stdout",
     "text": [
      "[7735, 10852, 434]\n[0, 7735, 8348, 2863, 6884, 11209]\n"
     ]
    }
   ],
   "source": [
    "# list of nodes adjacent to 0 and 434\n",
    "print(list(G.adj[0]))\n",
    "print(list(G.adj[434]))"
   ]
  },
  {
   "cell_type": "code",
   "execution_count": 43,
   "metadata": {},
   "outputs": [
    {
     "output_type": "execute_result",
     "data": {
      "text/plain": [
       "<shapely.geometry.polygon.Polygon at 0x7fc7f467e1f0>"
      ],
      "image/svg+xml": "<svg xmlns=\"http://www.w3.org/2000/svg\" xmlns:xlink=\"http://www.w3.org/1999/xlink\" width=\"300\" height=\"300\" viewBox=\"547177.7038080002 5709885.687808 945.9662839996163 1077.0702839996666\" preserveAspectRatio=\"xMinYMin meet\"><g transform=\"matrix(1,0,0,-1,0,11420848.445899999)\"><path fill-rule=\"evenodd\" fill=\"#66cc99\" stroke=\"#555555\" stroke-width=\"7.180468559997777\" opacity=\"0.6\" d=\"M 547927.7725,5710698.315099999 L 547936.7788000004,5710611.2019 L 547938.0333000002,5710595.8652 L 547944.0086000003,5710521.2915 L 547944.3238000004,5710517.2905 L 547948.6434000004,5710463.8334 L 547953.5997000001,5710401.707 L 547960.125,5710320.3539 L 547914.9353999998,5710302.576400001 L 547914.6010999996,5710279.216499999 L 547892.9095000001,5710248.092 L 547846.2818999998,5710250.3214 L 547808.1777999997,5710209.1437 L 547732.1574999997,5710114.0002999995 L 547730.3773999996,5710059.9298 L 547711.216,5710025.0483 L 547652.1509999996,5709985.1206 L 547560.2483999999,5709940.993100001 L 547525.4266999997,5709926.5416 L 547470.1563999997,5709925.579299999 L 547402.3979000002,5709939.8498 L 547402.1366999997,5709945.5196 L 547396.5982999997,5710055.800100001 L 547386.3849,5710065.158600001 L 547390.9709999999,5710071.6523 L 547408.2220999999,5710095.9486 L 547416.7873,5710099.698899999 L 547436.2664000001,5710108.2227 L 547430.3003000002,5710130.6338 L 547407.1409999998,5710107.7281 L 547390.7248,5710105.4616 L 547374.9304999998,5710133.1196 L 547363.6946999999,5710133.126 L 547361.4106000001,5710088.0594999995 L 547357.9940999998,5710067.6742 L 547323.6316999998,5710041.2162999995 L 547316.4792,5710042.150599999 L 547272.4118999997,5710022.4986000005 L 547236.9678999996,5710007.820699999 L 547217.5953000002,5710006.0064 L 547346.1941999998,5710203.7897 L 547414.8764000004,5710309.422 L 547576.3767999997,5710522.222200001 L 547669.4265999999,5710593.7217 L 547671.7791999998,5710595.5294 L 547659.1975999996,5710556.646 L 547640.1642000005,5710530.441299999 L 547566.1239999998,5710461.011299999 L 547535.5025000004,5710420.5732 L 547551.3584000003,5710319.732100001 L 547567.4023000002,5710339.4575 L 547577.4274000004,5710313.192 L 547625.2548000002,5710286.5024 L 547597.7528999997,5710238.7524 L 547600.0420000004,5710216.5296 L 547624.0953000002,5710210.526799999 L 547643.2564000003,5710223.274800001 L 547704.9922000002,5710185.3719 L 547744.4823000003,5710175.1774 L 547751.2335999999,5710180.0233 L 547744.1107999999,5710214.6577 L 547721.5125000002,5710242.9179 L 547702.7346999999,5710263.2063 L 547670.0064000003,5710284.5868999995 L 547729.7966,5710320.7402 L 547728.2235000003,5710340.523 L 547736.7411000002,5710378.7523 L 547736.5710000005,5710382.087400001 L 547726.5859000003,5710610.4438000005 L 547745.5340999998,5710623.5239 L 547755.0721000005,5710626.950300001 L 547779.9419999998,5710615.0612 L 547809.2871000003,5710621.343599999 L 547808.7176999999,5710667.0506 L 547802.3531,5710695.863 L 547855.5220999997,5710736.7183 L 547972.0558000002,5710808.520400001 L 548041.6135999998,5710879.7115 L 548083.7785999998,5710922.866599999 L 548078.9288999997,5710913.07 L 548064.6471999995,5710868.7793000005 L 548069.2626999998,5710828.115599999 L 548055.6886999998,5710826.2074 L 548006.3764000004,5710782.92 L 547958.5741999997,5710726.5231 L 547927.7725,5710698.315099999 z\" /></g></svg>"
     },
     "metadata": {},
     "execution_count": 43
    }
   ],
   "source": [
    "G.nodes[0]['geometry']"
   ]
  },
  {
   "cell_type": "code",
   "execution_count": 44,
   "metadata": {},
   "outputs": [],
   "source": [
    "nx.write_gpickle(G, \"vegetation_graph.pickle\")"
   ]
  },
  {
   "cell_type": "code",
   "execution_count": 45,
   "metadata": {},
   "outputs": [],
   "source": [
    "H = nx.read_gpickle(\"vegetation_graph.pickle\")"
   ]
  },
  {
   "cell_type": "code",
   "execution_count": 46,
   "metadata": {},
   "outputs": [
    {
     "output_type": "stream",
     "name": "stdout",
     "text": [
      "14910 39562\n[7735, 10852, 434]\n[0, 7735, 8348, 2863, 6884, 11209]\n"
     ]
    },
    {
     "output_type": "execute_result",
     "data": {
      "text/plain": [
       "<shapely.geometry.polygon.Polygon at 0x7fc5cb4063d0>"
      ],
      "image/svg+xml": "<svg xmlns=\"http://www.w3.org/2000/svg\" xmlns:xlink=\"http://www.w3.org/1999/xlink\" width=\"300\" height=\"300\" viewBox=\"547177.7038080002 5709885.687808 945.9662839996163 1077.0702839996666\" preserveAspectRatio=\"xMinYMin meet\"><g transform=\"matrix(1,0,0,-1,0,11420848.445899999)\"><path fill-rule=\"evenodd\" fill=\"#66cc99\" stroke=\"#555555\" stroke-width=\"7.180468559997777\" opacity=\"0.6\" d=\"M 547927.7725,5710698.315099999 L 547936.7788000004,5710611.2019 L 547938.0333000002,5710595.8652 L 547944.0086000003,5710521.2915 L 547944.3238000004,5710517.2905 L 547948.6434000004,5710463.8334 L 547953.5997000001,5710401.707 L 547960.125,5710320.3539 L 547914.9353999998,5710302.576400001 L 547914.6010999996,5710279.216499999 L 547892.9095000001,5710248.092 L 547846.2818999998,5710250.3214 L 547808.1777999997,5710209.1437 L 547732.1574999997,5710114.0002999995 L 547730.3773999996,5710059.9298 L 547711.216,5710025.0483 L 547652.1509999996,5709985.1206 L 547560.2483999999,5709940.993100001 L 547525.4266999997,5709926.5416 L 547470.1563999997,5709925.579299999 L 547402.3979000002,5709939.8498 L 547402.1366999997,5709945.5196 L 547396.5982999997,5710055.800100001 L 547386.3849,5710065.158600001 L 547390.9709999999,5710071.6523 L 547408.2220999999,5710095.9486 L 547416.7873,5710099.698899999 L 547436.2664000001,5710108.2227 L 547430.3003000002,5710130.6338 L 547407.1409999998,5710107.7281 L 547390.7248,5710105.4616 L 547374.9304999998,5710133.1196 L 547363.6946999999,5710133.126 L 547361.4106000001,5710088.0594999995 L 547357.9940999998,5710067.6742 L 547323.6316999998,5710041.2162999995 L 547316.4792,5710042.150599999 L 547272.4118999997,5710022.4986000005 L 547236.9678999996,5710007.820699999 L 547217.5953000002,5710006.0064 L 547346.1941999998,5710203.7897 L 547414.8764000004,5710309.422 L 547576.3767999997,5710522.222200001 L 547669.4265999999,5710593.7217 L 547671.7791999998,5710595.5294 L 547659.1975999996,5710556.646 L 547640.1642000005,5710530.441299999 L 547566.1239999998,5710461.011299999 L 547535.5025000004,5710420.5732 L 547551.3584000003,5710319.732100001 L 547567.4023000002,5710339.4575 L 547577.4274000004,5710313.192 L 547625.2548000002,5710286.5024 L 547597.7528999997,5710238.7524 L 547600.0420000004,5710216.5296 L 547624.0953000002,5710210.526799999 L 547643.2564000003,5710223.274800001 L 547704.9922000002,5710185.3719 L 547744.4823000003,5710175.1774 L 547751.2335999999,5710180.0233 L 547744.1107999999,5710214.6577 L 547721.5125000002,5710242.9179 L 547702.7346999999,5710263.2063 L 547670.0064000003,5710284.5868999995 L 547729.7966,5710320.7402 L 547728.2235000003,5710340.523 L 547736.7411000002,5710378.7523 L 547736.5710000005,5710382.087400001 L 547726.5859000003,5710610.4438000005 L 547745.5340999998,5710623.5239 L 547755.0721000005,5710626.950300001 L 547779.9419999998,5710615.0612 L 547809.2871000003,5710621.343599999 L 547808.7176999999,5710667.0506 L 547802.3531,5710695.863 L 547855.5220999997,5710736.7183 L 547972.0558000002,5710808.520400001 L 548041.6135999998,5710879.7115 L 548083.7785999998,5710922.866599999 L 548078.9288999997,5710913.07 L 548064.6471999995,5710868.7793000005 L 548069.2626999998,5710828.115599999 L 548055.6886999998,5710826.2074 L 548006.3764000004,5710782.92 L 547958.5741999997,5710726.5231 L 547927.7725,5710698.315099999 z\" /></g></svg>"
     },
     "metadata": {},
     "execution_count": 46
    }
   ],
   "source": [
    "print(H.number_of_nodes(), H.number_of_edges())\n",
    "print(list(H.adj[0]))\n",
    "print(list(H.adj[434]))\n",
    "H.nodes[0]['geometry']"
   ]
  },
  {
   "cell_type": "code",
   "execution_count": null,
   "metadata": {},
   "outputs": [],
   "source": []
  }
 ]
}