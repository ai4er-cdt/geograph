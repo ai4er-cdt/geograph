{
 "cells": [
  {
   "cell_type": "code",
   "execution_count": 1,
   "id": "checked-closing",
   "metadata": {
    "execution": {
     "iopub.execute_input": "2021-03-01T16:14:53.003889Z",
     "iopub.status.busy": "2021-03-01T16:14:53.003339Z",
     "iopub.status.idle": "2021-03-01T16:14:53.281973Z",
     "shell.execute_reply": "2021-03-01T16:14:53.280654Z",
     "shell.execute_reply.started": "2021-03-01T16:14:53.003748Z"
    }
   },
   "outputs": [],
   "source": [
    "# %load ../jupyter_setup.txt\n",
    "# Convenient jupyter setup\n",
    "%load_ext autoreload\n",
    "%load_ext line_profiler\n",
    "%autoreload 2\n",
    "%config IPCompleter.greedy=True\n",
    "%config IPCompleter.use_jedi=False "
   ]
  },
  {
   "cell_type": "code",
   "execution_count": 5,
   "id": "parliamentary-pepper",
   "metadata": {
    "execution": {
     "iopub.execute_input": "2021-03-01T16:15:49.396923Z",
     "iopub.status.busy": "2021-03-01T16:15:49.396596Z",
     "iopub.status.idle": "2021-03-01T16:15:50.992170Z",
     "shell.execute_reply": "2021-03-01T16:15:50.988879Z",
     "shell.execute_reply.started": "2021-03-01T16:15:49.396888Z"
    }
   },
   "outputs": [],
   "source": [
    "import numpy as np\n",
    "import geopandas as gpd\n",
    "import shapely\n",
    "from typing import Iterable, Tuple, Dict\n",
    "\n",
    "import matplotlib.pyplot as plt\n",
    "import seaborn as sns\n",
    "\n",
    "from src.constants import SRC_PATH\n",
    "from src.data_loading.rasterio_utils import polygonise\n",
    "from src.data_loading.vector_utils import shapely_to_frame\n",
    "from src.tests.utils import polygonise_sub_array, plot_identified_nodes, get_array_transform\n",
    "from src.models.geograph import GeoGraph\n",
    "from src.models.binary_graph_operations import identify_node, identify_node_old"
   ]
  },
  {
   "cell_type": "code",
   "execution_count": 6,
   "id": "conceptual-boards",
   "metadata": {
    "execution": {
     "iopub.execute_input": "2021-03-01T16:15:50.994964Z",
     "iopub.status.busy": "2021-03-01T16:15:50.994715Z",
     "iopub.status.idle": "2021-03-01T16:15:51.100084Z",
     "shell.execute_reply": "2021-03-01T16:15:51.097564Z",
     "shell.execute_reply.started": "2021-03-01T16:15:50.994933Z"
    }
   },
   "outputs": [],
   "source": [
    "TEST_DATA_FOLDER = SRC_PATH / \"tests\" / \"testdata\"\n",
    "TEST_DATA_FOLDER.mkdir(parents=True, exist_ok=True)"
   ]
  },
  {
   "cell_type": "code",
   "execution_count": 7,
   "id": "built-favor",
   "metadata": {
    "execution": {
     "iopub.execute_input": "2021-03-01T16:15:51.332395Z",
     "iopub.status.busy": "2021-03-01T16:15:51.331796Z",
     "iopub.status.idle": "2021-03-01T16:15:53.310765Z",
     "shell.execute_reply": "2021-03-01T16:15:53.309240Z",
     "shell.execute_reply.started": "2021-03-01T16:15:51.332359Z"
    }
   },
   "outputs": [
    {
     "name": "stderr",
     "output_type": "stream",
     "text": [
      "/home/users/svm/Code/gtc-biodiversity/env/lib/python3.8/site-packages/geopandas/geodataframe.py:422: RuntimeWarning: Sequential read of iterator was interrupted. Resetting iterator. This can negatively impact the performance.\n",
      "  for feature in features_lst:\n",
      "Step 1 of 2: Creating nodes and finding neighbours: 100%|██████████| 9/9 [00:00<00:00, 495.78it/s]\n",
      "Step 2 of 2: Adding edges: 100%|██████████| 9/9 [00:00<00:00, 22563.50it/s]\n"
     ]
    },
    {
     "name": "stdout",
     "output_type": "stream",
     "text": [
      "Graph successfully loaded with 9 nodes and 19 edges.\n"
     ]
    },
    {
     "name": "stderr",
     "output_type": "stream",
     "text": [
      "Step 1 of 2: Creating nodes and finding neighbours: 100%|██████████| 5/5 [00:00<00:00, 1160.89it/s]\n",
      "Step 2 of 2: Adding edges: 100%|██████████| 5/5 [00:00<00:00, 5574.57it/s]\n"
     ]
    },
    {
     "name": "stdout",
     "output_type": "stream",
     "text": [
      "Graph successfully loaded with 5 nodes and 6 edges.\n"
     ]
    },
    {
     "name": "stderr",
     "output_type": "stream",
     "text": [
      "Step 1 of 2: Creating nodes and finding neighbours: 100%|██████████| 7/7 [00:00<00:00, 2220.72it/s]\n",
      "Step 2 of 2: Adding edges: 100%|██████████| 7/7 [00:00<00:00, 27286.36it/s]\n"
     ]
    },
    {
     "name": "stdout",
     "output_type": "stream",
     "text": [
      "Graph successfully loaded with 7 nodes and 13 edges.\n"
     ]
    },
    {
     "name": "stderr",
     "output_type": "stream",
     "text": [
      "Step 1 of 2: Creating nodes and finding neighbours: 100%|██████████| 6/6 [00:00<00:00, 3086.69it/s]\n",
      "Step 2 of 2: Adding edges: 100%|██████████| 6/6 [00:00<00:00, 32768.00it/s]\n"
     ]
    },
    {
     "name": "stdout",
     "output_type": "stream",
     "text": [
      "Graph successfully loaded with 6 nodes and 10 edges.\n"
     ]
    },
    {
     "name": "stderr",
     "output_type": "stream",
     "text": [
      "Step 1 of 2: Creating nodes and finding neighbours: 100%|██████████| 6/6 [00:00<00:00, 2207.14it/s]\n",
      "Step 2 of 2: Adding edges: 100%|██████████| 6/6 [00:00<00:00, 12526.54it/s]"
     ]
    },
    {
     "name": "stdout",
     "output_type": "stream",
     "text": [
      "Graph successfully loaded with 6 nodes and 12 edges.\n"
     ]
    },
    {
     "name": "stderr",
     "output_type": "stream",
     "text": [
      "\n"
     ]
    }
   ],
   "source": [
    "full = GeoGraph(TEST_DATA_FOLDER / \"overlapping\" / \"full.gpkg\")\n",
    "upper_right = GeoGraph(TEST_DATA_FOLDER / \"overlapping\" / \"upper_right.gpkg\")\n",
    "upper_left = GeoGraph(TEST_DATA_FOLDER / \"overlapping\" / \"upper_left.gpkg\")\n",
    "lower_right = GeoGraph(TEST_DATA_FOLDER / \"overlapping\" / \"lower_right.gpkg\")\n",
    "lower_left = GeoGraph(TEST_DATA_FOLDER / \"overlapping\" / \"lower_left.gpkg\")"
   ]
  },
  {
   "cell_type": "code",
   "execution_count": 8,
   "id": "humanitarian-decision",
   "metadata": {
    "execution": {
     "iopub.execute_input": "2021-03-01T16:15:54.647294Z",
     "iopub.status.busy": "2021-03-01T16:15:54.646971Z",
     "iopub.status.idle": "2021-03-01T16:15:55.527457Z",
     "shell.execute_reply": "2021-03-01T16:15:55.523991Z",
     "shell.execute_reply.started": "2021-03-01T16:15:54.647259Z"
    }
   },
   "outputs": [
    {
     "data": {
      "image/png": "[encoded data removed]",
      "text/plain": [
       "<Figure size 432x288 with 1 Axes>"
      ]
     },
     "metadata": {
      "needs_background": "light"
     },
     "output_type": "display_data"
    }
   ],
   "source": [
    "node = upper_left.df.iloc[2]\n",
    "other_graph = upper_right\n",
    "\n",
    "plot_identified_nodes(node, other_graph, identify_node(node, other_graph))"
   ]
  },
  {
   "cell_type": "code",
   "execution_count": 9,
   "id": "outside-tiger",
   "metadata": {
    "execution": {
     "iopub.execute_input": "2021-03-01T16:16:00.637350Z",
     "iopub.status.busy": "2021-03-01T16:16:00.636911Z",
     "iopub.status.idle": "2021-03-01T16:16:01.057541Z",
     "shell.execute_reply": "2021-03-01T16:16:01.056333Z",
     "shell.execute_reply.started": "2021-03-01T16:16:00.637304Z"
    }
   },
   "outputs": [
    {
     "data": {
      "image/png": "[encoded data removed]",
      "text/plain": [
       "<Figure size 432x288 with 1 Axes>"
      ]
     },
     "metadata": {
      "needs_background": "light"
     },
     "output_type": "display_data"
    }
   ],
   "source": [
    "node = upper_left.df.iloc[2]\n",
    "other_graph = upper_right\n",
    "\n",
    "plot_identified_nodes(node, other_graph, identify_node_old(node, other_graph))"
   ]
  },
  {
   "cell_type": "code",
   "execution_count": 189,
   "id": "visible-pharmacology",
   "metadata": {
    "execution": {
     "iopub.execute_input": "2021-03-01T15:20:02.034278Z",
     "iopub.status.busy": "2021-03-01T15:20:02.033890Z",
     "iopub.status.idle": "2021-03-01T15:20:14.526059Z",
     "shell.execute_reply": "2021-03-01T15:20:14.525249Z",
     "shell.execute_reply.started": "2021-03-01T15:20:02.034227Z"
    }
   },
   "outputs": [
    {
     "name": "stdout",
     "output_type": "stream",
     "text": [
      "1.52 ms ± 105 µs per loop (mean ± std. dev. of 7 runs, 1000 loops each)\n"
     ]
    }
   ],
   "source": [
    "%%timeit\n",
    "identify_node(node, other_graph)"
   ]
  },
  {
   "cell_type": "code",
   "execution_count": 222,
   "id": "brown-tribute",
   "metadata": {
    "execution": {
     "iopub.execute_input": "2021-03-01T15:26:32.174921Z",
     "iopub.status.busy": "2021-03-01T15:26:32.174560Z",
     "iopub.status.idle": "2021-03-01T15:26:35.981387Z",
     "shell.execute_reply": "2021-03-01T15:26:35.980516Z",
     "shell.execute_reply.started": "2021-03-01T15:26:32.174885Z"
    }
   },
   "outputs": [
    {
     "name": "stdout",
     "output_type": "stream",
     "text": [
      "439 µs ± 63.8 µs per loop (mean ± std. dev. of 7 runs, 1000 loops each)\n"
     ]
    }
   ],
   "source": [
    "%%timeit\n",
    "identify_node_fast(node, other_graph)"
   ]
  },
  {
   "cell_type": "code",
   "execution_count": 223,
   "id": "neither-february",
   "metadata": {
    "execution": {
     "iopub.execute_input": "2021-03-01T15:26:35.982679Z",
     "iopub.status.busy": "2021-03-01T15:26:35.982459Z",
     "iopub.status.idle": "2021-03-01T15:26:39.585882Z",
     "shell.execute_reply": "2021-03-01T15:26:39.582232Z",
     "shell.execute_reply.started": "2021-03-01T15:26:35.982648Z"
    }
   },
   "outputs": [
    {
     "name": "stdout",
     "output_type": "stream",
     "text": [
      "435 µs ± 103 µs per loop (mean ± std. dev. of 7 runs, 1000 loops each)\n"
     ]
    }
   ],
   "source": [
    "%%timeit\n",
    "identify_node_fast(node, other_graph, mode=\"corner\")"
   ]
  },
  {
   "cell_type": "code",
   "execution_count": 224,
   "id": "streaming-compromise",
   "metadata": {
    "execution": {
     "iopub.execute_input": "2021-03-01T15:26:39.587662Z",
     "iopub.status.busy": "2021-03-01T15:26:39.587426Z",
     "iopub.status.idle": "2021-03-01T15:26:44.251953Z",
     "shell.execute_reply": "2021-03-01T15:26:44.250180Z",
     "shell.execute_reply.started": "2021-03-01T15:26:39.587630Z"
    }
   },
   "outputs": [
    {
     "name": "stdout",
     "output_type": "stream",
     "text": [
      "575 µs ± 52 µs per loop (mean ± std. dev. of 7 runs, 1000 loops each)\n"
     ]
    }
   ],
   "source": [
    "%%timeit\n",
    "identify_node_fast(node, other_graph, mode=\"edge\")"
   ]
  },
  {
   "cell_type": "code",
   "execution_count": 225,
   "id": "eight-mobility",
   "metadata": {
    "execution": {
     "iopub.execute_input": "2021-03-01T15:26:44.255291Z",
     "iopub.status.busy": "2021-03-01T15:26:44.255016Z",
     "iopub.status.idle": "2021-03-01T15:26:49.523001Z",
     "shell.execute_reply": "2021-03-01T15:26:49.521218Z",
     "shell.execute_reply.started": "2021-03-01T15:26:44.255257Z"
    }
   },
   "outputs": [
    {
     "name": "stdout",
     "output_type": "stream",
     "text": [
      "622 µs ± 107 µs per loop (mean ± std. dev. of 7 runs, 1000 loops each)\n"
     ]
    }
   ],
   "source": [
    "%%timeit\n",
    "identify_node_fast(node, other_graph, mode=\"interior\")"
   ]
  },
  {
   "cell_type": "code",
   "execution_count": 10,
   "id": "beginning-track",
   "metadata": {
    "execution": {
     "iopub.execute_input": "2021-03-01T16:16:13.077316Z",
     "iopub.status.busy": "2021-03-01T16:16:13.076936Z",
     "iopub.status.idle": "2021-03-01T16:16:13.451929Z",
     "shell.execute_reply": "2021-03-01T16:16:13.450642Z",
     "shell.execute_reply.started": "2021-03-01T16:16:13.077279Z"
    }
   },
   "outputs": [
    {
     "data": {
      "text/plain": [
       "Timer unit: 1e-06 s\n",
       "\n",
       "Total time: 0.006677 s\n",
       "File: /home/users/svm/Code/gtc-biodiversity/src/models/binary_graph_operations.py\n",
       "Function: identify_node at line 26\n",
       "\n",
       "Line #      Hits         Time  Per Hit   % Time  Line Contents\n",
       "==============================================================\n",
       "    26                                           def identify_node(node: dict, other_graph: \"GeoGraph\", mode: str = \"corner\") -> ndarray:\n",
       "    27                                               \"\"\"\n",
       "    28                                               Return list of all node ids in `other_graph` which identify with the given `node`.\n",
       "    29                                           \n",
       "    30                                               Args:\n",
       "    31                                                   node (dict): The node for which to find nodes in `other_graphs` that can be\n",
       "    32                                                       identified with `node`.\n",
       "    33                                                   other_graph (GeoGraph): The GeoGraph object in which to search for\n",
       "    34                                                       identifications\n",
       "    35                                                   mode (str, optional): Must be one of `corner`, `edge` or `interior`. Defaults\n",
       "    36                                                       to \"corner\".\n",
       "    37                                                       The different modes correspond to different rules for identification:\n",
       "    38                                                       - corner: Polygons of the same `class_label` which overlap, touch in their\n",
       "    39                                                           edges or corners will be identified with each other. (fastest)\n",
       "    40                                                       - edge: Polygons of the same `class_label` which overlap or touch in their\n",
       "    41                                                           edges will be identified with each other.\n",
       "    42                                                       - interior: Polygons of the same `class_label` which overlap will be\n",
       "    43                                                           identified with each other. Touching corners or edges are not counted.\n",
       "    44                                           \n",
       "    45                                               Returns:\n",
       "    46                                                   np.ndarray: List of node ids in `other_graph` which identify with `node`.\n",
       "    47                                               \"\"\"\n",
       "    48                                           \n",
       "    49                                               # Mode switch\n",
       "    50         1          9.0      9.0      0.1      assert mode in [\"corner\", \"edge\", \"interior\"]\n",
       "    51         1          3.0      3.0      0.0      have_valid_overlap = _BULK_SPATIAL_IDENTIFICATION_FUNCTION[mode]\n",
       "    52                                           \n",
       "    53                                               # Extract relevant node elements for legibility\n",
       "    54         1        134.0    134.0      2.0      poly = node[\"geometry\"]\n",
       "    55         1         21.0     21.0      0.3      label = node[\"class_label\"]\n",
       "    56                                           \n",
       "    57                                               # Get potential candidates for overlap\n",
       "    58         1        405.0    405.0      6.1      candidate_ids = other_graph.rtree.query(poly)\n",
       "    59                                               # Filter candidates according to the same class label\n",
       "    60         1        188.0    188.0      2.8      candidate_ids = candidate_ids[other_graph._class_label(candidate_ids) == label]\n",
       "    61                                               # Filtter candidates accroding to correct spatial overlap\n",
       "    62         2         11.0      5.5      0.2      candidate_ids = candidate_ids[\n",
       "    63         1       5906.0   5906.0     88.5          have_valid_overlap(poly, other_graph._geometry(candidate_ids))\n",
       "    64                                               ]\n",
       "    65                                           \n",
       "    66         1          0.0      0.0      0.0      return candidate_ids"
      ]
     },
     "metadata": {},
     "output_type": "display_data"
    }
   ],
   "source": [
    "%lprun -f identify_node identify_node(node, other_graph, mode=\"interior\")"
   ]
  },
  {
   "cell_type": "markdown",
   "id": "familiar-kidney",
   "metadata": {},
   "source": [
    "# Speedtests"
   ]
  },
  {
   "cell_type": "code",
   "execution_count": 9,
   "id": "intellectual-production",
   "metadata": {
    "execution": {
     "iopub.execute_input": "2021-03-01T10:39:23.688749Z",
     "iopub.status.busy": "2021-03-01T10:39:23.688450Z",
     "iopub.status.idle": "2021-03-01T10:39:25.131339Z",
     "shell.execute_reply": "2021-03-01T10:39:25.127782Z",
     "shell.execute_reply.started": "2021-03-01T10:39:23.688714Z"
    }
   },
   "outputs": [],
   "source": [
    "geom = full.df.iloc[0][\"geometry\"]"
   ]
  },
  {
   "cell_type": "code",
   "execution_count": 120,
   "id": "failing-modem",
   "metadata": {
    "execution": {
     "iopub.execute_input": "2021-03-01T11:57:57.488171Z",
     "iopub.status.busy": "2021-03-01T11:57:57.487742Z",
     "iopub.status.idle": "2021-03-01T11:58:01.386497Z",
     "shell.execute_reply": "2021-03-01T11:58:01.385237Z",
     "shell.execute_reply.started": "2021-03-01T11:57:57.488119Z"
    }
   },
   "outputs": [],
   "source": [
    "from shapely.prepared import prep"
   ]
  },
  {
   "cell_type": "markdown",
   "id": "expired-penalty",
   "metadata": {},
   "source": [
    "## F1 Fast intersection checks (bulk)"
   ]
  },
  {
   "cell_type": "code",
   "execution_count": 142,
   "id": "based-battery",
   "metadata": {
    "execution": {
     "iopub.execute_input": "2021-03-01T14:54:13.521081Z",
     "iopub.status.busy": "2021-03-01T14:54:13.520774Z",
     "iopub.status.idle": "2021-03-01T14:54:14.129790Z",
     "shell.execute_reply": "2021-03-01T14:54:14.127409Z",
     "shell.execute_reply.started": "2021-03-01T14:54:13.521045Z"
    }
   },
   "outputs": [],
   "source": [
    "from src.models.polygon_utils import de9im_match, CORNER_ONLY_PATTERN, EDGE_ONLY_PATTERN, OVERLAP_PATTERN"
   ]
  },
  {
   "cell_type": "code",
   "execution_count": 143,
   "id": "upper-wayne",
   "metadata": {
    "execution": {
     "iopub.execute_input": "2021-03-01T14:54:32.928265Z",
     "iopub.status.busy": "2021-03-01T14:54:32.927916Z",
     "iopub.status.idle": "2021-03-01T14:54:33.889302Z",
     "shell.execute_reply": "2021-03-01T14:54:33.888244Z",
     "shell.execute_reply.started": "2021-03-01T14:54:32.928226Z"
    }
   },
   "outputs": [],
   "source": [
    "predicates = full.df.geometry.values[candidate_ids].relate(geom)"
   ]
  },
  {
   "cell_type": "code",
   "execution_count": 149,
   "id": "binary-selling",
   "metadata": {
    "execution": {
     "iopub.execute_input": "2021-03-01T14:57:38.546530Z",
     "iopub.status.busy": "2021-03-01T14:57:38.546230Z",
     "iopub.status.idle": "2021-03-01T14:57:44.503711Z",
     "shell.execute_reply": "2021-03-01T14:57:44.502786Z",
     "shell.execute_reply.started": "2021-03-01T14:57:38.546496Z"
    }
   },
   "outputs": [
    {
     "name": "stdout",
     "output_type": "stream",
     "text": [
      "5.83 µs ± 291 ns per loop (mean ± std. dev. of 7 runs, 100000 loops each)\n"
     ]
    }
   ],
   "source": [
    "%%timeit\n",
    "[de9im_match(predicate, CORNER_ONLY_PATTERN) for predicate in predicates]"
   ]
  },
  {
   "cell_type": "code",
   "execution_count": 137,
   "id": "latest-script",
   "metadata": {
    "execution": {
     "iopub.execute_input": "2021-03-01T14:51:58.928868Z",
     "iopub.status.busy": "2021-03-01T14:51:58.928370Z",
     "iopub.status.idle": "2021-03-01T14:52:02.387725Z",
     "shell.execute_reply": "2021-03-01T14:52:02.386453Z",
     "shell.execute_reply.started": "2021-03-01T14:51:58.928818Z"
    }
   },
   "outputs": [
    {
     "data": {
      "text/plain": [
       "array(['2FFF1FFF2', 'FF2F11212', 'FF2F11212', 'FF2F01212'], dtype=object)"
      ]
     },
     "execution_count": 137,
     "metadata": {},
     "output_type": "execute_result"
    }
   ],
   "source": [
    "full.df.geometry.values[candidate_ids].relate(geom)"
   ]
  },
  {
   "cell_type": "code",
   "execution_count": 123,
   "id": "promotional-anchor",
   "metadata": {
    "execution": {
     "iopub.execute_input": "2021-03-01T11:59:09.106286Z",
     "iopub.status.busy": "2021-03-01T11:59:09.105844Z",
     "iopub.status.idle": "2021-03-01T11:59:19.310240Z",
     "shell.execute_reply": "2021-03-01T11:59:19.308103Z",
     "shell.execute_reply.started": "2021-03-01T11:59:09.106243Z"
    }
   },
   "outputs": [
    {
     "name": "stdout",
     "output_type": "stream",
     "text": [
      "806 µs ± 57 µs per loop (mean ± std. dev. of 7 runs, 1000 loops each)\n"
     ]
    }
   ],
   "source": [
    "%%timeit\n",
    "full.df.geometry.values[candidate_ids].relate(geom)"
   ]
  },
  {
   "cell_type": "code",
   "execution_count": 124,
   "id": "reasonable-cooler",
   "metadata": {
    "execution": {
     "iopub.execute_input": "2021-03-01T11:59:19.313337Z",
     "iopub.status.busy": "2021-03-01T11:59:19.312790Z",
     "iopub.status.idle": "2021-03-01T11:59:24.030744Z",
     "shell.execute_reply": "2021-03-01T11:59:24.028774Z",
     "shell.execute_reply.started": "2021-03-01T11:59:19.313300Z"
    }
   },
   "outputs": [
    {
     "name": "stdout",
     "output_type": "stream",
     "text": [
      "195 µs ± 13.9 µs per loop (mean ± std. dev. of 7 runs, 1000 loops each)\n"
     ]
    }
   ],
   "source": [
    "%%timeit\n",
    "full.df.geometry.values[candidate_ids].intersects(geom)"
   ]
  },
  {
   "cell_type": "code",
   "execution_count": 125,
   "id": "dying-tucson",
   "metadata": {
    "execution": {
     "iopub.execute_input": "2021-03-01T11:59:24.033857Z",
     "iopub.status.busy": "2021-03-01T11:59:24.033581Z",
     "iopub.status.idle": "2021-03-01T11:59:32.771890Z",
     "shell.execute_reply": "2021-03-01T11:59:32.770505Z",
     "shell.execute_reply.started": "2021-03-01T11:59:24.033812Z"
    }
   },
   "outputs": [
    {
     "name": "stdout",
     "output_type": "stream",
     "text": [
      "736 µs ± 26.2 µs per loop (mean ± std. dev. of 7 runs, 1000 loops each)\n"
     ]
    }
   ],
   "source": [
    "%%timeit\n",
    "prep(geom)\n",
    "full.df.geometry.values[candidate_ids].relate(geom)"
   ]
  },
  {
   "cell_type": "code",
   "execution_count": 126,
   "id": "eastern-shape",
   "metadata": {
    "execution": {
     "iopub.execute_input": "2021-03-01T11:59:32.776072Z",
     "iopub.status.busy": "2021-03-01T11:59:32.775598Z",
     "iopub.status.idle": "2021-03-01T11:59:37.503977Z",
     "shell.execute_reply": "2021-03-01T11:59:37.500409Z",
     "shell.execute_reply.started": "2021-03-01T11:59:32.775995Z"
    }
   },
   "outputs": [
    {
     "name": "stdout",
     "output_type": "stream",
     "text": [
      "255 µs ± 13.1 µs per loop (mean ± std. dev. of 7 runs, 1000 loops each)\n"
     ]
    }
   ],
   "source": [
    "%%timeit\n",
    "prep(geom)\n",
    "full.df.geometry.values[candidate_ids].intersects(geom)"
   ]
  },
  {
   "cell_type": "markdown",
   "id": "advance-disclosure",
   "metadata": {},
   "source": [
    "## F2 Fastest geopandas access"
   ]
  },
  {
   "cell_type": "markdown",
   "id": "automated-trout",
   "metadata": {},
   "source": [
    "Note: using the normal pandas indexing is incredibly slow for accessing the dataframe"
   ]
  },
  {
   "cell_type": "code",
   "execution_count": 76,
   "id": "advance-tomorrow",
   "metadata": {
    "execution": {
     "iopub.execute_input": "2021-03-01T11:26:33.976176Z",
     "iopub.status.busy": "2021-03-01T11:26:33.975772Z",
     "iopub.status.idle": "2021-03-01T11:26:50.360505Z",
     "shell.execute_reply": "2021-03-01T11:26:50.358671Z",
     "shell.execute_reply.started": "2021-03-01T11:26:33.976111Z"
    }
   },
   "outputs": [
    {
     "name": "stdout",
     "output_type": "stream",
     "text": [
      "1.55 ms ± 569 µs per loop (mean ± std. dev. of 7 runs, 1000 loops each)\n"
     ]
    }
   ],
   "source": [
    "%%timeit\n",
    "full.df.loc[candidate_ids]"
   ]
  },
  {
   "cell_type": "code",
   "execution_count": 75,
   "id": "olympic-blackjack",
   "metadata": {
    "execution": {
     "iopub.execute_input": "2021-03-01T11:25:55.776212Z",
     "iopub.status.busy": "2021-03-01T11:25:55.775553Z",
     "iopub.status.idle": "2021-03-01T11:26:07.774017Z",
     "shell.execute_reply": "2021-03-01T11:26:07.772923Z",
     "shell.execute_reply.started": "2021-03-01T11:25:55.776108Z"
    }
   },
   "outputs": [
    {
     "name": "stdout",
     "output_type": "stream",
     "text": [
      "1.07 ms ± 63.9 µs per loop (mean ± std. dev. of 7 runs, 1000 loops each)\n"
     ]
    }
   ],
   "source": [
    "%%timeit\n",
    "full.df.iloc[candidate_ids]"
   ]
  },
  {
   "cell_type": "markdown",
   "id": "universal-aaron",
   "metadata": {},
   "source": [
    "Even if we only want to get one column of the dataframe"
   ]
  },
  {
   "cell_type": "code",
   "execution_count": 78,
   "id": "conscious-formation",
   "metadata": {
    "execution": {
     "iopub.execute_input": "2021-03-01T11:27:35.510369Z",
     "iopub.status.busy": "2021-03-01T11:27:35.510020Z",
     "iopub.status.idle": "2021-03-01T11:27:42.161199Z",
     "shell.execute_reply": "2021-03-01T11:27:42.160247Z",
     "shell.execute_reply.started": "2021-03-01T11:27:35.510336Z"
    }
   },
   "outputs": [
    {
     "name": "stdout",
     "output_type": "stream",
     "text": [
      "738 µs ± 209 µs per loop (mean ± std. dev. of 7 runs, 1000 loops each)\n"
     ]
    }
   ],
   "source": [
    "%%timeit\n",
    "full.df.loc[candidate_ids, \"class_label\"]"
   ]
  },
  {
   "cell_type": "code",
   "execution_count": 80,
   "id": "occupational-campbell",
   "metadata": {
    "execution": {
     "iopub.execute_input": "2021-03-01T11:27:57.173022Z",
     "iopub.status.busy": "2021-03-01T11:27:57.172687Z",
     "iopub.status.idle": "2021-03-01T11:28:01.135513Z",
     "shell.execute_reply": "2021-03-01T11:28:01.134500Z",
     "shell.execute_reply.started": "2021-03-01T11:27:57.172985Z"
    }
   },
   "outputs": [
    {
     "name": "stdout",
     "output_type": "stream",
     "text": [
      "342 µs ± 62.4 µs per loop (mean ± std. dev. of 7 runs, 1000 loops each)\n"
     ]
    }
   ],
   "source": [
    "%%timeit\n",
    "full.df.iloc[candidate_ids, 0]"
   ]
  },
  {
   "cell_type": "markdown",
   "id": "allied-proceeding",
   "metadata": {},
   "source": [
    "Apparently there seems there is some sequential labelling going on"
   ]
  },
  {
   "cell_type": "markdown",
   "id": "following-caution",
   "metadata": {},
   "source": [
    "Instead, it's much faster to first select the colum and then the indices"
   ]
  },
  {
   "cell_type": "code",
   "execution_count": 81,
   "id": "royal-loading",
   "metadata": {
    "execution": {
     "iopub.execute_input": "2021-03-01T11:28:25.330656Z",
     "iopub.status.busy": "2021-03-01T11:28:25.330324Z",
     "iopub.status.idle": "2021-03-01T11:28:35.373347Z",
     "shell.execute_reply": "2021-03-01T11:28:35.372291Z",
     "shell.execute_reply.started": "2021-03-01T11:28:25.330617Z"
    }
   },
   "outputs": [
    {
     "name": "stdout",
     "output_type": "stream",
     "text": [
      "9.46 µs ± 372 ns per loop (mean ± std. dev. of 7 runs, 100000 loops each)\n"
     ]
    }
   ],
   "source": [
    "%%timeit\n",
    "full.df.class_label.values[candidate_ids]  # fastest for accessing class labels"
   ]
  },
  {
   "cell_type": "code",
   "execution_count": 82,
   "id": "clear-rapid",
   "metadata": {
    "execution": {
     "iopub.execute_input": "2021-03-01T11:28:35.374644Z",
     "iopub.status.busy": "2021-03-01T11:28:35.374425Z",
     "iopub.status.idle": "2021-03-01T11:28:38.535978Z",
     "shell.execute_reply": "2021-03-01T11:28:38.534108Z",
     "shell.execute_reply.started": "2021-03-01T11:28:35.374613Z"
    }
   },
   "outputs": [
    {
     "name": "stdout",
     "output_type": "stream",
     "text": [
      "16.6 µs ± 3.39 µs per loop (mean ± std. dev. of 7 runs, 10000 loops each)\n"
     ]
    }
   ],
   "source": [
    "%%timeit\n",
    "full.df.class_label.to_numpy()[candidate_ids]  "
   ]
  },
  {
   "cell_type": "markdown",
   "id": "aging-happiness",
   "metadata": {},
   "source": [
    "For the geometry column in particular, it seems to matter whether we access via \n",
    "the pandas interface or the numpy interface"
   ]
  },
  {
   "cell_type": "code",
   "execution_count": 86,
   "id": "fitted-snapshot",
   "metadata": {
    "execution": {
     "iopub.execute_input": "2021-03-01T11:29:52.671678Z",
     "iopub.status.busy": "2021-03-01T11:29:52.671349Z",
     "iopub.status.idle": "2021-03-01T11:30:00.942841Z",
     "shell.execute_reply": "2021-03-01T11:30:00.940662Z",
     "shell.execute_reply.started": "2021-03-01T11:29:52.671618Z"
    }
   },
   "outputs": [
    {
     "name": "stdout",
     "output_type": "stream",
     "text": [
      "762 µs ± 120 µs per loop (mean ± std. dev. of 7 runs, 1000 loops each)\n"
     ]
    }
   ],
   "source": [
    "%%timeit\n",
    "full.df.geometry[candidate_ids]"
   ]
  },
  {
   "cell_type": "code",
   "execution_count": 88,
   "id": "individual-version",
   "metadata": {
    "execution": {
     "iopub.execute_input": "2021-03-01T11:30:04.926230Z",
     "iopub.status.busy": "2021-03-01T11:30:04.925973Z",
     "iopub.status.idle": "2021-03-01T11:30:06.075642Z",
     "shell.execute_reply": "2021-03-01T11:30:06.074713Z",
     "shell.execute_reply.started": "2021-03-01T11:30:04.926198Z"
    }
   },
   "outputs": [
    {
     "name": "stdout",
     "output_type": "stream",
     "text": [
      "1.02 ms ± 76.3 µs per loop (mean ± std. dev. of 7 runs, 100 loops each)\n"
     ]
    }
   ],
   "source": [
    "%%timeit\n",
    "full.df.geometry.to_numpy()[candidate_ids]"
   ]
  },
  {
   "cell_type": "code",
   "execution_count": 87,
   "id": "welcome-commercial",
   "metadata": {
    "execution": {
     "iopub.execute_input": "2021-03-01T11:30:00.945054Z",
     "iopub.status.busy": "2021-03-01T11:30:00.944809Z",
     "iopub.status.idle": "2021-03-01T11:30:04.924656Z",
     "shell.execute_reply": "2021-03-01T11:30:04.923734Z",
     "shell.execute_reply.started": "2021-03-01T11:30:00.945022Z"
    }
   },
   "outputs": [
    {
     "name": "stdout",
     "output_type": "stream",
     "text": [
      "38 µs ± 8.67 µs per loop (mean ± std. dev. of 7 runs, 10000 loops each)\n"
     ]
    }
   ],
   "source": [
    "%%timeit\n",
    "full.df.geometry.values[candidate_ids]"
   ]
  },
  {
   "cell_type": "markdown",
   "id": "developmental-process",
   "metadata": {},
   "source": [
    "We can also access the geometries via the spatial index (rtree)"
   ]
  },
  {
   "cell_type": "code",
   "execution_count": 89,
   "id": "changed-season",
   "metadata": {
    "execution": {
     "iopub.execute_input": "2021-03-01T11:31:22.149380Z",
     "iopub.status.busy": "2021-03-01T11:31:22.148971Z",
     "iopub.status.idle": "2021-03-01T11:31:33.798615Z",
     "shell.execute_reply": "2021-03-01T11:31:33.794023Z",
     "shell.execute_reply.started": "2021-03-01T11:31:22.149343Z"
    }
   },
   "outputs": [
    {
     "name": "stdout",
     "output_type": "stream",
     "text": [
      "102 µs ± 9.72 µs per loop (mean ± std. dev. of 7 runs, 10000 loops each)\n"
     ]
    }
   ],
   "source": [
    "%%timeit\n",
    "full.rtree.geometries[full.rtree.query(geom)] "
   ]
  },
  {
   "cell_type": "code",
   "execution_count": 91,
   "id": "collectible-rocket",
   "metadata": {
    "execution": {
     "iopub.execute_input": "2021-03-01T11:31:47.983162Z",
     "iopub.status.busy": "2021-03-01T11:31:47.982789Z",
     "iopub.status.idle": "2021-03-01T11:31:50.568707Z",
     "shell.execute_reply": "2021-03-01T11:31:50.567693Z",
     "shell.execute_reply.started": "2021-03-01T11:31:47.983109Z"
    }
   },
   "outputs": [
    {
     "name": "stdout",
     "output_type": "stream",
     "text": [
      "1.13 µs ± 182 ns per loop (mean ± std. dev. of 7 runs, 100000 loops each)\n"
     ]
    }
   ],
   "source": [
    "%%timeit\n",
    "full.rtree.geometries[candidate_ids] # fastest for accessing geometries"
   ]
  },
  {
   "cell_type": "code",
   "execution_count": 37,
   "id": "cosmetic-christian",
   "metadata": {
    "execution": {
     "iopub.execute_input": "2021-03-01T10:47:47.080081Z",
     "iopub.status.busy": "2021-03-01T10:47:47.079762Z",
     "iopub.status.idle": "2021-03-01T10:47:54.516469Z",
     "shell.execute_reply": "2021-03-01T10:47:54.515490Z",
     "shell.execute_reply.started": "2021-03-01T10:47:47.080046Z"
    }
   },
   "outputs": [],
   "source": [
    "candidate_ids = full.rtree.query(node[\"geometry\"], sort=True)"
   ]
  },
  {
   "cell_type": "code",
   "execution_count": 38,
   "id": "focal-facing",
   "metadata": {
    "execution": {
     "iopub.execute_input": "2021-03-01T10:48:12.127733Z",
     "iopub.status.busy": "2021-03-01T10:48:12.127403Z",
     "iopub.status.idle": "2021-03-01T10:48:25.839349Z",
     "shell.execute_reply": "2021-03-01T10:48:25.838442Z",
     "shell.execute_reply.started": "2021-03-01T10:48:12.127698Z"
    }
   },
   "outputs": [
    {
     "name": "stdout",
     "output_type": "stream",
     "text": [
      "1.06 ms ± 106 µs per loop (mean ± std. dev. of 7 runs, 1000 loops each)\n"
     ]
    }
   ],
   "source": [
    "%%timeit\n",
    "candidates = full.df.to_numpy()[candidate_ids]  # assumes ids are continguous (no holes)"
   ]
  },
  {
   "cell_type": "code",
   "execution_count": 40,
   "id": "electric-truck",
   "metadata": {
    "execution": {
     "iopub.execute_input": "2021-03-01T10:48:41.239878Z",
     "iopub.status.busy": "2021-03-01T10:48:41.239570Z",
     "iopub.status.idle": "2021-03-01T10:48:53.974654Z",
     "shell.execute_reply": "2021-03-01T10:48:53.967102Z",
     "shell.execute_reply.started": "2021-03-01T10:48:41.239844Z"
    }
   },
   "outputs": [
    {
     "name": "stdout",
     "output_type": "stream",
     "text": [
      "1.19 ms ± 131 µs per loop (mean ± std. dev. of 7 runs, 1000 loops each)\n"
     ]
    }
   ],
   "source": [
    "%%timeit\n",
    "candidates = full.df.iloc[candidate_ids]"
   ]
  },
  {
   "cell_type": "markdown",
   "id": "colored-taiwan",
   "metadata": {},
   "source": [
    "## F3 Fast geopandas comparison"
   ]
  },
  {
   "cell_type": "code",
   "execution_count": 106,
   "id": "structural-receipt",
   "metadata": {
    "execution": {
     "iopub.execute_input": "2021-03-01T11:47:02.204334Z",
     "iopub.status.busy": "2021-03-01T11:47:02.204028Z",
     "iopub.status.idle": "2021-03-01T11:47:05.090555Z",
     "shell.execute_reply": "2021-03-01T11:47:05.089690Z",
     "shell.execute_reply.started": "2021-03-01T11:47:02.204300Z"
    }
   },
   "outputs": [
    {
     "name": "stdout",
     "output_type": "stream",
     "text": [
      "15.3 µs ± 2.34 µs per loop (mean ± std. dev. of 7 runs, 10000 loops each)\n"
     ]
    }
   ],
   "source": [
    "%%timeit\n",
    "candidate_ids[full.df.class_label.values[candidate_ids] == 3]"
   ]
  },
  {
   "cell_type": "code",
   "execution_count": 182,
   "id": "attempted-documentary",
   "metadata": {
    "execution": {
     "iopub.execute_input": "2021-03-01T15:16:32.958506Z",
     "iopub.status.busy": "2021-03-01T15:16:32.958065Z",
     "iopub.status.idle": "2021-03-01T15:16:35.554541Z",
     "shell.execute_reply": "2021-03-01T15:16:35.552996Z",
     "shell.execute_reply.started": "2021-03-01T15:16:32.958456Z"
    }
   },
   "outputs": [
    {
     "name": "stdout",
     "output_type": "stream",
     "text": [
      "22.1 µs ± 1.34 µs per loop (mean ± std. dev. of 7 runs, 10000 loops each)\n"
     ]
    }
   ],
   "source": [
    "%%timeit\n",
    "candidate_ids[np.where(other_graph.df.class_label.values[candidate_ids] == node[\"class_label\"])]"
   ]
  },
  {
   "cell_type": "markdown",
   "id": "quantitative-flour",
   "metadata": {
    "execution": {
     "iopub.execute_input": "2021-03-01T10:44:31.362708Z",
     "iopub.status.busy": "2021-03-01T10:44:31.361872Z",
     "iopub.status.idle": "2021-03-01T10:44:34.349431Z",
     "shell.execute_reply": "2021-03-01T10:44:34.348352Z",
     "shell.execute_reply.started": "2021-03-01T10:44:31.362645Z"
    }
   },
   "source": [
    "## F4 Fastest RTree access"
   ]
  },
  {
   "cell_type": "code",
   "execution_count": 28,
   "id": "after-brazilian",
   "metadata": {
    "execution": {
     "iopub.execute_input": "2021-03-01T10:45:24.600489Z",
     "iopub.status.busy": "2021-03-01T10:45:24.600240Z",
     "iopub.status.idle": "2021-03-01T10:45:25.069708Z",
     "shell.execute_reply": "2021-03-01T10:45:25.064038Z",
     "shell.execute_reply.started": "2021-03-01T10:45:24.600457Z"
    }
   },
   "outputs": [
    {
     "data": {
      "text/plain": [
       "array([3, 0, 1, 4])"
      ]
     },
     "execution_count": 28,
     "metadata": {},
     "output_type": "execute_result"
    }
   ],
   "source": [
    "full.rtree.query(geom)"
   ]
  },
  {
   "cell_type": "code",
   "execution_count": 29,
   "id": "trained-authentication",
   "metadata": {
    "execution": {
     "iopub.execute_input": "2021-03-01T10:45:27.325649Z",
     "iopub.status.busy": "2021-03-01T10:45:27.325360Z",
     "iopub.status.idle": "2021-03-01T10:45:27.429188Z",
     "shell.execute_reply": "2021-03-01T10:45:27.428165Z",
     "shell.execute_reply.started": "2021-03-01T10:45:27.325616Z"
    }
   },
   "outputs": [
    {
     "data": {
      "text/plain": [
       "array([3, 0, 1, 4])"
      ]
     },
     "execution_count": 29,
     "metadata": {},
     "output_type": "execute_result"
    }
   ],
   "source": [
    "full.rtree.query(geom, predicate=\"intersects\")"
   ]
  },
  {
   "cell_type": "code",
   "execution_count": 25,
   "id": "entertaining-broadway",
   "metadata": {
    "execution": {
     "iopub.execute_input": "2021-03-01T10:44:58.371368Z",
     "iopub.status.busy": "2021-03-01T10:44:58.371030Z",
     "iopub.status.idle": "2021-03-01T10:45:03.511590Z",
     "shell.execute_reply": "2021-03-01T10:45:03.510628Z",
     "shell.execute_reply.started": "2021-03-01T10:44:58.371335Z"
    }
   },
   "outputs": [
    {
     "name": "stdout",
     "output_type": "stream",
     "text": [
      "326 µs ± 93.9 µs per loop (mean ± std. dev. of 7 runs, 1000 loops each)\n"
     ]
    }
   ],
   "source": [
    "%%timeit\n",
    "full.rtree.intersection(geom.bounds)"
   ]
  },
  {
   "cell_type": "code",
   "execution_count": 26,
   "id": "blond-findings",
   "metadata": {
    "execution": {
     "iopub.execute_input": "2021-03-01T10:45:03.513123Z",
     "iopub.status.busy": "2021-03-01T10:45:03.512856Z",
     "iopub.status.idle": "2021-03-01T10:45:14.736838Z",
     "shell.execute_reply": "2021-03-01T10:45:14.735818Z",
     "shell.execute_reply.started": "2021-03-01T10:45:03.513088Z"
    }
   },
   "outputs": [
    {
     "name": "stdout",
     "output_type": "stream",
     "text": [
      "132 µs ± 6.64 µs per loop (mean ± std. dev. of 7 runs, 10000 loops each)\n"
     ]
    }
   ],
   "source": [
    "%%timeit\n",
    "full.rtree.query(geom, predicate=\"intersects\")"
   ]
  },
  {
   "cell_type": "code",
   "execution_count": 31,
   "id": "functional-voice",
   "metadata": {
    "execution": {
     "iopub.execute_input": "2021-03-01T10:45:55.248463Z",
     "iopub.status.busy": "2021-03-01T10:45:55.248138Z",
     "iopub.status.idle": "2021-03-01T10:46:03.936747Z",
     "shell.execute_reply": "2021-03-01T10:46:03.934386Z",
     "shell.execute_reply.started": "2021-03-01T10:45:55.248430Z"
    }
   },
   "outputs": [
    {
     "name": "stdout",
     "output_type": "stream",
     "text": [
      "105 µs ± 17.2 µs per loop (mean ± std. dev. of 7 runs, 10000 loops each)\n"
     ]
    }
   ],
   "source": [
    "%%timeit\n",
    "full.rtree.query(geom)"
   ]
  },
  {
   "cell_type": "code",
   "execution_count": 30,
   "id": "prospective-forty",
   "metadata": {
    "execution": {
     "iopub.execute_input": "2021-03-01T10:45:37.029899Z",
     "iopub.status.busy": "2021-03-01T10:45:37.029565Z",
     "iopub.status.idle": "2021-03-01T10:45:47.568033Z",
     "shell.execute_reply": "2021-03-01T10:45:47.566603Z",
     "shell.execute_reply.started": "2021-03-01T10:45:37.029866Z"
    }
   },
   "outputs": [
    {
     "name": "stdout",
     "output_type": "stream",
     "text": [
      "108 µs ± 13.6 µs per loop (mean ± std. dev. of 7 runs, 10000 loops each)\n"
     ]
    }
   ],
   "source": [
    "%%timeit\n",
    "full.rtree.query(geom, sort=True)"
   ]
  }
 ],
 "metadata": {
  "kernelspec": {
   "display_name": "Python 3.8.6 64-bit (conda)",
   "language": "python",
   "name": "python38664bitcondaa02632c3747848fca9e6bac7131e6e7e"
  },
  "language_info": {
   "codemirror_mode": {
    "name": "ipython",
    "version": 3
   },
   "file_extension": ".py",
   "mimetype": "text/x-python",
   "name": "python",
   "nbconvert_exporter": "python",
   "pygments_lexer": "ipython3",
   "version": "3.8.6"
  }
 },
 "nbformat": 4,
 "nbformat_minor": 5
}
