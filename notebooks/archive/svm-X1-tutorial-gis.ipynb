{
 "cells": [
  {
   "cell_type": "code",
   "execution_count": 1,
   "id": "african-syndrome",
   "metadata": {
    "ExecuteTime": {
     "end_time": "2021-01-22T15:37:26.894672Z",
     "start_time": "2021-01-22T15:37:26.299676Z"
    }
   },
   "outputs": [],
   "source": [
    "# %load ../jupyter_setup.txt\n",
    "# Convenient jupyter setup\n",
    "%load_ext autoreload\n",
    "%autoreload 2\n",
    "%config IPCompleter.greedy=True"
   ]
  },
  {
   "cell_type": "markdown",
   "id": "lyric-selection",
   "metadata": {},
   "source": [
    "Following the tutorial [here](https://automating-gis-processes.github.io/CSC/notebooks/L2/geopandas-basics.html)"
   ]
  },
  {
   "cell_type": "markdown",
   "id": "changed-williams",
   "metadata": {},
   "source": [
    "Vector data formats:  \n",
    "    - [Shapefile](https://en.wikipedia.org/wiki/Shapefile)  \n",
    "    - [GeoJSON](https://en.wikipedia.org/wiki/GeoJSON)  \n",
    "    - [KML](https://en.wikipedia.org/wiki/Keyhole_Markup_Language)  \n",
    "    - [GPKG](https://en.wikipedia.org/wiki/GeoPackage) \n",
    "    \n",
    "Geopandas can read all those data formats (and many more).\n",
    "    \n",
    "Raster data formats:  \n",
    "    - geotif  \n",
    "    - netcdf  "
   ]
  },
  {
   "cell_type": "code",
   "execution_count": 2,
   "id": "committed-registrar",
   "metadata": {
    "ExecuteTime": {
     "end_time": "2021-01-22T15:37:33.814599Z",
     "start_time": "2021-01-22T15:37:31.701807Z"
    }
   },
   "outputs": [],
   "source": [
    "import os\n",
    "import pathlib\n",
    "import geopandas as gpd\n",
    "\n",
    "import shapely"
   ]
  },
  {
   "cell_type": "code",
   "execution_count": 3,
   "id": "fourth-allocation",
   "metadata": {
    "ExecuteTime": {
     "end_time": "2021-01-22T15:37:33.967479Z",
     "start_time": "2021-01-22T15:37:33.912512Z"
    }
   },
   "outputs": [
    {
     "data": {
      "text/plain": [
       "['Europe_borders.cpg',\n",
       " 'Europe_borders.dbf',\n",
       " 'Europe_borders.prj',\n",
       " 'Europe_borders.sbn',\n",
       " 'Europe_borders.sbx',\n",
       " 'Europe_borders.shp',\n",
       " 'Europe_borders.shx',\n",
       " 'ne_110m_admin_0_countries',\n",
       " 'NLS']"
      ]
     },
     "execution_count": 3,
     "metadata": {},
     "output_type": "execute_result"
    }
   ],
   "source": [
    "sample_data = pathlib.Path.home() / \"Data\" / \"GIS-Tutorial1\" / \"L2_data\"\n",
    "os.listdir(sample_data)"
   ]
  },
  {
   "cell_type": "code",
   "execution_count": 4,
   "id": "sitting-orange",
   "metadata": {
    "ExecuteTime": {
     "end_time": "2021-01-22T15:37:34.631283Z",
     "start_time": "2021-01-22T15:37:34.053837Z"
    }
   },
   "outputs": [],
   "source": [
    "orig = gpd.read_file(sample_data / \"Europe_borders.shp\")"
   ]
  },
  {
   "cell_type": "code",
   "execution_count": 5,
   "id": "partial-induction",
   "metadata": {
    "ExecuteTime": {
     "end_time": "2021-01-22T15:37:37.911063Z",
     "start_time": "2021-01-22T15:37:34.841766Z"
    }
   },
   "outputs": [
    {
     "data": {
      "text/html": [
       "<div>\n",
       "<style scoped>\n",
       "    .dataframe tbody tr th:only-of-type {\n",
       "        vertical-align: middle;\n",
       "    }\n",
       "\n",
       "    .dataframe tbody tr th {\n",
       "        vertical-align: top;\n",
       "    }\n",
       "\n",
       "    .dataframe thead th {\n",
       "        text-align: right;\n",
       "    }\n",
       "</style>\n",
       "<table border=\"1\" class=\"dataframe\">\n",
       "  <thead>\n",
       "    <tr style=\"text-align: right;\">\n",
       "      <th></th>\n",
       "      <th>TZID</th>\n",
       "      <th>geometry</th>\n",
       "    </tr>\n",
       "  </thead>\n",
       "  <tbody>\n",
       "    <tr>\n",
       "      <th>0</th>\n",
       "      <td>Europe/Berlin</td>\n",
       "      <td>POLYGON ((8.45778 54.56236, 8.44953 54.56269, ...</td>\n",
       "    </tr>\n",
       "    <tr>\n",
       "      <th>1</th>\n",
       "      <td>Europe/Berlin</td>\n",
       "      <td>POLYGON ((8.71992 47.69664, 8.72092 47.69530, ...</td>\n",
       "    </tr>\n",
       "    <tr>\n",
       "      <th>2</th>\n",
       "      <td>Europe/Berlin</td>\n",
       "      <td>POLYGON ((6.73317 53.57409, 6.73017 53.57542, ...</td>\n",
       "    </tr>\n",
       "    <tr>\n",
       "      <th>3</th>\n",
       "      <td>Europe/Berlin</td>\n",
       "      <td>POLYGON ((6.85822 53.59411, 6.85592 53.59550, ...</td>\n",
       "    </tr>\n",
       "    <tr>\n",
       "      <th>4</th>\n",
       "      <td>Europe/Berlin</td>\n",
       "      <td>POLYGON ((6.89894 53.62561, 6.88439 53.62814, ...</td>\n",
       "    </tr>\n",
       "  </tbody>\n",
       "</table>\n",
       "</div>"
      ],
      "text/plain": [
       "            TZID                                           geometry\n",
       "0  Europe/Berlin  POLYGON ((8.45778 54.56236, 8.44953 54.56269, ...\n",
       "1  Europe/Berlin  POLYGON ((8.71992 47.69664, 8.72092 47.69530, ...\n",
       "2  Europe/Berlin  POLYGON ((6.73317 53.57409, 6.73017 53.57542, ...\n",
       "3  Europe/Berlin  POLYGON ((6.85822 53.59411, 6.85592 53.59550, ...\n",
       "4  Europe/Berlin  POLYGON ((6.89894 53.62561, 6.88439 53.62814, ..."
      ]
     },
     "execution_count": 5,
     "metadata": {},
     "output_type": "execute_result"
    },
    {
     "data": {
      "image/png": "[encoded data removed]",
      "text/plain": [
       "<Figure size 432x288 with 1 Axes>"
      ]
     },
     "metadata": {
      "needs_background": "light"
     },
     "output_type": "display_data"
    }
   ],
   "source": [
    "orig.plot()\n",
    "orig.head()"
   ]
  },
  {
   "cell_type": "code",
   "execution_count": 6,
   "id": "favorite-entrepreneur",
   "metadata": {
    "ExecuteTime": {
     "end_time": "2021-01-22T15:37:38.264911Z",
     "start_time": "2021-01-22T15:37:38.207086Z"
    }
   },
   "outputs": [
    {
     "data": {
      "text/plain": [
       "<Geographic 2D CRS: EPSG:4326>\n",
       "Name: WGS 84\n",
       "Axis Info [ellipsoidal]:\n",
       "- Lat[north]: Geodetic latitude (degree)\n",
       "- Lon[east]: Geodetic longitude (degree)\n",
       "Area of Use:\n",
       "- name: World.\n",
       "- bounds: (-180.0, -90.0, 180.0, 90.0)\n",
       "Datum: World Geodetic System 1984\n",
       "- Ellipsoid: WGS 84\n",
       "- Prime Meridian: Greenwich"
      ]
     },
     "execution_count": 6,
     "metadata": {},
     "output_type": "execute_result"
    }
   ],
   "source": [
    "orig.crs"
   ]
  },
  {
   "cell_type": "code",
   "execution_count": 7,
   "id": "refined-allocation",
   "metadata": {
    "ExecuteTime": {
     "end_time": "2021-01-22T15:37:41.646634Z",
     "start_time": "2021-01-22T15:37:38.441367Z"
    }
   },
   "outputs": [
    {
     "data": {
      "text/html": [
       "<div>\n",
       "<style scoped>\n",
       "    .dataframe tbody tr th:only-of-type {\n",
       "        vertical-align: middle;\n",
       "    }\n",
       "\n",
       "    .dataframe tbody tr th {\n",
       "        vertical-align: top;\n",
       "    }\n",
       "\n",
       "    .dataframe thead th {\n",
       "        text-align: right;\n",
       "    }\n",
       "</style>\n",
       "<table border=\"1\" class=\"dataframe\">\n",
       "  <thead>\n",
       "    <tr style=\"text-align: right;\">\n",
       "      <th></th>\n",
       "      <th>TZID</th>\n",
       "      <th>geometry</th>\n",
       "    </tr>\n",
       "  </thead>\n",
       "  <tbody>\n",
       "    <tr>\n",
       "      <th>0</th>\n",
       "      <td>Europe/Berlin</td>\n",
       "      <td>POLYGON ((4221214.558 3496203.404, 4220681.651...</td>\n",
       "    </tr>\n",
       "    <tr>\n",
       "      <th>1</th>\n",
       "      <td>Europe/Berlin</td>\n",
       "      <td>POLYGON ((4224860.478 2732279.320, 4224932.819...</td>\n",
       "    </tr>\n",
       "    <tr>\n",
       "      <th>2</th>\n",
       "      <td>Europe/Berlin</td>\n",
       "      <td>POLYGON ((4104652.176 3390034.953, 4104460.401...</td>\n",
       "    </tr>\n",
       "    <tr>\n",
       "      <th>3</th>\n",
       "      <td>Europe/Berlin</td>\n",
       "      <td>POLYGON ((4113025.664 3391895.756, 4112879.943...</td>\n",
       "    </tr>\n",
       "    <tr>\n",
       "      <th>4</th>\n",
       "      <td>Europe/Berlin</td>\n",
       "      <td>POLYGON ((4115871.228 3395282.099, 4114921.348...</td>\n",
       "    </tr>\n",
       "  </tbody>\n",
       "</table>\n",
       "</div>"
      ],
      "text/plain": [
       "            TZID                                           geometry\n",
       "0  Europe/Berlin  POLYGON ((4221214.558 3496203.404, 4220681.651...\n",
       "1  Europe/Berlin  POLYGON ((4224860.478 2732279.320, 4224932.819...\n",
       "2  Europe/Berlin  POLYGON ((4104652.176 3390034.953, 4104460.401...\n",
       "3  Europe/Berlin  POLYGON ((4113025.664 3391895.756, 4112879.943...\n",
       "4  Europe/Berlin  POLYGON ((4115871.228 3395282.099, 4114921.348..."
      ]
     },
     "execution_count": 7,
     "metadata": {},
     "output_type": "execute_result"
    },
    {
     "data": {
      "image/png": "[encoded data removed]",
      "text/plain": [
       "<Figure size 432x288 with 1 Axes>"
      ]
     },
     "metadata": {
      "needs_background": "light"
     },
     "output_type": "display_data"
    }
   ],
   "source": [
    "data = orig.to_crs(epsg=3035)\n",
    "data.plot()\n",
    "data.head()"
   ]
  },
  {
   "cell_type": "code",
   "execution_count": 8,
   "id": "interested-assist",
   "metadata": {
    "ExecuteTime": {
     "end_time": "2021-01-22T15:37:42.029238Z",
     "start_time": "2021-01-22T15:37:41.961968Z"
    }
   },
   "outputs": [
    {
     "data": {
      "text/plain": [
       "<Projected CRS: EPSG:3035>\n",
       "Name: ETRS89-extended / LAEA Europe\n",
       "Axis Info [cartesian]:\n",
       "- Y[north]: Northing (metre)\n",
       "- X[east]: Easting (metre)\n",
       "Area of Use:\n",
       "- name: Europe - European Union (EU) countries and candidates. Europe - onshore and offshore: Albania; Andorra; Austria; Belgium; Bosnia and Herzegovina; Bulgaria; Croatia; Cyprus; Czechia; Denmark; Estonia; Faroe Islands; Finland; France; Germany; Gibraltar; Greece; Hungary; Iceland; Ireland; Italy; Kosovo; Latvia; Liechtenstein; Lithuania; Luxembourg; Malta; Monaco; Montenegro; Netherlands; North Macedonia; Norway including Svalbard and Jan Mayen; Poland; Portugal including Madeira and Azores; Romania; San Marino; Serbia; Slovakia; Slovenia; Spain including Canary Islands; Sweden; Switzerland; Turkey; United Kingdom (UK) including Channel Islands and Isle of Man; Vatican City State.\n",
       "- bounds: (-35.58, 24.6, 44.83, 84.17)\n",
       "Coordinate Operation:\n",
       "- name: Europe Equal Area 2001\n",
       "- method: Lambert Azimuthal Equal Area\n",
       "Datum: European Terrestrial Reference System 1989\n",
       "- Ellipsoid: GRS 1980\n",
       "- Prime Meridian: Greenwich"
      ]
     },
     "execution_count": 8,
     "metadata": {},
     "output_type": "execute_result"
    }
   ],
   "source": [
    "data.crs"
   ]
  },
  {
   "cell_type": "code",
   "execution_count": 9,
   "id": "subjective-evening",
   "metadata": {
    "ExecuteTime": {
     "end_time": "2021-01-22T15:37:42.402403Z",
     "start_time": "2021-01-22T15:37:42.360807Z"
    }
   },
   "outputs": [
    {
     "name": "stdout",
     "output_type": "stream",
     "text": [
      "Polygon area at index 0 is 2453433.968\n",
      "Polygon area at index 1 is 7390887.389\n",
      "Polygon area at index 2 is 31201021.098\n",
      "Polygon area at index 3 is 747610.172\n",
      "Polygon area at index 4 is 7890374.459\n"
     ]
    }
   ],
   "source": [
    "selection = data[:5]\n",
    "\n",
    "# calculate areas\n",
    "for index, row in selection.iterrows():\n",
    "    poly_area = row['geometry'].area\n",
    "    print(f\"Polygon area at index {index} is {poly_area:.3f}\")"
   ]
  },
  {
   "cell_type": "code",
   "execution_count": 10,
   "id": "eleven-communist",
   "metadata": {
    "ExecuteTime": {
     "end_time": "2021-01-22T15:37:42.714729Z",
     "start_time": "2021-01-22T15:37:42.665450Z"
    }
   },
   "outputs": [
    {
     "data": {
      "text/plain": [
       "7890374.458689375"
      ]
     },
     "execution_count": 10,
     "metadata": {},
     "output_type": "execute_result"
    }
   ],
   "source": [
    "row[\"geometry\"].area"
   ]
  },
  {
   "cell_type": "code",
   "execution_count": 11,
   "id": "illegal-complex",
   "metadata": {
    "ExecuteTime": {
     "end_time": "2021-01-22T15:37:43.149228Z",
     "start_time": "2021-01-22T15:37:43.063651Z"
    }
   },
   "outputs": [
    {
     "data": {
      "text/plain": [
       "0       2.453434e+06\n",
       "1       7.390887e+06\n",
       "2       3.120102e+07\n",
       "3       7.476102e+05\n",
       "4       7.890374e+06\n",
       "            ...     \n",
       "3627    4.866021e+05\n",
       "3628    1.317378e+06\n",
       "3629    4.279882e+07\n",
       "3630    2.076046e+11\n",
       "3631    5.712238e+06\n",
       "Length: 3632, dtype: float64"
      ]
     },
     "execution_count": 11,
     "metadata": {},
     "output_type": "execute_result"
    }
   ],
   "source": [
    "data.area"
   ]
  },
  {
   "cell_type": "code",
   "execution_count": 12,
   "id": "described-currency",
   "metadata": {
    "ExecuteTime": {
     "end_time": "2021-01-22T15:37:44.914761Z",
     "start_time": "2021-01-22T15:37:43.429457Z"
    }
   },
   "outputs": [
    {
     "data": {
      "text/plain": [
       "0       POLYGON ((8.45778 54.56236, 8.44953 54.56269, ...\n",
       "1       POLYGON ((8.71992 47.69664, 8.72092 47.69530, ...\n",
       "2       POLYGON ((6.73317 53.57409, 6.73017 53.57542, ...\n",
       "3       POLYGON ((6.85822 53.59411, 6.85592 53.59550, ...\n",
       "4       POLYGON ((6.89894 53.62561, 6.88439 53.62814, ...\n",
       "                              ...                        \n",
       "3627    POLYGON ((18.75422 59.49353, 18.74311 59.49050...\n",
       "3628    POLYGON ((18.84164 59.50605, 18.84028 59.50797...\n",
       "3629    POLYGON ((18.59995 59.45653, 18.59431 59.45964...\n",
       "3630    POLYGON ((30.00000 51.48947, 29.99511 51.48572...\n",
       "3631    POLYGON ((-5.34392 36.11253, -5.34717 36.11528...\n",
       "Name: geometry, Length: 3632, dtype: geometry"
      ]
     },
     "execution_count": 12,
     "metadata": {},
     "output_type": "execute_result"
    }
   ],
   "source": [
    "data.geometry.to_crs(\"EPSG:4326\")"
   ]
  },
  {
   "cell_type": "code",
   "execution_count": 13,
   "id": "rational-tokyo",
   "metadata": {
    "ExecuteTime": {
     "end_time": "2021-01-22T15:37:45.323801Z",
     "start_time": "2021-01-22T15:37:45.289223Z"
    }
   },
   "outputs": [
    {
     "name": "stdout",
     "output_type": "stream",
     "text": [
      "POLYGON ((24.950899 60.169158, 24.953492 60.169158, 24.95351 60.170104, 24.950958 60.16999, 24.950899 60.169158))\n"
     ]
    }
   ],
   "source": [
    "\n",
    "# Coordinates of the Helsinki Senate square in Decimal Degrees\n",
    "coordinates = [(24.950899, 60.169158), (24.953492, 60.169158), (24.953510, 60.170104), (24.950958, 60.169990)]\n",
    "\n",
    "# Create a Shapely polygon from the coordinate-tuple list\n",
    "poly = shapely.geometry.Polygon(coordinates)\n",
    "\n",
    "# Let's see what we have\n",
    "print(poly)"
   ]
  },
  {
   "cell_type": "code",
   "execution_count": 14,
   "id": "elementary-promise",
   "metadata": {
    "ExecuteTime": {
     "end_time": "2021-01-22T15:37:45.617697Z",
     "start_time": "2021-01-22T15:37:45.541419Z"
    }
   },
   "outputs": [
    {
     "data": {
      "image/svg+xml": [
       "<svg xmlns=\"http://www.w3.org/2000/svg\" xmlns:xlink=\"http://www.w3.org/1999/xlink\" width=\"100.0\" height=\"100.0\" viewBox=\"24.95079456 60.16905356 0.0028198800000041047 0.0011548800000014126\" preserveAspectRatio=\"xMinYMin meet\"><g transform=\"matrix(1,0,0,-1,0,120.339262)\"><path fill-rule=\"evenodd\" fill=\"#66cc99\" stroke=\"#555555\" stroke-width=\"5.639760000008209e-05\" opacity=\"0.6\" d=\"M 24.950899,60.169158 L 24.953492,60.169158 L 24.95351,60.170104 L 24.950958,60.16999 L 24.950899,60.169158 z\" /></g></svg>"
      ],
      "text/plain": [
       "<shapely.geometry.polygon.Polygon at 0x7fb3b6482a60>"
      ]
     },
     "execution_count": 14,
     "metadata": {},
     "output_type": "execute_result"
    }
   ],
   "source": [
    "poly"
   ]
  },
  {
   "cell_type": "code",
   "execution_count": 15,
   "id": "moral-hygiene",
   "metadata": {
    "ExecuteTime": {
     "end_time": "2021-01-22T15:37:45.905972Z",
     "start_time": "2021-01-22T15:37:45.870960Z"
    }
   },
   "outputs": [
    {
     "data": {
      "text/plain": [
       "2.2847579999939037e-06"
      ]
     },
     "execution_count": 15,
     "metadata": {},
     "output_type": "execute_result"
    }
   ],
   "source": [
    "poly.area"
   ]
  },
  {
   "cell_type": "code",
   "execution_count": 16,
   "id": "religious-costs",
   "metadata": {
    "ExecuteTime": {
     "end_time": "2021-01-22T15:37:46.195616Z",
     "start_time": "2021-01-22T15:37:46.147863Z"
    }
   },
   "outputs": [
    {
     "name": "stdout",
     "output_type": "stream",
     "text": [
      "Empty GeoDataFrame\n",
      "Columns: []\n",
      "Index: []\n"
     ]
    }
   ],
   "source": [
    "# Create an empty geopandas GeoDataFrame\n",
    "newdata = gpd.GeoDataFrame()\n",
    "\n",
    "# Let's see what we have at the moment\n",
    "print(newdata)"
   ]
  },
  {
   "cell_type": "code",
   "execution_count": 17,
   "id": "leading-removal",
   "metadata": {
    "ExecuteTime": {
     "end_time": "2021-01-22T15:37:46.517095Z",
     "start_time": "2021-01-22T15:37:46.474516Z"
    }
   },
   "outputs": [],
   "source": [
    "# Insert the polygon into 'geometry' -column at index 0\n",
    "newdata.loc[0, 'geometry'] = poly\n",
    "\n",
    "# Add a new column and insert data (extra infomation)\n",
    "newdata.loc[0, 'location'] = 'Senaatintori'"
   ]
  },
  {
   "cell_type": "code",
   "execution_count": 18,
   "id": "known-belgium",
   "metadata": {
    "ExecuteTime": {
     "end_time": "2021-01-22T15:37:46.765568Z",
     "start_time": "2021-01-22T15:37:46.724800Z"
    }
   },
   "outputs": [
    {
     "data": {
      "text/html": [
       "<div>\n",
       "<style scoped>\n",
       "    .dataframe tbody tr th:only-of-type {\n",
       "        vertical-align: middle;\n",
       "    }\n",
       "\n",
       "    .dataframe tbody tr th {\n",
       "        vertical-align: top;\n",
       "    }\n",
       "\n",
       "    .dataframe thead th {\n",
       "        text-align: right;\n",
       "    }\n",
       "</style>\n",
       "<table border=\"1\" class=\"dataframe\">\n",
       "  <thead>\n",
       "    <tr style=\"text-align: right;\">\n",
       "      <th></th>\n",
       "      <th>geometry</th>\n",
       "      <th>location</th>\n",
       "    </tr>\n",
       "  </thead>\n",
       "  <tbody>\n",
       "    <tr>\n",
       "      <th>0</th>\n",
       "      <td>POLYGON ((24.95090 60.16916, 24.95349 60.16916...</td>\n",
       "      <td>Senaatintori</td>\n",
       "    </tr>\n",
       "  </tbody>\n",
       "</table>\n",
       "</div>"
      ],
      "text/plain": [
       "                                            geometry      location\n",
       "0  POLYGON ((24.95090 60.16916, 24.95349 60.16916...  Senaatintori"
      ]
     },
     "execution_count": 18,
     "metadata": {},
     "output_type": "execute_result"
    }
   ],
   "source": [
    "newdata"
   ]
  },
  {
   "cell_type": "code",
   "execution_count": 19,
   "id": "simplified-revelation",
   "metadata": {
    "ExecuteTime": {
     "end_time": "2021-01-22T15:37:47.018117Z",
     "start_time": "2021-01-22T15:37:46.976666Z"
    }
   },
   "outputs": [],
   "source": [
    "newdata.crs"
   ]
  },
  {
   "cell_type": "code",
   "execution_count": 20,
   "id": "complimentary-gather",
   "metadata": {
    "ExecuteTime": {
     "end_time": "2021-01-22T15:37:47.388667Z",
     "start_time": "2021-01-22T15:37:47.326817Z"
    }
   },
   "outputs": [
    {
     "data": {
      "text/plain": [
       "<Projected CRS: EPSG:3035>\n",
       "Name: ETRS89-extended / LAEA Europe\n",
       "Axis Info [cartesian]:\n",
       "- Y[north]: Northing (metre)\n",
       "- X[east]: Easting (metre)\n",
       "Area of Use:\n",
       "- name: Europe - European Union (EU) countries and candidates. Europe - onshore and offshore: Albania; Andorra; Austria; Belgium; Bosnia and Herzegovina; Bulgaria; Croatia; Cyprus; Czechia; Denmark; Estonia; Faroe Islands; Finland; France; Germany; Gibraltar; Greece; Hungary; Iceland; Ireland; Italy; Kosovo; Latvia; Liechtenstein; Lithuania; Luxembourg; Malta; Monaco; Montenegro; Netherlands; North Macedonia; Norway including Svalbard and Jan Mayen; Poland; Portugal including Madeira and Azores; Romania; San Marino; Serbia; Slovakia; Slovenia; Spain including Canary Islands; Sweden; Switzerland; Turkey; United Kingdom (UK) including Channel Islands and Isle of Man; Vatican City State.\n",
       "- bounds: (-35.58, 24.6, 44.83, 84.17)\n",
       "Coordinate Operation:\n",
       "- name: Europe Equal Area 2001\n",
       "- method: Lambert Azimuthal Equal Area\n",
       "Datum: European Terrestrial Reference System 1989\n",
       "- Ellipsoid: GRS 1980\n",
       "- Prime Meridian: Greenwich"
      ]
     },
     "execution_count": 20,
     "metadata": {},
     "output_type": "execute_result"
    }
   ],
   "source": [
    "data.crs"
   ]
  },
  {
   "cell_type": "code",
   "execution_count": 21,
   "id": "impressive-defensive",
   "metadata": {
    "ExecuteTime": {
     "end_time": "2021-01-22T15:37:47.708414Z",
     "start_time": "2021-01-22T15:37:47.616396Z"
    }
   },
   "outputs": [
    {
     "name": "stdout",
     "output_type": "stream",
     "text": [
      "epsg:4326\n"
     ]
    }
   ],
   "source": [
    "# import from epsg function from fiona module to add a \n",
    "# coordinate reference function to our geopandas dataframe\n",
    "from fiona.crs import from_epsg\n",
    "\n",
    "#set geopandas df coordinate system to WGS84\n",
    "#newdata.crs = from_epsg(4326) # alternatively: newdata.crs = \"epsg:4326\"\n",
    "newdata.crs = \"epsg:4326\"\n",
    "\n",
    "print(newdata.crs)"
   ]
  },
  {
   "cell_type": "code",
   "execution_count": 22,
   "id": "overhead-player",
   "metadata": {
    "ExecuteTime": {
     "end_time": "2021-01-22T15:37:47.988109Z",
     "start_time": "2021-01-22T15:37:47.953038Z"
    }
   },
   "outputs": [
    {
     "data": {
      "text/plain": [
       "<Geographic 2D CRS: EPSG:4326>\n",
       "Name: WGS 84\n",
       "Axis Info [ellipsoidal]:\n",
       "- Lat[north]: Geodetic latitude (degree)\n",
       "- Lon[east]: Geodetic longitude (degree)\n",
       "Area of Use:\n",
       "- name: World.\n",
       "- bounds: (-180.0, -90.0, 180.0, 90.0)\n",
       "Datum: World Geodetic System 1984\n",
       "- Ellipsoid: WGS 84\n",
       "- Prime Meridian: Greenwich"
      ]
     },
     "execution_count": 22,
     "metadata": {},
     "output_type": "execute_result"
    }
   ],
   "source": [
    "newdata.crs"
   ]
  },
  {
   "cell_type": "code",
   "execution_count": 23,
   "id": "understood-exemption",
   "metadata": {
    "ExecuteTime": {
     "end_time": "2021-01-22T15:37:48.427047Z",
     "start_time": "2021-01-22T15:37:48.269411Z"
    }
   },
   "outputs": [
    {
     "name": "stdout",
     "output_type": "stream",
     "text": [
      "                    geometry\n",
      "0  POINT (24.94170 60.16660)\n"
     ]
    }
   ],
   "source": [
    "from shapely.geometry import Point\n",
    "import pycrs\n",
    "\n",
    "# Create the point representing Helsinki (in WGS84)\n",
    "hki_lon = 24.9417\n",
    "hki_lat = 60.1666\n",
    "\n",
    "# Create GeoDataFrame\n",
    "helsinki = gpd.GeoDataFrame([[Point(hki_lon, hki_lat)]], geometry='geometry', crs='epsg:4326', columns=['geometry'])\n",
    "\n",
    "# Print\n",
    "print(helsinki)"
   ]
  },
  {
   "cell_type": "code",
   "execution_count": 24,
   "id": "broken-benjamin",
   "metadata": {
    "ExecuteTime": {
     "end_time": "2021-01-22T15:37:48.727027Z",
     "start_time": "2021-01-22T15:37:48.682691Z"
    }
   },
   "outputs": [],
   "source": [
    "import pyproj"
   ]
  },
  {
   "cell_type": "code",
   "execution_count": 25,
   "id": "cordless-marketplace",
   "metadata": {
    "ExecuteTime": {
     "end_time": "2021-01-22T15:37:49.130559Z",
     "start_time": "2021-01-22T15:37:48.996055Z"
    }
   },
   "outputs": [
    {
     "name": "stdout",
     "output_type": "stream",
     "text": [
      "                  geometry\n",
      "0  POINT (0.00000 0.00000)\n",
      "\n",
      "CRS:\n",
      " +proj=aeqd +lat_0=60.1666 +lon_0=24.9417 +x_0=0 +y_0=0 +datum=WGS84 +units=m +no_defs +type=crs\n"
     ]
    }
   ],
   "source": [
    "# Import pyproj\n",
    "import pyproj\n",
    "\n",
    "# Define the projection using the coordinates of our Helsinki point (hki_lat, hki_lon) as the center point\n",
    "# The .srs here returns the Proj4-string presentation of the projection\n",
    "aeqd = pyproj.Proj(proj='aeqd', ellps='WGS84', datum='WGS84', lat_0=hki_lat, lon_0=hki_lon).srs\n",
    "\n",
    "# Reproject to aeqd projection using Proj4-string\n",
    "helsinki = helsinki.to_crs(crs=aeqd)\n",
    "\n",
    "# Print the data\n",
    "print(helsinki)\n",
    "\n",
    "# Print the crs\n",
    "print('\\nCRS:\\n', helsinki.crs)"
   ]
  },
  {
   "cell_type": "code",
   "execution_count": 26,
   "id": "returning-transition",
   "metadata": {
    "ExecuteTime": {
     "end_time": "2021-01-22T15:37:49.429839Z",
     "start_time": "2021-01-22T15:37:49.375238Z"
    }
   },
   "outputs": [],
   "source": [
    "\n",
    "# Create a copy\n",
    "europe_borders_aeqd = data.copy()"
   ]
  },
  {
   "cell_type": "code",
   "execution_count": 27,
   "id": "eleven-faculty",
   "metadata": {
    "ExecuteTime": {
     "end_time": "2021-01-22T15:37:52.841669Z",
     "start_time": "2021-01-22T15:37:49.783284Z"
    }
   },
   "outputs": [
    {
     "name": "stdout",
     "output_type": "stream",
     "text": [
      "            TZID                                           geometry\n",
      "0  Europe/Berlin  POLYGON ((-1057542.597 -493724.802, -1058052.5...\n",
      "1  Europe/Berlin  POLYGON ((-1216418.435 -1243831.635, -1216378....\n"
     ]
    }
   ],
   "source": [
    "# Reproject to aeqd projection that we defined earlier\n",
    "europe_borders_aeqd = europe_borders_aeqd.to_crs(crs=aeqd)\n",
    "\n",
    "# Print\n",
    "print(europe_borders_aeqd.head(2))"
   ]
  },
  {
   "cell_type": "code",
   "execution_count": 28,
   "id": "accepting-thousand",
   "metadata": {
    "ExecuteTime": {
     "end_time": "2021-01-22T15:37:53.922643Z",
     "start_time": "2021-01-22T15:37:53.703127Z"
    }
   },
   "outputs": [
    {
     "data": {
      "text/plain": [
       "<Projected CRS: +proj=aeqd +lat_0=60.1666 +lon_0=24.9417 +x_0=0 +y ...>\n",
       "Name: unknown\n",
       "Axis Info [cartesian]:\n",
       "- E[east]: Easting (metre)\n",
       "- N[north]: Northing (metre)\n",
       "Area of Use:\n",
       "- undefined\n",
       "Coordinate Operation:\n",
       "- name: unknown\n",
       "- method: Modified Azimuthal Equidistant\n",
       "Datum: World Geodetic System 1984\n",
       "- Ellipsoid: WGS 84\n",
       "- Prime Meridian: Greenwich"
      ]
     },
     "execution_count": 28,
     "metadata": {},
     "output_type": "execute_result"
    }
   ],
   "source": [
    "europe_borders_aeqd.crs"
   ]
  },
  {
   "cell_type": "code",
   "execution_count": 29,
   "id": "dirty-proposal",
   "metadata": {
    "ExecuteTime": {
     "end_time": "2021-01-22T15:37:56.470856Z",
     "start_time": "2021-01-22T15:37:54.409347Z"
    }
   },
   "outputs": [
    {
     "data": {
      "text/plain": [
       "<AxesSubplot:>"
      ]
     },
     "execution_count": 29,
     "metadata": {},
     "output_type": "execute_result"
    },
    {
     "data": {
      "image/png": "[encoded data removed]",
      "text/plain": [
       "<Figure size 720x720 with 1 Axes>"
      ]
     },
     "metadata": {
      "needs_background": "light"
     },
     "output_type": "display_data"
    }
   ],
   "source": [
    "import matplotlib.pyplot as plt\n",
    "fig, ax = plt.subplots(figsize=(10,10))\n",
    "\n",
    "# Plot the country borders\n",
    "europe_borders_aeqd.plot(ax=ax)\n",
    "\n",
    "# Plot the Helsinki point on top of the borders using the same axis\n",
    "helsinki.plot(ax=ax, color='black', markersize=10)"
   ]
  },
  {
   "cell_type": "code",
   "execution_count": null,
   "id": "thermal-donna",
   "metadata": {},
   "outputs": [],
   "source": []
  }
 ],
 "metadata": {
  "hide_input": false,
  "kernelspec": {
   "display_name": "Python 3.8.6 64-bit (conda)",
   "language": "python",
   "name": "python38664bitcondaa02632c3747848fca9e6bac7131e6e7e"
  },
  "language_info": {
   "codemirror_mode": {
    "name": "ipython",
    "version": 3
   },
   "file_extension": ".py",
   "mimetype": "text/x-python",
   "name": "python",
   "nbconvert_exporter": "python",
   "pygments_lexer": "ipython3",
   "version": "3.8.6"
  },
  "varInspector": {
   "cols": {
    "lenName": 16,
    "lenType": 16,
    "lenVar": 40
   },
   "kernels_config": {
    "python": {
     "delete_cmd_postfix": "",
     "delete_cmd_prefix": "del ",
     "library": "var_list.py",
     "varRefreshCmd": "print(var_dic_list())"
    },
    "r": {
     "delete_cmd_postfix": ") ",
     "delete_cmd_prefix": "rm(",
     "library": "var_list.r",
     "varRefreshCmd": "cat(var_dic_list()) "
    }
   },
   "types_to_exclude": [
    "module",
    "function",
    "builtin_function_or_method",
    "instance",
    "_Feature"
   ],
   "window_display": false
  }
 },
 "nbformat": 4,
 "nbformat_minor": 5
}
