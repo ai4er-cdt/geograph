{
 "cells": [
  {
   "cell_type": "markdown",
   "id": "public-cradle",
   "metadata": {},
   "source": [
    "# Testing the Overpass API s"
   ]
  },
  {
   "cell_type": "markdown",
   "id": "affiliated-sheffield",
   "metadata": {},
   "source": [
    "Overpass python APIs:  \n",
    "    1. [overpass](https://github.com/mvexel/overpass-api-python-wrapper) - most recent activity, but has geojson issues --> need to work in OSM data format  \n",
    "    2. [python-overpy](https://github.com/DinoTools/python-overpy) - last commit in 2019  \n",
    "    3. [OSMPythonTools](https://github.com/mocnik-science/osm-python-tools) - last commit recently (Oct 2020) but uncear docu --> need to work in OSM data format\n",
    "    \n",
    "    \n",
    "Overpass to Geojson:  \n",
    "    1. [osmtogeojson](https://github.com/tommyjcarpenter/osmtogeojson/blob/master/osmtogeojson/osmtogeojson.py) seems not maintained, WIP   \n",
    "    2. [pyosmium](https://github.com/osmcode/pyosmium/) unclear documentation\n",
    "    \n",
    "Useful tools:  \n",
    "    1. [overpass-turbo](https://overpass-turbo.eu/) testing OSM queries in webwith help wizard  \n",
    "    2. [polygons-osm](http://polygons.openstreetmap.fr/) get OSM polygons as geojson and others  \n",
    "    3. [OSM online map](https://www.openstreetmap.org/relation/3311547#map=10/51.1931/29.9796) view osm"
   ]
  },
  {
   "cell_type": "code",
   "execution_count": 1,
   "id": "absent-blocking",
   "metadata": {
    "execution": {
     "iopub.execute_input": "2021-02-01T12:13:50.900986Z",
     "iopub.status.busy": "2021-02-01T12:13:50.900181Z",
     "iopub.status.idle": "2021-02-01T12:13:54.258886Z",
     "shell.execute_reply": "2021-02-01T12:13:54.250042Z",
     "shell.execute_reply.started": "2021-02-01T12:13:50.900792Z"
    }
   },
   "outputs": [
    {
     "ename": "UnknownOverpassError",
     "evalue": "Received corrupt data from Overpass (incomplete polygon).",
     "output_type": "error",
     "traceback": [
      "\u001b[0;31m-----------------------------------------------------------------\u001b[0m",
      "\u001b[0;31mUnknownOverpassError\u001b[0m            Traceback (most recent call last)",
      "\u001b[0;32m<ipython-input-1-45ef5b0a52e2>\u001b[0m in \u001b[0;36m<module>\u001b[0;34m\u001b[0m\n\u001b[1;32m      5\u001b[0m \u001b[0;34m\u001b[0m\u001b[0m\n\u001b[1;32m      6\u001b[0m \u001b[0mapi\u001b[0m \u001b[0;34m=\u001b[0m \u001b[0moverpass\u001b[0m\u001b[0;34m.\u001b[0m\u001b[0mAPI\u001b[0m\u001b[0;34m(\u001b[0m\u001b[0;34m)\u001b[0m\u001b[0;34m\u001b[0m\u001b[0;34m\u001b[0m\u001b[0m\n\u001b[0;32m----> 7\u001b[0;31m \u001b[0mresponse\u001b[0m \u001b[0;34m=\u001b[0m \u001b[0mapi\u001b[0m\u001b[0;34m.\u001b[0m\u001b[0mget\u001b[0m\u001b[0;34m(\u001b[0m\u001b[0mosm_query\u001b[0m\u001b[0;34m,\u001b[0m \u001b[0mresponseformat\u001b[0m\u001b[0;34m=\u001b[0m\u001b[0;34m\"geojson\"\u001b[0m\u001b[0;34m)\u001b[0m  \u001b[0;31m# Note: build automatically adds the \"[out:json]\" tags and others\u001b[0m\u001b[0;34m\u001b[0m\u001b[0;34m\u001b[0m\u001b[0m\n\u001b[0m\u001b[1;32m      8\u001b[0m \u001b[0;31m# Problem: overpass python API seems to have issues parsing the osm_query response\u001b[0m\u001b[0;34m\u001b[0m\u001b[0;34m\u001b[0m\u001b[0;34m\u001b[0m\u001b[0m\n\u001b[1;32m      9\u001b[0m \u001b[0;31m#   and converting it into geojson format.\u001b[0m\u001b[0;34m\u001b[0m\u001b[0;34m\u001b[0m\u001b[0;34m\u001b[0m\u001b[0m\n",
      "\u001b[0;32m~/Code/gtc-biodiversity/env/lib/python3.8/site-packages/overpass/api.py\u001b[0m in \u001b[0;36mget\u001b[0;34m(self, query, responseformat, verbosity, build)\u001b[0m\n\u001b[1;32m    128\u001b[0m \u001b[0;34m\u001b[0m\u001b[0m\n\u001b[1;32m    129\u001b[0m         \u001b[0;31m# construct geojson\u001b[0m\u001b[0;34m\u001b[0m\u001b[0;34m\u001b[0m\u001b[0;34m\u001b[0m\u001b[0m\n\u001b[0;32m--> 130\u001b[0;31m         \u001b[0;32mreturn\u001b[0m \u001b[0mself\u001b[0m\u001b[0;34m.\u001b[0m\u001b[0m_as_geojson\u001b[0m\u001b[0;34m(\u001b[0m\u001b[0mresponse\u001b[0m\u001b[0;34m[\u001b[0m\u001b[0;34m\"elements\"\u001b[0m\u001b[0;34m]\u001b[0m\u001b[0;34m)\u001b[0m\u001b[0;34m\u001b[0m\u001b[0;34m\u001b[0m\u001b[0m\n\u001b[0m\u001b[1;32m    131\u001b[0m \u001b[0;34m\u001b[0m\u001b[0m\n\u001b[1;32m    132\u001b[0m     \u001b[0;32mdef\u001b[0m \u001b[0msearch\u001b[0m\u001b[0;34m(\u001b[0m\u001b[0mself\u001b[0m\u001b[0;34m,\u001b[0m \u001b[0mfeature_type\u001b[0m\u001b[0;34m,\u001b[0m \u001b[0mregex\u001b[0m\u001b[0;34m=\u001b[0m\u001b[0;32mFalse\u001b[0m\u001b[0;34m)\u001b[0m\u001b[0;34m:\u001b[0m\u001b[0;34m\u001b[0m\u001b[0;34m\u001b[0m\u001b[0m\n",
      "\u001b[0;32m~/Code/gtc-biodiversity/env/lib/python3.8/site-packages/overpass/api.py\u001b[0m in \u001b[0;36m_as_geojson\u001b[0;34m(self, elements)\u001b[0m\n\u001b[1;32m    212\u001b[0m                             \u001b[0mpolygons\u001b[0m\u001b[0;34m.\u001b[0m\u001b[0mappend\u001b[0m\u001b[0;34m(\u001b[0m\u001b[0;34m[\u001b[0m\u001b[0mpoints\u001b[0m\u001b[0;34m]\u001b[0m\u001b[0;34m)\u001b[0m\u001b[0;34m\u001b[0m\u001b[0;34m\u001b[0m\u001b[0m\n\u001b[1;32m    213\u001b[0m                         \u001b[0;32melse\u001b[0m\u001b[0;34m:\u001b[0m\u001b[0;34m\u001b[0m\u001b[0;34m\u001b[0m\u001b[0m\n\u001b[0;32m--> 214\u001b[0;31m                             \u001b[0;32mraise\u001b[0m \u001b[0mUnknownOverpassError\u001b[0m\u001b[0;34m(\u001b[0m\u001b[0;34m\"Received corrupt data from Overpass (incomplete polygon).\"\u001b[0m\u001b[0;34m)\u001b[0m\u001b[0;34m\u001b[0m\u001b[0;34m\u001b[0m\u001b[0m\n\u001b[0m\u001b[1;32m    215\u001b[0m                 \u001b[0;31m# Then get the inner polygons\u001b[0m\u001b[0;34m\u001b[0m\u001b[0;34m\u001b[0m\u001b[0;34m\u001b[0m\u001b[0m\n\u001b[1;32m    216\u001b[0m                 \u001b[0;32mfor\u001b[0m \u001b[0mmember\u001b[0m \u001b[0;32min\u001b[0m \u001b[0melem\u001b[0m\u001b[0;34m.\u001b[0m\u001b[0mget\u001b[0m\u001b[0;34m(\u001b[0m\u001b[0;34m\"members\"\u001b[0m\u001b[0;34m,\u001b[0m \u001b[0;34m[\u001b[0m\u001b[0;34m]\u001b[0m\u001b[0;34m)\u001b[0m\u001b[0;34m:\u001b[0m\u001b[0;34m\u001b[0m\u001b[0;34m\u001b[0m\u001b[0m\n",
      "\u001b[0;31mUnknownOverpassError\u001b[0m: Received corrupt data from Overpass (incomplete polygon)."
     ]
    }
   ],
   "source": [
    "import overpass\n",
    "\n",
    "osm_query = \"\"\"rel(3311547);(._;>;);out\"\"\"\n",
    "# Note: test OSM queries via: https://overpass-turbo.eu/\n",
    "\n",
    "api = overpass.API()\n",
    "response = api.get(osm_query, responseformat=\"geojson\")  # Note: build automatically adds the \"[out:json]\" tags and others\n",
    "# Problem: overpass python API seems to have issues parsing the osm_query response\n",
    "#   and converting it into geojson format.\n",
    "#   Solutions have been proposed (https://github.com/tommyjcarpenter/osmtogeojson/blob/master/osmtogeojson/osmtogeojson.py)\n",
    "#   but do not seem maintained. \n",
    "# Decision: Let's not use this for now, unless we have to. The polygons.openstreetmap\n",
    "#   API works reasonably well and the Chernobyl exclusion zone has finally been updated.\n",
    "\n",
    "nodes = [elem for elem in response[\"elements\"] if elem[\"type\"] == \"node\"]\n",
    "ways = [elem for elem in response[\"elements\"] if elem[\"type\"] == \"way\"]\n",
    "relations = [elem for elem in response[\"elements\"] if elem[\"type\"] == \"relation\"]\n",
    "\n",
    "\n",
    "def response_to_poly(response):\n",
    "    \n",
    "    nodes = [elem for elem in response[\"elements\"] if elem[\"type\"] == \"node\"]\n",
    "    ways = [elem for elem in response[\"elements\"] if elem[\"type\"] == \"way\"]\n",
    "    relations = [elem for elem in response[\"elements\"] if elem[\"type\"] == \"relation\"]\n",
    "    \n",
    "    \n",
    "# Not sure how well this works - don't yet get the OSMIUM?\n",
    "#import osmium\n",
    "#import shapely.wkb\n",
    "#wkbfab = osmium.geom.WKBFactory()\n",
    "#class WayMerger(osmium.SimpleHandler):\n",
    "#    def area(self, a):\n",
    "#        wkbshape = wkbfab.create_multipolygon(a)\n",
    "#        shapely_obj = shapely.wkb.loads(wkbshape, hex=True)"
   ]
  }
 ],
 "metadata": {
  "kernelspec": {
   "display_name": "Python 3.8.6 64-bit (conda)",
   "language": "python",
   "name": "python38664bitcondaa02632c3747848fca9e6bac7131e6e7e"
  },
  "language_info": {
   "codemirror_mode": {
    "name": "ipython",
    "version": 3
   },
   "file_extension": ".py",
   "mimetype": "text/x-python",
   "name": "python",
   "nbconvert_exporter": "python",
   "pygments_lexer": "ipython3",
   "version": "3.8.6"
  }
 },
 "nbformat": 4,
 "nbformat_minor": 5
}
