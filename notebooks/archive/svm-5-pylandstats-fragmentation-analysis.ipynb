{
 "cells": [
  {
   "cell_type": "markdown",
   "id": "prerequisite-camel",
   "metadata": {},
   "source": [
    "# 1. Imports"
   ]
  },
  {
   "cell_type": "code",
   "execution_count": 1,
   "id": "thick-alexandria",
   "metadata": {
    "execution": {
     "iopub.execute_input": "2021-02-27T18:58:31.330649Z",
     "iopub.status.busy": "2021-02-27T18:58:31.330240Z",
     "iopub.status.idle": "2021-02-27T18:58:41.663297Z",
     "shell.execute_reply": "2021-02-27T18:58:41.662303Z",
     "shell.execute_reply.started": "2021-02-27T18:58:31.330536Z"
    }
   },
   "outputs": [
    {
     "name": "stderr",
     "output_type": "stream",
     "text": [
      "/home/users/svm/Code/gtc-biodiversity/env/lib/python3.8/site-packages/geopandas/_compat.py:84: UserWarning: The Shapely GEOS version (3.8.0-CAPI-1.13.1 ) is incompatible with the GEOS version PyGEOS was compiled with (3.9.0-CAPI-1.16.2). Conversions between both will be slow.\n",
      "  warnings.warn(\n"
     ]
    }
   ],
   "source": [
    "# %load ../jupyter_setup.txt\n",
    "# Convenient jupyter setup\n",
    "%load_ext autoreload\n",
    "%autoreload 2\n",
    "%config IPCompleter.greedy=True\n",
    "%config IPCompleter.use_jedi=False \n",
    "\n",
    "import os\n",
    "import pathlib\n",
    "import logging\n",
    "from typing import Optional, Union\n",
    "import numpy as np\n",
    "import pandas as pd\n",
    "import matplotlib.pyplot as plt\n",
    "from tqdm.notebook import tqdm\n",
    "\n",
    "# Custom utils for rasterio\n",
    "from src.utils import get_byte_size\n",
    "# Path to ESA Landcover datasets on Jasmin\n",
    "from src.constants import ESA_LANDCOVER_DIR, GWS_DATA_DIR, WGS84, UTM35N\n",
    "# For loading geotiff data\n",
    "import rioxarray as rxr\n",
    "# For loading and manipulating vector data\n",
    "import geopandas as gpd\n",
    "# For performing geospatial analysis\n",
    "import pylandstats as pls\n",
    "\n",
    "# Initialise the logging:\n",
    "logger = logging.getLogger()\n",
    "logger.setLevel(logging.INFO)"
   ]
  },
  {
   "cell_type": "markdown",
   "id": "false-detector",
   "metadata": {},
   "source": [
    "# 2. Data loading"
   ]
  },
  {
   "cell_type": "markdown",
   "id": "plain-chicken",
   "metadata": {},
   "source": [
    "## 2.1 ESA CCI Landcover data and classes "
   ]
  },
  {
   "cell_type": "code",
   "execution_count": 50,
   "id": "whole-bandwidth",
   "metadata": {
    "execution": {
     "iopub.execute_input": "2021-02-11T11:07:33.650307Z",
     "iopub.status.busy": "2021-02-11T11:07:33.649898Z",
     "iopub.status.idle": "2021-02-11T11:07:33.908367Z",
     "shell.execute_reply": "2021-02-11T11:07:33.907280Z",
     "shell.execute_reply.started": "2021-02-11T11:07:33.650262Z"
    }
   },
   "outputs": [
    {
     "data": {
      "application/vnd.jupyter.widget-view+json": {
       "model_id": "d2689cc1a1544140b33e1d9779657c73",
       "version_major": 2,
       "version_minor": 0
      },
      "text/plain": [
       "  0%|          | 0/24 [00:00<?, ?it/s]"
      ]
     },
     "metadata": {},
     "output_type": "display_data"
    },
    {
     "name": "stdout",
     "output_type": "stream",
     "text": [
      "There are 38 classes.\n",
      "                                 LCCOwnLabel    R    G    B\n",
      "NB_LAB                                                     \n",
      "0                                    No data    0    0    0\n",
      "10                         Cropland, rainfed  255  255  100\n",
      "11                          Herbaceous cover  255  255  100\n",
      "12                       Tree or shrub cover  255  255    0\n",
      "20      Cropland, irrigated or post-flooding  170  240  240\n"
     ]
    }
   ],
   "source": [
    "esa_cci_landcovers = {year: GWS_DATA_DIR / \"esa_cci_rois\" / f\"esa_cci_{year}_chernobyl.tif\"  \n",
    "                      for year in tqdm(range(1992, 2016))}\n",
    "\n",
    "# Check that paths indeed exist\n",
    "for path in esa_cci_landcovers.values():\n",
    "    assert os.path.exists(path)\n",
    "    \n",
    "# Parse land cover classes:\n",
    "landcover_classes = ESA_LANDCOVER_DIR / \"ESACCI-LC-Legend.csv\"\n",
    "classes = pd.read_csv(landcover_classes, delimiter=\";\", index_col=0)\n",
    "\n",
    "print(f\"There are {len(classes)} classes.\")\n",
    "print(classes.head())"
   ]
  },
  {
   "cell_type": "markdown",
   "id": "international-wholesale",
   "metadata": {},
   "source": [
    "## 2.2 Chernobyl & Polesia ROI"
   ]
  },
  {
   "cell_type": "code",
   "execution_count": 14,
   "id": "large-power",
   "metadata": {
    "execution": {
     "iopub.execute_input": "2021-02-11T10:45:32.647844Z",
     "iopub.status.busy": "2021-02-11T10:45:32.647443Z",
     "iopub.status.idle": "2021-02-11T10:45:38.276400Z",
     "shell.execute_reply": "2021-02-11T10:45:38.275432Z",
     "shell.execute_reply.started": "2021-02-11T10:45:32.647810Z"
    }
   },
   "outputs": [],
   "source": [
    "rois = gpd.read_file(GWS_DATA_DIR / \"chernobyl_exclusion_zone_v1.geojson\")"
   ]
  },
  {
   "cell_type": "code",
   "execution_count": 15,
   "id": "suspected-british",
   "metadata": {
    "execution": {
     "iopub.execute_input": "2021-02-11T10:45:38.291291Z",
     "iopub.status.busy": "2021-02-11T10:45:38.290889Z",
     "iopub.status.idle": "2021-02-11T10:45:38.476552Z",
     "shell.execute_reply": "2021-02-11T10:45:38.475301Z",
     "shell.execute_reply.started": "2021-02-11T10:45:38.291255Z"
    }
   },
   "outputs": [
    {
     "data": {
      "text/html": [
       "<div>\n",
       "<style scoped>\n",
       "    .dataframe tbody tr th:only-of-type {\n",
       "        vertical-align: middle;\n",
       "    }\n",
       "\n",
       "    .dataframe tbody tr th {\n",
       "        vertical-align: top;\n",
       "    }\n",
       "\n",
       "    .dataframe thead th {\n",
       "        text-align: right;\n",
       "    }\n",
       "</style>\n",
       "<table border=\"1\" class=\"dataframe\">\n",
       "  <thead>\n",
       "    <tr style=\"text-align: right;\">\n",
       "      <th></th>\n",
       "      <th>name</th>\n",
       "      <th>area (km2)</th>\n",
       "      <th>geometry</th>\n",
       "    </tr>\n",
       "  </thead>\n",
       "  <tbody>\n",
       "    <tr>\n",
       "      <th>0</th>\n",
       "      <td>bbox</td>\n",
       "      <td>44022.318370</td>\n",
       "      <td>POLYGON ((28.40773 50.54449, 31.41977 50.54449...</td>\n",
       "    </tr>\n",
       "    <tr>\n",
       "      <th>1</th>\n",
       "      <td>E+60</td>\n",
       "      <td>17608.538086</td>\n",
       "      <td>POLYGON ((28.42221 51.16929, 28.42178 51.17077...</td>\n",
       "    </tr>\n",
       "    <tr>\n",
       "      <th>2</th>\n",
       "      <td>E+30</td>\n",
       "      <td>12731.935189</td>\n",
       "      <td>POLYGON ((28.84467 51.21708, 28.84425 51.21856...</td>\n",
       "    </tr>\n",
       "    <tr>\n",
       "      <th>3</th>\n",
       "      <td>Chernobyl Exclusion Zone</td>\n",
       "      <td>2597.858793</td>\n",
       "      <td>GEOMETRYCOLLECTION (MULTIPOLYGON (((29.26795 5...</td>\n",
       "    </tr>\n",
       "    <tr>\n",
       "      <th>4</th>\n",
       "      <td>Polesie Exclusion Zone</td>\n",
       "      <td>2216.675202</td>\n",
       "      <td>GEOMETRYCOLLECTION (MULTIPOLYGON (((29.46530 5...</td>\n",
       "    </tr>\n",
       "    <tr>\n",
       "      <th>5</th>\n",
       "      <td>Nuclear Plant</td>\n",
       "      <td>0.000000</td>\n",
       "      <td>POINT (30.10410 51.38974)</td>\n",
       "    </tr>\n",
       "  </tbody>\n",
       "</table>\n",
       "</div>"
      ],
      "text/plain": [
       "                       name    area (km2)  \\\n",
       "0                      bbox  44022.318370   \n",
       "1                      E+60  17608.538086   \n",
       "2                      E+30  12731.935189   \n",
       "3  Chernobyl Exclusion Zone   2597.858793   \n",
       "4    Polesie Exclusion Zone   2216.675202   \n",
       "5             Nuclear Plant      0.000000   \n",
       "\n",
       "                                            geometry  \n",
       "0  POLYGON ((28.40773 50.54449, 31.41977 50.54449...  \n",
       "1  POLYGON ((28.42221 51.16929, 28.42178 51.17077...  \n",
       "2  POLYGON ((28.84467 51.21708, 28.84425 51.21856...  \n",
       "3  GEOMETRYCOLLECTION (MULTIPOLYGON (((29.26795 5...  \n",
       "4  GEOMETRYCOLLECTION (MULTIPOLYGON (((29.46530 5...  \n",
       "5                          POINT (30.10410 51.38974)  "
      ]
     },
     "execution_count": 15,
     "metadata": {},
     "output_type": "execute_result"
    }
   ],
   "source": [
    "rois"
   ]
  },
  {
   "cell_type": "markdown",
   "id": "enhanced-response",
   "metadata": {},
   "source": [
    "# 3. Data preparation"
   ]
  },
  {
   "cell_type": "markdown",
   "id": "acute-kentucky",
   "metadata": {},
   "source": [
    "## 3.1 Reprojection of raster data to suitable CRS (UTM35)"
   ]
  },
  {
   "cell_type": "code",
   "execution_count": 30,
   "id": "vital-affair",
   "metadata": {
    "execution": {
     "iopub.execute_input": "2021-02-11T10:58:44.342673Z",
     "iopub.status.busy": "2021-02-11T10:58:44.342232Z",
     "iopub.status.idle": "2021-02-11T10:58:50.303352Z",
     "shell.execute_reply": "2021-02-11T10:58:50.302406Z",
     "shell.execute_reply.started": "2021-02-11T10:58:44.342630Z"
    }
   },
   "outputs": [],
   "source": [
    "def preprocess_landcover(year: int, \n",
    "                         roi: Optional[gpd.GeoDataFrame] = None, \n",
    "                         data_files: dict = esa_cci_landcovers,\n",
    "                         target_crs: str = UTM35N,\n",
    "                         meter_per_pixel: int = 300,\n",
    "                         show_plot: bool = False):\n",
    "    \n",
    "    logging.info(\"Loading data\")\n",
    "    data_original = rxr.open_rasterio(data_files[year])\n",
    "    \n",
    "    logging.info(\"Reprojecting\")\n",
    "    data_reprojected = data_original.rio.reproject(target_crs, \n",
    "                                                  resolution=(meter_per_pixel, meter_per_pixel))\n",
    "    \n",
    "    # Show reprojection\n",
    "    if show_plot:\n",
    "        data_reprojected.plot()\n",
    "        plt.show()\n",
    "    \n",
    "    x_res = abs(data_reprojected.x.data[-1] - data_reprojected.x.data[0]) / len(data_reprojected.x.data)\n",
    "    y_res = abs(data_reprojected.y.data[-1] - data_reprojected.y.data[0]) / len(data_reprojected.y.data)\n",
    "    \n",
    "    return {\"data\": data_reprojected,\n",
    "            \"transform\" : data_reprojected.rio.transform(),\n",
    "            \"crs\": target_crs,\n",
    "            \"x_res\": x_res,\n",
    "            \"y_res\": y_res}"
   ]
  },
  {
   "cell_type": "code",
   "execution_count": 33,
   "id": "exterior-melissa",
   "metadata": {
    "execution": {
     "iopub.execute_input": "2021-02-11T11:02:13.178610Z",
     "iopub.status.busy": "2021-02-11T11:02:13.178036Z",
     "iopub.status.idle": "2021-02-11T11:02:15.177775Z",
     "shell.execute_reply": "2021-02-11T11:02:15.174694Z",
     "shell.execute_reply.started": "2021-02-11T11:02:13.178560Z"
    }
   },
   "outputs": [],
   "source": [
    "def processed_landcover_to_landscape(processed_landcover: dict, nodata: int = 0):\n",
    "    return pls.Landscape(processed_landcover[\"data\"].data.squeeze(),\n",
    "                         res = (processed_landcover[\"x_res\"], processed_landcover[\"y_res\"]),\n",
    "                         nodata = nodata, \n",
    "                         transform = processed_landcover[\"transform\"])"
   ]
  },
  {
   "cell_type": "markdown",
   "id": "applied-norway",
   "metadata": {},
   "source": [
    "## 3.2 Defining relevant masks"
   ]
  },
  {
   "cell_type": "markdown",
   "id": "opened-raising",
   "metadata": {},
   "source": [
    "Conveniently done via pylandstats zonal analysis"
   ]
  },
  {
   "cell_type": "markdown",
   "id": "transsexual-characterization",
   "metadata": {},
   "source": [
    "# 4. Fragmentation metric, geospatial analysis"
   ]
  },
  {
   "cell_type": "markdown",
   "id": "wired-thanks",
   "metadata": {},
   "source": [
    "## 4.1 Load landscapes and zones into memory"
   ]
  },
  {
   "cell_type": "code",
   "execution_count": 90,
   "id": "funded-pottery",
   "metadata": {
    "execution": {
     "iopub.execute_input": "2021-02-11T11:39:34.662893Z",
     "iopub.status.busy": "2021-02-11T11:39:34.662352Z",
     "iopub.status.idle": "2021-02-11T11:39:50.757630Z",
     "shell.execute_reply": "2021-02-11T11:39:50.756354Z",
     "shell.execute_reply.started": "2021-02-11T11:39:34.662833Z"
    }
   },
   "outputs": [
    {
     "data": {
      "application/vnd.jupyter.widget-view+json": {
       "model_id": "b0cc673a69c44847a1125c1a3983212f",
       "version_major": 2,
       "version_minor": 0
      },
      "text/plain": [
       "  0%|          | 0/24 [00:00<?, ?it/s]"
      ]
     },
     "metadata": {},
     "output_type": "display_data"
    }
   ],
   "source": [
    "logger.setLevel(logging.WARNING)\n",
    "\n",
    "landscapes = {year: processed_landcover_to_landscape(preprocess_landcover(year))\n",
    "              for year in tqdm(range(1992, 2016))}"
   ]
  },
  {
   "cell_type": "code",
   "execution_count": 91,
   "id": "innocent-integration",
   "metadata": {
    "execution": {
     "iopub.execute_input": "2021-02-11T11:39:50.760032Z",
     "iopub.status.busy": "2021-02-11T11:39:50.759637Z",
     "iopub.status.idle": "2021-02-11T11:39:50.873122Z",
     "shell.execute_reply": "2021-02-11T11:39:50.871923Z",
     "shell.execute_reply.started": "2021-02-11T11:39:50.759983Z"
    }
   },
   "outputs": [
    {
     "data": {
      "text/plain": [
       "'12 MB'"
      ]
     },
     "execution_count": 91,
     "metadata": {},
     "output_type": "execute_result"
    }
   ],
   "source": [
    "get_byte_size(landscapes)"
   ]
  },
  {
   "cell_type": "markdown",
   "id": "boolean-worcester",
   "metadata": {
    "execution": {
     "iopub.execute_input": "2021-02-11T11:39:52.149915Z",
     "iopub.status.busy": "2021-02-11T11:39:52.149396Z",
     "iopub.status.idle": "2021-02-11T11:39:52.285426Z",
     "shell.execute_reply": "2021-02-11T11:39:52.282630Z",
     "shell.execute_reply.started": "2021-02-11T11:39:52.149858Z"
    }
   },
   "source": [
    "It is interesting to note that all landscapes loaded into memroy (without any metrics computed) have 12 MB. \n",
    "After computing all the metrics, we will see that the landscapes grow significantly in size (~factor 20) to \n",
    "about 200 MB"
   ]
  },
  {
   "cell_type": "code",
   "execution_count": 93,
   "id": "future-broadway",
   "metadata": {
    "execution": {
     "iopub.execute_input": "2021-02-11T11:42:59.056975Z",
     "iopub.status.busy": "2021-02-11T11:42:59.056178Z",
     "iopub.status.idle": "2021-02-11T11:43:05.989933Z",
     "shell.execute_reply": "2021-02-11T11:43:05.987192Z",
     "shell.execute_reply.started": "2021-02-11T11:42:59.056915Z"
    }
   },
   "outputs": [
    {
     "data": {
      "application/vnd.jupyter.widget-view+json": {
       "model_id": "20f0215166ad4b289c1acaa226dc0513",
       "version_major": 2,
       "version_minor": 0
      },
      "text/plain": [
       "  0%|          | 0/24 [00:00<?, ?it/s]"
      ]
     },
     "metadata": {},
     "output_type": "display_data"
    }
   ],
   "source": [
    "zonal_analysers = {year: pls.ZonalAnalysis(landscapes[year],\n",
    "                       landscape_crs = UTM35N,\n",
    "                       masks=rois.iloc[1:-1],\n",
    "                       masks_index_col=\"name\") \n",
    "                   for year in tqdm(range(1992,2016))}"
   ]
  },
  {
   "cell_type": "code",
   "execution_count": 94,
   "id": "roman-airline",
   "metadata": {
    "execution": {
     "iopub.execute_input": "2021-02-11T11:43:13.859026Z",
     "iopub.status.busy": "2021-02-11T11:43:13.858653Z",
     "iopub.status.idle": "2021-02-11T11:43:16.734340Z",
     "shell.execute_reply": "2021-02-11T11:43:16.733288Z",
     "shell.execute_reply.started": "2021-02-11T11:43:13.858992Z"
    }
   },
   "outputs": [
    {
     "data": {
      "image/png": "[encoded data removed]",
      "text/plain": [
       "<Figure size 1728x288 with 4 Axes>"
      ]
     },
     "metadata": {
      "needs_background": "light"
     },
     "output_type": "display_data"
    }
   ],
   "source": [
    "zonal_analysers[2015].plot_landscapes();"
   ]
  },
  {
   "cell_type": "markdown",
   "id": "hazardous-disclaimer",
   "metadata": {},
   "source": [
    "## 4.2 Perform computations"
   ]
  },
  {
   "cell_type": "code",
   "execution_count": null,
   "id": "surgical-cannon",
   "metadata": {},
   "outputs": [],
   "source": [
    "# Perform zonal analysis for each yer\n",
    "zonal_class_statistics = {}\n",
    "\n",
    "for year, za in tqdm(zonal_analysers.items()):\n",
    "    zonal_class_statistics[year] = za.compute_class_metrics_df()"
   ]
  },
  {
   "cell_type": "code",
   "execution_count": 98,
   "id": "immune-outdoors",
   "metadata": {
    "execution": {
     "iopub.execute_input": "2021-02-11T13:17:23.330898Z",
     "iopub.status.busy": "2021-02-11T13:17:23.330529Z",
     "iopub.status.idle": "2021-02-11T13:17:26.119046Z",
     "shell.execute_reply": "2021-02-11T13:17:26.117631Z",
     "shell.execute_reply.started": "2021-02-11T13:17:23.330856Z"
    }
   },
   "outputs": [
    {
     "data": {
      "text/plain": [
       "'5 MB'"
      ]
     },
     "execution_count": 98,
     "metadata": {},
     "output_type": "execute_result"
    }
   ],
   "source": [
    "get_byte_size(zonal_class_statistics)"
   ]
  },
  {
   "cell_type": "markdown",
   "id": "acceptable-essay",
   "metadata": {},
   "source": [
    "The zonal computation for 1992-2015 (on one JASMIN SCI 1 CPU) takes 30 min (not parallelized). Output dataframes take up 5MB in space."
   ]
  },
  {
   "cell_type": "code",
   "execution_count": 129,
   "id": "considered-uganda",
   "metadata": {
    "execution": {
     "iopub.execute_input": "2021-02-11T14:52:32.685981Z",
     "iopub.status.busy": "2021-02-11T14:52:32.685341Z",
     "iopub.status.idle": "2021-02-11T14:52:50.616791Z",
     "shell.execute_reply": "2021-02-11T14:52:50.615111Z",
     "shell.execute_reply.started": "2021-02-11T14:52:32.685921Z"
    }
   },
   "outputs": [
    {
     "data": {
      "application/vnd.jupyter.widget-view+json": {
       "model_id": "7f9c321ca9534a33a763b9e5c4ae1881",
       "version_major": 2,
       "version_minor": 0
      },
      "text/plain": [
       "  0%|          | 0/24 [00:00<?, ?it/s]"
      ]
     },
     "metadata": {},
     "output_type": "display_data"
    }
   ],
   "source": [
    "# Save output of analysis\n",
    "save_dir = GWS_DATA_DIR / \"esa_cci_zonal_analysis\"\n",
    "\n",
    "save_dir.mkdir(mode=0o777, exist_ok=True)\n",
    "\n",
    "for year, zonal_analysis_result in tqdm(zonal_class_statistics.items()):\n",
    "    file_name = save_dir / f\"esa_cci_{year}_zonal_analysis_class_statistics.csv\"\n",
    "    \n",
    "    zonal_analysis_result.to_csv(file_name)\n",
    "    file_name.chmod(0o664)  # to allow others to also read and write to these files\n",
    "    \n",
    "    "
   ]
  },
  {
   "cell_type": "markdown",
   "id": "technological-annual",
   "metadata": {},
   "source": [
    "## 5. Convert to Xarray and save"
   ]
  },
  {
   "cell_type": "markdown",
   "id": "framed-biology",
   "metadata": {},
   "source": [
    "Turn results into Xarray for simplear analysis"
   ]
  },
  {
   "cell_type": "code",
   "execution_count": 401,
   "id": "quantitative-review",
   "metadata": {
    "execution": {
     "iopub.execute_input": "2021-02-11T17:22:42.569276Z",
     "iopub.status.busy": "2021-02-11T17:22:42.568726Z",
     "iopub.status.idle": "2021-02-11T17:22:42.931387Z",
     "shell.execute_reply": "2021-02-11T17:22:42.929725Z",
     "shell.execute_reply.started": "2021-02-11T17:22:42.569216Z"
    }
   },
   "outputs": [],
   "source": [
    "# Define xarray axes\n",
    "zones = rois.iloc[1:-1].name.tolist()\n",
    "cci_classes = np.unique([index[0] for index in zonal_analysis_result.index])\n",
    "metrics = zonal_analysis_result.columns.tolist()\n",
    "years = np.arange(1992,2016, dtype=np.uint16)\n",
    "\n",
    "# Reformat data into numpy array\n",
    "raw_data = np.zeros((len(zones), len(cci_classes), len(metrics), len(years)))\n",
    "for year_index, year in enumerate(years):\n",
    "    result = zonal_class_statistics[year]\n",
    "    for landcover_index, landcover in enumerate(cci_classes):\n",
    "        raw_data[:, landcover_index, :, year_index] = result.loc[landcover].values\n",
    "\n",
    "# Wrap numpy array into xarray data array object\n",
    "data = xr.DataArray(raw_data, \n",
    "             coords = [zones, cci_classes, metrics, years],\n",
    "             dims = [\"zone\", \"cci_landcover_class\", \"metric\", \"year\"])\n",
    "\n",
    "# Save data to disk for further analysis\n",
    "full_data_save_path = save_dir / \"esa_cci_zonal_class_analysis_full_data.nc\"\n",
    "\n",
    "if not full_data_save_path.exists()\n",
    "    data.to_netcdf(full_data_save_path)\n",
    "    full_data_save_path.chmod(0o664)"
   ]
  },
  {
   "cell_type": "code",
   "execution_count": 403,
   "id": "controlled-complex",
   "metadata": {
    "execution": {
     "iopub.execute_input": "2021-02-11T17:27:19.157080Z",
     "iopub.status.busy": "2021-02-11T17:27:19.156463Z",
     "iopub.status.idle": "2021-02-11T17:27:21.187562Z",
     "shell.execute_reply": "2021-02-11T17:27:21.185839Z",
     "shell.execute_reply.started": "2021-02-11T17:27:19.157022Z"
    }
   },
   "outputs": [
    {
     "data": {
      "text/html": [
       "<div><svg style=\"position: absolute; width: 0; height: 0; overflow: hidden\">\n",
       "<defs>\n",
       "<symbol id=\"icon-database\" viewBox=\"0 0 32 32\">\n",
       "<path d=\"M16 0c-8.837 0-16 2.239-16 5v4c0 2.761 7.163 5 16 5s16-2.239 16-5v-4c0-2.761-7.163-5-16-5z\"></path>\n",
       "<path d=\"M16 17c-8.837 0-16-2.239-16-5v6c0 2.761 7.163 5 16 5s16-2.239 16-5v-6c0 2.761-7.163 5-16 5z\"></path>\n",
       "<path d=\"M16 26c-8.837 0-16-2.239-16-5v6c0 2.761 7.163 5 16 5s16-2.239 16-5v-6c0 2.761-7.163 5-16 5z\"></path>\n",
       "</symbol>\n",
       "<symbol id=\"icon-file-text2\" viewBox=\"0 0 32 32\">\n",
       "<path d=\"M28.681 7.159c-0.694-0.947-1.662-2.053-2.724-3.116s-2.169-2.030-3.116-2.724c-1.612-1.182-2.393-1.319-2.841-1.319h-15.5c-1.378 0-2.5 1.121-2.5 2.5v27c0 1.378 1.122 2.5 2.5 2.5h23c1.378 0 2.5-1.122 2.5-2.5v-19.5c0-0.448-0.137-1.23-1.319-2.841zM24.543 5.457c0.959 0.959 1.712 1.825 2.268 2.543h-4.811v-4.811c0.718 0.556 1.584 1.309 2.543 2.268zM28 29.5c0 0.271-0.229 0.5-0.5 0.5h-23c-0.271 0-0.5-0.229-0.5-0.5v-27c0-0.271 0.229-0.5 0.5-0.5 0 0 15.499-0 15.5 0v7c0 0.552 0.448 1 1 1h7v19.5z\"></path>\n",
       "<path d=\"M23 26h-14c-0.552 0-1-0.448-1-1s0.448-1 1-1h14c0.552 0 1 0.448 1 1s-0.448 1-1 1z\"></path>\n",
       "<path d=\"M23 22h-14c-0.552 0-1-0.448-1-1s0.448-1 1-1h14c0.552 0 1 0.448 1 1s-0.448 1-1 1z\"></path>\n",
       "<path d=\"M23 18h-14c-0.552 0-1-0.448-1-1s0.448-1 1-1h14c0.552 0 1 0.448 1 1s-0.448 1-1 1z\"></path>\n",
       "</symbol>\n",
       "</defs>\n",
       "</svg>\n",
       "<style>/* CSS stylesheet for displaying xarray objects in jupyterlab.\n",
       " *\n",
       " */\n",
       "\n",
       ":root {\n",
       "  --xr-font-color0: var(--jp-content-font-color0, rgba(0, 0, 0, 1));\n",
       "  --xr-font-color2: var(--jp-content-font-color2, rgba(0, 0, 0, 0.54));\n",
       "  --xr-font-color3: var(--jp-content-font-color3, rgba(0, 0, 0, 0.38));\n",
       "  --xr-border-color: var(--jp-border-color2, #e0e0e0);\n",
       "  --xr-disabled-color: var(--jp-layout-color3, #bdbdbd);\n",
       "  --xr-background-color: var(--jp-layout-color0, white);\n",
       "  --xr-background-color-row-even: var(--jp-layout-color1, white);\n",
       "  --xr-background-color-row-odd: var(--jp-layout-color2, #eeeeee);\n",
       "}\n",
       "\n",
       "html[theme=dark],\n",
       "body.vscode-dark {\n",
       "  --xr-font-color0: rgba(255, 255, 255, 1);\n",
       "  --xr-font-color2: rgba(255, 255, 255, 0.54);\n",
       "  --xr-font-color3: rgba(255, 255, 255, 0.38);\n",
       "  --xr-border-color: #1F1F1F;\n",
       "  --xr-disabled-color: #515151;\n",
       "  --xr-background-color: #111111;\n",
       "  --xr-background-color-row-even: #111111;\n",
       "  --xr-background-color-row-odd: #313131;\n",
       "}\n",
       "\n",
       ".xr-wrap {\n",
       "  display: block;\n",
       "  min-width: 300px;\n",
       "  max-width: 700px;\n",
       "}\n",
       "\n",
       ".xr-text-repr-fallback {\n",
       "  /* fallback to plain text repr when CSS is not injected (untrusted notebook) */\n",
       "  display: none;\n",
       "}\n",
       "\n",
       ".xr-header {\n",
       "  padding-top: 6px;\n",
       "  padding-bottom: 6px;\n",
       "  margin-bottom: 4px;\n",
       "  border-bottom: solid 1px var(--xr-border-color);\n",
       "}\n",
       "\n",
       ".xr-header > div,\n",
       ".xr-header > ul {\n",
       "  display: inline;\n",
       "  margin-top: 0;\n",
       "  margin-bottom: 0;\n",
       "}\n",
       "\n",
       ".xr-obj-type,\n",
       ".xr-array-name {\n",
       "  margin-left: 2px;\n",
       "  margin-right: 10px;\n",
       "}\n",
       "\n",
       ".xr-obj-type {\n",
       "  color: var(--xr-font-color2);\n",
       "}\n",
       "\n",
       ".xr-sections {\n",
       "  padding-left: 0 !important;\n",
       "  display: grid;\n",
       "  grid-template-columns: 150px auto auto 1fr 20px 20px;\n",
       "}\n",
       "\n",
       ".xr-section-item {\n",
       "  display: contents;\n",
       "}\n",
       "\n",
       ".xr-section-item input {\n",
       "  display: none;\n",
       "}\n",
       "\n",
       ".xr-section-item input + label {\n",
       "  color: var(--xr-disabled-color);\n",
       "}\n",
       "\n",
       ".xr-section-item input:enabled + label {\n",
       "  cursor: pointer;\n",
       "  color: var(--xr-font-color2);\n",
       "}\n",
       "\n",
       ".xr-section-item input:enabled + label:hover {\n",
       "  color: var(--xr-font-color0);\n",
       "}\n",
       "\n",
       ".xr-section-summary {\n",
       "  grid-column: 1;\n",
       "  color: var(--xr-font-color2);\n",
       "  font-weight: 500;\n",
       "}\n",
       "\n",
       ".xr-section-summary > span {\n",
       "  display: inline-block;\n",
       "  padding-left: 0.5em;\n",
       "}\n",
       "\n",
       ".xr-section-summary-in:disabled + label {\n",
       "  color: var(--xr-font-color2);\n",
       "}\n",
       "\n",
       ".xr-section-summary-in + label:before {\n",
       "  display: inline-block;\n",
       "  content: '►';\n",
       "  font-size: 11px;\n",
       "  width: 15px;\n",
       "  text-align: center;\n",
       "}\n",
       "\n",
       ".xr-section-summary-in:disabled + label:before {\n",
       "  color: var(--xr-disabled-color);\n",
       "}\n",
       "\n",
       ".xr-section-summary-in:checked + label:before {\n",
       "  content: '▼';\n",
       "}\n",
       "\n",
       ".xr-section-summary-in:checked + label > span {\n",
       "  display: none;\n",
       "}\n",
       "\n",
       ".xr-section-summary,\n",
       ".xr-section-inline-details {\n",
       "  padding-top: 4px;\n",
       "  padding-bottom: 4px;\n",
       "}\n",
       "\n",
       ".xr-section-inline-details {\n",
       "  grid-column: 2 / -1;\n",
       "}\n",
       "\n",
       ".xr-section-details {\n",
       "  display: none;\n",
       "  grid-column: 1 / -1;\n",
       "  margin-bottom: 5px;\n",
       "}\n",
       "\n",
       ".xr-section-summary-in:checked ~ .xr-section-details {\n",
       "  display: contents;\n",
       "}\n",
       "\n",
       ".xr-array-wrap {\n",
       "  grid-column: 1 / -1;\n",
       "  display: grid;\n",
       "  grid-template-columns: 20px auto;\n",
       "}\n",
       "\n",
       ".xr-array-wrap > label {\n",
       "  grid-column: 1;\n",
       "  vertical-align: top;\n",
       "}\n",
       "\n",
       ".xr-preview {\n",
       "  color: var(--xr-font-color3);\n",
       "}\n",
       "\n",
       ".xr-array-preview,\n",
       ".xr-array-data {\n",
       "  padding: 0 5px !important;\n",
       "  grid-column: 2;\n",
       "}\n",
       "\n",
       ".xr-array-data,\n",
       ".xr-array-in:checked ~ .xr-array-preview {\n",
       "  display: none;\n",
       "}\n",
       "\n",
       ".xr-array-in:checked ~ .xr-array-data,\n",
       ".xr-array-preview {\n",
       "  display: inline-block;\n",
       "}\n",
       "\n",
       ".xr-dim-list {\n",
       "  display: inline-block !important;\n",
       "  list-style: none;\n",
       "  padding: 0 !important;\n",
       "  margin: 0;\n",
       "}\n",
       "\n",
       ".xr-dim-list li {\n",
       "  display: inline-block;\n",
       "  padding: 0;\n",
       "  margin: 0;\n",
       "}\n",
       "\n",
       ".xr-dim-list:before {\n",
       "  content: '(';\n",
       "}\n",
       "\n",
       ".xr-dim-list:after {\n",
       "  content: ')';\n",
       "}\n",
       "\n",
       ".xr-dim-list li:not(:last-child):after {\n",
       "  content: ',';\n",
       "  padding-right: 5px;\n",
       "}\n",
       "\n",
       ".xr-has-index {\n",
       "  font-weight: bold;\n",
       "}\n",
       "\n",
       ".xr-var-list,\n",
       ".xr-var-item {\n",
       "  display: contents;\n",
       "}\n",
       "\n",
       ".xr-var-item > div,\n",
       ".xr-var-item label,\n",
       ".xr-var-item > .xr-var-name span {\n",
       "  background-color: var(--xr-background-color-row-even);\n",
       "  margin-bottom: 0;\n",
       "}\n",
       "\n",
       ".xr-var-item > .xr-var-name:hover span {\n",
       "  padding-right: 5px;\n",
       "}\n",
       "\n",
       ".xr-var-list > li:nth-child(odd) > div,\n",
       ".xr-var-list > li:nth-child(odd) > label,\n",
       ".xr-var-list > li:nth-child(odd) > .xr-var-name span {\n",
       "  background-color: var(--xr-background-color-row-odd);\n",
       "}\n",
       "\n",
       ".xr-var-name {\n",
       "  grid-column: 1;\n",
       "}\n",
       "\n",
       ".xr-var-dims {\n",
       "  grid-column: 2;\n",
       "}\n",
       "\n",
       ".xr-var-dtype {\n",
       "  grid-column: 3;\n",
       "  text-align: right;\n",
       "  color: var(--xr-font-color2);\n",
       "}\n",
       "\n",
       ".xr-var-preview {\n",
       "  grid-column: 4;\n",
       "}\n",
       "\n",
       ".xr-var-name,\n",
       ".xr-var-dims,\n",
       ".xr-var-dtype,\n",
       ".xr-preview,\n",
       ".xr-attrs dt {\n",
       "  white-space: nowrap;\n",
       "  overflow: hidden;\n",
       "  text-overflow: ellipsis;\n",
       "  padding-right: 10px;\n",
       "}\n",
       "\n",
       ".xr-var-name:hover,\n",
       ".xr-var-dims:hover,\n",
       ".xr-var-dtype:hover,\n",
       ".xr-attrs dt:hover {\n",
       "  overflow: visible;\n",
       "  width: auto;\n",
       "  z-index: 1;\n",
       "}\n",
       "\n",
       ".xr-var-attrs,\n",
       ".xr-var-data {\n",
       "  display: none;\n",
       "  background-color: var(--xr-background-color) !important;\n",
       "  padding-bottom: 5px !important;\n",
       "}\n",
       "\n",
       ".xr-var-attrs-in:checked ~ .xr-var-attrs,\n",
       ".xr-var-data-in:checked ~ .xr-var-data {\n",
       "  display: block;\n",
       "}\n",
       "\n",
       ".xr-var-data > table {\n",
       "  float: right;\n",
       "}\n",
       "\n",
       ".xr-var-name span,\n",
       ".xr-var-data,\n",
       ".xr-attrs {\n",
       "  padding-left: 25px !important;\n",
       "}\n",
       "\n",
       ".xr-attrs,\n",
       ".xr-var-attrs,\n",
       ".xr-var-data {\n",
       "  grid-column: 1 / -1;\n",
       "}\n",
       "\n",
       "dl.xr-attrs {\n",
       "  padding: 0;\n",
       "  margin: 0;\n",
       "  display: grid;\n",
       "  grid-template-columns: 125px auto;\n",
       "}\n",
       "\n",
       ".xr-attrs dt,\n",
       ".xr-attrs dd {\n",
       "  padding: 0;\n",
       "  margin: 0;\n",
       "  float: left;\n",
       "  padding-right: 10px;\n",
       "  width: auto;\n",
       "}\n",
       "\n",
       ".xr-attrs dt {\n",
       "  font-weight: normal;\n",
       "  grid-column: 1;\n",
       "}\n",
       "\n",
       ".xr-attrs dt:hover span {\n",
       "  display: inline-block;\n",
       "  background: var(--xr-background-color);\n",
       "  padding-right: 10px;\n",
       "}\n",
       "\n",
       ".xr-attrs dd {\n",
       "  grid-column: 2;\n",
       "  white-space: pre-wrap;\n",
       "  word-break: break-all;\n",
       "}\n",
       "\n",
       ".xr-icon-database,\n",
       ".xr-icon-file-text2 {\n",
       "  display: inline-block;\n",
       "  vertical-align: middle;\n",
       "  width: 1em;\n",
       "  height: 1.5em !important;\n",
       "  stroke-width: 0;\n",
       "  stroke: currentColor;\n",
       "  fill: currentColor;\n",
       "}\n",
       "</style><pre class='xr-text-repr-fallback'>&lt;xarray.DataArray (year: 24)&gt;\n",
       "array([56275.09475968, 56265.15176492, 56233.08742106, 57320.6252588 ,\n",
       "       56424.50344157, 57547.94882152, 57546.93171478, 52324.71690765,\n",
       "       52241.99497844, 52028.38971913, 51766.64613224, 51482.04670324,\n",
       "       49860.83947756, 49776.66039719, 49712.2776736 , 49648.77338749,\n",
       "       49508.40912532, 49457.72796208, 49443.81576023, 49425.75426012,\n",
       "       49420.59418538, 49387.15713962, 49336.7018472 , 49336.7018472 ])\n",
       "Coordinates:\n",
       "    zone                 &lt;U24 &#x27;E+60&#x27;\n",
       "    cci_landcover_class  int64 10\n",
       "    metric               &lt;U29 &#x27;effective_mesh_size&#x27;\n",
       "  * year                 (year) uint16 1992 1993 1994 1995 ... 2013 2014 2015</pre><div class='xr-wrap' hidden><div class='xr-header'><div class='xr-obj-type'>xarray.DataArray</div><div class='xr-array-name'></div><ul class='xr-dim-list'><li><span class='xr-has-index'>year</span>: 24</li></ul></div><ul class='xr-sections'><li class='xr-section-item'><div class='xr-array-wrap'><input id='section-f1a8f25c-18e4-4f3b-8c9c-17efc1ed2eea' class='xr-array-in' type='checkbox' checked><label for='section-f1a8f25c-18e4-4f3b-8c9c-17efc1ed2eea' title='Show/hide data repr'><svg class='icon xr-icon-database'><use xlink:href='#icon-database'></use></svg></label><div class='xr-array-preview xr-preview'><span>5.628e+04 5.627e+04 5.623e+04 ... 4.939e+04 4.934e+04 4.934e+04</span></div><div class='xr-array-data'><pre>array([56275.09475968, 56265.15176492, 56233.08742106, 57320.6252588 ,\n",
       "       56424.50344157, 57547.94882152, 57546.93171478, 52324.71690765,\n",
       "       52241.99497844, 52028.38971913, 51766.64613224, 51482.04670324,\n",
       "       49860.83947756, 49776.66039719, 49712.2776736 , 49648.77338749,\n",
       "       49508.40912532, 49457.72796208, 49443.81576023, 49425.75426012,\n",
       "       49420.59418538, 49387.15713962, 49336.7018472 , 49336.7018472 ])</pre></div></div></li><li class='xr-section-item'><input id='section-beb1565a-39b4-48f4-8dad-82afcc74470a' class='xr-section-summary-in' type='checkbox'  checked><label for='section-beb1565a-39b4-48f4-8dad-82afcc74470a' class='xr-section-summary' >Coordinates: <span>(4)</span></label><div class='xr-section-inline-details'></div><div class='xr-section-details'><ul class='xr-var-list'><li class='xr-var-item'><div class='xr-var-name'><span>zone</span></div><div class='xr-var-dims'>()</div><div class='xr-var-dtype'>&lt;U24</div><div class='xr-var-preview xr-preview'>&#x27;E+60&#x27;</div><input id='attrs-fdc0e8e2-53df-4200-9dae-e3b5b67978d7' class='xr-var-attrs-in' type='checkbox' disabled><label for='attrs-fdc0e8e2-53df-4200-9dae-e3b5b67978d7' title='Show/Hide attributes'><svg class='icon xr-icon-file-text2'><use xlink:href='#icon-file-text2'></use></svg></label><input id='data-294a1234-a3ee-4de3-ae51-8dd871dd2132' class='xr-var-data-in' type='checkbox'><label for='data-294a1234-a3ee-4de3-ae51-8dd871dd2132' title='Show/Hide data repr'><svg class='icon xr-icon-database'><use xlink:href='#icon-database'></use></svg></label><div class='xr-var-attrs'><dl class='xr-attrs'></dl></div><div class='xr-var-data'><pre>array(&#x27;E+60&#x27;, dtype=&#x27;&lt;U24&#x27;)</pre></div></li><li class='xr-var-item'><div class='xr-var-name'><span>cci_landcover_class</span></div><div class='xr-var-dims'>()</div><div class='xr-var-dtype'>int64</div><div class='xr-var-preview xr-preview'>10</div><input id='attrs-240805ad-001a-420d-9c1b-6a74d23abf64' class='xr-var-attrs-in' type='checkbox' disabled><label for='attrs-240805ad-001a-420d-9c1b-6a74d23abf64' title='Show/Hide attributes'><svg class='icon xr-icon-file-text2'><use xlink:href='#icon-file-text2'></use></svg></label><input id='data-c51dc829-9797-4aaf-a57a-8c28c4106fa1' class='xr-var-data-in' type='checkbox'><label for='data-c51dc829-9797-4aaf-a57a-8c28c4106fa1' title='Show/Hide data repr'><svg class='icon xr-icon-database'><use xlink:href='#icon-database'></use></svg></label><div class='xr-var-attrs'><dl class='xr-attrs'></dl></div><div class='xr-var-data'><pre>array(10)</pre></div></li><li class='xr-var-item'><div class='xr-var-name'><span>metric</span></div><div class='xr-var-dims'>()</div><div class='xr-var-dtype'>&lt;U29</div><div class='xr-var-preview xr-preview'>&#x27;effective_mesh_size&#x27;</div><input id='attrs-7287bb99-8930-42e9-a1c1-f6d1599b943c' class='xr-var-attrs-in' type='checkbox' disabled><label for='attrs-7287bb99-8930-42e9-a1c1-f6d1599b943c' title='Show/Hide attributes'><svg class='icon xr-icon-file-text2'><use xlink:href='#icon-file-text2'></use></svg></label><input id='data-42457a23-6150-4e40-b353-f55a75f891fb' class='xr-var-data-in' type='checkbox'><label for='data-42457a23-6150-4e40-b353-f55a75f891fb' title='Show/Hide data repr'><svg class='icon xr-icon-database'><use xlink:href='#icon-database'></use></svg></label><div class='xr-var-attrs'><dl class='xr-attrs'></dl></div><div class='xr-var-data'><pre>array(&#x27;effective_mesh_size&#x27;, dtype=&#x27;&lt;U29&#x27;)</pre></div></li><li class='xr-var-item'><div class='xr-var-name'><span class='xr-has-index'>year</span></div><div class='xr-var-dims'>(year)</div><div class='xr-var-dtype'>uint16</div><div class='xr-var-preview xr-preview'>1992 1993 1994 ... 2013 2014 2015</div><input id='attrs-4b3d16ac-7041-4ef5-bab7-b1cf5f3bc151' class='xr-var-attrs-in' type='checkbox' disabled><label for='attrs-4b3d16ac-7041-4ef5-bab7-b1cf5f3bc151' title='Show/Hide attributes'><svg class='icon xr-icon-file-text2'><use xlink:href='#icon-file-text2'></use></svg></label><input id='data-0208e1d2-bbb6-4a79-b773-fc7d98768dcb' class='xr-var-data-in' type='checkbox'><label for='data-0208e1d2-bbb6-4a79-b773-fc7d98768dcb' title='Show/Hide data repr'><svg class='icon xr-icon-database'><use xlink:href='#icon-database'></use></svg></label><div class='xr-var-attrs'><dl class='xr-attrs'></dl></div><div class='xr-var-data'><pre>array([1992, 1993, 1994, 1995, 1996, 1997, 1998, 1999, 2000, 2001, 2002, 2003,\n",
       "       2004, 2005, 2006, 2007, 2008, 2009, 2010, 2011, 2012, 2013, 2014, 2015],\n",
       "      dtype=uint16)</pre></div></li></ul></div></li><li class='xr-section-item'><input id='section-ed4b8cf2-a0cc-4894-aa5f-68b088d3159c' class='xr-section-summary-in' type='checkbox' disabled ><label for='section-ed4b8cf2-a0cc-4894-aa5f-68b088d3159c' class='xr-section-summary'  title='Expand/collapse section'>Attributes: <span>(0)</span></label><div class='xr-section-inline-details'></div><div class='xr-section-details'><dl class='xr-attrs'></dl></div></li></ul></div></div>"
      ],
      "text/plain": [
       "<xarray.DataArray (year: 24)>\n",
       "array([56275.09475968, 56265.15176492, 56233.08742106, 57320.6252588 ,\n",
       "       56424.50344157, 57547.94882152, 57546.93171478, 52324.71690765,\n",
       "       52241.99497844, 52028.38971913, 51766.64613224, 51482.04670324,\n",
       "       49860.83947756, 49776.66039719, 49712.2776736 , 49648.77338749,\n",
       "       49508.40912532, 49457.72796208, 49443.81576023, 49425.75426012,\n",
       "       49420.59418538, 49387.15713962, 49336.7018472 , 49336.7018472 ])\n",
       "Coordinates:\n",
       "    zone                 <U24 'E+60'\n",
       "    cci_landcover_class  int64 10\n",
       "    metric               <U29 'effective_mesh_size'\n",
       "  * year                 (year) uint16 1992 1993 1994 1995 ... 2013 2014 2015"
      ]
     },
     "execution_count": 403,
     "metadata": {},
     "output_type": "execute_result"
    }
   ],
   "source": [
    "data.loc[{\"zone\":\"E+60\", \n",
    "          \"cci_landcover_class\":10, \n",
    "          \"metric\": \"effective_mesh_size\"}]"
   ]
  },
  {
   "cell_type": "code",
   "execution_count": 393,
   "id": "comparative-raising",
   "metadata": {
    "execution": {
     "iopub.execute_input": "2021-02-11T17:20:26.024367Z",
     "iopub.status.busy": "2021-02-11T17:20:26.023926Z",
     "iopub.status.idle": "2021-02-11T17:20:26.129809Z",
     "shell.execute_reply": "2021-02-11T17:20:26.126024Z",
     "shell.execute_reply.started": "2021-02-11T17:20:26.024320Z"
    }
   },
   "outputs": [],
   "source": [
    "def display_class_metric(zone: str, \n",
    "                         landcover_class: Union[int, str], \n",
    "                         metrics: str,\n",
    "                         fig = None, \n",
    "                         **kwargs):\n",
    "    \n",
    "    '''Plot the temporal variation of class metrics for different class value'''\n",
    "    # Input parsing        \n",
    "    if isinstance(metrics, str):\n",
    "        metrics = [metrics]\n",
    "        \n",
    "    if isinstance(landcover_class, str):\n",
    "        # Deal with string labels\n",
    "        assert landcover_class in classes.LCCOwnLabel.values\n",
    "        landcover_class = classes[classes.LCCOwnLabel == landcover_class].index[0]\n",
    "    \n",
    "    # Create figure if necessary\n",
    "    if not fig:\n",
    "        plt.figure(figsize=(5,2))\n",
    "        \n",
    "    for metric in metrics:\n",
    "        metric_name = metric.replace(\"_\", \" \").capitalize()\n",
    "        class_name = classes.loc[landcover_class].LCCOwnLabel\n",
    "        \n",
    "        plot_title = f\"{metric_name}: {class_name}({landcover_class})\\n {zone}\"\n",
    "        \n",
    "        plt.title(plot_title)\n",
    "        \n",
    "        plt.plot(data.year, \n",
    "                 data.loc[zone, landcover_class, metric, :],\n",
    "                 linestyle=\"dashed\",\n",
    "                 marker=\".\")"
   ]
  }
 ],
 "metadata": {
  "kernelspec": {
   "display_name": "Python 3.8.6 64-bit (conda)",
   "language": "python",
   "name": "python38664bitcondaa02632c3747848fca9e6bac7131e6e7e"
  },
  "language_info": {
   "codemirror_mode": {
    "name": "ipython",
    "version": 3
   },
   "file_extension": ".py",
   "mimetype": "text/x-python",
   "name": "python",
   "nbconvert_exporter": "python",
   "pygments_lexer": "ipython3",
   "version": "3.8.6"
  }
 },
 "nbformat": 4,
 "nbformat_minor": 5
}
