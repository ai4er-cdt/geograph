{
 "cells": [
  {
   "cell_type": "markdown",
   "id": "faced-former",
   "metadata": {},
   "source": [
    "# Introduction to `GeoGraph`"
   ]
  },
  {
   "cell_type": "markdown",
   "id": "medical-sacrifice",
   "metadata": {},
   "source": [
    "---\n",
    "\n",
    "## 0. Setup and Loading package"
   ]
  },
  {
   "cell_type": "code",
   "execution_count": null,
   "id": "covered-mountain",
   "metadata": {},
   "outputs": [],
   "source": [
    "%load_ext autoreload\n",
    "%autoreload 2\n",
    "%config IPCompleter.greedy=True"
   ]
  },
  {
   "cell_type": "code",
   "execution_count": null,
   "id": "facial-picnic",
   "metadata": {},
   "outputs": [],
   "source": [
    "import ipyleaflet\n",
    "\n",
    "from src import geograph\n",
    "from src.visualisation import geoviewer\n",
    "from src.constants import UTM35N"
   ]
  },
  {
   "cell_type": "markdown",
   "id": "possible-greenhouse",
   "metadata": {},
   "source": [
    "---\n",
    "\n",
    "## 1. Loading Data"
   ]
  },
  {
   "cell_type": "code",
   "execution_count": null,
   "id": "complimentary-involvement",
   "metadata": {},
   "outputs": [],
   "source": []
  },
  {
   "cell_type": "code",
   "execution_count": null,
   "id": "thirty-ireland",
   "metadata": {},
   "outputs": [],
   "source": [
    "import pathlib\n",
    "import geopandas as gpd\n",
    "\n",
    "# Loading Polesia data set from shared Jasmin folder\n",
    "GWS_DATA_DIR = pathlib.Path(\n",
    "    \"/gws/nopw/j04/ai4er/guided-team-challenge/2021/biodiversity\"\n",
    ")\n",
    "data_path = GWS_DATA_DIR / \"chernobyl_habitat_data\" / \"Biotope_EUNIS_ver1.shp\"\n",
    "gdf = gpd.read_file(data_path)\n",
    "\n",
    "# Looking at south-west corner of data\n",
    "# Choosen because are of wilderness as discussed\n",
    "minx, miny, maxx, maxy = gdf.total_bounds\n",
    "square_len = 25000\n",
    "\n",
    "gdf = gdf.cx[ minx:minx+square_len  ,  miny:miny+square_len]\n",
    "\n",
    "print(\"Number of patches in region of interest:\", len(gdf))\n",
    "gdf.plot()\n",
    "gdf.head(5)"
   ]
  },
  {
   "cell_type": "markdown",
   "id": "dedicated-million",
   "metadata": {},
   "source": [
    "---\n",
    "\n",
    "## 2. Creating `GeoGraph`"
   ]
  },
  {
   "cell_type": "code",
   "execution_count": null,
   "id": "worst-breeding",
   "metadata": {},
   "outputs": [],
   "source": [
    "# Building the main graph structure\n",
    "graph = geograph.GeoGraph(gdf, \n",
    "                          crs=UTM35N, \n",
    "                          columns_to_rename={\"Eunis_name\":\"class_label\",\"AREA\":\"area\"})"
   ]
  },
  {
   "cell_type": "markdown",
   "id": "completed-music",
   "metadata": {},
   "source": [
    "---\n",
    "\n",
    "## 3. Creating Habitats"
   ]
  },
  {
   "cell_type": "code",
   "execution_count": null,
   "id": "laughing-instruction",
   "metadata": {},
   "outputs": [],
   "source": [
    "# First selecting the classes that make up our habitat\n",
    "# We chose all classes with 'pine' in the name.\n",
    "pine_classes = [label for label in graph.df.class_label.unique() if 'pine' in label]\n",
    "pine_classes"
   ]
  },
  {
   "cell_type": "code",
   "execution_count": null,
   "id": "spoken-portland",
   "metadata": {},
   "outputs": [],
   "source": [
    "# Proposed distance from email: mobile (<100m), semi mobile (<25m) and sessile (<5m)\n",
    "graph.add_habitat('Sessile', \n",
    "                  max_travel_distance=5, \n",
    "                  valid_classes=pine_classes)\n",
    "\n",
    "graph.add_habitat('Semi mobile', \n",
    "                  max_travel_distance=25, \n",
    "                  valid_classes=pine_classes)\n",
    "\n",
    "graph.add_habitat('Mobile',\n",
    "                  max_travel_distance=500, \n",
    "                  valid_classes=pine_classes)"
   ]
  },
  {
   "cell_type": "markdown",
   "id": "cognitive-angola",
   "metadata": {},
   "source": [
    "---\n",
    "\n",
    "## 4. Interactive Graph"
   ]
  },
  {
   "cell_type": "code",
   "execution_count": null,
   "id": "suburban-pension",
   "metadata": {},
   "outputs": [],
   "source": [
    "viewer = geoviewer.GeoGraphViewer(small_screen=True)\n",
    "viewer.add_layer(ipyleaflet.basemaps.Esri.WorldImagery)\n",
    "viewer.add_graph(graph, name='Polesia data')\n",
    "viewer.enable_graph_controls()\n",
    "viewer"
   ]
  },
  {
   "cell_type": "markdown",
   "id": "threaded-riverside",
   "metadata": {},
   "source": [
    "### Things to consider in GeoGraphViewer\n",
    "- How `max_travel_distance` affects the number of components in habitat"
   ]
  },
  {
   "cell_type": "markdown",
   "id": "black-speed",
   "metadata": {},
   "source": [
    "## 5. Next Steps\n",
    "\n",
    "See questions doc..."
   ]
  },
  {
   "cell_type": "code",
   "execution_count": null,
   "id": "wanted-queen",
   "metadata": {},
   "outputs": [],
   "source": []
  }
 ],
 "metadata": {
  "kernelspec": {
   "display_name": "Python 3",
   "language": "python",
   "name": "python3"
  },
  "language_info": {
   "codemirror_mode": {
    "name": "ipython",
    "version": 3
   },
   "file_extension": ".py",
   "mimetype": "text/x-python",
   "name": "python",
   "nbconvert_exporter": "python",
   "pygments_lexer": "ipython3",
   "version": "3.8.8"
  }
 },
 "nbformat": 4,
 "nbformat_minor": 5
}
