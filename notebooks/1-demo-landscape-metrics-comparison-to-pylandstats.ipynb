{
 "cells": [
  {
   "cell_type": "code",
   "execution_count": null,
   "id": "prepared-hanging",
   "metadata": {
    "ExecuteTime": {
     "end_time": "2021-03-22T15:44:44.206853Z",
     "start_time": "2021-03-22T15:44:44.114578Z"
    },
    "execution": {
     "iopub.execute_input": "2021-03-17T23:15:25.563200Z",
     "iopub.status.busy": "2021-03-17T23:15:25.562989Z",
     "iopub.status.idle": "2021-03-17T23:15:25.595325Z",
     "shell.execute_reply": "2021-03-17T23:15:25.594995Z",
     "shell.execute_reply.started": "2021-03-17T23:15:25.563127Z"
    }
   },
   "outputs": [],
   "source": [
    "# %load ../jupyter_setup.txt\n",
    "# Convenient jupyter setup\n",
    "%load_ext autoreload\n",
    "%autoreload 2\n",
    "%config IPCompleter.greedy=True\n",
    "%config IPCompleter.use_jedi=False "
   ]
  },
  {
   "cell_type": "markdown",
   "id": "reasonable-milwaukee",
   "metadata": {},
   "source": [
    "# 1. Imports"
   ]
  },
  {
   "cell_type": "code",
   "execution_count": null,
   "id": "hired-workplace",
   "metadata": {
    "ExecuteTime": {
     "end_time": "2021-03-22T15:47:16.662627Z",
     "start_time": "2021-03-22T15:47:16.587094Z"
    },
    "execution": {
     "iopub.execute_input": "2021-03-17T23:15:25.595919Z",
     "iopub.status.busy": "2021-03-17T23:15:25.595814Z",
     "iopub.status.idle": "2021-03-17T23:15:28.929855Z",
     "shell.execute_reply": "2021-03-17T23:15:28.929274Z",
     "shell.execute_reply.started": "2021-03-17T23:15:25.595904Z"
    }
   },
   "outputs": [],
   "source": [
    "import matplotlib.pyplot as plt\n",
    "\n",
    "import numpy as np\n",
    "import pandas as pd\n",
    "\n",
    "import rioxarray as rxr\n",
    "import geopandas as gpd\n",
    "\n",
    "import pylandstats as pls\n",
    "\n",
    "from src.geograph import GeoGraph\n",
    "from src.constants import DATA_DIR, UTM35N, ROIS\n",
    "\n",
    "# Parse geotif landcover data\n",
    "chernobyl_path = lambda year: DATA_DIR / \"chernobyl\" / \"esa_cci\" / f\"esa_cci_{year}_chernobyl.tif\" \n",
    "\n",
    "# Parse ROIS\n",
    "rois = gpd.read_file(ROIS)\n",
    "cez = rois[rois[\"name\"] == \"Chernobyl Exclusion Zone\"]"
   ]
  },
  {
   "cell_type": "markdown",
   "id": "municipal-participation",
   "metadata": {},
   "source": [
    "# 2. Loading Chernobyl Landcover data (ESA CCI)"
   ]
  },
  {
   "cell_type": "markdown",
   "id": "transsexual-clone",
   "metadata": {},
   "source": [
    "For this demonstration we will use the ESA CCI landcover dataset as an example to illustrate how\n",
    "geographs enable us to reproduce the same metrics that traditional fragmentation software (pylandstats, fragstats)\n",
    "produce."
   ]
  },
  {
   "cell_type": "markdown",
   "id": "commercial-bradley",
   "metadata": {},
   "source": [
    "In this demo we will look specifically at the Chernobyl exclusion zone, so we reproject the satellite data to the right coordinate\n",
    "system (UTM35N) and clip to the CEZ region of interest)."
   ]
  },
  {
   "cell_type": "code",
   "execution_count": null,
   "id": "sensitive-status",
   "metadata": {
    "execution": {
     "iopub.execute_input": "2021-03-17T23:15:28.930732Z",
     "iopub.status.busy": "2021-03-17T23:15:28.930610Z",
     "iopub.status.idle": "2021-03-17T23:15:28.957275Z",
     "shell.execute_reply": "2021-03-17T23:15:28.956684Z",
     "shell.execute_reply.started": "2021-03-17T23:15:28.930715Z"
    }
   },
   "outputs": [],
   "source": [
    "def clip_and_reproject(xrdata, clip_geometry=None, to_crs=UTM35N, x_res=300, y_res=300):\n",
    "    \n",
    "    if clip_geometry is not None:\n",
    "        clipped_data = xrdata.rio.clip(clip_geometry)\n",
    "    else:\n",
    "        clipped_data = xrdata\n",
    "        \n",
    "    if to_crs is not None:\n",
    "        reprojected_data = clipped_data.rio.reproject(to_crs, resolution=(x_res, y_res))\n",
    "    else:\n",
    "        reprojected_data = clipped_data\n",
    "    \n",
    "    return reprojected_data"
   ]
  },
  {
   "cell_type": "code",
   "execution_count": null,
   "id": "necessary-interpretation",
   "metadata": {
    "execution": {
     "iopub.execute_input": "2021-03-17T23:15:28.958136Z",
     "iopub.status.busy": "2021-03-17T23:15:28.958017Z",
     "iopub.status.idle": "2021-03-17T23:15:29.941237Z",
     "shell.execute_reply": "2021-03-17T23:15:29.940724Z",
     "shell.execute_reply.started": "2021-03-17T23:15:28.958120Z"
    }
   },
   "outputs": [],
   "source": [
    "# Loading raster data\n",
    "cez_raster_2015 = clip_and_reproject(rxr.open_rasterio(chernobyl_path(2015)), clip_geometry=cez.geometry)\n",
    "\n",
    "# Plot the data\n",
    "fig, ax = plt.subplots(1, figsize=(6, 3))\n",
    "cez_raster_2015.plot(cmap=\"viridis\", ax=ax);"
   ]
  },
  {
   "cell_type": "code",
   "execution_count": null,
   "id": "alike-recall",
   "metadata": {
    "execution": {
     "iopub.execute_input": "2021-03-17T23:15:29.942228Z",
     "iopub.status.busy": "2021-03-17T23:15:29.942099Z",
     "iopub.status.idle": "2021-03-17T23:15:44.761397Z",
     "shell.execute_reply": "2021-03-17T23:15:44.760970Z",
     "shell.execute_reply.started": "2021-03-17T23:15:29.942211Z"
    }
   },
   "outputs": [],
   "source": [
    "# Load geograph from the raster data (construction takes ~10s)\n",
    "cez_graph_2015 = GeoGraph(data=cez_raster_2015.data, \n",
    "                          transform=cez_raster_2015.rio.transform(), \n",
    "                          mask=cez_raster_2015.data > 0,\n",
    "                          crs=UTM35N, \n",
    "                          connectivity=8)\n",
    "\n",
    "# Visualize geograph\n",
    "fig, ax = plt.subplots(1, figsize=(6,3))\n",
    "cez_graph_2015.df.plot(\"class_label\", ax=ax, edgecolor=\"grey\");"
   ]
  },
  {
   "cell_type": "markdown",
   "id": "found-inclusion",
   "metadata": {},
   "source": [
    "Next, we can calculate the metrics for this GeoGraph. "
   ]
  },
  {
   "cell_type": "markdown",
   "id": "featured-christopher",
   "metadata": {},
   "source": [
    "# 3. Investigating metrics"
   ]
  },
  {
   "cell_type": "markdown",
   "id": "nutritional-mounting",
   "metadata": {},
   "source": [
    "Let us now investigate a couple of the standard metrics that are used in landscape ecology.\n",
    "By default GeoGraph always uses the metrics of the CRS system that the data is in, so\n",
    "meters in our case of UTM35N.\n",
    "\n",
    "Conveniently, GeoGraph includes the units for us under the \"unit\" parameter."
   ]
  },
  {
   "cell_type": "markdown",
   "id": "every-hobby",
   "metadata": {},
   "source": [
    "### 3.1 Landscape level metrics"
   ]
  },
  {
   "cell_type": "code",
   "execution_count": null,
   "id": "sticky-boutique",
   "metadata": {
    "execution": {
     "iopub.execute_input": "2021-03-17T23:15:44.762757Z",
     "iopub.status.busy": "2021-03-17T23:15:44.762634Z",
     "iopub.status.idle": "2021-03-17T23:15:44.793192Z",
     "shell.execute_reply": "2021-03-17T23:15:44.792830Z",
     "shell.execute_reply.started": "2021-03-17T23:15:44.762740Z"
    }
   },
   "outputs": [],
   "source": [
    "# Calculating the landscape total area\n",
    "cez_graph_2015.get_metric(\"total_area\", class_value=11)"
   ]
  },
  {
   "cell_type": "code",
   "execution_count": null,
   "id": "executed-cambodia",
   "metadata": {
    "execution": {
     "iopub.execute_input": "2021-03-17T23:15:44.794012Z",
     "iopub.status.busy": "2021-03-17T23:15:44.793889Z",
     "iopub.status.idle": "2021-03-17T23:15:44.823694Z",
     "shell.execute_reply": "2021-03-17T23:15:44.823331Z",
     "shell.execute_reply.started": "2021-03-17T23:15:44.793997Z"
    }
   },
   "outputs": [],
   "source": [
    "# Calculating the landscape shannon index\n",
    "cez_graph_2015.get_metric(\"shannon_diversity_index\")"
   ]
  },
  {
   "cell_type": "code",
   "execution_count": null,
   "id": "affected-jenny",
   "metadata": {
    "execution": {
     "iopub.execute_input": "2021-03-17T23:15:44.824363Z",
     "iopub.status.busy": "2021-03-17T23:15:44.824248Z",
     "iopub.status.idle": "2021-03-17T23:15:44.846888Z",
     "shell.execute_reply": "2021-03-17T23:15:44.846564Z",
     "shell.execute_reply.started": "2021-03-17T23:15:44.824347Z"
    }
   },
   "outputs": [],
   "source": [
    "# Calculating the landscape simpson diversity index\n",
    "cez_graph_2015.get_metric(\"simpson_diversity_index\")"
   ]
  },
  {
   "cell_type": "markdown",
   "id": "transparent-submission",
   "metadata": {},
   "source": [
    "#### 3.1.1 Comparison to pylandstats landscape level metrics\n",
    "\n",
    "\n",
    "To convince us that these metrics are sensible, we compare to the python implementation [pylandstats](https://pylandstats.readthedocs.io/en/latest/index.html) of the popular FRAGSTATS package.\n",
    "As we will see, GeoGraphs allow us to compute (almost - currently only limited by our time for implementing them) any metric that pylandstas supports. We will also see that the metrics agree, if we note the Caveat that pylandtats uses hecatres as base unit for computations, while GeoGraph uses the unit of the CRS of the underlying data (meters in our case of `UTM35N`)."
   ]
  },
  {
   "cell_type": "code",
   "execution_count": null,
   "id": "standard-seafood",
   "metadata": {
    "execution": {
     "iopub.execute_input": "2021-03-17T23:15:44.847508Z",
     "iopub.status.busy": "2021-03-17T23:15:44.847391Z",
     "iopub.status.idle": "2021-03-17T23:15:44.869429Z",
     "shell.execute_reply": "2021-03-17T23:15:44.869127Z",
     "shell.execute_reply.started": "2021-03-17T23:15:44.847492Z"
    }
   },
   "outputs": [],
   "source": [
    "import pylandstats as pls\n",
    "\n",
    "cez_landscape_2015 = pls.Landscape(cez_raster_2015.data.squeeze(), res=(300,300) , nodata=0)"
   ]
  },
  {
   "cell_type": "code",
   "execution_count": null,
   "id": "talented-military",
   "metadata": {
    "execution": {
     "iopub.execute_input": "2021-03-17T00:01:52.378182Z",
     "iopub.status.busy": "2021-03-17T00:01:52.377974Z",
     "iopub.status.idle": "2021-03-17T00:01:52.406163Z",
     "shell.execute_reply": "2021-03-17T00:01:52.405849Z",
     "shell.execute_reply.started": "2021-03-17T00:01:52.378163Z"
    }
   },
   "outputs": [],
   "source": [
    "print(\"Shannon diversity index:\")\n",
    "print(f\"\\t Pylandstats: {cez_landscape_2015.shannon_diversity_index()}\")\n",
    "print(f\"\\t Geograph:    {cez_graph_2015.get_metric('shannon_diversity_index').value}\")"
   ]
  },
  {
   "cell_type": "code",
   "execution_count": null,
   "id": "retired-toyota",
   "metadata": {
    "execution": {
     "iopub.execute_input": "2021-03-17T00:03:22.720142Z",
     "iopub.status.busy": "2021-03-17T00:03:22.719932Z",
     "iopub.status.idle": "2021-03-17T00:03:22.745787Z",
     "shell.execute_reply": "2021-03-17T00:03:22.745254Z",
     "shell.execute_reply.started": "2021-03-17T00:03:22.720123Z"
    }
   },
   "outputs": [],
   "source": [
    "print(\"Total area:\")\n",
    "print(f\"\\t Pylandstats: {cez_landscape_2015.total_area()} ha\")\n",
    "print(f\"\\t Geograph:    {cez_graph_2015.get_metric('total_area').value} meter^2\")"
   ]
  },
  {
   "cell_type": "markdown",
   "id": "bacterial-gossip",
   "metadata": {},
   "source": [
    "### 3.2 Class level metrics"
   ]
  },
  {
   "cell_type": "markdown",
   "id": "electric-particle",
   "metadata": {},
   "source": [
    "On top of landscape level metrics, we might be interested in how different landcover classes are distributed across the landscape. For this purpose we can use class level metrics:"
   ]
  },
  {
   "cell_type": "markdown",
   "id": "behind-willow",
   "metadata": {},
   "source": [
    "For a geograph, we can request the metrics individually via the `get_metrics` method as before. If we want to have several metrics for multiple classes, we can also take the `get_class_metrics` shortcut. \n",
    "GeoGraph caches the computations under the hood to speed up future computations."
   ]
  },
  {
   "cell_type": "code",
   "execution_count": null,
   "id": "double-tiffany",
   "metadata": {
    "execution": {
     "iopub.execute_input": "2021-03-17T00:08:55.807867Z",
     "iopub.status.busy": "2021-03-17T00:08:55.807669Z",
     "iopub.status.idle": "2021-03-17T00:08:56.394229Z",
     "shell.execute_reply": "2021-03-17T00:08:56.393927Z",
     "shell.execute_reply.started": "2021-03-17T00:08:55.807850Z"
    }
   },
   "outputs": [],
   "source": [
    "cez_graph_2015.get_metric(\"proportion_of_landscape\", class_value=10)"
   ]
  },
  {
   "cell_type": "code",
   "execution_count": null,
   "id": "contemporary-vienna",
   "metadata": {
    "execution": {
     "iopub.execute_input": "2021-03-17T00:10:16.164053Z",
     "iopub.status.busy": "2021-03-17T00:10:16.163842Z",
     "iopub.status.idle": "2021-03-17T00:10:17.532391Z",
     "shell.execute_reply": "2021-03-17T00:10:17.532070Z",
     "shell.execute_reply.started": "2021-03-17T00:10:16.164035Z"
    }
   },
   "outputs": [],
   "source": [
    "cez_graph_2015.get_class_metrics(names = [\"num_patches\", \"effective_mesh_size\"], classes=[10,11,210])"
   ]
  },
  {
   "cell_type": "markdown",
   "id": "hazardous-evaluation",
   "metadata": {},
   "source": [
    "To get all metrics, simply omit the arguments."
   ]
  },
  {
   "cell_type": "code",
   "execution_count": null,
   "id": "instant-default",
   "metadata": {
    "execution": {
     "iopub.execute_input": "2021-03-17T00:10:19.013900Z",
     "iopub.status.busy": "2021-03-17T00:10:19.013721Z",
     "iopub.status.idle": "2021-03-17T00:10:19.049375Z",
     "shell.execute_reply": "2021-03-17T00:10:19.049005Z",
     "shell.execute_reply.started": "2021-03-17T00:10:19.013884Z"
    }
   },
   "outputs": [],
   "source": [
    "cez_graph_2015.get_class_metrics()"
   ]
  },
  {
   "cell_type": "markdown",
   "id": "stopped-consolidation",
   "metadata": {},
   "source": [
    "Let's compare with pylandstats to check the correctness of the metrics:"
   ]
  },
  {
   "cell_type": "code",
   "execution_count": null,
   "id": "returning-knitting",
   "metadata": {
    "execution": {
     "iopub.execute_input": "2021-03-17T00:06:26.433617Z",
     "iopub.status.busy": "2021-03-17T00:06:26.433412Z",
     "iopub.status.idle": "2021-03-17T00:06:27.909126Z",
     "shell.execute_reply": "2021-03-17T00:06:27.908802Z",
     "shell.execute_reply.started": "2021-03-17T00:06:26.433598Z"
    }
   },
   "outputs": [],
   "source": [
    "pls_class_metrics = [\n",
    "    'number_of_patches',\n",
    "     'area_mn',\n",
    "     'total_area',\n",
    "     'proportion_of_landscape',\n",
    "     'patch_density',\n",
    "     'largest_patch_index',\n",
    "     'total_edge',\n",
    "     'effective_mesh_size'\n",
    "]\n",
    "\n",
    "pls_metrics = cez_landscape_2015.compute_class_metrics_df(metrics=pls_class_metrics, classes=cez_graph_2015.classes)\n",
    "pls_metrics"
   ]
  },
  {
   "cell_type": "markdown",
   "id": "favorite-festival",
   "metadata": {},
   "source": [
    "As we can see, the metrics agree if we account for the conversion between `metres` and `hectares` and `fractions` in GeoGraph versus `percentages` in pylandstats."
   ]
  },
  {
   "cell_type": "markdown",
   "id": "typical-morrison",
   "metadata": {},
   "source": [
    "### 3.2 Patch level metrics"
   ]
  },
  {
   "cell_type": "markdown",
   "id": "stuck-excess",
   "metadata": {},
   "source": [
    "If we're interested in the more fine-grained distribution of metrics on the patch level, \n",
    "GeoGraph can also calculate several standard patch-level metrics of landscape ecology for us."
   ]
  },
  {
   "cell_type": "code",
   "execution_count": null,
   "id": "abstract-lightweight",
   "metadata": {
    "execution": {
     "iopub.execute_input": "2021-03-16T23:51:33.280240Z",
     "iopub.status.busy": "2021-03-16T23:51:33.280027Z",
     "iopub.status.idle": "2021-03-16T23:51:33.310991Z",
     "shell.execute_reply": "2021-03-16T23:51:33.310545Z",
     "shell.execute_reply.started": "2021-03-16T23:51:33.280221Z"
    }
   },
   "outputs": [],
   "source": [
    "patch_metrics = cez_graph_2015.get_patch_metrics()\n",
    "patch_metrics  # again, metrics are in units of UTM35N (meter) \n",
    "\n",
    "# Classes of interest\n",
    "classes_of_interest = patch_metrics[\"class_label\"].isin([10, 11, 210])"
   ]
  },
  {
   "cell_type": "markdown",
   "id": "surface-geology",
   "metadata": {},
   "source": [
    "We can now use this metrics to investigate the underlying patch-area distribution for example"
   ]
  },
  {
   "cell_type": "code",
   "execution_count": null,
   "id": "amateur-gnome",
   "metadata": {
    "execution": {
     "iopub.execute_input": "2021-03-16T23:51:33.644940Z",
     "iopub.status.busy": "2021-03-16T23:51:33.644816Z",
     "iopub.status.idle": "2021-03-16T23:51:48.890920Z",
     "shell.execute_reply": "2021-03-16T23:51:48.890410Z",
     "shell.execute_reply.started": "2021-03-16T23:51:33.644924Z"
    }
   },
   "outputs": [],
   "source": [
    "import seaborn as sns\n",
    "sns.displot(patch_metrics[\"area\"])\n",
    "plt.xlabel(\"Area [meter^2]\")\n",
    "plt.semilogx();"
   ]
  },
  {
   "cell_type": "markdown",
   "id": "configured-lightweight",
   "metadata": {},
   "source": [
    "We can also investigate the dimensionless metrics `shape_index`, `fractal_dimension`."
   ]
  },
  {
   "cell_type": "code",
   "execution_count": null,
   "id": "monthly-mouse",
   "metadata": {
    "execution": {
     "iopub.execute_input": "2021-03-16T23:51:48.891820Z",
     "iopub.status.busy": "2021-03-16T23:51:48.891701Z",
     "iopub.status.idle": "2021-03-16T23:51:50.530240Z",
     "shell.execute_reply": "2021-03-16T23:51:50.529789Z",
     "shell.execute_reply.started": "2021-03-16T23:51:48.891804Z"
    }
   },
   "outputs": [],
   "source": [
    "sns.displot(patch_metrics[\"fractal_dimension\"])\n",
    "sns.displot(patch_metrics[\"shape_index\"]);"
   ]
  },
  {
   "cell_type": "markdown",
   "id": "abandoned-debut",
   "metadata": {},
   "source": [
    "Further, we can easily analyse distributions for certain classes."
   ]
  },
  {
   "cell_type": "code",
   "execution_count": null,
   "id": "naughty-twelve",
   "metadata": {
    "execution": {
     "iopub.execute_input": "2021-03-16T23:51:50.531261Z",
     "iopub.status.busy": "2021-03-16T23:51:50.531140Z",
     "iopub.status.idle": "2021-03-16T23:51:51.280639Z",
     "shell.execute_reply": "2021-03-16T23:51:51.280177Z",
     "shell.execute_reply.started": "2021-03-16T23:51:50.531246Z"
    }
   },
   "outputs": [],
   "source": [
    "sns.displot(patch_metrics[classes_of_interest], x=\"fractal_dimension\", hue=\"class_label\", palette=\"colorblind\")\n",
    "sns.displot(patch_metrics[classes_of_interest], x=\"perimeter_area_ratio\", hue=\"class_label\", palette=\"colorblind\");"
   ]
  }
 ],
 "metadata": {
  "hide_input": false,
  "kernelspec": {
   "display_name": "Python 3",
   "language": "python",
   "name": "python3"
  },
  "language_info": {
   "codemirror_mode": {
    "name": "ipython",
    "version": 3
   },
   "file_extension": ".py",
   "mimetype": "text/x-python",
   "name": "python",
   "nbconvert_exporter": "python",
   "pygments_lexer": "ipython3",
   "version": "3.8.6"
  },
  "toc": {
   "base_numbering": 1,
   "nav_menu": {},
   "number_sections": true,
   "sideBar": true,
   "skip_h1_title": false,
   "title_cell": "Table of Contents",
   "title_sidebar": "Contents",
   "toc_cell": false,
   "toc_position": {},
   "toc_section_display": true,
   "toc_window_display": false
  },
  "varInspector": {
   "cols": {
    "lenName": 16,
    "lenType": 16,
    "lenVar": 40
   },
   "kernels_config": {
    "python": {
     "delete_cmd_postfix": "",
     "delete_cmd_prefix": "del ",
     "library": "var_list.py",
     "varRefreshCmd": "print(var_dic_list())"
    },
    "r": {
     "delete_cmd_postfix": ") ",
     "delete_cmd_prefix": "rm(",
     "library": "var_list.r",
     "varRefreshCmd": "cat(var_dic_list()) "
    }
   },
   "types_to_exclude": [
    "module",
    "function",
    "builtin_function_or_method",
    "instance",
    "_Feature"
   ],
   "window_display": false
  }
 },
 "nbformat": 4,
 "nbformat_minor": 5
}
