{
 "cells": [
  {
   "cell_type": "code",
   "execution_count": 1,
   "id": "apparent-volunteer",
   "metadata": {
    "execution": {
     "iopub.execute_input": "2021-03-18T23:07:05.341939Z",
     "iopub.status.busy": "2021-03-18T23:07:05.341667Z",
     "iopub.status.idle": "2021-03-18T23:07:05.383926Z",
     "shell.execute_reply": "2021-03-18T23:07:05.383072Z",
     "shell.execute_reply.started": "2021-03-18T23:07:05.341874Z"
    }
   },
   "outputs": [],
   "source": [
    "# %load ../jupyter_setup.txt\n",
    "# Convenient jupyter setup\n",
    "%load_ext autoreload\n",
    "%load_ext line_profiler\n",
    "%autoreload 2\n",
    "%config IPCompleter.greedy=True\n",
    "%config IPCompleter.use_jedi=False "
   ]
  },
  {
   "cell_type": "code",
   "execution_count": 196,
   "id": "thrown-samuel",
   "metadata": {
    "execution": {
     "iopub.execute_input": "2021-03-19T01:00:30.171202Z",
     "iopub.status.busy": "2021-03-19T01:00:30.170999Z",
     "iopub.status.idle": "2021-03-19T01:00:30.481588Z",
     "shell.execute_reply": "2021-03-19T01:00:30.481074Z",
     "shell.execute_reply.started": "2021-03-19T01:00:30.171184Z"
    }
   },
   "outputs": [],
   "source": [
    "import matplotlib.pyplot as plt\n",
    "import matplotlib as mpl\n",
    "import seaborn as sns\n",
    "\n",
    "import numpy as np\n",
    "import pandas as pd\n",
    "\n",
    "import rioxarray as rxr\n",
    "import geopandas as gpd\n",
    "\n",
    "import pylandstats as pls\n",
    "from src.plot_settings import (\n",
    "    ps_defaults,\n",
    "    label_subplots,\n",
    "    get_dim,\n",
    "    set_dim,\n",
    "    PALETTE,\n",
    "    STD_CLR_LIST,\n",
    "    CAM_BLUE,\n",
    "    BRICK_RED,\n",
    "    OX_BLUE,\n",
    ")\n",
    "\n",
    "ps_defaults(use_tex=True)\n",
    "\n",
    "from src.models.geograph import GeoGraph\n",
    "from src.models.geotimeline import TimedGeoGraph, GeoGraphTimeline, calculate_growth_rates\n",
    "from src.models.binary_graph_operations import NodeMap, identify_graphs, graph_polygon_diff, node_polygon_diff\n",
    "from src.constants import GWS_DATA_DIR, ESA_LANDCOVER_DIR, UTM35N\n",
    "\n",
    "# Parse geotif landcover data\n",
    "chernobyl_path = lambda year: GWS_DATA_DIR / \"esa_cci_rois\" / f\"esa_cci_{year}_chernobyl.tif\" \n",
    "\n",
    "# Parse ROIS\n",
    "rois = gpd.read_file(GWS_DATA_DIR / \"chernobyl_exclusion_zone_v1.geojson\")\n",
    "cez = rois[rois[\"name\"] == \"Chernobyl Exclusion Zone\"]\n",
    "ez = rois[rois.name.str.contains(\"Exclusion\")]"
   ]
  },
  {
   "cell_type": "markdown",
   "id": "healthy-hanging",
   "metadata": {},
   "source": [
    "## 2. Load Chernobyl Exclusion Zone data"
   ]
  },
  {
   "cell_type": "code",
   "execution_count": 199,
   "id": "frequent-legislature",
   "metadata": {
    "execution": {
     "iopub.execute_input": "2021-03-19T01:01:03.833370Z",
     "iopub.status.busy": "2021-03-19T01:01:03.833172Z",
     "iopub.status.idle": "2021-03-19T01:01:03.862212Z",
     "shell.execute_reply": "2021-03-19T01:01:03.861703Z",
     "shell.execute_reply.started": "2021-03-19T01:01:03.833352Z"
    }
   },
   "outputs": [],
   "source": [
    "def clip_and_reproject(xrdata, clip_geometry=None, to_crs=UTM35N, x_res=300, y_res=300):\n",
    "    \n",
    "    if clip_geometry is not None:\n",
    "        clipped_data = xrdata.rio.clip(clip_geometry)\n",
    "    else:\n",
    "        clipped_data = xrdata\n",
    "        \n",
    "    if to_crs is not None:\n",
    "        reprojected_data = clipped_data.rio.reproject(to_crs, resolution=(x_res, y_res))\n",
    "    else:\n",
    "        reprojected_data = clipped_data\n",
    "    \n",
    "    return reprojected_data"
   ]
  },
  {
   "cell_type": "code",
   "execution_count": 200,
   "id": "civic-parliament",
   "metadata": {
    "execution": {
     "iopub.execute_input": "2021-03-19T01:01:37.082389Z",
     "iopub.status.busy": "2021-03-19T01:01:37.082106Z",
     "iopub.status.idle": "2021-03-19T01:01:46.662023Z",
     "shell.execute_reply": "2021-03-19T01:01:46.661321Z",
     "shell.execute_reply.started": "2021-03-19T01:01:37.082371Z"
    }
   },
   "outputs": [],
   "source": [
    "# Loading raster data\n",
    "ez_rasters = {year: clip_and_reproject(rxr.open_rasterio(chernobyl_path(year)), \n",
    "                            clip_geometry=ez.geometry) \n",
    "              for year in years}"
   ]
  },
  {
   "cell_type": "code",
   "execution_count": 201,
   "id": "indoor-leadership",
   "metadata": {
    "execution": {
     "iopub.execute_input": "2021-03-19T01:03:46.754527Z",
     "iopub.status.busy": "2021-03-19T01:03:46.754298Z",
     "iopub.status.idle": "2021-03-19T01:04:35.269576Z",
     "shell.execute_reply": "2021-03-19T01:04:35.263848Z",
     "shell.execute_reply.started": "2021-03-19T01:03:46.754508Z"
    }
   },
   "outputs": [
    {
     "name": "stderr",
     "output_type": "stream",
     "text": [
      "Step 1 of 2: Creating nodes and finding neighbours: 100%|██████████| 3824/3824 [00:15<00:00, 247.31it/s]\n",
      "Step 2 of 2: Adding edges: 100%|██████████| 3824/3824 [00:00<00:00, 57821.60it/s]\n"
     ]
    },
    {
     "name": "stdout",
     "output_type": "stream",
     "text": [
      "Graph successfully loaded with 3824 nodes and 10477 edges.\n"
     ]
    },
    {
     "name": "stderr",
     "output_type": "stream",
     "text": [
      "Step 1 of 2: Creating nodes and finding neighbours: 100%|██████████| 3836/3836 [00:15<00:00, 252.68it/s]\n",
      "Step 2 of 2: Adding edges: 100%|██████████| 3836/3836 [00:00<00:00, 69833.16it/s]"
     ]
    },
    {
     "name": "stdout",
     "output_type": "stream",
     "text": [
      "Graph successfully loaded with 3836 nodes and 10520 edges.\n"
     ]
    },
    {
     "name": "stderr",
     "output_type": "stream",
     "text": [
      "\n"
     ]
    }
   ],
   "source": [
    "ez_graph = {year: GeoGraph(data=ez_rasters[year].data, \n",
    "                           transform=ez_rasters[year].rio.transform(), \n",
    "                           crs=UTM35N, \n",
    "                           connectivity=8)\n",
    "           for year in (2013, 2014)}"
   ]
  },
  {
   "cell_type": "code",
   "execution_count": 7,
   "id": "purple-member",
   "metadata": {
    "execution": {
     "iopub.execute_input": "2021-03-18T23:07:46.126070Z",
     "iopub.status.busy": "2021-03-18T23:07:46.125802Z",
     "iopub.status.idle": "2021-03-18T23:07:46.158388Z",
     "shell.execute_reply": "2021-03-18T23:07:46.157824Z",
     "shell.execute_reply.started": "2021-03-18T23:07:46.126049Z"
    }
   },
   "outputs": [],
   "source": [
    "# Demo path includes pre-loaded graphs for faster loading\n",
    "demo_path = GWS_DATA_DIR / \"geograph_timeline_demo\""
   ]
  },
  {
   "cell_type": "code",
   "execution_count": 386,
   "id": "experienced-overall",
   "metadata": {
    "execution": {
     "iopub.execute_input": "2021-03-19T02:22:14.029820Z",
     "iopub.status.busy": "2021-03-19T02:22:14.029586Z",
     "iopub.status.idle": "2021-03-19T02:22:15.267425Z",
     "shell.execute_reply": "2021-03-19T02:22:15.267077Z",
     "shell.execute_reply.started": "2021-03-19T02:22:14.029801Z"
    }
   },
   "outputs": [
    {
     "name": "stdout",
     "output_type": "stream",
     "text": [
      "Graph successfully loaded with 1924 nodes and 4912 edges.\n",
      "Graph successfully loaded with 1931 nodes and 4918 edges.\n",
      "Graph successfully loaded with 1929 nodes and 4897 edges.\n",
      "Graph successfully loaded with 1936 nodes and 4911 edges.\n",
      "Graph successfully loaded with 1953 nodes and 4953 edges.\n",
      "Graph successfully loaded with 1960 nodes and 4973 edges.\n",
      "Graph successfully loaded with 2004 nodes and 5113 edges.\n",
      "Graph successfully loaded with 1996 nodes and 5141 edges.\n",
      "Graph successfully loaded with 1992 nodes and 5119 edges.\n",
      "Graph successfully loaded with 1994 nodes and 5108 edges.\n",
      "Graph successfully loaded with 1988 nodes and 5080 edges.\n",
      "Graph successfully loaded with 2003 nodes and 5131 edges.\n",
      "Graph successfully loaded with 1998 nodes and 5119 edges.\n",
      "Graph successfully loaded with 2003 nodes and 5140 edges.\n",
      "Graph successfully loaded with 1999 nodes and 5117 edges.\n"
     ]
    }
   ],
   "source": [
    "# Loading geographs\n",
    "cez_graphs = {year: GeoGraph(demo_path / f\"cez_graph_{year}.gz\")\n",
    "              for year in years}"
   ]
  },
  {
   "cell_type": "code",
   "execution_count": 387,
   "id": "actual-builder",
   "metadata": {
    "execution": {
     "iopub.execute_input": "2021-03-19T02:22:15.268252Z",
     "iopub.status.busy": "2021-03-19T02:22:15.268131Z",
     "iopub.status.idle": "2021-03-19T02:22:15.326793Z",
     "shell.execute_reply": "2021-03-19T02:22:15.326260Z",
     "shell.execute_reply.started": "2021-03-19T02:22:15.268236Z"
    }
   },
   "outputs": [],
   "source": [
    "for graph in cez_graphs.values():\n",
    "    no_data_nodes = graph.df[graph.df[\"class_label\"] == 0].index\n",
    "    graph._remove_nodes(no_data_nodes)"
   ]
  },
  {
   "cell_type": "code",
   "execution_count": 388,
   "id": "important-draft",
   "metadata": {
    "execution": {
     "iopub.execute_input": "2021-03-19T02:22:15.327706Z",
     "iopub.status.busy": "2021-03-19T02:22:15.327589Z",
     "iopub.status.idle": "2021-03-19T02:22:15.355788Z",
     "shell.execute_reply": "2021-03-19T02:22:15.355252Z",
     "shell.execute_reply.started": "2021-03-19T02:22:15.327689Z"
    }
   },
   "outputs": [],
   "source": [
    "cez_timeline = GeoGraphTimeline(cez_graphs)"
   ]
  },
  {
   "cell_type": "code",
   "execution_count": 389,
   "id": "vertical-onion",
   "metadata": {
    "execution": {
     "iopub.execute_input": "2021-03-19T02:22:16.681425Z",
     "iopub.status.busy": "2021-03-19T02:22:16.681211Z",
     "iopub.status.idle": "2021-03-19T02:22:42.285187Z",
     "shell.execute_reply": "2021-03-19T02:22:42.284753Z",
     "shell.execute_reply.started": "2021-03-19T02:22:16.681405Z"
    }
   },
   "outputs": [
    {
     "data": {
      "text/plain": [
       "[<src.models.binary_graph_operations.NodeMap at 0x7f4d9a72f6a0>,\n",
       " <src.models.binary_graph_operations.NodeMap at 0x7f4d9f9cbb20>,\n",
       " <src.models.binary_graph_operations.NodeMap at 0x7f4d9d2709a0>,\n",
       " <src.models.binary_graph_operations.NodeMap at 0x7f4d57ea1730>,\n",
       " <src.models.binary_graph_operations.NodeMap at 0x7f4d57ea1af0>,\n",
       " <src.models.binary_graph_operations.NodeMap at 0x7f4d57ea1340>,\n",
       " <src.models.binary_graph_operations.NodeMap at 0x7f4d57d1fe80>,\n",
       " <src.models.binary_graph_operations.NodeMap at 0x7f4d57ea1b50>,\n",
       " <src.models.binary_graph_operations.NodeMap at 0x7f4d57d1f700>,\n",
       " <src.models.binary_graph_operations.NodeMap at 0x7f4d57ea1a60>,\n",
       " <src.models.binary_graph_operations.NodeMap at 0x7f4d57ea1940>,\n",
       " <src.models.binary_graph_operations.NodeMap at 0x7f4d57ea1df0>,\n",
       " <src.models.binary_graph_operations.NodeMap at 0x7f4d57d1f670>,\n",
       " <src.models.binary_graph_operations.NodeMap at 0x7f4d57d1f130>]"
      ]
     },
     "execution_count": 389,
     "metadata": {},
     "output_type": "execute_result"
    }
   ],
   "source": [
    "# Perform node identification between adjacent time slices\n",
    "cez_timeline.timestack()"
   ]
  },
  {
   "cell_type": "markdown",
   "id": "alive-obligation",
   "metadata": {},
   "source": [
    "# 3. Plots"
   ]
  },
  {
   "cell_type": "code",
   "execution_count": 390,
   "id": "quarterly-plaza",
   "metadata": {
    "execution": {
     "iopub.execute_input": "2021-03-19T02:22:42.286148Z",
     "iopub.status.busy": "2021-03-19T02:22:42.286023Z",
     "iopub.status.idle": "2021-03-19T02:22:46.793609Z",
     "shell.execute_reply": "2021-03-19T02:22:46.793260Z",
     "shell.execute_reply.started": "2021-03-19T02:22:42.286133Z"
    }
   },
   "outputs": [
    {
     "data": {
      "text/plain": [
       "node_index\n",
       "0       unchanged\n",
       "1       unchanged\n",
       "2       unchanged\n",
       "3       unchanged\n",
       "4       unchanged\n",
       "          ...    \n",
       "1995    unchanged\n",
       "1996    unchanged\n",
       "1997    unchanged\n",
       "1998    unchanged\n",
       "1999    unchanged\n",
       "Name: node_dynamic, Length: 1999, dtype: object"
      ]
     },
     "execution_count": 390,
     "metadata": {},
     "output_type": "execute_result"
    }
   ],
   "source": [
    "# Identify node dynamics for the year 2014\n",
    "cez_timeline.calculate_node_dynamics(2014)"
   ]
  },
  {
   "cell_type": "code",
   "execution_count": 392,
   "id": "center-gravity",
   "metadata": {
    "execution": {
     "iopub.execute_input": "2021-03-19T02:23:47.744621Z",
     "iopub.status.busy": "2021-03-19T02:23:47.744395Z",
     "iopub.status.idle": "2021-03-19T02:23:48.378679Z",
     "shell.execute_reply": "2021-03-19T02:23:48.378223Z",
     "shell.execute_reply.started": "2021-03-19T02:23:47.744602Z"
    }
   },
   "outputs": [
    {
     "data": {
      "text/plain": [
       "array(['unchanged', 'split', 'birth', 'grew', 'shrank', 'complex',\n",
       "       'merged'], dtype=object)"
      ]
     },
     "execution_count": 392,
     "metadata": {},
     "output_type": "execute_result"
    }
   ],
   "source": [
    "cez_timeline[2014].df.node_dynamic.unique()"
   ]
  },
  {
   "cell_type": "code",
   "execution_count": 494,
   "id": "decreased-beatles",
   "metadata": {
    "execution": {
     "iopub.execute_input": "2021-03-19T03:03:15.192474Z",
     "iopub.status.busy": "2021-03-19T03:03:15.192259Z",
     "iopub.status.idle": "2021-03-19T03:03:16.133127Z",
     "shell.execute_reply": "2021-03-19T03:03:16.132703Z",
     "shell.execute_reply.started": "2021-03-19T03:03:15.192454Z"
    }
   },
   "outputs": [
    {
     "data": {
      "image/png": "[encoded data removed]",
      "text/plain": [
       "<Figure size 396.85x245.267 with 2 Axes>"
      ]
     },
     "metadata": {
      "needs_background": "light"
     },
     "output_type": "display_data"
    }
   ],
   "source": [
    "graph = cez_timeline[2014]\n",
    "\n",
    "plot_scale_factor=1\n",
    "dynamic_to_int = {'split': 0, \n",
    "                  'shrank': 1,\n",
    "                  'unchanged': 2,\n",
    "                  'complex': 3,\n",
    "                  'grew': 4,\n",
    "                  'merged': 5,\n",
    "                  'birth': 6}\n",
    "\n",
    "colors = sns.color_palette(\"Paired\").as_hex()\n",
    "dynamic = lambda x: dynamic_to_int[x]\n",
    "graph.df[\"dynamic_class\"] = graph.df.node_dynamic.map(dynamic)\n",
    "\n",
    "fig, ax = plt.subplots(1)\n",
    "plt.title(\"Chernobyl Exclusion Zone 2013 to 2014\", fontsize=9*plot_scale_factor)\n",
    "set_dim(fig, fraction_of_line_width=plot_scale_factor)\n",
    "vmin, vmax = 0, 7\n",
    "cmap = mpl.colors.ListedColormap([colors[7], colors[6], 'lightgrey', colors[0], colors[2], colors[3], colors[9]])\n",
    "graph.df.plot(column='dynamic_class', cmap=cmap, vmin=vmin, vmax=vmax, ax=ax)\n",
    "ax.set_xticks([])\n",
    "ax.set_yticks([])\n",
    "\n",
    "inset_text = (\"Node dynamics:\\n\"\n",
    "              f\"Splits: {np.sum(graph.df['node_dynamic'] == 'split')}\\n\"\n",
    "              f\"Merges: {np.sum(graph.df['node_dynamic'] == 'merged')}\\n\"\n",
    "              f\"Births: {np.sum(graph.df['node_dynamic'] == 'birth')}\\n\"\n",
    "              f\"Growth: {np.sum(graph.df['node_dynamic'] == 'grew')}\\n\"\n",
    "              f\"Shrinking: {np.sum(graph.df['node_dynamic'] == 'shrank')}\"\n",
    "             )\n",
    "\n",
    "# these are matplotlib.patch.Patch properties\n",
    "props = dict(boxstyle='round', facecolor='white', alpha=0.8)\n",
    "\n",
    "# place a text box in upper left in axes coords\n",
    "ax.text(0.03, 0.95, inset_text, transform=ax.transAxes, fontsize=9*plot_scale_factor,\n",
    "        verticalalignment='top', bbox=props)\n",
    "\n",
    "from mpl_toolkits.axes_grid1.anchored_artists import AnchoredSizeBar\n",
    "import matplotlib.font_manager as fm\n",
    "fontprops = fm.FontProperties(size=6*plot_scale_factor)\n",
    "scalebar = AnchoredSizeBar(ax.transData,\n",
    "                           1e4, '10 km', 'lower left', \n",
    "                           pad=0,\n",
    "                           borderpad=.8,\n",
    "                           color='black',\n",
    "                           frameon=False,\n",
    "                           size_vertical=250,\n",
    "                           fontproperties=fontprops\n",
    "                       )\n",
    "\n",
    "ax.add_artist(scalebar)\n",
    "\n",
    "# add colorbar\n",
    "fig = ax.get_figure()\n",
    "cax = fig.add_axes([0.12, 0.08, 0.78, 0.05]) # left-offset, # bottom offset # width, # height\n",
    "sm = plt.cm.ScalarMappable(cmap=cmap, norm=plt.Normalize(vmin=vmin, vmax=vmax))\n",
    "sm._A = []\n",
    "cbar = fig.colorbar(sm, cax=cax, orientation=\"horizontal\")\n",
    "cbar.set_ticks(np.arange(vmin+0.5, vmax+1))\n",
    "cbar.set_ticklabels([\"Split\", \"Shrank\", \"Unchanged\", \"Complex\", \"Grew\", \"Merged\", \"Birth\"])\n",
    "cbar.ax.tick_params(labelsize=9*plot_scale_factor) \n",
    "ax.spines['bottom'].set_visible(False)\n",
    "ax.spines['top'].set_visible(False)\n",
    "ax.spines['right'].set_visible(False)\n",
    "ax.spines['left'].set_visible(False)\n",
    "\n",
    "\n",
    "\n",
    "plt.savefig(\"CEZ_node_dynamics.svg\")"
   ]
  },
  {
   "cell_type": "code",
   "execution_count": 506,
   "id": "running-presence",
   "metadata": {
    "execution": {
     "iopub.execute_input": "2021-03-19T03:06:10.334517Z",
     "iopub.status.busy": "2021-03-19T03:06:10.334308Z",
     "iopub.status.idle": "2021-03-19T03:06:11.823367Z",
     "shell.execute_reply": "2021-03-19T03:06:11.822932Z",
     "shell.execute_reply.started": "2021-03-19T03:06:10.334498Z"
    }
   },
   "outputs": [
    {
     "data": {
      "image/png": "[encoded data removed]",
      "text/plain": [
       "<Figure size 396.85x245.267 with 2 Axes>"
      ]
     },
     "metadata": {
      "needs_background": "light"
     },
     "output_type": "display_data"
    }
   ],
   "source": [
    "plot_scale_factor=1\n",
    "fig, ax = plt.subplots(1)\n",
    "set_dim(fig, fraction_of_line_width=plot_scale_factor)\n",
    "\n",
    "cmap = sns.diverging_palette(6, 120, s=360, l=55, as_cmap=True)\n",
    "norm = mpl.colors.TwoSlopeNorm(vcenter=0, vmin=-10e5, vmax=10e5)\n",
    "\n",
    "graph.df.plot(\"absolute_growth\", ax=ax, cmap=cmap, norm=norm, edgecolor=\"grey\", linewidth=0.1)\n",
    "ax.set_xticks([])\n",
    "ax.set_yticks([])\n",
    "from mpl_toolkits.axes_grid1.anchored_artists import AnchoredSizeBar\n",
    "import matplotlib.font_manager as fm\n",
    "fontprops = fm.FontProperties(size=6*plot_scale_factor)\n",
    "scalebar = AnchoredSizeBar(ax.transData,\n",
    "                           1e4, '10 km', 'lower left', \n",
    "                           pad=0,\n",
    "                           borderpad=.3,\n",
    "                           color='black',\n",
    "                           frameon=False,\n",
    "                           size_vertical=250,\n",
    "                           fontproperties=fontprops\n",
    "                       )\n",
    "\n",
    "ax.add_artist(scalebar)\n",
    "\n",
    "cbar = fig.colorbar(mpl.cm.ScalarMappable(norm=norm, cmap=cmap), \n",
    "             orientation='horizontal', \n",
    "             label='Absolute growth rate [ha / yr]',\n",
    "             #aspect=9,\n",
    "             shrink=0.88,\n",
    "             pad=0.04\n",
    "            )\n",
    "cbar.set_ticks([-10e5, -7.5*1e5, -5e5, -2.5*1e5, 0, 2.5*1e5, 5e5, 7.5*1e5, 10e5])\n",
    "cbar.set_ticklabels([-100, -75, -50, -25, 0, 25, 50, 75, 100])\n",
    "cbar.ax.tick_params(labelsize=9*plot_scale_factor) \n",
    "cbar.set_label(\"Absolute growth rate [ha/yr]\", fontsize=9*plot_scale_factor)\n",
    "plt.title(\"Chernobyl Exclusion Zone 2013 to 2014\", fontsize=9*plot_scale_factor)\n",
    "ax.spines['bottom'].set_visible(False)\n",
    "ax.spines['top'].set_visible(False)\n",
    "ax.spines['right'].set_visible(False)\n",
    "ax.spines['left'].set_visible(False)\n",
    "plt.savefig(\"CEZ_node_growth_rates.svg\")"
   ]
  },
  {
   "cell_type": "code",
   "execution_count": 80,
   "id": "several-forge",
   "metadata": {
    "execution": {
     "iopub.execute_input": "2021-03-18T23:49:47.758835Z",
     "iopub.status.busy": "2021-03-18T23:49:47.758620Z",
     "iopub.status.idle": "2021-03-18T23:49:50.142319Z",
     "shell.execute_reply": "2021-03-18T23:49:50.141898Z",
     "shell.execute_reply.started": "2021-03-18T23:49:47.758816Z"
    }
   },
   "outputs": [],
   "source": [
    "dynamics = [node_dynamic(node, cez_timeline.node_map_cache(2013,2014)) for node in cez_timeline[2014].df.index]"
   ]
  },
  {
   "cell_type": "code",
   "execution_count": 539,
   "id": "delayed-award",
   "metadata": {
    "execution": {
     "iopub.execute_input": "2021-03-19T03:21:34.549460Z",
     "iopub.status.busy": "2021-03-19T03:21:34.549248Z",
     "iopub.status.idle": "2021-03-19T03:21:34.590751Z",
     "shell.execute_reply": "2021-03-19T03:21:34.590300Z",
     "shell.execute_reply.started": "2021-03-19T03:21:34.549432Z"
    }
   },
   "outputs": [
    {
     "data": {
      "text/html": [
       "<div>\n",
       "<style scoped>\n",
       "    .dataframe tbody tr th:only-of-type {\n",
       "        vertical-align: middle;\n",
       "    }\n",
       "\n",
       "    .dataframe tbody tr th {\n",
       "        vertical-align: top;\n",
       "    }\n",
       "\n",
       "    .dataframe thead th {\n",
       "        text-align: right;\n",
       "    }\n",
       "</style>\n",
       "<table border=\"1\" class=\"dataframe\">\n",
       "  <thead>\n",
       "    <tr style=\"text-align: right;\">\n",
       "      <th></th>\n",
       "      <th>class_label</th>\n",
       "      <th>area</th>\n",
       "      <th>perimeter</th>\n",
       "      <th>perimeter_area_ratio</th>\n",
       "      <th>shape_index</th>\n",
       "      <th>fractal_dimension</th>\n",
       "    </tr>\n",
       "    <tr>\n",
       "      <th>node_index</th>\n",
       "      <th></th>\n",
       "      <th></th>\n",
       "      <th></th>\n",
       "      <th></th>\n",
       "      <th></th>\n",
       "      <th></th>\n",
       "    </tr>\n",
       "  </thead>\n",
       "  <tbody>\n",
       "    <tr>\n",
       "      <th>0</th>\n",
       "      <td>100</td>\n",
       "      <td>270000.0</td>\n",
       "      <td>2400.0</td>\n",
       "      <td>0.008889</td>\n",
       "      <td>1.154701</td>\n",
       "      <td>1.023003</td>\n",
       "    </tr>\n",
       "    <tr>\n",
       "      <th>1</th>\n",
       "      <td>70</td>\n",
       "      <td>90000.0</td>\n",
       "      <td>1200.0</td>\n",
       "      <td>0.013333</td>\n",
       "      <td>1.000000</td>\n",
       "      <td>1.000000</td>\n",
       "    </tr>\n",
       "    <tr>\n",
       "      <th>2</th>\n",
       "      <td>130</td>\n",
       "      <td>180000.0</td>\n",
       "      <td>1800.0</td>\n",
       "      <td>0.010000</td>\n",
       "      <td>1.060660</td>\n",
       "      <td>1.009734</td>\n",
       "    </tr>\n",
       "    <tr>\n",
       "      <th>3</th>\n",
       "      <td>30</td>\n",
       "      <td>90000.0</td>\n",
       "      <td>1200.0</td>\n",
       "      <td>0.013333</td>\n",
       "      <td>1.000000</td>\n",
       "      <td>1.000000</td>\n",
       "    </tr>\n",
       "    <tr>\n",
       "      <th>4</th>\n",
       "      <td>30</td>\n",
       "      <td>90000.0</td>\n",
       "      <td>1200.0</td>\n",
       "      <td>0.013333</td>\n",
       "      <td>1.000000</td>\n",
       "      <td>1.000000</td>\n",
       "    </tr>\n",
       "    <tr>\n",
       "      <th>...</th>\n",
       "      <td>...</td>\n",
       "      <td>...</td>\n",
       "      <td>...</td>\n",
       "      <td>...</td>\n",
       "      <td>...</td>\n",
       "      <td>...</td>\n",
       "    </tr>\n",
       "    <tr>\n",
       "      <th>1995</th>\n",
       "      <td>30</td>\n",
       "      <td>810000.0</td>\n",
       "      <td>6600.0</td>\n",
       "      <td>0.008148</td>\n",
       "      <td>1.833333</td>\n",
       "      <td>1.089106</td>\n",
       "    </tr>\n",
       "    <tr>\n",
       "      <th>1996</th>\n",
       "      <td>60</td>\n",
       "      <td>180000.0</td>\n",
       "      <td>2400.0</td>\n",
       "      <td>0.013333</td>\n",
       "      <td>1.414214</td>\n",
       "      <td>1.057282</td>\n",
       "    </tr>\n",
       "    <tr>\n",
       "      <th>1997</th>\n",
       "      <td>100</td>\n",
       "      <td>180000.0</td>\n",
       "      <td>2400.0</td>\n",
       "      <td>0.013333</td>\n",
       "      <td>1.414214</td>\n",
       "      <td>1.057282</td>\n",
       "    </tr>\n",
       "    <tr>\n",
       "      <th>1998</th>\n",
       "      <td>160</td>\n",
       "      <td>180000.0</td>\n",
       "      <td>2400.0</td>\n",
       "      <td>0.013333</td>\n",
       "      <td>1.414214</td>\n",
       "      <td>1.057282</td>\n",
       "    </tr>\n",
       "    <tr>\n",
       "      <th>1999</th>\n",
       "      <td>30</td>\n",
       "      <td>270000.0</td>\n",
       "      <td>3000.0</td>\n",
       "      <td>0.011111</td>\n",
       "      <td>1.443376</td>\n",
       "      <td>1.058689</td>\n",
       "    </tr>\n",
       "  </tbody>\n",
       "</table>\n",
       "<p>1999 rows × 6 columns</p>\n",
       "</div>"
      ],
      "text/plain": [
       "            class_label      area  perimeter  perimeter_area_ratio  \\\n",
       "node_index                                                           \n",
       "0                   100  270000.0     2400.0              0.008889   \n",
       "1                    70   90000.0     1200.0              0.013333   \n",
       "2                   130  180000.0     1800.0              0.010000   \n",
       "3                    30   90000.0     1200.0              0.013333   \n",
       "4                    30   90000.0     1200.0              0.013333   \n",
       "...                 ...       ...        ...                   ...   \n",
       "1995                 30  810000.0     6600.0              0.008148   \n",
       "1996                 60  180000.0     2400.0              0.013333   \n",
       "1997                100  180000.0     2400.0              0.013333   \n",
       "1998                160  180000.0     2400.0              0.013333   \n",
       "1999                 30  270000.0     3000.0              0.011111   \n",
       "\n",
       "            shape_index  fractal_dimension  \n",
       "node_index                                  \n",
       "0              1.154701           1.023003  \n",
       "1              1.000000           1.000000  \n",
       "2              1.060660           1.009734  \n",
       "3              1.000000           1.000000  \n",
       "4              1.000000           1.000000  \n",
       "...                 ...                ...  \n",
       "1995           1.833333           1.089106  \n",
       "1996           1.414214           1.057282  \n",
       "1997           1.414214           1.057282  \n",
       "1998           1.414214           1.057282  \n",
       "1999           1.443376           1.058689  \n",
       "\n",
       "[1999 rows x 6 columns]"
      ]
     },
     "execution_count": 539,
     "metadata": {},
     "output_type": "execute_result"
    }
   ],
   "source": [
    "cez_timeline[2014].get_patch_metrics()"
   ]
  },
  {
   "cell_type": "code",
   "execution_count": 548,
   "id": "brutal-journalist",
   "metadata": {
    "execution": {
     "iopub.execute_input": "2021-03-19T03:25:27.544051Z",
     "iopub.status.busy": "2021-03-19T03:25:27.543841Z",
     "iopub.status.idle": "2021-03-19T03:25:28.345576Z",
     "shell.execute_reply": "2021-03-19T03:25:28.343263Z",
     "shell.execute_reply.started": "2021-03-19T03:25:27.544032Z"
    }
   },
   "outputs": [
    {
     "data": {
      "image/png": "[encoded data removed]",
      "text/plain": [
       "<Figure size 793.701x490.534 with 1 Axes>"
      ]
     },
     "metadata": {},
     "output_type": "display_data"
    }
   ],
   "source": [
    "fig, ax = plt.subplots(1)\n",
    "plot_scale_factor=2\n",
    "set_dim(fig, fraction_of_line_width=plot_scale_factor)\n",
    "\n",
    "cez_timeline[2013].df.loc[1629:1629].plot(ax=ax, color=\"red\", alpha=0.6)\n",
    "cez_timeline[2014].df.loc[1187:1187].plot(ax=ax, color=\"blue\", alpha=0.6)\n",
    "cez_timeline[2014].df.loc[1625:1625].plot(ax=ax, color=\"green\", alpha=0.8)\n",
    "\n",
    "inset_text = (\n",
    "              f\"Evergreen forest (70)\\n\\n\"\n",
    "              f\"Total area: {graph.df.area.loc[1625]/1e4:.0f} ha\\n\"\n",
    "              f\"Perimeter: {graph.df.perimeter.loc[1625]/1e3:.0f} km\\n\"\n",
    "              f\"Fractal dimension: {graph.df.fractal_dimension.loc[1625]:.2f}\\n\"\n",
    "              f\"Shape index: {graph.df.shape_index.loc[1625]:.2f}\"\n",
    "             \n",
    "             )\n",
    "\n",
    "# these are matplotlib.patch.Patch properties\n",
    "props = dict(boxstyle='round', facecolor='white', alpha=0.8)\n",
    "\n",
    "# place a text box in upper left in axes coords\n",
    "ax.text(0.6, 0.95, inset_text, transform=ax.transAxes, fontsize=8*plot_scale_factor,\n",
    "        verticalalignment='top', bbox=props)\n",
    "\n",
    "ax.set_xticks([])\n",
    "ax.set_yticks([])\n",
    "ax.spines['bottom'].set_visible(False)\n",
    "ax.spines['top'].set_visible(False)\n",
    "ax.spines['right'].set_visible(False)\n",
    "ax.spines['left'].set_visible(False)\n",
    "plt.savefig(\"CEZ-nodediff-example.svg\")"
   ]
  },
  {
   "cell_type": "code",
   "execution_count": 511,
   "id": "cleared-sound",
   "metadata": {
    "execution": {
     "iopub.execute_input": "2021-03-19T03:13:37.243399Z",
     "iopub.status.busy": "2021-03-19T03:13:37.243281Z",
     "iopub.status.idle": "2021-03-19T03:13:37.344799Z",
     "shell.execute_reply": "2021-03-19T03:13:37.344156Z",
     "shell.execute_reply.started": "2021-03-19T03:13:37.243383Z"
    }
   },
   "outputs": [
    {
     "ename": "NameError",
     "evalue": "name 't1' is not defined",
     "output_type": "error",
     "traceback": [
      "\u001b[0;31m---------------------------------------------------------------------------\u001b[0m",
      "\u001b[0;31mNameError\u001b[0m                                 Traceback (most recent call last)",
      "\u001b[0;32m<ipython-input-511-6d12d26455ce>\u001b[0m in \u001b[0;36m<module>\u001b[0;34m\u001b[0m\n\u001b[1;32m      2\u001b[0m \u001b[0mnode_id\u001b[0m \u001b[0;34m=\u001b[0m \u001b[0;36m8\u001b[0m\u001b[0;34m\u001b[0m\u001b[0;34m\u001b[0m\u001b[0m\n\u001b[1;32m      3\u001b[0m \u001b[0;34m\u001b[0m\u001b[0m\n\u001b[0;32m----> 4\u001b[0;31m \u001b[0mt1\u001b[0m\u001b[0;34m.\u001b[0m\u001b[0mdf\u001b[0m\u001b[0;34m.\u001b[0m\u001b[0mloc\u001b[0m\u001b[0;34m[\u001b[0m\u001b[0;36m8\u001b[0m\u001b[0;34m:\u001b[0m\u001b[0;36m8\u001b[0m\u001b[0;34m]\u001b[0m\u001b[0;34m.\u001b[0m\u001b[0mplot\u001b[0m\u001b[0;34m(\u001b[0m\u001b[0mcolor\u001b[0m\u001b[0;34m=\u001b[0m\u001b[0;34m\"blue\"\u001b[0m\u001b[0;34m,\u001b[0m \u001b[0max\u001b[0m\u001b[0;34m=\u001b[0m\u001b[0max\u001b[0m\u001b[0;34m,\u001b[0m \u001b[0malpha\u001b[0m\u001b[0;34m=\u001b[0m\u001b[0;36m0.3\u001b[0m\u001b[0;34m)\u001b[0m\u001b[0;34m\u001b[0m\u001b[0;34m\u001b[0m\u001b[0m\n\u001b[0m\u001b[1;32m      5\u001b[0m \u001b[0mgraph_polygon_diff\u001b[0m\u001b[0;34m(\u001b[0m\u001b[0mmaps\u001b[0m\u001b[0;34m[\u001b[0m\u001b[0;36m1\u001b[0m\u001b[0;34m]\u001b[0m\u001b[0;34m)\u001b[0m\u001b[0;34m[\u001b[0m\u001b[0;36m0\u001b[0m\u001b[0;34m]\u001b[0m\u001b[0;34m.\u001b[0m\u001b[0mloc\u001b[0m\u001b[0;34m[\u001b[0m\u001b[0mnode_id\u001b[0m\u001b[0;34m:\u001b[0m\u001b[0mnode_id\u001b[0m\u001b[0;34m]\u001b[0m\u001b[0;34m.\u001b[0m\u001b[0mplot\u001b[0m\u001b[0;34m(\u001b[0m\u001b[0mcolor\u001b[0m\u001b[0;34m=\u001b[0m\u001b[0;34m\"green\"\u001b[0m\u001b[0;34m,\u001b[0m \u001b[0max\u001b[0m\u001b[0;34m=\u001b[0m\u001b[0max\u001b[0m\u001b[0;34m,\u001b[0m \u001b[0malpha\u001b[0m\u001b[0;34m=\u001b[0m\u001b[0;36m0.8\u001b[0m\u001b[0;34m)\u001b[0m  \u001b[0;31m# added\u001b[0m\u001b[0;34m\u001b[0m\u001b[0;34m\u001b[0m\u001b[0m\n\u001b[1;32m      6\u001b[0m \u001b[0mgraph_polygon_diff\u001b[0m\u001b[0;34m(\u001b[0m\u001b[0mmaps\u001b[0m\u001b[0;34m[\u001b[0m\u001b[0;36m1\u001b[0m\u001b[0;34m]\u001b[0m\u001b[0;34m)\u001b[0m\u001b[0;34m[\u001b[0m\u001b[0;36m1\u001b[0m\u001b[0;34m]\u001b[0m\u001b[0;34m.\u001b[0m\u001b[0mloc\u001b[0m\u001b[0;34m[\u001b[0m\u001b[0mnode_id\u001b[0m\u001b[0;34m:\u001b[0m\u001b[0mnode_id\u001b[0m\u001b[0;34m]\u001b[0m\u001b[0;34m.\u001b[0m\u001b[0mplot\u001b[0m\u001b[0;34m(\u001b[0m\u001b[0mcolor\u001b[0m\u001b[0;34m=\u001b[0m\u001b[0;34m\"red\"\u001b[0m\u001b[0;34m,\u001b[0m \u001b[0malpha\u001b[0m\u001b[0;34m=\u001b[0m\u001b[0;36m0.8\u001b[0m\u001b[0;34m,\u001b[0m \u001b[0max\u001b[0m\u001b[0;34m=\u001b[0m\u001b[0max\u001b[0m\u001b[0;34m)\u001b[0m  \u001b[0;31m# removed\u001b[0m\u001b[0;34m\u001b[0m\u001b[0;34m\u001b[0m\u001b[0m\n",
      "\u001b[0;31mNameError\u001b[0m: name 't1' is not defined"
     ]
    },
    {
     "data": {
      "image/png": "[encoded data removed]",
      "text/plain": [
       "<Figure size 432x288 with 1 Axes>"
      ]
     },
     "metadata": {
      "needs_background": "light"
     },
     "output_type": "display_data"
    }
   ],
   "source": [
    "fig, ax = plt.subplots(1)\n",
    "node_id = 8\n",
    "\n",
    "t1.df.loc[8:8].plot(color=\"blue\", ax=ax, alpha=0.3)\n",
    "graph_polygon_diff(maps[1])[0].loc[node_id:node_id].plot(color=\"green\", ax=ax, alpha=0.8)  # added\n",
    "graph_polygon_diff(maps[1])[1].loc[node_id:node_id].plot(color=\"red\", alpha=0.8, ax=ax)  # removed\n",
    "#graph_polygon_diff(maps[0])[2].plot(color=\"blue\", alpha=0.3, ax=ax)\n",
    "plt.show()"
   ]
  },
  {
   "cell_type": "code",
   "execution_count": null,
   "id": "damaged-uncle",
   "metadata": {},
   "outputs": [],
   "source": [
    "graph_polygon_diff(maps[1])[0].loc[node_id:node_id].plot(color=\"green\", ax=ax, alpha=0.8)  # added"
   ]
  }
 ],
 "metadata": {
  "kernelspec": {
   "display_name": "Python 3.8.6 64-bit (conda)",
   "language": "python",
   "name": "python38664bitcondaa02632c3747848fca9e6bac7131e6e7e"
  },
  "language_info": {
   "codemirror_mode": {
    "name": "ipython",
    "version": 3
   },
   "file_extension": ".py",
   "mimetype": "text/x-python",
   "name": "python",
   "nbconvert_exporter": "python",
   "pygments_lexer": "ipython3",
   "version": "3.8.6"
  }
 },
 "nbformat": 4,
 "nbformat_minor": 5
}
