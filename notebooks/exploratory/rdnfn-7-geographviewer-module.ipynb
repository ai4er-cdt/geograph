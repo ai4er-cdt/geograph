{
 "cells": [
  {
   "cell_type": "code",
   "execution_count": null,
   "id": "naked-corner",
   "metadata": {},
   "outputs": [],
   "source": [
    "%load_ext autoreload\n",
    "%autoreload 2\n",
    "%config IPCompleter.greedy=True"
   ]
  },
  {
   "cell_type": "code",
   "execution_count": null,
   "id": "corresponding-commissioner",
   "metadata": {},
   "outputs": [],
   "source": [
    "from src.models import geograph, visualisation\n",
    "from src.data_loading import test_data\n",
    "from src.constants import PREFERRED_CRS\n",
    "\n",
    "test_gdf = test_data.get_polygon_gdf(\"chernobyl_squares_touching\")\n",
    "test_gdf['class_label'] = [0,1]"
   ]
  },
  {
   "cell_type": "code",
   "execution_count": null,
   "id": "quality-alliance",
   "metadata": {},
   "outputs": [],
   "source": [
    "graph = geograph.GeoGraph(test_gdf, crs=PREFERRED_CRS)"
   ]
  },
  {
   "cell_type": "code",
   "execution_count": null,
   "id": "fatty-transcript",
   "metadata": {},
   "outputs": [],
   "source": [
    "graph.add_habitat(name=\"eagle_habitat\", valid_classes=[0], max_travel_distance=2)"
   ]
  },
  {
   "cell_type": "code",
   "execution_count": null,
   "id": "pointed-housing",
   "metadata": {},
   "outputs": [],
   "source": [
    "test_gdf2 = test_data.get_polygon_gdf(\"chernobyl_squares_apart\")\n",
    "test_gdf2['class_label'] = 0"
   ]
  },
  {
   "cell_type": "code",
   "execution_count": null,
   "id": "dress-chrome",
   "metadata": {},
   "outputs": [],
   "source": [
    "graph2 = geograph.GeoGraph(test_gdf2, crs=PREFERRED_CRS)"
   ]
  },
  {
   "cell_type": "code",
   "execution_count": null,
   "id": "impressed-criterion",
   "metadata": {},
   "outputs": [],
   "source": [
    "from src.models import visualisation\n",
    "\n",
    "viewer = visualisation.GeoGraphViewer()\n",
    "viewer.add_graph(graph, name='main_graph')\n",
    "#viewer.add_graph(graph2, name='another_graph')\n",
    "viewer.add_widgets()\n",
    "viewer"
   ]
  },
  {
   "cell_type": "code",
   "execution_count": null,
   "id": "collective-ethernet",
   "metadata": {},
   "outputs": [],
   "source": [
    "viewer.log"
   ]
  },
  {
   "cell_type": "code",
   "execution_count": null,
   "id": "electronic-zambia",
   "metadata": {},
   "outputs": [],
   "source": []
  }
 ],
 "metadata": {
  "kernelspec": {
   "display_name": "Python 3",
   "language": "python",
   "name": "python3"
  },
  "language_info": {
   "codemirror_mode": {
    "name": "ipython",
    "version": 3
   },
   "file_extension": ".py",
   "mimetype": "text/x-python",
   "name": "python",
   "nbconvert_exporter": "python",
   "pygments_lexer": "ipython3",
   "version": "3.8.6"
  }
 },
 "nbformat": 4,
 "nbformat_minor": 5
}
