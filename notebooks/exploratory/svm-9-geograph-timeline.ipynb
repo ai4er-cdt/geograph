{
 "cells": [
  {
   "cell_type": "code",
   "execution_count": 1,
   "id": "willing-gossip",
   "metadata": {
    "execution": {
     "iopub.execute_input": "2021-02-26T10:36:13.515745Z",
     "iopub.status.busy": "2021-02-26T10:36:13.515077Z",
     "iopub.status.idle": "2021-02-26T10:36:15.287822Z",
     "shell.execute_reply": "2021-02-26T10:36:15.286286Z",
     "shell.execute_reply.started": "2021-02-26T10:36:13.515553Z"
    }
   },
   "outputs": [],
   "source": [
    "# %load ../jupyter_setup.txt\n",
    "# Convenient jupyter setup\n",
    "%load_ext autoreload\n",
    "%autoreload 2\n",
    "%config IPCompleter.greedy=True\n",
    "%config IPCompleter.use_jedi=False "
   ]
  },
  {
   "cell_type": "code",
   "execution_count": 2,
   "id": "sunset-vintage",
   "metadata": {
    "execution": {
     "iopub.execute_input": "2021-02-26T10:36:15.295539Z",
     "iopub.status.busy": "2021-02-26T10:36:15.295227Z",
     "iopub.status.idle": "2021-02-26T10:36:25.769505Z",
     "shell.execute_reply": "2021-02-26T10:36:25.768329Z",
     "shell.execute_reply.started": "2021-02-26T10:36:15.295504Z"
    }
   },
   "outputs": [
    {
     "name": "stderr",
     "output_type": "stream",
     "text": [
      "/home/users/svm/Code/gtc-biodiversity/env/lib/python3.8/site-packages/geopandas/_compat.py:84: UserWarning: The Shapely GEOS version (3.8.0-CAPI-1.13.1 ) is incompatible with the GEOS version PyGEOS was compiled with (3.9.0-CAPI-1.16.2). Conversions between both will be slow.\n",
      "  warnings.warn(\n"
     ]
    }
   ],
   "source": [
    "import numpy as np\n",
    "import geopandas as gpd\n",
    "import shapely\n",
    "from typing import Iterable, Tuple, Dict\n",
    "\n",
    "import matplotlib.pyplot as plt\n",
    "import seaborn as sns\n",
    "\n",
    "from src.constants import SRC_PATH\n",
    "from src.data_loading.rasterio_utils import polygonise\n",
    "from src.data_loading.vector_utils import shapely_to_frame\n",
    "from src.tests.utils import polygonise_sub_array, plot_identified_nodes, get_array_transform\n",
    "from src.models.geograph import GeoGraph\n",
    "from src.models.binary_graph_operations import identify_node"
   ]
  },
  {
   "cell_type": "code",
   "execution_count": 3,
   "id": "hazardous-auditor",
   "metadata": {
    "execution": {
     "iopub.execute_input": "2021-02-26T10:36:25.773047Z",
     "iopub.status.busy": "2021-02-26T10:36:25.772762Z",
     "iopub.status.idle": "2021-02-26T10:36:26.133727Z",
     "shell.execute_reply": "2021-02-26T10:36:26.132061Z",
     "shell.execute_reply.started": "2021-02-26T10:36:25.773010Z"
    }
   },
   "outputs": [],
   "source": [
    "TEST_DATA_FOLDER = SRC_PATH / \"tests\" / \"testdata\"\n",
    "TEST_DATA_FOLDER.mkdir(parents=True, exist_ok=True)"
   ]
  },
  {
   "cell_type": "code",
   "execution_count": 4,
   "id": "binding-raise",
   "metadata": {
    "execution": {
     "iopub.execute_input": "2021-02-26T10:36:26.135773Z",
     "iopub.status.busy": "2021-02-26T10:36:26.135413Z",
     "iopub.status.idle": "2021-02-26T10:36:27.163634Z",
     "shell.execute_reply": "2021-02-26T10:36:27.162351Z",
     "shell.execute_reply.started": "2021-02-26T10:36:26.135726Z"
    }
   },
   "outputs": [
    {
     "name": "stderr",
     "output_type": "stream",
     "text": [
      "/home/users/svm/Code/gtc-biodiversity/env/lib/python3.8/site-packages/geopandas/geodataframe.py:422: RuntimeWarning: Sequential read of iterator was interrupted. Resetting iterator. This can negatively impact the performance.\n",
      "  for feature in features_lst:\n",
      "Step 1 of 2: Creating nodes and finding neighbours: 100%|██████████| 15/15 [00:00<00:00, 789.59it/s]\n",
      "Step 2 of 2: Adding edges: 100%|██████████| 15/15 [00:00<00:00, 32682.89it/s]\n",
      "Step 1 of 2: Creating nodes and finding neighbours: 100%|██████████| 4/4 [00:00<00:00, 807.45it/s]\n",
      "Step 2 of 2: Adding edges: 100%|██████████| 4/4 [00:00<00:00, 21620.12it/s]\n"
     ]
    },
    {
     "name": "stdout",
     "output_type": "stream",
     "text": [
      "Graph successfully loaded with 15 nodes and 40 edges.\n",
      "Graph successfully loaded with 4 nodes and 4 edges.\n"
     ]
    },
    {
     "name": "stderr",
     "output_type": "stream",
     "text": [
      "Step 1 of 2: Creating nodes and finding neighbours: 100%|██████████| 3/3 [00:00<00:00, 537.13it/s]\n",
      "Step 2 of 2: Adding edges: 100%|██████████| 3/3 [00:00<00:00, 13934.56it/s]\n",
      "Step 1 of 2: Creating nodes and finding neighbours: 100%|██████████| 6/6 [00:00<00:00, 592.92it/s]\n",
      "Step 2 of 2: Adding edges:   0%|          | 0/6 [00:00<?, ?it/s]"
     ]
    },
    {
     "name": "stdout",
     "output_type": "stream",
     "text": [
      "Graph successfully loaded with 3 nodes and 3 edges.\n"
     ]
    },
    {
     "name": "stderr",
     "output_type": "stream",
     "text": [
      "Step 2 of 2: Adding edges: 100%|██████████| 6/6 [00:00<00:00, 32768.00it/s]\n",
      "Step 1 of 2: Creating nodes and finding neighbours: 100%|██████████| 4/4 [00:00<00:00, 735.10it/s]\n",
      "Step 2 of 2: Adding edges: 100%|██████████| 4/4 [00:00<00:00, 28484.24it/s]"
     ]
    },
    {
     "name": "stdout",
     "output_type": "stream",
     "text": [
      "Graph successfully loaded with 6 nodes and 11 edges.\n",
      "Graph successfully loaded with 4 nodes and 6 edges.\n"
     ]
    },
    {
     "name": "stderr",
     "output_type": "stream",
     "text": [
      "\n"
     ]
    }
   ],
   "source": [
    "full = GeoGraph(TEST_DATA_FOLDER / \"adjacent\" / \"full.gpkg\")\n",
    "upper_right = GeoGraph(TEST_DATA_FOLDER / \"adjacent\" / \"upper_right.gpkg\")\n",
    "upper_left = GeoGraph(TEST_DATA_FOLDER / \"adjacent\" / \"upper_left.gpkg\")\n",
    "lower_right = GeoGraph(TEST_DATA_FOLDER / \"adjacent\" / \"lower_right.gpkg\")\n",
    "lower_left = GeoGraph(TEST_DATA_FOLDER / \"adjacent\" / \"lower_left.gpkg\")"
   ]
  },
  {
   "cell_type": "code",
   "execution_count": 9,
   "id": "great-affairs",
   "metadata": {
    "execution": {
     "iopub.execute_input": "2021-02-26T10:38:51.785684Z",
     "iopub.status.busy": "2021-02-26T10:38:51.784931Z",
     "iopub.status.idle": "2021-02-26T10:38:53.236792Z",
     "shell.execute_reply": "2021-02-26T10:38:53.235555Z",
     "shell.execute_reply.started": "2021-02-26T10:38:51.785614Z"
    }
   },
   "outputs": [],
   "source": [
    "def polygonise_splits(arr: np.ndarray, \n",
    "                       named_slices: Iterable[Dict[str, Tuple]]\n",
    "                      ):\n",
    "    \n",
    "    result = {}\n",
    "    for name, (x_lims, y_lims) in named_slices.items(): \n",
    "        result[name] = polygonise_sub_array(arr, x_lims, y_lims)\n",
    "        \n",
    "    return result"
   ]
  },
  {
   "cell_type": "code",
   "execution_count": 10,
   "id": "nominated-retrieval",
   "metadata": {
    "execution": {
     "iopub.execute_input": "2021-02-26T10:38:54.042453Z",
     "iopub.status.busy": "2021-02-26T10:38:54.041888Z",
     "iopub.status.idle": "2021-02-26T10:38:55.526302Z",
     "shell.execute_reply": "2021-02-26T10:38:55.524601Z",
     "shell.execute_reply.started": "2021-02-26T10:38:54.042398Z"
    }
   },
   "outputs": [
    {
     "data": {
      "image/png": "[encoded data removed]",
      "text/plain": [
       "<Figure size 432x288 with 1 Axes>"
      ]
     },
     "metadata": {
      "needs_background": "light"
     },
     "output_type": "display_data"
    }
   ],
   "source": [
    "np.random.seed(285)\n",
    "low = 1\n",
    "high = 5\n",
    "# Samples 2: Overlapping polygons\n",
    "arr2 = np.random.randint(low=low, high=high, size=(4,4), dtype=np.uint8)\n",
    "plt.imshow(arr2, vmin=low, vmax=high);\n",
    "\n",
    "splits_of_interest = {\n",
    "    \"lower_left\": ((0,3), (0,3)),\n",
    "    \"upper_right\": ((1,4), (1,4)),\n",
    "    \"upper_left\": ((0,3), (1,4)),\n",
    "    \"lower_right\": ((1,4), (0,3))\n",
    "}\n",
    "\n",
    "polys2 = polygonise_splits(arr2, splits_of_interest)\n",
    "polys2[\"full\"] = polygonise(arr2, transform=get_array_transform(arr2))"
   ]
  },
  {
   "cell_type": "code",
   "execution_count": 15,
   "id": "streaming-performer",
   "metadata": {
    "execution": {
     "iopub.execute_input": "2021-02-26T10:39:21.803754Z",
     "iopub.status.busy": "2021-02-26T10:39:21.803403Z",
     "iopub.status.idle": "2021-02-26T10:39:22.020905Z",
     "shell.execute_reply": "2021-02-26T10:39:22.019398Z",
     "shell.execute_reply.started": "2021-02-26T10:39:21.803719Z"
    }
   },
   "outputs": [],
   "source": [
    "df= polys2[\"full\"]"
   ]
  },
  {
   "cell_type": "code",
   "execution_count": 16,
   "id": "equal-minnesota",
   "metadata": {
    "execution": {
     "iopub.execute_input": "2021-02-26T10:39:24.058491Z",
     "iopub.status.busy": "2021-02-26T10:39:24.058131Z",
     "iopub.status.idle": "2021-02-26T10:39:24.385493Z",
     "shell.execute_reply": "2021-02-26T10:39:24.382428Z",
     "shell.execute_reply.started": "2021-02-26T10:39:24.058442Z"
    }
   },
   "outputs": [
    {
     "data": {
      "text/html": [
       "<div>\n",
       "<style scoped>\n",
       "    .dataframe tbody tr th:only-of-type {\n",
       "        vertical-align: middle;\n",
       "    }\n",
       "\n",
       "    .dataframe tbody tr th {\n",
       "        vertical-align: top;\n",
       "    }\n",
       "\n",
       "    .dataframe thead th {\n",
       "        text-align: right;\n",
       "    }\n",
       "</style>\n",
       "<table border=\"1\" class=\"dataframe\">\n",
       "  <thead>\n",
       "    <tr style=\"text-align: right;\">\n",
       "      <th></th>\n",
       "      <th>geometry</th>\n",
       "      <th>class_label</th>\n",
       "    </tr>\n",
       "  </thead>\n",
       "  <tbody>\n",
       "    <tr>\n",
       "      <th>0</th>\n",
       "      <td>POLYGON ((0.00000 4.00000, 1.00000 4.00000, 1....</td>\n",
       "      <td>2</td>\n",
       "    </tr>\n",
       "    <tr>\n",
       "      <th>1</th>\n",
       "      <td>POLYGON ((1.00000 4.00000, 2.00000 4.00000, 2....</td>\n",
       "      <td>3</td>\n",
       "    </tr>\n",
       "    <tr>\n",
       "      <th>2</th>\n",
       "      <td>POLYGON ((3.00000 4.00000, 4.00000 4.00000, 4....</td>\n",
       "      <td>1</td>\n",
       "    </tr>\n",
       "    <tr>\n",
       "      <th>3</th>\n",
       "      <td>POLYGON ((0.00000 3.00000, 1.00000 3.00000, 1....</td>\n",
       "      <td>3</td>\n",
       "    </tr>\n",
       "    <tr>\n",
       "      <th>4</th>\n",
       "      <td>POLYGON ((2.00000 4.00000, 3.00000 4.00000, 3....</td>\n",
       "      <td>2</td>\n",
       "    </tr>\n",
       "    <tr>\n",
       "      <th>5</th>\n",
       "      <td>POLYGON ((0.00000 2.00000, 1.00000 2.00000, 1....</td>\n",
       "      <td>1</td>\n",
       "    </tr>\n",
       "    <tr>\n",
       "      <th>6</th>\n",
       "      <td>POLYGON ((1.00000 2.00000, 2.00000 2.00000, 2....</td>\n",
       "      <td>4</td>\n",
       "    </tr>\n",
       "    <tr>\n",
       "      <th>7</th>\n",
       "      <td>POLYGON ((2.00000 2.00000, 4.00000 2.00000, 4....</td>\n",
       "      <td>3</td>\n",
       "    </tr>\n",
       "    <tr>\n",
       "      <th>8</th>\n",
       "      <td>POLYGON ((2.00000 1.00000, 4.00000 1.00000, 4....</td>\n",
       "      <td>4</td>\n",
       "    </tr>\n",
       "  </tbody>\n",
       "</table>\n",
       "</div>"
      ],
      "text/plain": [
       "                                            geometry  class_label\n",
       "0  POLYGON ((0.00000 4.00000, 1.00000 4.00000, 1....            2\n",
       "1  POLYGON ((1.00000 4.00000, 2.00000 4.00000, 2....            3\n",
       "2  POLYGON ((3.00000 4.00000, 4.00000 4.00000, 4....            1\n",
       "3  POLYGON ((0.00000 3.00000, 1.00000 3.00000, 1....            3\n",
       "4  POLYGON ((2.00000 4.00000, 3.00000 4.00000, 3....            2\n",
       "5  POLYGON ((0.00000 2.00000, 1.00000 2.00000, 1....            1\n",
       "6  POLYGON ((1.00000 2.00000, 2.00000 2.00000, 2....            4\n",
       "7  POLYGON ((2.00000 2.00000, 4.00000 2.00000, 4....            3\n",
       "8  POLYGON ((2.00000 1.00000, 4.00000 1.00000, 4....            4"
      ]
     },
     "execution_count": 16,
     "metadata": {},
     "output_type": "execute_result"
    }
   ],
   "source": [
    "df"
   ]
  },
  {
   "cell_type": "code",
   "execution_count": 18,
   "id": "about-portsmouth",
   "metadata": {
    "execution": {
     "iopub.execute_input": "2021-02-26T10:39:35.768954Z",
     "iopub.status.busy": "2021-02-26T10:39:35.768572Z",
     "iopub.status.idle": "2021-02-26T10:39:36.415596Z",
     "shell.execute_reply": "2021-02-26T10:39:36.414283Z",
     "shell.execute_reply.started": "2021-02-26T10:39:35.768919Z"
    }
   },
   "outputs": [
    {
     "data": {
      "text/plain": [
       "<AxesSubplot:>"
      ]
     },
     "execution_count": 18,
     "metadata": {},
     "output_type": "execute_result"
    },
    {
     "data": {
      "image/png": "[encoded data removed]",
      "text/plain": [
       "<Figure size 432x288 with 1 Axes>"
      ]
     },
     "metadata": {
      "needs_background": "light"
     },
     "output_type": "display_data"
    }
   ],
   "source": [
    "df.plot(\"class_label\")"
   ]
  },
  {
   "cell_type": "code",
   "execution_count": 19,
   "id": "essential-madison",
   "metadata": {
    "execution": {
     "iopub.execute_input": "2021-02-26T10:39:41.163130Z",
     "iopub.status.busy": "2021-02-26T10:39:41.162323Z",
     "iopub.status.idle": "2021-02-26T10:39:43.105387Z",
     "shell.execute_reply": "2021-02-26T10:39:43.104120Z",
     "shell.execute_reply.started": "2021-02-26T10:39:41.163040Z"
    }
   },
   "outputs": [
    {
     "data": {
      "text/plain": [
       "<geopandas.sindex.PyGEOSSTRTreeIndex at 0x7f9e90941910>"
      ]
     },
     "execution_count": 19,
     "metadata": {},
     "output_type": "execute_result"
    }
   ],
   "source": [
    "df.sindex"
   ]
  },
  {
   "cell_type": "code",
   "execution_count": 26,
   "id": "homeless-cooper",
   "metadata": {
    "execution": {
     "iopub.execute_input": "2021-02-26T10:42:55.790857Z",
     "iopub.status.busy": "2021-02-26T10:42:55.781050Z",
     "iopub.status.idle": "2021-02-26T10:42:57.479688Z",
     "shell.execute_reply": "2021-02-26T10:42:57.478730Z",
     "shell.execute_reply.started": "2021-02-26T10:42:55.790793Z"
    }
   },
   "outputs": [],
   "source": [
    "geom = df.iloc[0][\"geometry\"]"
   ]
  },
  {
   "cell_type": "code",
   "execution_count": 32,
   "id": "commercial-tanzania",
   "metadata": {
    "execution": {
     "iopub.execute_input": "2021-02-26T10:50:32.451939Z",
     "iopub.status.busy": "2021-02-26T10:50:32.451455Z",
     "iopub.status.idle": "2021-02-26T10:50:44.343558Z",
     "shell.execute_reply": "2021-02-26T10:50:44.342385Z",
     "shell.execute_reply.started": "2021-02-26T10:50:32.451895Z"
    }
   },
   "outputs": [
    {
     "name": "stdout",
     "output_type": "stream",
     "text": [
      "121 µs ± 8.2 µs per loop (mean ± std. dev. of 7 runs, 10000 loops each)\n"
     ]
    }
   ],
   "source": [
    "%%timeit\n",
    "df.sindex.query(geom, predicate=\"intersects\")"
   ]
  },
  {
   "cell_type": "code",
   "execution_count": 31,
   "id": "positive-thesis",
   "metadata": {
    "execution": {
     "iopub.execute_input": "2021-02-26T10:44:56.245294Z",
     "iopub.status.busy": "2021-02-26T10:44:56.244873Z",
     "iopub.status.idle": "2021-02-26T10:44:57.585793Z",
     "shell.execute_reply": "2021-02-26T10:44:57.580757Z",
     "shell.execute_reply.started": "2021-02-26T10:44:56.245258Z"
    }
   },
   "outputs": [
    {
     "data": {
      "text/plain": [
       "array([<pygeos.Geometry POLYGON ((0 4, 1 4, 1 3, 0 3, 0 4))>,\n",
       "       <pygeos.Geometry POLYGON ((1 4, 2 4, 2 3, 1 3, 1 4))>,\n",
       "       <pygeos.Geometry POLYGON ((3 4, 4 4, 4 2, 3 2, 3 4))>,\n",
       "       <pygeos.Geometry POLYGON ((0 3, 1 3, 1 2, 0 2, 0 3))>,\n",
       "       <pygeos.Geometry POLYGON ((2 4, 3 4, 3 2, 2 2, 1 2, 1 3, 2 3, 2 4))>,\n",
       "       <pygeos.Geometry POLYGON ((0 2, 1 2, 1 1, 2 1, 2 0, 0 0, 0 2))>,\n",
       "       <pygeos.Geometry POLYGON ((1 2, 2 2, 2 1, 1 1, 1 2))>,\n",
       "       <pygeos.Geometry POLYGON ((2 2, 4 2, 4 1, 2 1, 2 2))>,\n",
       "       <pygeos.Geometry POLYGON ((2 1, 4 1, 4 0, 2 0, 2 1))>],\n",
       "      dtype=object)"
      ]
     },
     "execution_count": 31,
     "metadata": {},
     "output_type": "execute_result"
    }
   ],
   "source": [
    "df.sindex.geometries"
   ]
  },
  {
   "cell_type": "code",
   "execution_count": 28,
   "id": "seeing-lighter",
   "metadata": {
    "execution": {
     "iopub.execute_input": "2021-02-26T10:44:26.437256Z",
     "iopub.status.busy": "2021-02-26T10:44:26.436752Z",
     "iopub.status.idle": "2021-02-26T10:44:31.467401Z",
     "shell.execute_reply": "2021-02-26T10:44:31.466494Z",
     "shell.execute_reply.started": "2021-02-26T10:44:26.437211Z"
    }
   },
   "outputs": [],
   "source": [
    "df2 = df.drop([2,4])"
   ]
  },
  {
   "cell_type": "code",
   "execution_count": 30,
   "id": "advanced-security",
   "metadata": {
    "execution": {
     "iopub.execute_input": "2021-02-26T10:44:44.624902Z",
     "iopub.status.busy": "2021-02-26T10:44:44.624518Z",
     "iopub.status.idle": "2021-02-26T10:44:47.337848Z",
     "shell.execute_reply": "2021-02-26T10:44:47.336411Z",
     "shell.execute_reply.started": "2021-02-26T10:44:44.624865Z"
    }
   },
   "outputs": [
    {
     "data": {
      "text/plain": [
       "array([<pygeos.Geometry POLYGON ((0 4, 1 4, 1 3, 0 3, 0 4))>,\n",
       "       <pygeos.Geometry POLYGON ((1 4, 2 4, 2 3, 1 3, 1 4))>,\n",
       "       <pygeos.Geometry POLYGON ((0 3, 1 3, 1 2, 0 2, 0 3))>,\n",
       "       <pygeos.Geometry POLYGON ((0 2, 1 2, 1 1, 2 1, 2 0, 0 0, 0 2))>,\n",
       "       <pygeos.Geometry POLYGON ((1 2, 2 2, 2 1, 1 1, 1 2))>,\n",
       "       <pygeos.Geometry POLYGON ((2 2, 4 2, 4 1, 2 1, 2 2))>,\n",
       "       <pygeos.Geometry POLYGON ((2 1, 4 1, 4 0, 2 0, 2 1))>],\n",
       "      dtype=object)"
      ]
     },
     "execution_count": 30,
     "metadata": {},
     "output_type": "execute_result"
    }
   ],
   "source": [
    "df2.sindex.geometries"
   ]
  },
  {
   "cell_type": "code",
   "execution_count": null,
   "id": "median-english",
   "metadata": {},
   "outputs": [],
   "source": []
  }
 ],
 "metadata": {
  "kernelspec": {
   "display_name": "Python 3.8.6 64-bit (conda)",
   "language": "python",
   "name": "python38664bitcondaa02632c3747848fca9e6bac7131e6e7e"
  },
  "language_info": {
   "codemirror_mode": {
    "name": "ipython",
    "version": 3
   },
   "file_extension": ".py",
   "mimetype": "text/x-python",
   "name": "python",
   "nbconvert_exporter": "python",
   "pygments_lexer": "ipython3",
   "version": "3.8.6"
  }
 },
 "nbformat": 4,
 "nbformat_minor": 5
}
