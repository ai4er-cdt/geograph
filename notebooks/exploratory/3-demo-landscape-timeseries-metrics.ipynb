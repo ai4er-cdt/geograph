{
 "cells": [
  {
   "cell_type": "code",
   "execution_count": 1,
   "id": "creative-polyester",
   "metadata": {
    "execution": {
     "iopub.execute_input": "2021-03-17T00:41:48.609983Z",
     "iopub.status.busy": "2021-03-17T00:41:48.609839Z",
     "iopub.status.idle": "2021-03-17T00:41:48.645654Z",
     "shell.execute_reply": "2021-03-17T00:41:48.643551Z",
     "shell.execute_reply.started": "2021-03-17T00:41:48.609942Z"
    }
   },
   "outputs": [],
   "source": [
    "# %load ../jupyter_setup.txt\n",
    "# Convenient jupyter setup\n",
    "%load_ext autoreload\n",
    "%load_ext line_profiler\n",
    "%autoreload 2\n",
    "%config IPCompleter.greedy=True\n",
    "%config IPCompleter.use_jedi=False "
   ]
  },
  {
   "cell_type": "markdown",
   "id": "rolled-allah",
   "metadata": {
    "execution": {
     "iopub.execute_input": "2021-03-17T00:27:28.862432Z",
     "iopub.status.busy": "2021-03-17T00:27:28.862164Z",
     "iopub.status.idle": "2021-03-17T00:27:28.865126Z",
     "shell.execute_reply": "2021-03-17T00:27:28.864672Z",
     "shell.execute_reply.started": "2021-03-17T00:27:28.862410Z"
    }
   },
   "source": [
    "# 1. Imports"
   ]
  },
  {
   "cell_type": "code",
   "execution_count": 2,
   "id": "demanding-investigation",
   "metadata": {
    "execution": {
     "iopub.execute_input": "2021-03-17T00:41:48.647128Z",
     "iopub.status.busy": "2021-03-17T00:41:48.646987Z",
     "iopub.status.idle": "2021-03-17T00:41:52.045268Z",
     "shell.execute_reply": "2021-03-17T00:41:52.044557Z",
     "shell.execute_reply.started": "2021-03-17T00:41:48.647111Z"
    }
   },
   "outputs": [
    {
     "name": "stderr",
     "output_type": "stream",
     "text": [
      "/home/users/svm/Code/gtc-biodiversity/env/lib/python3.8/site-packages/geopandas/_compat.py:84: UserWarning: The Shapely GEOS version (3.8.0-CAPI-1.13.1 ) is incompatible with the GEOS version PyGEOS was compiled with (3.9.0-CAPI-1.16.2). Conversions between both will be slow.\n",
      "  warnings.warn(\n"
     ]
    }
   ],
   "source": [
    "import matplotlib.pyplot as plt\n",
    "\n",
    "import numpy as np\n",
    "import pandas as pd\n",
    "\n",
    "import rioxarray as rxr\n",
    "import geopandas as gpd\n",
    "\n",
    "import pylandstats as pls\n",
    "\n",
    "from src.models.geograph import GeoGraph\n",
    "from src.data_loading.rasterio_utils import polygonise\n",
    "from src.constants import GWS_DATA_DIR, ESA_LANDCOVER_DIR, UTM35N\n",
    "\n",
    "# Parse geotif landcover data\n",
    "chernobyl_path = lambda year: GWS_DATA_DIR / \"esa_cci_rois\" / f\"esa_cci_{year}_chernobyl.tif\" \n",
    "\n",
    "# Parse ROIS\n",
    "rois = gpd.read_file(GWS_DATA_DIR / \"chernobyl_exclusion_zone_v1.geojson\")\n",
    "cez = rois[rois[\"name\"] == \"Chernobyl Exclusion Zone\"]"
   ]
  },
  {
   "cell_type": "markdown",
   "id": "committed-alcohol",
   "metadata": {
    "execution": {
     "iopub.execute_input": "2021-03-17T00:27:46.499896Z",
     "iopub.status.busy": "2021-03-17T00:27:46.499631Z",
     "iopub.status.idle": "2021-03-17T00:27:46.502553Z",
     "shell.execute_reply": "2021-03-17T00:27:46.502087Z",
     "shell.execute_reply.started": "2021-03-17T00:27:46.499874Z"
    }
   },
   "source": [
    "# 2. Loading Chernobyl Landcover data (ESA CCI)"
   ]
  },
  {
   "cell_type": "markdown",
   "id": "healthy-cassette",
   "metadata": {
    "execution": {
     "iopub.execute_input": "2021-03-17T00:28:07.434871Z",
     "iopub.status.busy": "2021-03-17T00:28:07.434616Z",
     "iopub.status.idle": "2021-03-17T00:28:07.441569Z",
     "shell.execute_reply": "2021-03-17T00:28:07.440945Z",
     "shell.execute_reply.started": "2021-03-17T00:28:07.434849Z"
    }
   },
   "source": [
    "For this demonstration we will use the ESA CCI landcover dataset as an example to illustrate how\n",
    "geographs enable us to reproduce the same metrics that traditional fragmentation software (pylandstats, fragstats)\n",
    "produce.\n",
    "\n",
    "In this demo we will look specifically at the Chernobyl exclusion zone, so we reproject the satellite data to the right coordinate\n",
    "system (UTM35N) and clip to the CEZ region of interest)."
   ]
  },
  {
   "cell_type": "code",
   "execution_count": 3,
   "id": "selected-norway",
   "metadata": {
    "execution": {
     "iopub.execute_input": "2021-03-17T00:41:52.046486Z",
     "iopub.status.busy": "2021-03-17T00:41:52.046332Z",
     "iopub.status.idle": "2021-03-17T00:41:52.067051Z",
     "shell.execute_reply": "2021-03-17T00:41:52.066627Z",
     "shell.execute_reply.started": "2021-03-17T00:41:52.046468Z"
    }
   },
   "outputs": [],
   "source": [
    "def clip_and_reproject(xrdata, clip_geometry=None, to_crs=UTM35N, x_res=300, y_res=300):\n",
    "    \n",
    "    if clip_geometry is not None:\n",
    "        clipped_data = xrdata.rio.clip(clip_geometry)\n",
    "    else:\n",
    "        clipped_data = xrdata\n",
    "        \n",
    "    if to_crs is not None:\n",
    "        reprojected_data = clipped_data.rio.reproject(to_crs, resolution=(x_res, y_res))\n",
    "    else:\n",
    "        reprojected_data = clipped_data\n",
    "    \n",
    "    return reprojected_data"
   ]
  },
  {
   "cell_type": "code",
   "execution_count": null,
   "id": "confidential-january",
   "metadata": {
    "execution": {
     "iopub.execute_input": "2021-03-17T00:41:52.068293Z",
     "iopub.status.busy": "2021-03-17T00:41:52.068063Z"
    }
   },
   "outputs": [],
   "source": [
    "# Loading raster data\n",
    "years = range(2000, 2015)\n",
    "\n",
    "rasters = {year: clip_and_reproject(rxr.open_rasterio(chernobyl_path(year)), \n",
    "                                    clip_geometry=cez.geometry) \n",
    "           for year in years}"
   ]
  },
  {
   "cell_type": "code",
   "execution_count": null,
   "id": "included-civilian",
   "metadata": {},
   "outputs": [],
   "source": [
    "%%time\n",
    "# Loading raster data into geographs\n",
    "graphs = {year: GeoGraph(data=rasters[year].data, \n",
    "                         transform=rasters[year].rio.transform(), \n",
    "                         crs=UTM35N, \n",
    "                         connectivity=8)\n",
    "          for year in years}"
   ]
  },
  {
   "cell_type": "code",
   "execution_count": null,
   "id": "hidden-biotechnology",
   "metadata": {},
   "outputs": [],
   "source": [
    "# Loading raster data into pylandstats\n",
    "landscapes = {year: pls.Landscape(rasters[year].data.squeeze(), \n",
    "                                  res=(300,300) , \n",
    "                                  nodata=0) \n",
    "              for year in years}"
   ]
  },
  {
   "cell_type": "markdown",
   "id": "certified-suffering",
   "metadata": {},
   "source": [
    "# 3. Metrics calculation"
   ]
  },
  {
   "cell_type": "code",
   "execution_count": null,
   "id": "comprehensive-ballot",
   "metadata": {},
   "outputs": [],
   "source": [
    "from src.models.geotimeline import GeoGraphTimeline"
   ]
  },
  {
   "cell_type": "code",
   "execution_count": null,
   "id": "toxic-offering",
   "metadata": {},
   "outputs": [],
   "source": [
    "graph_timestack = GeoGraphTimeline(graphs)"
   ]
  },
  {
   "cell_type": "code",
   "execution_count": null,
   "id": "varying-metallic",
   "metadata": {},
   "outputs": [],
   "source": [
    "graph_timestack.get_metric(total_area)"
   ]
  }
 ],
 "metadata": {
  "kernelspec": {
   "display_name": "Python 3.8.6 64-bit (conda)",
   "language": "python",
   "name": "python38664bitcondaa02632c3747848fca9e6bac7131e6e7e"
  },
  "language_info": {
   "codemirror_mode": {
    "name": "ipython",
    "version": 3
   },
   "file_extension": ".py",
   "mimetype": "text/x-python",
   "name": "python",
   "nbconvert_exporter": "python",
   "pygments_lexer": "ipython3",
   "version": "3.8.6"
  }
 },
 "nbformat": 4,
 "nbformat_minor": 5
}
