{
 "cells": [
  {
   "cell_type": "code",
   "execution_count": 1,
   "id": "ready-middle",
   "metadata": {
    "execution": {
     "iopub.execute_input": "2021-03-17T00:41:48.609983Z",
     "iopub.status.busy": "2021-03-17T00:41:48.609839Z",
     "iopub.status.idle": "2021-03-17T00:41:48.645654Z",
     "shell.execute_reply": "2021-03-17T00:41:48.643551Z",
     "shell.execute_reply.started": "2021-03-17T00:41:48.609942Z"
    }
   },
   "outputs": [],
   "source": [
    "# %load ../jupyter_setup.txt\n",
    "# Convenient jupyter setup\n",
    "%load_ext autoreload\n",
    "%load_ext line_profiler\n",
    "%autoreload 2\n",
    "%config IPCompleter.greedy=True\n",
    "%config IPCompleter.use_jedi=False "
   ]
  },
  {
   "cell_type": "markdown",
   "id": "careful-honolulu",
   "metadata": {
    "execution": {
     "iopub.execute_input": "2021-03-17T00:27:28.862432Z",
     "iopub.status.busy": "2021-03-17T00:27:28.862164Z",
     "iopub.status.idle": "2021-03-17T00:27:28.865126Z",
     "shell.execute_reply": "2021-03-17T00:27:28.864672Z",
     "shell.execute_reply.started": "2021-03-17T00:27:28.862410Z"
    }
   },
   "source": [
    "# 1. Imports"
   ]
  },
  {
   "cell_type": "code",
   "execution_count": 2,
   "id": "surprising-graphics",
   "metadata": {
    "execution": {
     "iopub.execute_input": "2021-03-17T00:41:48.647128Z",
     "iopub.status.busy": "2021-03-17T00:41:48.646987Z",
     "iopub.status.idle": "2021-03-17T00:41:52.045268Z",
     "shell.execute_reply": "2021-03-17T00:41:52.044557Z",
     "shell.execute_reply.started": "2021-03-17T00:41:48.647111Z"
    }
   },
   "outputs": [
    {
     "name": "stderr",
     "output_type": "stream",
     "text": [
      "/home/users/svm/Code/gtc-biodiversity/env/lib/python3.8/site-packages/geopandas/_compat.py:84: UserWarning: The Shapely GEOS version (3.8.0-CAPI-1.13.1 ) is incompatible with the GEOS version PyGEOS was compiled with (3.9.0-CAPI-1.16.2). Conversions between both will be slow.\n",
      "  warnings.warn(\n"
     ]
    }
   ],
   "source": [
    "import matplotlib.pyplot as plt\n",
    "\n",
    "import numpy as np\n",
    "import pandas as pd\n",
    "\n",
    "import rioxarray as rxr\n",
    "import geopandas as gpd\n",
    "\n",
    "import pylandstats as pls\n",
    "\n",
    "from src.models.geograph import GeoGraph\n",
    "from src.data_loading.rasterio_utils import polygonise\n",
    "from src.constants import GWS_DATA_DIR, ESA_LANDCOVER_DIR, UTM35N\n",
    "\n",
    "# Parse geotif landcover data\n",
    "chernobyl_path = lambda year: GWS_DATA_DIR / \"esa_cci_rois\" / f\"esa_cci_{year}_chernobyl.tif\" \n",
    "\n",
    "# Parse ROIS\n",
    "rois = gpd.read_file(GWS_DATA_DIR / \"chernobyl_exclusion_zone_v1.geojson\")\n",
    "cez = rois[rois[\"name\"] == \"Chernobyl Exclusion Zone\"]"
   ]
  },
  {
   "cell_type": "markdown",
   "id": "better-pulse",
   "metadata": {
    "execution": {
     "iopub.execute_input": "2021-03-17T00:27:46.499896Z",
     "iopub.status.busy": "2021-03-17T00:27:46.499631Z",
     "iopub.status.idle": "2021-03-17T00:27:46.502553Z",
     "shell.execute_reply": "2021-03-17T00:27:46.502087Z",
     "shell.execute_reply.started": "2021-03-17T00:27:46.499874Z"
    }
   },
   "source": [
    "# 2. Loading Chernobyl Landcover data (ESA CCI)"
   ]
  },
  {
   "cell_type": "markdown",
   "id": "swiss-equilibrium",
   "metadata": {
    "execution": {
     "iopub.execute_input": "2021-03-17T00:28:07.434871Z",
     "iopub.status.busy": "2021-03-17T00:28:07.434616Z",
     "iopub.status.idle": "2021-03-17T00:28:07.441569Z",
     "shell.execute_reply": "2021-03-17T00:28:07.440945Z",
     "shell.execute_reply.started": "2021-03-17T00:28:07.434849Z"
    }
   },
   "source": [
    "For this demonstration we will use the ESA CCI landcover dataset as an example to illustrate how\n",
    "geographs enable us to reproduce the same metrics that traditional fragmentation software (pylandstats, fragstats)\n",
    "produce.\n",
    "\n",
    "In this demo we will look specifically at the Chernobyl exclusion zone, so we reproject the satellite data to the right coordinate\n",
    "system (UTM35N) and clip to the CEZ region of interest)."
   ]
  },
  {
   "cell_type": "code",
   "execution_count": 3,
   "id": "executive-clinton",
   "metadata": {
    "execution": {
     "iopub.execute_input": "2021-03-17T00:41:52.046486Z",
     "iopub.status.busy": "2021-03-17T00:41:52.046332Z",
     "iopub.status.idle": "2021-03-17T00:41:52.067051Z",
     "shell.execute_reply": "2021-03-17T00:41:52.066627Z",
     "shell.execute_reply.started": "2021-03-17T00:41:52.046468Z"
    }
   },
   "outputs": [],
   "source": [
    "def clip_and_reproject(xrdata, clip_geometry=None, to_crs=UTM35N, x_res=300, y_res=300):\n",
    "    \n",
    "    if clip_geometry is not None:\n",
    "        clipped_data = xrdata.rio.clip(clip_geometry)\n",
    "    else:\n",
    "        clipped_data = xrdata\n",
    "        \n",
    "    if to_crs is not None:\n",
    "        reprojected_data = clipped_data.rio.reproject(to_crs, resolution=(x_res, y_res))\n",
    "    else:\n",
    "        reprojected_data = clipped_data\n",
    "    \n",
    "    return reprojected_data"
   ]
  },
  {
   "cell_type": "code",
   "execution_count": 4,
   "id": "literary-humidity",
   "metadata": {
    "execution": {
     "iopub.execute_input": "2021-03-17T00:41:52.068293Z",
     "iopub.status.busy": "2021-03-17T00:41:52.068063Z",
     "iopub.status.idle": "2021-03-17T00:41:56.468357Z",
     "shell.execute_reply": "2021-03-17T00:41:56.467715Z",
     "shell.execute_reply.started": "2021-03-17T00:41:52.068272Z"
    }
   },
   "outputs": [],
   "source": [
    "# Loading raster data\n",
    "years = range(2000, 2015)\n",
    "\n",
    "rasters = {year: clip_and_reproject(rxr.open_rasterio(chernobyl_path(year)), \n",
    "                                    clip_geometry=cez.geometry) \n",
    "           for year in years}"
   ]
  },
  {
   "cell_type": "code",
   "execution_count": 5,
   "id": "committed-administrator",
   "metadata": {
    "collapsed": true,
    "execution": {
     "iopub.execute_input": "2021-03-17T00:41:56.469424Z",
     "iopub.status.busy": "2021-03-17T00:41:56.469295Z",
     "iopub.status.idle": "2021-03-17T00:44:48.500539Z",
     "shell.execute_reply": "2021-03-17T00:44:48.500000Z",
     "shell.execute_reply.started": "2021-03-17T00:41:56.469407Z"
    },
    "jupyter": {
     "outputs_hidden": true
    }
   },
   "outputs": [
    {
     "name": "stderr",
     "output_type": "stream",
     "text": [
      "Step 1 of 2: Creating nodes and finding neighbours: 100%|██████████| 1925/1925 [00:04<00:00, 386.08it/s]\n",
      "Step 2 of 2: Adding edges: 100%|██████████| 1925/1925 [00:00<00:00, 82260.53it/s]\n"
     ]
    },
    {
     "name": "stdout",
     "output_type": "stream",
     "text": [
      "Graph successfully loaded with 1925 nodes and 5162 edges.\n"
     ]
    },
    {
     "name": "stderr",
     "output_type": "stream",
     "text": [
      "Step 1 of 2: Creating nodes and finding neighbours: 100%|██████████| 1932/1932 [00:04<00:00, 401.30it/s]\n",
      "Step 2 of 2: Adding edges: 100%|██████████| 1932/1932 [00:00<00:00, 82953.50it/s]\n"
     ]
    },
    {
     "name": "stdout",
     "output_type": "stream",
     "text": [
      "Graph successfully loaded with 1932 nodes and 5168 edges.\n"
     ]
    },
    {
     "name": "stderr",
     "output_type": "stream",
     "text": [
      "Step 1 of 2: Creating nodes and finding neighbours: 100%|██████████| 1930/1930 [00:04<00:00, 402.81it/s]\n",
      "Step 2 of 2: Adding edges: 100%|██████████| 1930/1930 [00:00<00:00, 82081.98it/s]\n"
     ]
    },
    {
     "name": "stdout",
     "output_type": "stream",
     "text": [
      "Graph successfully loaded with 1930 nodes and 5146 edges.\n"
     ]
    },
    {
     "name": "stderr",
     "output_type": "stream",
     "text": [
      "Step 1 of 2: Creating nodes and finding neighbours: 100%|██████████| 1937/1937 [00:06<00:00, 282.01it/s]\n",
      "Step 2 of 2: Adding edges: 100%|██████████| 1937/1937 [00:00<00:00, 80749.48it/s]\n"
     ]
    },
    {
     "name": "stdout",
     "output_type": "stream",
     "text": [
      "Graph successfully loaded with 1937 nodes and 5153 edges.\n"
     ]
    },
    {
     "name": "stderr",
     "output_type": "stream",
     "text": [
      "Step 1 of 2: Creating nodes and finding neighbours: 100%|██████████| 1954/1954 [00:07<00:00, 246.51it/s]\n",
      "Step 2 of 2: Adding edges: 100%|██████████| 1954/1954 [00:00<00:00, 80691.46it/s]\n"
     ]
    },
    {
     "name": "stdout",
     "output_type": "stream",
     "text": [
      "Graph successfully loaded with 1954 nodes and 5195 edges.\n"
     ]
    },
    {
     "name": "stderr",
     "output_type": "stream",
     "text": [
      "Step 1 of 2: Creating nodes and finding neighbours: 100%|██████████| 1961/1961 [00:07<00:00, 245.64it/s]\n",
      "Step 2 of 2: Adding edges: 100%|██████████| 1961/1961 [00:00<00:00, 77281.13it/s]\n"
     ]
    },
    {
     "name": "stdout",
     "output_type": "stream",
     "text": [
      "Graph successfully loaded with 1961 nodes and 5215 edges.\n"
     ]
    },
    {
     "name": "stderr",
     "output_type": "stream",
     "text": [
      "Step 1 of 2: Creating nodes and finding neighbours: 100%|██████████| 2005/2005 [00:08<00:00, 240.86it/s]\n",
      "Step 2 of 2: Adding edges: 100%|██████████| 2005/2005 [00:00<00:00, 82506.72it/s]\n"
     ]
    },
    {
     "name": "stdout",
     "output_type": "stream",
     "text": [
      "Graph successfully loaded with 2005 nodes and 5362 edges.\n"
     ]
    },
    {
     "name": "stderr",
     "output_type": "stream",
     "text": [
      "Step 1 of 2: Creating nodes and finding neighbours: 100%|██████████| 1997/1997 [00:08<00:00, 241.97it/s]\n",
      "Step 2 of 2: Adding edges: 100%|██████████| 1997/1997 [00:00<00:00, 78108.33it/s]\n"
     ]
    },
    {
     "name": "stdout",
     "output_type": "stream",
     "text": [
      "Graph successfully loaded with 1997 nodes and 5389 edges.\n"
     ]
    },
    {
     "name": "stderr",
     "output_type": "stream",
     "text": [
      "Step 1 of 2: Creating nodes and finding neighbours: 100%|██████████| 1993/1993 [00:08<00:00, 239.22it/s]\n",
      "Step 2 of 2: Adding edges: 100%|██████████| 1993/1993 [00:00<00:00, 11355.82it/s]\n"
     ]
    },
    {
     "name": "stdout",
     "output_type": "stream",
     "text": [
      "Graph successfully loaded with 1993 nodes and 5364 edges.\n"
     ]
    },
    {
     "name": "stderr",
     "output_type": "stream",
     "text": [
      "Step 1 of 2: Creating nodes and finding neighbours: 100%|██████████| 1995/1995 [00:08<00:00, 229.16it/s]\n",
      "Step 2 of 2: Adding edges: 100%|██████████| 1995/1995 [00:00<00:00, 75049.43it/s]\n"
     ]
    },
    {
     "name": "stdout",
     "output_type": "stream",
     "text": [
      "Graph successfully loaded with 1995 nodes and 5354 edges.\n"
     ]
    },
    {
     "name": "stderr",
     "output_type": "stream",
     "text": [
      "Step 1 of 2: Creating nodes and finding neighbours: 100%|██████████| 1989/1989 [00:08<00:00, 230.93it/s]\n",
      "Step 2 of 2: Adding edges: 100%|██████████| 1989/1989 [00:00<00:00, 78523.28it/s]\n"
     ]
    },
    {
     "name": "stdout",
     "output_type": "stream",
     "text": [
      "Graph successfully loaded with 1989 nodes and 5326 edges.\n"
     ]
    },
    {
     "name": "stderr",
     "output_type": "stream",
     "text": [
      "Step 1 of 2: Creating nodes and finding neighbours: 100%|██████████| 2004/2004 [00:08<00:00, 235.81it/s]\n",
      "Step 2 of 2: Adding edges: 100%|██████████| 2004/2004 [00:00<00:00, 74872.27it/s]\n"
     ]
    },
    {
     "name": "stdout",
     "output_type": "stream",
     "text": [
      "Graph successfully loaded with 2004 nodes and 5377 edges.\n"
     ]
    },
    {
     "name": "stderr",
     "output_type": "stream",
     "text": [
      "Step 1 of 2: Creating nodes and finding neighbours: 100%|██████████| 1999/1999 [00:08<00:00, 229.46it/s]\n",
      "Step 2 of 2: Adding edges: 100%|██████████| 1999/1999 [00:00<00:00, 80794.94it/s]\n"
     ]
    },
    {
     "name": "stdout",
     "output_type": "stream",
     "text": [
      "Graph successfully loaded with 1999 nodes and 5365 edges.\n"
     ]
    },
    {
     "name": "stderr",
     "output_type": "stream",
     "text": [
      "Step 1 of 2: Creating nodes and finding neighbours: 100%|██████████| 2004/2004 [00:08<00:00, 233.38it/s]\n",
      "Step 2 of 2: Adding edges: 100%|██████████| 2004/2004 [00:00<00:00, 78785.47it/s]\n"
     ]
    },
    {
     "name": "stdout",
     "output_type": "stream",
     "text": [
      "Graph successfully loaded with 2004 nodes and 5383 edges.\n"
     ]
    },
    {
     "name": "stderr",
     "output_type": "stream",
     "text": [
      "Step 1 of 2: Creating nodes and finding neighbours: 100%|██████████| 2000/2000 [00:08<00:00, 229.91it/s]\n",
      "Step 2 of 2: Adding edges: 100%|██████████| 2000/2000 [00:00<00:00, 78415.79it/s]"
     ]
    },
    {
     "name": "stdout",
     "output_type": "stream",
     "text": [
      "Graph successfully loaded with 2000 nodes and 5360 edges.\n"
     ]
    },
    {
     "name": "stderr",
     "output_type": "stream",
     "text": [
      "\n"
     ]
    }
   ],
   "source": [
    "%%time\n",
    "# Loading raster data into geographs\n",
    "graphs = {year: GeoGraph(data=rasters[year].data, \n",
    "                         transform=rasters[year].rio.transform(), \n",
    "                         crs=UTM35N, \n",
    "                         connectivity=8)\n",
    "          for year in years}"
   ]
  },
  {
   "cell_type": "code",
   "execution_count": 6,
   "id": "forty-grill",
   "metadata": {
    "execution": {
     "iopub.execute_input": "2021-03-17T00:44:48.501362Z",
     "iopub.status.busy": "2021-03-17T00:44:48.501243Z",
     "iopub.status.idle": "2021-03-17T00:44:49.216501Z",
     "shell.execute_reply": "2021-03-17T00:44:49.216155Z",
     "shell.execute_reply.started": "2021-03-17T00:44:48.501346Z"
    }
   },
   "outputs": [],
   "source": [
    "# Loading raster data into pylandstats\n",
    "landscapes = {year: pls.Landscape(rasters[year].data.squeeze(), \n",
    "                                  res=(300,300) , \n",
    "                                  nodata=0) \n",
    "              for year in years}"
   ]
  },
  {
   "cell_type": "markdown",
   "id": "peripheral-screw",
   "metadata": {},
   "source": [
    "# 3. Metrics calculation"
   ]
  },
  {
   "cell_type": "code",
   "execution_count": 7,
   "id": "divided-conservation",
   "metadata": {
    "execution": {
     "iopub.execute_input": "2021-03-17T00:44:49.217593Z",
     "iopub.status.busy": "2021-03-17T00:44:49.217478Z",
     "iopub.status.idle": "2021-03-17T00:44:49.247475Z",
     "shell.execute_reply": "2021-03-17T00:44:49.247183Z",
     "shell.execute_reply.started": "2021-03-17T00:44:49.217579Z"
    }
   },
   "outputs": [],
   "source": [
    "from src.models.geotimeline import GeoGraphTimeline"
   ]
  },
  {
   "cell_type": "code",
   "execution_count": 12,
   "id": "copyrighted-sperm",
   "metadata": {
    "execution": {
     "iopub.execute_input": "2021-03-17T00:46:12.172776Z",
     "iopub.status.busy": "2021-03-17T00:46:12.172557Z",
     "iopub.status.idle": "2021-03-17T00:46:12.281060Z",
     "shell.execute_reply": "2021-03-17T00:46:12.280655Z",
     "shell.execute_reply.started": "2021-03-17T00:46:12.172757Z"
    }
   },
   "outputs": [],
   "source": [
    "graph_timestack = GeoGraphTimeline(graphs)"
   ]
  },
  {
   "cell_type": "code",
   "execution_count": 15,
   "id": "found-statistics",
   "metadata": {
    "execution": {
     "iopub.execute_input": "2021-03-17T00:46:21.224136Z",
     "iopub.status.busy": "2021-03-17T00:46:21.223934Z",
     "iopub.status.idle": "2021-03-17T00:46:21.374333Z",
     "shell.execute_reply": "2021-03-17T00:46:21.374010Z",
     "shell.execute_reply.started": "2021-03-17T00:46:21.224118Z"
    }
   },
   "outputs": [
    {
     "data": {
      "text/plain": [
       "[<matplotlib.lines.Line2D at 0x7f2b80c74f70>]"
      ]
     },
     "execution_count": 15,
     "metadata": {},
     "output_type": "execute_result"
    },
    {
     "data": {
      "image/png": "[encoded data removed]",
      "text/plain": [
       "<Figure size 432x288 with 1 Axes>"
      ]
     },
     "metadata": {
      "needs_background": "light"
     },
     "output_type": "display_data"
    }
   ],
   "source": [
    "plt.plot(graph_timestack.get_metric(\"total_area\"))"
   ]
  },
  {
   "cell_type": "code",
   "execution_count": 21,
   "id": "immediate-vatican",
   "metadata": {
    "execution": {
     "iopub.execute_input": "2021-03-17T00:47:38.801011Z",
     "iopub.status.busy": "2021-03-17T00:47:38.800816Z",
     "iopub.status.idle": "2021-03-17T00:47:39.099791Z",
     "shell.execute_reply": "2021-03-17T00:47:39.099429Z",
     "shell.execute_reply.started": "2021-03-17T00:47:38.800994Z"
    }
   },
   "outputs": [
    {
     "data": {
      "text/plain": [
       "[<matplotlib.lines.Line2D at 0x7f2b9a3535e0>]"
      ]
     },
     "execution_count": 21,
     "metadata": {},
     "output_type": "execute_result"
    },
    {
     "data": {
      "image/png": "[encoded data removed]",
      "text/plain": [
       "<Figure size 432x288 with 1 Axes>"
      ]
     },
     "metadata": {
      "needs_background": "light"
     },
     "output_type": "display_data"
    }
   ],
   "source": [
    "plt.plot(graph_timestack.times, graph_timestack.get_metric(\"shannon_diversity_index\"))"
   ]
  },
  {
   "cell_type": "code",
   "execution_count": 19,
   "id": "compatible-voluntary",
   "metadata": {
    "execution": {
     "iopub.execute_input": "2021-03-17T00:47:27.718038Z",
     "iopub.status.busy": "2021-03-17T00:47:27.717831Z",
     "iopub.status.idle": "2021-03-17T00:47:28.607121Z",
     "shell.execute_reply": "2021-03-17T00:47:28.606759Z",
     "shell.execute_reply.started": "2021-03-17T00:47:27.718020Z"
    }
   },
   "outputs": [
    {
     "data": {
      "text/plain": [
       "[<matplotlib.lines.Line2D at 0x7f2b5ef4b640>]"
      ]
     },
     "execution_count": 19,
     "metadata": {},
     "output_type": "execute_result"
    },
    {
     "data": {
      "image/png": "[encoded data removed]",
      "text/plain": [
       "<Figure size 432x288 with 1 Axes>"
      ]
     },
     "metadata": {
      "needs_background": "light"
     },
     "output_type": "display_data"
    }
   ],
   "source": [
    "plt.plot(graph_timestack.times, graph_timestack.get_metric(\"simpson_diversity_index\"))"
   ]
  },
  {
   "cell_type": "code",
   "execution_count": 20,
   "id": "fewer-shape",
   "metadata": {
    "execution": {
     "iopub.execute_input": "2021-03-17T00:47:35.363882Z",
     "iopub.status.busy": "2021-03-17T00:47:35.363671Z",
     "iopub.status.idle": "2021-03-17T00:47:35.508045Z",
     "shell.execute_reply": "2021-03-17T00:47:35.507682Z",
     "shell.execute_reply.started": "2021-03-17T00:47:35.363864Z"
    }
   },
   "outputs": [
    {
     "data": {
      "text/plain": [
       "[<matplotlib.lines.Line2D at 0x7f2b5ef217f0>]"
      ]
     },
     "execution_count": 20,
     "metadata": {},
     "output_type": "execute_result"
    },
    {
     "data": {
      "image/png": "[encoded data removed]",
      "text/plain": [
       "<Figure size 432x288 with 1 Axes>"
      ]
     },
     "metadata": {
      "needs_background": "light"
     },
     "output_type": "display_data"
    }
   ],
   "source": [
    "plt.plot(graph_timestack.times, graph_timestack.get_metric(\"num_patches\"))"
   ]
  },
  {
   "cell_type": "code",
   "execution_count": 22,
   "id": "shared-seeking",
   "metadata": {
    "execution": {
     "iopub.execute_input": "2021-03-17T00:48:01.085823Z",
     "iopub.status.busy": "2021-03-17T00:48:01.085619Z",
     "iopub.status.idle": "2021-03-17T00:48:01.232933Z",
     "shell.execute_reply": "2021-03-17T00:48:01.232578Z",
     "shell.execute_reply.started": "2021-03-17T00:48:01.085803Z"
    }
   },
   "outputs": [
    {
     "data": {
      "text/plain": [
       "[<matplotlib.lines.Line2D at 0x7f2b5eeec5b0>]"
      ]
     },
     "execution_count": 22,
     "metadata": {},
     "output_type": "execute_result"
    },
    {
     "data": {
      "image/png": "[encoded data removed]",
      "text/plain": [
       "<Figure size 432x288 with 1 Axes>"
      ]
     },
     "metadata": {
      "needs_background": "light"
     },
     "output_type": "display_data"
    }
   ],
   "source": [
    "plt.plot(graph_timestack.times, graph_timestack.get_metric(\"effective_mesh_size\", 10))"
   ]
  },
  {
   "cell_type": "code",
   "execution_count": null,
   "id": "sealed-steering",
   "metadata": {},
   "outputs": [],
   "source": []
  }
 ],
 "metadata": {
  "kernelspec": {
   "display_name": "Python 3.8.6 64-bit (conda)",
   "language": "python",
   "name": "python38664bitcondaa02632c3747848fca9e6bac7131e6e7e"
  },
  "language_info": {
   "codemirror_mode": {
    "name": "ipython",
    "version": 3
   },
   "file_extension": ".py",
   "mimetype": "text/x-python",
   "name": "python",
   "nbconvert_exporter": "python",
   "pygments_lexer": "ipython3",
   "version": "3.8.6"
  }
 },
 "nbformat": 4,
 "nbformat_minor": 5
}
