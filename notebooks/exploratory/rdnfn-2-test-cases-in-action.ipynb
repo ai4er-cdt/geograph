{
 "cells": [
  {
   "cell_type": "markdown",
   "id": "mineral-block",
   "metadata": {},
   "source": [
    "# How load and visualise test cases\n",
    "\n",
    "This notebook shows how to load the test cases available via `src.data_loading.test_data()`. It then builds a graph and visualises it."
   ]
  },
  {
   "cell_type": "code",
   "execution_count": 1,
   "id": "dense-detection",
   "metadata": {},
   "outputs": [],
   "source": [
    "%load_ext autoreload\n",
    "%autoreload 2\n",
    "%config IPCompleter.greedy=True"
   ]
  },
  {
   "cell_type": "code",
   "execution_count": 2,
   "id": "massive-partner",
   "metadata": {},
   "outputs": [],
   "source": [
    "import folium\n",
    "\n",
    "from src.data_loading import test_data\n",
    "from src.models import graph_tools, visualisation"
   ]
  },
  {
   "cell_type": "code",
   "execution_count": 3,
   "id": "hawaiian-bailey",
   "metadata": {},
   "outputs": [],
   "source": [
    "test_gdf = test_data.get_polygon_gdf(\"chernobyl_squares_touching\")"
   ]
  },
  {
   "cell_type": "code",
   "execution_count": 4,
   "id": "alleged-pontiac",
   "metadata": {},
   "outputs": [
    {
     "name": "stderr",
     "output_type": "stream",
     "text": [
      "Step 1 of 2: Creating nodes and finding neighbours: 100%|██████████| 2/2 [00:00<00:00, 708.38it/s]\n",
      "Step 2 of 2: Adding edges: 100%|██████████| 2/2 [00:00<00:00, 7921.25it/s]\n"
     ]
    }
   ],
   "source": [
    "test_graph = graph_tools.create_nx_graph(test_gdf)"
   ]
  },
  {
   "cell_type": "code",
   "execution_count": null,
   "id": "latin-terrorism",
   "metadata": {},
   "outputs": [],
   "source": [
    "m = visualisation.create_graph_visualisation(\n",
    "    polygon_gdf=test_gdf,\n",
    "    color_column='id',\n",
    "    graph=test_graph,\n",
    "    name=\"squares\",\n",
    "    folium_tile_list=['OpenStreetMap','esri']\n",
    ")\n",
    "m = visualisation.add_cez_to_map(m)\n",
    "folium.LayerControl().add_to(m)\n",
    "m"
   ]
  },
  {
   "cell_type": "code",
   "execution_count": null,
   "id": "executed-transparency",
   "metadata": {},
   "outputs": [],
   "source": []
  }
 ],
 "metadata": {
  "kernelspec": {
   "display_name": "Python 3",
   "language": "python",
   "name": "python3"
  },
  "language_info": {
   "codemirror_mode": {
    "name": "ipython",
    "version": 3
   },
   "file_extension": ".py",
   "mimetype": "text/x-python",
   "name": "python",
   "nbconvert_exporter": "python",
   "pygments_lexer": "ipython3",
   "version": "3.8.6"
  }
 },
 "nbformat": 4,
 "nbformat_minor": 5
}
