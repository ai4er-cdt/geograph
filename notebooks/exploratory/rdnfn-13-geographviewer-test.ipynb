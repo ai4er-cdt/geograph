{
 "cells": [
  {
   "cell_type": "code",
   "execution_count": null,
   "id": "polyphonic-gateway",
   "metadata": {},
   "outputs": [],
   "source": [
    "%load_ext autoreload\n",
    "%autoreload 2\n",
    "%config IPCompleter.greedy=True"
   ]
  },
  {
   "cell_type": "code",
   "execution_count": null,
   "id": "educational-texture",
   "metadata": {},
   "outputs": [],
   "source": [
    "from src.models import geograph\n",
    "from src.data_loading import test_data\n",
    "from src.constants import PREFERRED_CRS\n",
    "\n",
    "test_gdf = test_data.get_polygon_gdf(\"chernobyl_10_squares_touching\")\n",
    "test_gdf['class_label'] = list(range(10))\n",
    "graph = geograph.GeoGraph(test_gdf, crs=PREFERRED_CRS)\n",
    "graph.add_habitat(name=\"eagle_habitat\", valid_classes=[0], max_travel_distance=10000)\n",
    "\n",
    "from src.visualisation import geoviewer, control_widgets"
   ]
  },
  {
   "cell_type": "code",
   "execution_count": null,
   "id": "distinct-kenya",
   "metadata": {},
   "outputs": [],
   "source": [
    "import ipyleaflet\n",
    "\n",
    "viewer = geoviewer.GeoGraphViewer()\n",
    "viewer.add_graph(graph, name='main_graph')\n",
    "viewer.add_layer(ipyleaflet.basemaps.Esri.WorldImagery)\n",
    "viewer.enable_graph_controls()\n",
    "#viewer.log_handler.show_logs()\n",
    "viewer"
   ]
  },
  {
   "cell_type": "code",
   "execution_count": null,
   "id": "unsigned-butterfly",
   "metadata": {},
   "outputs": [],
   "source": []
  },
  {
   "cell_type": "code",
   "execution_count": null,
   "id": "touched-beaver",
   "metadata": {},
   "outputs": [],
   "source": []
  }
 ],
 "metadata": {
  "kernelspec": {
   "display_name": "Python 3",
   "language": "python",
   "name": "python3"
  },
  "language_info": {
   "codemirror_mode": {
    "name": "ipython",
    "version": 3
   },
   "file_extension": ".py",
   "mimetype": "text/x-python",
   "name": "python",
   "nbconvert_exporter": "python",
   "pygments_lexer": "ipython3",
   "version": "3.8.8"
  }
 },
 "nbformat": 4,
 "nbformat_minor": 5
}
