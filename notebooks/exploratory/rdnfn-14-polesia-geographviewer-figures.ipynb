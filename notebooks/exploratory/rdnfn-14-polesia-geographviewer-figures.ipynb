{
 "cells": [
  {
   "cell_type": "markdown",
   "id": "exposed-stone",
   "metadata": {},
   "source": [
    "# Introduction to `GeoGraph`"
   ]
  },
  {
   "cell_type": "markdown",
   "id": "threatened-dragon",
   "metadata": {},
   "source": [
    "---\n",
    "\n",
    "## 0. Setup and Loading package"
   ]
  },
  {
   "cell_type": "code",
   "execution_count": null,
   "id": "three-retirement",
   "metadata": {},
   "outputs": [],
   "source": [
    "%load_ext autoreload\n",
    "%autoreload 2\n",
    "%config IPCompleter.greedy=True"
   ]
  },
  {
   "cell_type": "code",
   "execution_count": null,
   "id": "attended-roommate",
   "metadata": {},
   "outputs": [],
   "source": [
    "import ipyleaflet\n",
    "\n",
    "from src.data_loading import jasmin\n",
    "from src.models import geograph\n",
    "from src.visualisation import geoviewer\n",
    "from src.constants import PREFERRED_CRS"
   ]
  },
  {
   "cell_type": "markdown",
   "id": "altered-collaboration",
   "metadata": {},
   "source": [
    "---\n",
    "\n",
    "## 1. Loading Data"
   ]
  },
  {
   "cell_type": "code",
   "execution_count": null,
   "id": "endangered-fundamentals",
   "metadata": {},
   "outputs": [],
   "source": [
    "# Loading Polesia data set from shared Jasmin folder\n",
    "gdf = jasmin.get_polesia_data()\n",
    "\n",
    "# Looking at south-west corner of data\n",
    "# Choosen because are of wilderness as discussed\n",
    "minx, miny, maxx, maxy = gdf.total_bounds\n",
    "square_len = 25000\n",
    "\n",
    "gdf = gdf.cx[ minx:minx+square_len  ,  miny:miny+square_len+10000]\n",
    "\n",
    "print(\"Number of patches in region of interest:\", len(gdf))\n",
    "gdf.plot()\n",
    "gdf.head(5)"
   ]
  },
  {
   "cell_type": "markdown",
   "id": "according-helen",
   "metadata": {},
   "source": [
    "---\n",
    "\n",
    "## 2. Creating `GeoGraph`"
   ]
  },
  {
   "cell_type": "code",
   "execution_count": null,
   "id": "significant-nomination",
   "metadata": {},
   "outputs": [],
   "source": [
    "# Building the main graph structure\n",
    "\n",
    "graph = geograph.GeoGraph(gdf, \n",
    "                          crs=PREFERRED_CRS, \n",
    "                          columns_to_rename={\"Eunis_name\":\"class_label\",\"AREA\":\"area\"})"
   ]
  },
  {
   "cell_type": "markdown",
   "id": "rough-thomas",
   "metadata": {},
   "source": [
    "---\n",
    "\n",
    "## 3. Creating Habitats"
   ]
  },
  {
   "cell_type": "code",
   "execution_count": null,
   "id": "manufactured-finding",
   "metadata": {},
   "outputs": [],
   "source": [
    "# First selecting the classes that make up our habitat\n",
    "# We chose all classes with 'pine' in the name.\n",
    "pine_classes = [label for label in graph.df.class_label.unique() if 'pine' in label]\n",
    "pine_classes"
   ]
  },
  {
   "cell_type": "code",
   "execution_count": null,
   "id": "billion-exclusion",
   "metadata": {},
   "outputs": [],
   "source": [
    "# Proposed distance from email: mobile (<100m), semi mobile (<25m) and sessile (<5m)\n",
    "graph.add_habitat('Sessile', \n",
    "                  max_travel_distance=5, \n",
    "                  valid_classes=pine_classes)\n",
    "\n",
    "graph.add_habitat('Semi mobile', \n",
    "                  max_travel_distance=25, \n",
    "                  valid_classes=pine_classes)\n",
    "\n",
    "graph.add_habitat('Mobile',\n",
    "                  max_travel_distance=500, \n",
    "                  valid_classes=pine_classes)\n"
   ]
  },
  {
   "cell_type": "markdown",
   "id": "educated-letters",
   "metadata": {},
   "source": [
    "---\n",
    "\n",
    "## 4. Interactive Graph"
   ]
  },
  {
   "cell_type": "code",
   "execution_count": null,
   "id": "handled-zambia",
   "metadata": {},
   "outputs": [],
   "source": [
    "# Figure: Transition from satellite to graph\n",
    "\n",
    "viewer = geoviewer.GeoGraphViewer(metrics=[])\n",
    "viewer.add_layer(ipyleaflet.basemaps.Esri.WorldImagery)\n",
    "viewer.add_graph(graph, name='Polesia data')\n",
    "# Setting up weakly connected patches\n",
    "viewer.enable_graph_controls()\n",
    "viewer.zoom = 14.4\n",
    "viewer.center = [51.654694158615, 27.32989149602355]\n",
    "#viewer.add_layer(ipyleaflet.basemaps.Esri.WorldImagery)\n",
    "viewer.set_graph_style(radius = 12, node_color = \"snow\")\n",
    "\n",
    "# Credits\n",
    "# Tiles © Esri — Source: Esri, i-cubed, USDA, USGS, AEX, GeoEye, Getmapping, Aerogrid, IGN, IGP, UPR-EGP, and the GIS User Community\n",
    "\n",
    "viewer"
   ]
  },
  {
   "cell_type": "code",
   "execution_count": null,
   "id": "rotary-implement",
   "metadata": {},
   "outputs": [],
   "source": [
    "# Figure: Setting up weakly connected patches\n",
    "viewer = geoviewer.GeoGraphViewer(metrics=[])\n",
    "viewer.add_layer(ipyleaflet.basemaps.Esri.WorldImagery)\n",
    "viewer.add_graph(graph, name='Polesia data')\n",
    "#viewer.enable_graph_controls()\n",
    "viewer.zoom = 15.2\n",
    "viewer.center = [51.76588490975275, 27.45531214926325]\n",
    "#viewer.add_layer(ipyleaflet.basemaps.Esri.WorldImagery)\n",
    "viewer.set_graph_style(radius = 12, node_color = \"snow\")\n",
    "\n",
    "viewer"
   ]
  },
  {
   "cell_type": "code",
   "execution_count": null,
   "id": "exclusive-skiing",
   "metadata": {},
   "outputs": [],
   "source": [
    "# Figure: component concept visualisation\n",
    "\n",
    "from src.visualisation import style\n",
    "\n",
    "fig_style = style.DEFAULT_LAYER_STYLE\n",
    "fig_style[\"components\"] = dict(\n",
    "    style={\"color\": \"black\", \"fillColor\": \"snow\", \"fillOpacity\": 0.0, \"opacity\":0.0},\n",
    "    hover_style={\"color\": \"#be3f00\", \"fillColor\": \"snow\", \"fillOpacity\": 0.3, \"opacity\":1.0},\n",
    ")\n",
    "\n",
    "\n",
    "center = [51.75800070222692, 27.261547535375417]   \n",
    "\n",
    "viewer = geoviewer.GeoGraphViewer(metrics=[])\n",
    "viewer.zoom = 13.6\n",
    "viewer.center=center\n",
    "viewer.layer_style=fig_style\n",
    "viewer.add_graph(graph, name='Polesia data')\n",
    "viewer.hide_all_layers()\n",
    "viewer.layer_dict[\"graphs\"][\"Mobile\"][\"components\"][\"active\"] = True\n",
    "viewer.layer_dict[\"graphs\"][\"Mobile\"][\"pgons\"][\"active\"] = True\n",
    "viewer.layer_dict[\"graphs\"][\"Mobile\"][\"graph\"][\"active\"] = True\n",
    "viewer.layer_update()\n",
    "viewer.set_graph_style(radius = 12, node_color = \"snow\")"
   ]
  },
  {
   "cell_type": "code",
   "execution_count": null,
   "id": "nasty-center",
   "metadata": {},
   "outputs": [],
   "source": [
    "# Figure: component overlap visualisation\n",
    "\n",
    "from src.visualisation import style\n",
    "\n",
    "graph.add_habitat('HyperMobile',\n",
    "                  max_travel_distance=700, \n",
    "                  valid_classes=pine_classes)\n",
    "\n",
    "fig_style = style.DEFAULT_LAYER_STYLE\n",
    "fig_style[\"components\"] = dict(\n",
    "    style={\"color\": \"blue\", \"fillColor\": \"blue\", \"fillOpacity\": 0.6, \"opacity\":0.6},\n",
    "    hover_style={\"color\": \"#be3f00\", \"fillColor\": \"snow\", \"fillOpacity\": 0.3, \"opacity\":1.0},\n",
    ")\n",
    "\n",
    "\n",
    "center = [51.62333860838893, 27.299046585196848]  \n",
    "\n",
    "viewer = geoviewer.GeoGraphViewer(metrics=[])\n",
    "viewer.layer_style=fig_style\n",
    "viewer.add_graph(graph, name='Polesia data')\n",
    "viewer.hide_all_layers()\n",
    "viewer.layer_dict[\"graphs\"][\"Mobile\"][\"components\"][\"active\"] = True\n",
    "viewer.layer_dict[\"graphs\"][\"Mobile\"][\"pgons\"][\"active\"] = True\n",
    "viewer.layer_dict[\"graphs\"][\"Mobile\"][\"graph\"][\"active\"] = True\n",
    "viewer.layer_update()\n",
    "viewer.set_graph_style(radius = 12, node_color = \"snow\")"
   ]
  },
  {
   "cell_type": "code",
   "execution_count": null,
   "id": "assisted-arthur",
   "metadata": {},
   "outputs": [],
   "source": [
    "viewer.zoom = 15.200000000000001\n",
    "viewer.center=[51.625034313377896, 27.298781898879223]\n",
    "viewer"
   ]
  },
  {
   "cell_type": "code",
   "execution_count": null,
   "id": "professional-edinburgh",
   "metadata": {},
   "outputs": [],
   "source": [
    "viewer.enable_graph_controls()"
   ]
  },
  {
   "cell_type": "code",
   "execution_count": null,
   "id": "accredited-organizer",
   "metadata": {},
   "outputs": [],
   "source": [
    "print(viewer.zoom)\n",
    "print(viewer.center)"
   ]
  },
  {
   "cell_type": "code",
   "execution_count": null,
   "id": "detected-footwear",
   "metadata": {},
   "outputs": [],
   "source": []
  }
 ],
 "metadata": {
  "kernelspec": {
   "display_name": "Python 3",
   "language": "python",
   "name": "python3"
  },
  "language_info": {
   "codemirror_mode": {
    "name": "ipython",
    "version": 3
   },
   "file_extension": ".py",
   "mimetype": "text/x-python",
   "name": "python",
   "nbconvert_exporter": "python",
   "pygments_lexer": "ipython3",
   "version": "3.8.8"
  }
 },
 "nbformat": 4,
 "nbformat_minor": 5
}
