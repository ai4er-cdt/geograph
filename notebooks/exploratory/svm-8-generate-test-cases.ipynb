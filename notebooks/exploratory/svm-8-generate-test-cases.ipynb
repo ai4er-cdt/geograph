{
 "cells": [
  {
   "cell_type": "code",
   "execution_count": 1,
   "id": "proper-latter",
   "metadata": {
    "execution": {
     "iopub.execute_input": "2021-03-01T16:00:09.478080Z",
     "iopub.status.busy": "2021-03-01T16:00:09.477599Z",
     "iopub.status.idle": "2021-03-01T16:00:09.590814Z",
     "shell.execute_reply": "2021-03-01T16:00:09.589518Z",
     "shell.execute_reply.started": "2021-03-01T16:00:09.477942Z"
    }
   },
   "outputs": [],
   "source": [
    "# %load ../jupyter_setup.txt\n",
    "# Convenient jupyter setup\n",
    "%load_ext autoreload\n",
    "%autoreload 2\n",
    "%config IPCompleter.greedy=True\n",
    "%config IPCompleter.use_jedi=False "
   ]
  },
  {
   "cell_type": "code",
   "execution_count": 8,
   "id": "oriented-logistics",
   "metadata": {
    "execution": {
     "iopub.execute_input": "2021-03-01T16:02:46.203285Z",
     "iopub.status.busy": "2021-03-01T16:02:46.202930Z",
     "iopub.status.idle": "2021-03-01T16:02:46.940878Z",
     "shell.execute_reply": "2021-03-01T16:02:46.938426Z",
     "shell.execute_reply.started": "2021-03-01T16:02:46.203250Z"
    }
   },
   "outputs": [],
   "source": [
    "import numpy as np\n",
    "import geopandas as gpd\n",
    "import shapely\n",
    "from typing import Iterable, Tuple, Dict\n",
    "\n",
    "import matplotlib.pyplot as plt\n",
    "import seaborn as sns\n",
    "\n",
    "from src.constants import SRC_PATH\n",
    "from src.data_loading.rasterio_utils import polygonise\n",
    "from src.data_loading.vector_utils import shapely_to_frame\n",
    "from src.tests.utils import polygonise_sub_array, plot_identified_nodes, get_array_transform\n",
    "from src.models.geograph import GeoGraph\n",
    "from src.models.binary_graph_operations import identify_node"
   ]
  },
  {
   "cell_type": "code",
   "execution_count": 9,
   "id": "portuguese-settlement",
   "metadata": {
    "execution": {
     "iopub.execute_input": "2021-03-01T16:02:47.940768Z",
     "iopub.status.busy": "2021-03-01T16:02:47.940453Z",
     "iopub.status.idle": "2021-03-01T16:02:48.049461Z",
     "shell.execute_reply": "2021-03-01T16:02:48.048580Z",
     "shell.execute_reply.started": "2021-03-01T16:02:47.940735Z"
    }
   },
   "outputs": [],
   "source": [
    "def _split_array_in_four(arr):\n",
    "    \n",
    "    x_size, y_size = arr.shape[::-1]\n",
    "    \n",
    "    return {\"upper_left\": ((0,x_size//2), (y_size//2, None)),\n",
    "            \"lower_left\": ((0,x_size//2), (0, y_size//2)),\n",
    "            \"upper_right\": ((x_size//2, None), (y_size//2, None)),\n",
    "            \"lower_right\":  ((x_size//2, None), (0, y_size//2))\n",
    "           }\n",
    "\n"
   ]
  },
  {
   "cell_type": "code",
   "execution_count": 10,
   "id": "pointed-slovenia",
   "metadata": {
    "execution": {
     "iopub.execute_input": "2021-03-01T16:02:48.583400Z",
     "iopub.status.busy": "2021-03-01T16:02:48.583060Z",
     "iopub.status.idle": "2021-03-01T16:02:48.707990Z",
     "shell.execute_reply": "2021-03-01T16:02:48.707068Z",
     "shell.execute_reply.started": "2021-03-01T16:02:48.583363Z"
    }
   },
   "outputs": [],
   "source": [
    "def polygonise_splits(arr: np.ndarray, \n",
    "                       named_slices: Iterable[Dict[str, Tuple]]\n",
    "                      ):\n",
    "    \n",
    "    result = {}\n",
    "    for name, (x_lims, y_lims) in named_slices.items(): \n",
    "        result[name] = polygonise_sub_array(arr, x_lims, y_lims)\n",
    "        \n",
    "    return result"
   ]
  },
  {
   "cell_type": "markdown",
   "id": "corrected-street",
   "metadata": {},
   "source": [
    "# 1. Create test cases"
   ]
  },
  {
   "cell_type": "code",
   "execution_count": 11,
   "id": "structural-second",
   "metadata": {
    "execution": {
     "iopub.execute_input": "2021-03-01T16:02:49.475835Z",
     "iopub.status.busy": "2021-03-01T16:02:49.475537Z",
     "iopub.status.idle": "2021-03-01T16:02:49.569943Z",
     "shell.execute_reply": "2021-03-01T16:02:49.567528Z",
     "shell.execute_reply.started": "2021-03-01T16:02:49.475801Z"
    }
   },
   "outputs": [],
   "source": [
    "TEST_DATA_FOLDER = SRC_PATH / \"tests\" / \"testdata\"\n",
    "TEST_DATA_FOLDER.mkdir(parents=True, exist_ok=True)"
   ]
  },
  {
   "cell_type": "code",
   "execution_count": 6,
   "id": "dimensional-injection",
   "metadata": {
    "collapsed": true,
    "execution": {
     "iopub.execute_input": "2021-02-24T18:22:48.896913Z",
     "iopub.status.busy": "2021-02-24T18:22:48.896516Z",
     "iopub.status.idle": "2021-02-24T18:22:51.049071Z",
     "shell.execute_reply": "2021-02-24T18:22:51.045364Z",
     "shell.execute_reply.started": "2021-02-24T18:22:48.896862Z"
    },
    "jupyter": {
     "outputs_hidden": true,
     "source_hidden": true
    }
   },
   "outputs": [
    {
     "data": {
      "image/png": "[encoded data removed]",
      "text/plain": [
       "<Figure size 432x288 with 1 Axes>"
      ]
     },
     "metadata": {
      "needs_background": "light"
     },
     "output_type": "display_data"
    }
   ],
   "source": [
    "np.random.seed(28)\n",
    "low = 1\n",
    "high = 5\n",
    "# Samples 1: Non-overlapping polygons\n",
    "arr1 = np.random.randint(low=low, high=high, size=(6,4), dtype=np.uint8)\n",
    "plt.imshow(arr1, vmin=low, vmax=high);\n",
    "\n",
    "polys1 = polygonise_splits(arr1, _split_array_in_four(arr1))\n",
    "polys1[\"full\"] = polygonise(arr1, transform=get_array_transform(arr1))\n",
    "\n",
    "#Saving\n",
    "for name, df in polys1.items():\n",
    "    save_path = TEST_DATA_FOLDER / \"adjacent\" / f\"{name}.gpkg\"\n",
    "    df.to_file(save_path, driver=\"GPKG\")"
   ]
  },
  {
   "cell_type": "code",
   "execution_count": 7,
   "id": "human-mother",
   "metadata": {
    "collapsed": true,
    "execution": {
     "iopub.execute_input": "2021-02-24T18:22:51.054936Z",
     "iopub.status.busy": "2021-02-24T18:22:51.054463Z",
     "iopub.status.idle": "2021-02-24T18:22:53.300379Z",
     "shell.execute_reply": "2021-02-24T18:22:53.297794Z",
     "shell.execute_reply.started": "2021-02-24T18:22:51.054881Z"
    },
    "jupyter": {
     "outputs_hidden": true,
     "source_hidden": true
    }
   },
   "outputs": [
    {
     "data": {
      "image/png": "[encoded data removed]",
      "text/plain": [
       "<Figure size 432x288 with 1 Axes>"
      ]
     },
     "metadata": {
      "needs_background": "light"
     },
     "output_type": "display_data"
    }
   ],
   "source": [
    "np.random.seed(285)\n",
    "low = 1\n",
    "high = 5\n",
    "# Samples 2: Overlapping polygons\n",
    "arr2 = np.random.randint(low=low, high=high, size=(4,4), dtype=np.uint8)\n",
    "plt.imshow(arr2, vmin=low, vmax=high);\n",
    "\n",
    "splits_of_interest = {\n",
    "    \"lower_left\": ((0,3), (0,3)),\n",
    "    \"upper_right\": ((1,4), (1,4)),\n",
    "    \"upper_left\": ((0,3), (1,4)),\n",
    "    \"lower_right\": ((1,4), (0,3))\n",
    "}\n",
    "\n",
    "polys2 = polygonise_splits(arr2, splits_of_interest)\n",
    "polys2[\"full\"] = polygonise(arr2, transform=get_array_transform(arr2))\n",
    "\n",
    "#Saving\n",
    "for name, df in polys2.items():\n",
    "    save_path = TEST_DATA_FOLDER / \"overlapping\" / f\"{name}.gpkg\"\n",
    "    df.to_file(save_path, driver=\"GPKG\")"
   ]
  },
  {
   "cell_type": "code",
   "execution_count": 8,
   "id": "naughty-sweden",
   "metadata": {
    "collapsed": true,
    "execution": {
     "iopub.execute_input": "2021-02-24T18:22:58.656969Z",
     "iopub.status.busy": "2021-02-24T18:22:58.656531Z",
     "iopub.status.idle": "2021-02-24T18:23:06.209693Z",
     "shell.execute_reply": "2021-02-24T18:23:06.166438Z",
     "shell.execute_reply.started": "2021-02-24T18:22:58.656919Z"
    },
    "jupyter": {
     "outputs_hidden": true,
     "source_hidden": true
    }
   },
   "outputs": [
    {
     "data": {
      "image/png": "[encoded data removed]",
      "text/plain": [
       "<Figure size 432x288 with 1 Axes>"
      ]
     },
     "metadata": {
      "needs_background": "light"
     },
     "output_type": "display_data"
    },
    {
     "data": {
      "image/png": "[encoded data removed]",
      "text/plain": [
       "<Figure size 432x288 with 1 Axes>"
      ]
     },
     "metadata": {
      "needs_background": "light"
     },
     "output_type": "display_data"
    },
    {
     "data": {
      "image/png": "[encoded data removed]",
      "text/plain": [
       "<Figure size 432x288 with 1 Axes>"
      ]
     },
     "metadata": {
      "needs_background": "light"
     },
     "output_type": "display_data"
    },
    {
     "data": {
      "image/png": "[encoded data removed]",
      "text/plain": [
       "<Figure size 432x288 with 1 Axes>"
      ]
     },
     "metadata": {
      "needs_background": "light"
     },
     "output_type": "display_data"
    },
    {
     "data": {
      "image/png": "[encoded data removed]",
      "text/plain": [
       "<Figure size 432x288 with 1 Axes>"
      ]
     },
     "metadata": {
      "needs_background": "light"
     },
     "output_type": "display_data"
    }
   ],
   "source": [
    "np.random.seed(184)\n",
    "\n",
    "low = 1\n",
    "high = 4\n",
    "\n",
    "# Samples 3: Timeslices\n",
    "for i in range(5):\n",
    "    arr_t = np.random.randint(low=low, high=high, size=(4,4), dtype=np.uint8)\n",
    "    \n",
    "    polys_t = polygonise(arr_t, transform=get_array_transform(arr_t))\n",
    "    polys_t.plot(\"class_label\")\n",
    "    \n",
    "    save_path = TEST_DATA_FOLDER / \"timestack\" / f\"time_{i}.gpkg\"\n",
    "    polys_t.to_file(save_path, driver=\"GPKG\")"
   ]
  },
  {
   "cell_type": "markdown",
   "id": "miniature-knitting",
   "metadata": {},
   "source": [
    "# 2. Load test cases"
   ]
  },
  {
   "cell_type": "markdown",
   "id": "minor-craps",
   "metadata": {},
   "source": [
    "## 2.1 Adjacent case"
   ]
  },
  {
   "cell_type": "code",
   "execution_count": 12,
   "id": "close-layer",
   "metadata": {
    "execution": {
     "iopub.execute_input": "2021-03-01T16:02:50.713704Z",
     "iopub.status.busy": "2021-03-01T16:02:50.713372Z",
     "iopub.status.idle": "2021-03-01T16:02:52.520425Z",
     "shell.execute_reply": "2021-03-01T16:02:52.519658Z",
     "shell.execute_reply.started": "2021-03-01T16:02:50.713671Z"
    }
   },
   "outputs": [
    {
     "name": "stderr",
     "output_type": "stream",
     "text": [
      "/home/users/svm/Code/gtc-biodiversity/env/lib/python3.8/site-packages/geopandas/geodataframe.py:422: RuntimeWarning: Sequential read of iterator was interrupted. Resetting iterator. This can negatively impact the performance.\n",
      "  for feature in features_lst:\n",
      "Step 1 of 2: Creating nodes and finding neighbours: 100%|██████████| 15/15 [00:00<00:00, 327.96it/s]\n",
      "Step 2 of 2: Adding edges: 100%|██████████| 15/15 [00:00<00:00, 33305.75it/s]\n",
      "Step 1 of 2: Creating nodes and finding neighbours: 100%|██████████| 4/4 [00:00<00:00, 618.81it/s]\n",
      "Step 2 of 2: Adding edges: 100%|██████████| 4/4 [00:00<00:00, 14820.86it/s]\n"
     ]
    },
    {
     "name": "stdout",
     "output_type": "stream",
     "text": [
      "Graph successfully loaded with 15 nodes and 40 edges.\n",
      "Graph successfully loaded with 4 nodes and 4 edges.\n"
     ]
    },
    {
     "name": "stderr",
     "output_type": "stream",
     "text": [
      "Step 1 of 2: Creating nodes and finding neighbours: 100%|██████████| 3/3 [00:00<00:00, 1539.01it/s]\n",
      "Step 2 of 2: Adding edges: 100%|██████████| 3/3 [00:00<00:00, 14961.85it/s]\n",
      "Step 1 of 2: Creating nodes and finding neighbours: 100%|██████████| 6/6 [00:00<00:00, 2552.83it/s]\n",
      "Step 2 of 2: Adding edges: 100%|██████████| 6/6 [00:00<00:00, 30356.84it/s]\n"
     ]
    },
    {
     "name": "stdout",
     "output_type": "stream",
     "text": [
      "Graph successfully loaded with 3 nodes and 3 edges.\n",
      "Graph successfully loaded with 6 nodes and 11 edges.\n"
     ]
    },
    {
     "name": "stderr",
     "output_type": "stream",
     "text": [
      "Step 1 of 2: Creating nodes and finding neighbours: 100%|██████████| 4/4 [00:00<00:00, 1605.17it/s]\n",
      "Step 2 of 2: Adding edges: 100%|██████████| 4/4 [00:00<00:00, 9404.27it/s]"
     ]
    },
    {
     "name": "stdout",
     "output_type": "stream",
     "text": [
      "Graph successfully loaded with 4 nodes and 6 edges.\n"
     ]
    },
    {
     "name": "stderr",
     "output_type": "stream",
     "text": [
      "\n"
     ]
    }
   ],
   "source": [
    "full = GeoGraph(TEST_DATA_FOLDER / \"adjacent\" / \"full.gpkg\")\n",
    "upper_right = GeoGraph(TEST_DATA_FOLDER / \"adjacent\" / \"upper_right.gpkg\")\n",
    "upper_left = GeoGraph(TEST_DATA_FOLDER / \"adjacent\" / \"upper_left.gpkg\")\n",
    "lower_right = GeoGraph(TEST_DATA_FOLDER / \"adjacent\" / \"lower_right.gpkg\")\n",
    "lower_left = GeoGraph(TEST_DATA_FOLDER / \"adjacent\" / \"lower_left.gpkg\")"
   ]
  },
  {
   "cell_type": "code",
   "execution_count": 13,
   "id": "comic-malta",
   "metadata": {
    "execution": {
     "iopub.execute_input": "2021-03-01T16:02:55.132454Z",
     "iopub.status.busy": "2021-03-01T16:02:55.131939Z",
     "iopub.status.idle": "2021-03-01T16:02:55.822285Z",
     "shell.execute_reply": "2021-03-01T16:02:55.821185Z",
     "shell.execute_reply.started": "2021-03-01T16:02:55.132417Z"
    }
   },
   "outputs": [
    {
     "data": {
      "text/plain": [
       "<AxesSubplot:>"
      ]
     },
     "execution_count": 13,
     "metadata": {},
     "output_type": "execute_result"
    },
    {
     "data": {
      "image/png": "[encoded data removed]",
      "text/plain": [
       "<Figure size 432x288 with 1 Axes>"
      ]
     },
     "metadata": {
      "needs_background": "light"
     },
     "output_type": "display_data"
    }
   ],
   "source": [
    "full.df.plot(\"class_label\")"
   ]
  },
  {
   "cell_type": "markdown",
   "id": "revolutionary-cooking",
   "metadata": {},
   "source": [
    "#### Check node identification"
   ]
  },
  {
   "cell_type": "code",
   "execution_count": 17,
   "id": "miniature-elder",
   "metadata": {
    "execution": {
     "iopub.execute_input": "2021-03-01T16:03:11.673293Z",
     "iopub.status.busy": "2021-03-01T16:03:11.672525Z",
     "iopub.status.idle": "2021-03-01T16:03:12.306896Z",
     "shell.execute_reply": "2021-03-01T16:03:12.305762Z",
     "shell.execute_reply.started": "2021-03-01T16:03:11.673246Z"
    }
   },
   "outputs": [
    {
     "name": "stdout",
     "output_type": "stream",
     "text": [
      "[]\n",
      "[]\n"
     ]
    },
    {
     "data": {
      "image/png": "[encoded data removed]",
      "text/plain": [
       "<Figure size 432x288 with 1 Axes>"
      ]
     },
     "metadata": {
      "needs_background": "light"
     },
     "output_type": "display_data"
    }
   ],
   "source": [
    "#%pdb\n",
    "node = upper_left.df.iloc[0]\n",
    "other_graph = upper_right\n",
    "\n",
    "print(identify_node(node, other_graph, mode=\"corner\"))  # expected: [] since nodes of different class\n",
    "print(identify_node(node, other_graph, mode=\"edge\"))   # expected: [] since nodes of different class\n",
    "plot_identified_nodes(node, other_graph, identify_node(node, other_graph, mode=\"interior\"))"
   ]
  },
  {
   "cell_type": "code",
   "execution_count": 19,
   "id": "likely-declaration",
   "metadata": {
    "execution": {
     "iopub.execute_input": "2021-03-01T16:03:41.106059Z",
     "iopub.status.busy": "2021-03-01T16:03:41.105711Z",
     "iopub.status.idle": "2021-03-01T16:03:42.793782Z",
     "shell.execute_reply": "2021-03-01T16:03:42.792866Z",
     "shell.execute_reply.started": "2021-03-01T16:03:41.106025Z"
    }
   },
   "outputs": [
    {
     "name": "stdout",
     "output_type": "stream",
     "text": [
      "[2]\n"
     ]
    },
    {
     "data": {
      "image/png": "[encoded data removed]",
      "text/plain": [
       "<Figure size 432x288 with 1 Axes>"
      ]
     },
     "metadata": {
      "needs_background": "light"
     },
     "output_type": "display_data"
    }
   ],
   "source": [
    "node = upper_left.df.iloc[1]\n",
    "other_graph = upper_right\n",
    "\n",
    "print(identify_node(node, other_graph, mode=\"corner\"))  # expected: [2] since same class and square touch\n",
    "plot_identified_nodes(node, other_graph, identify_node(node, other_graph))  # expected: [2] since same class and square touch"
   ]
  },
  {
   "cell_type": "code",
   "execution_count": 20,
   "id": "blond-darwin",
   "metadata": {
    "execution": {
     "iopub.execute_input": "2021-03-01T16:03:50.589772Z",
     "iopub.status.busy": "2021-03-01T16:03:50.589377Z",
     "iopub.status.idle": "2021-03-01T16:03:51.642798Z",
     "shell.execute_reply": "2021-03-01T16:03:51.641337Z",
     "shell.execute_reply.started": "2021-03-01T16:03:50.589728Z"
    }
   },
   "outputs": [
    {
     "name": "stdout",
     "output_type": "stream",
     "text": [
      "[]\n",
      "[2]\n"
     ]
    },
    {
     "data": {
      "image/png": "[encoded data removed]",
      "text/plain": [
       "<Figure size 432x288 with 1 Axes>"
      ]
     },
     "metadata": {
      "needs_background": "light"
     },
     "output_type": "display_data"
    }
   ],
   "source": [
    "node = lower_left.df.iloc[1]\n",
    "other_graph = lower_right\n",
    "\n",
    "print(identify_node(node, other_graph, mode=\"edge\"))  # expected: [] since nodes touch only diagonally\n",
    "print(identify_node(node, other_graph, mode=\"corner\"))   # expected: [2] since nodes touch diagonally\n",
    "plot_identified_nodes(node, other_graph, identify_node(node, other_graph))"
   ]
  },
  {
   "cell_type": "markdown",
   "id": "legitimate-catalog",
   "metadata": {},
   "source": [
    "## 2.2 Overlapping graph "
   ]
  },
  {
   "cell_type": "code",
   "execution_count": 21,
   "id": "artificial-pledge",
   "metadata": {
    "execution": {
     "iopub.execute_input": "2021-03-01T16:03:57.048321Z",
     "iopub.status.busy": "2021-03-01T16:03:57.047735Z",
     "iopub.status.idle": "2021-03-01T16:03:57.999997Z",
     "shell.execute_reply": "2021-03-01T16:03:57.998468Z",
     "shell.execute_reply.started": "2021-03-01T16:03:57.048268Z"
    }
   },
   "outputs": [
    {
     "name": "stderr",
     "output_type": "stream",
     "text": [
      "/home/users/svm/Code/gtc-biodiversity/env/lib/python3.8/site-packages/geopandas/geodataframe.py:422: RuntimeWarning: Sequential read of iterator was interrupted. Resetting iterator. This can negatively impact the performance.\n",
      "  for feature in features_lst:\n",
      "Step 1 of 2: Creating nodes and finding neighbours: 100%|██████████| 9/9 [00:00<00:00, 1259.47it/s]\n",
      "Step 2 of 2: Adding edges: 100%|██████████| 9/9 [00:00<00:00, 31536.12it/s]\n",
      "Step 1 of 2: Creating nodes and finding neighbours: 100%|██████████| 5/5 [00:00<00:00, 2072.90it/s]\n",
      "Step 2 of 2: Adding edges: 100%|██████████| 5/5 [00:00<00:00, 19152.07it/s]\n"
     ]
    },
    {
     "name": "stdout",
     "output_type": "stream",
     "text": [
      "Graph successfully loaded with 9 nodes and 19 edges.\n",
      "Graph successfully loaded with 5 nodes and 6 edges.\n"
     ]
    },
    {
     "name": "stderr",
     "output_type": "stream",
     "text": [
      "Step 1 of 2: Creating nodes and finding neighbours: 100%|██████████| 7/7 [00:00<00:00, 1384.45it/s]\n",
      "Step 2 of 2: Adding edges: 100%|██████████| 7/7 [00:00<00:00, 23469.33it/s]\n",
      "Step 1 of 2: Creating nodes and finding neighbours: 100%|██████████| 6/6 [00:00<00:00, 3293.96it/s]\n",
      "Step 2 of 2: Adding edges: 100%|██████████| 6/6 [00:00<00:00, 37117.73it/s]\n"
     ]
    },
    {
     "name": "stdout",
     "output_type": "stream",
     "text": [
      "Graph successfully loaded with 7 nodes and 13 edges.\n",
      "Graph successfully loaded with 6 nodes and 10 edges.\n"
     ]
    },
    {
     "name": "stderr",
     "output_type": "stream",
     "text": [
      "Step 1 of 2: Creating nodes and finding neighbours: 100%|██████████| 6/6 [00:00<00:00, 2064.13it/s]\n",
      "Step 2 of 2: Adding edges: 100%|██████████| 6/6 [00:00<00:00, 24338.32it/s]"
     ]
    },
    {
     "name": "stdout",
     "output_type": "stream",
     "text": [
      "Graph successfully loaded with 6 nodes and 12 edges.\n"
     ]
    },
    {
     "name": "stderr",
     "output_type": "stream",
     "text": [
      "\n"
     ]
    }
   ],
   "source": [
    "full = GeoGraph(TEST_DATA_FOLDER / \"overlapping\" / \"full.gpkg\")\n",
    "upper_right = GeoGraph(TEST_DATA_FOLDER / \"overlapping\" / \"upper_right.gpkg\")\n",
    "upper_left = GeoGraph(TEST_DATA_FOLDER / \"overlapping\" / \"upper_left.gpkg\")\n",
    "lower_right = GeoGraph(TEST_DATA_FOLDER / \"overlapping\" / \"lower_right.gpkg\")\n",
    "lower_left = GeoGraph(TEST_DATA_FOLDER / \"overlapping\" / \"lower_left.gpkg\")"
   ]
  },
  {
   "cell_type": "code",
   "execution_count": 22,
   "id": "exotic-kinase",
   "metadata": {
    "execution": {
     "iopub.execute_input": "2021-03-01T16:04:00.680692Z",
     "iopub.status.busy": "2021-03-01T16:04:00.680375Z",
     "iopub.status.idle": "2021-03-01T16:04:01.199588Z",
     "shell.execute_reply": "2021-03-01T16:04:01.198781Z",
     "shell.execute_reply.started": "2021-03-01T16:04:00.680658Z"
    }
   },
   "outputs": [
    {
     "data": {
      "text/plain": [
       "<AxesSubplot:>"
      ]
     },
     "execution_count": 22,
     "metadata": {},
     "output_type": "execute_result"
    },
    {
     "data": {
      "image/png": "[encoded data removed]",
      "text/plain": [
       "<Figure size 432x288 with 1 Axes>"
      ]
     },
     "metadata": {
      "needs_background": "light"
     },
     "output_type": "display_data"
    }
   ],
   "source": [
    "full.df.plot(\"class_label\")"
   ]
  },
  {
   "cell_type": "code",
   "execution_count": 23,
   "id": "broad-solid",
   "metadata": {
    "execution": {
     "iopub.execute_input": "2021-03-01T16:04:07.299353Z",
     "iopub.status.busy": "2021-03-01T16:04:07.298961Z",
     "iopub.status.idle": "2021-03-01T16:04:08.188047Z",
     "shell.execute_reply": "2021-03-01T16:04:08.187244Z",
     "shell.execute_reply.started": "2021-03-01T16:04:07.299313Z"
    }
   },
   "outputs": [
    {
     "name": "stdout",
     "output_type": "stream",
     "text": [
      "[]\n",
      "[0]\n"
     ]
    },
    {
     "data": {
      "image/png": "[encoded data removed]",
      "text/plain": [
       "<Figure size 432x288 with 1 Axes>"
      ]
     },
     "metadata": {
      "needs_background": "light"
     },
     "output_type": "display_data"
    }
   ],
   "source": [
    "node = upper_left.df.iloc[2]\n",
    "other_graph = upper_right\n",
    "\n",
    "print(identify_node(node, other_graph, mode=\"edge\"))  # expected: [] since same class nodes overlap only diagonally\n",
    "print(identify_node(node, other_graph, mode=\"corner\"))   # expected: [0] since same class nodes overlap only diagonally\n",
    "plot_identified_nodes(node, other_graph, identify_node(node, other_graph))"
   ]
  },
  {
   "cell_type": "code",
   "execution_count": 24,
   "id": "altered-description",
   "metadata": {
    "execution": {
     "iopub.execute_input": "2021-03-01T16:04:15.350912Z",
     "iopub.status.busy": "2021-03-01T16:04:15.350505Z",
     "iopub.status.idle": "2021-03-01T16:04:15.959940Z",
     "shell.execute_reply": "2021-03-01T16:04:15.958694Z",
     "shell.execute_reply.started": "2021-03-01T16:04:15.350852Z"
    }
   },
   "outputs": [
    {
     "name": "stdout",
     "output_type": "stream",
     "text": [
      "[0]\n",
      "[0]\n"
     ]
    },
    {
     "data": {
      "image/png": "[encoded data removed]",
      "text/plain": [
       "<Figure size 432x288 with 1 Axes>"
      ]
     },
     "metadata": {
      "needs_background": "light"
     },
     "output_type": "display_data"
    }
   ],
   "source": [
    "node = upper_left.df.iloc[1]\n",
    "other_graph = upper_right\n",
    "\n",
    "print(identify_node(node, other_graph, mode=\"edge\"))  # expected: [0] since nodes overlap entirely and same class\n",
    "print(identify_node(node, other_graph, mode=\"interior\"))   # expected: [0] since nodes overlap entirely and same class\n",
    "plot_identified_nodes(node, other_graph, identify_node(node, other_graph))"
   ]
  },
  {
   "cell_type": "code",
   "execution_count": 25,
   "id": "electrical-gnome",
   "metadata": {
    "execution": {
     "iopub.execute_input": "2021-03-01T16:04:21.591256Z",
     "iopub.status.busy": "2021-03-01T16:04:21.590924Z",
     "iopub.status.idle": "2021-03-01T16:04:22.153623Z",
     "shell.execute_reply": "2021-03-01T16:04:22.152717Z",
     "shell.execute_reply.started": "2021-03-01T16:04:21.591222Z"
    }
   },
   "outputs": [
    {
     "name": "stdout",
     "output_type": "stream",
     "text": [
      "[2]\n",
      "[2]\n"
     ]
    },
    {
     "data": {
      "image/png": "[encoded data removed]",
      "text/plain": [
       "<Figure size 432x288 with 1 Axes>"
      ]
     },
     "metadata": {
      "needs_background": "light"
     },
     "output_type": "display_data"
    }
   ],
   "source": [
    "node = upper_left.df.iloc[3]\n",
    "other_graph = upper_right\n",
    "\n",
    "print(identify_node(node, other_graph, mode=\"interior\"))  # expected: [2] since nodes overlap entirely and same class\n",
    "print(identify_node(node, other_graph, mode=\"corner\"))   # expected: [2] since nodes overlap entirely and same class\n",
    "plot_identified_nodes(node, other_graph, identify_node(node, other_graph))"
   ]
  },
  {
   "cell_type": "code",
   "execution_count": 26,
   "id": "exposed-hotel",
   "metadata": {
    "execution": {
     "iopub.execute_input": "2021-03-01T16:04:29.097891Z",
     "iopub.status.busy": "2021-03-01T16:04:29.097462Z",
     "iopub.status.idle": "2021-03-01T16:04:30.216269Z",
     "shell.execute_reply": "2021-03-01T16:04:30.214464Z",
     "shell.execute_reply.started": "2021-03-01T16:04:29.097843Z"
    }
   },
   "outputs": [
    {
     "name": "stdout",
     "output_type": "stream",
     "text": [
      "[3]\n",
      "[3]\n"
     ]
    },
    {
     "data": {
      "image/png": "[encoded data removed]",
      "text/plain": [
       "<Figure size 432x288 with 1 Axes>"
      ]
     },
     "metadata": {
      "needs_background": "light"
     },
     "output_type": "display_data"
    }
   ],
   "source": [
    "node = lower_right.df.iloc[2]\n",
    "other_graph = upper_right\n",
    "\n",
    "print(identify_node(node, other_graph, mode=\"corner\"))  # expected: [3] since nodes overlap partially and same class\n",
    "print(identify_node(node, other_graph, mode=\"interior\"))   # expected: [3] since nodes overlap partially and same class\n",
    "plot_identified_nodes(node, other_graph, identify_node(node, other_graph))"
   ]
  },
  {
   "cell_type": "markdown",
   "id": "threaded-turkish",
   "metadata": {},
   "source": [
    "## 2.3 Timestacked graphs"
   ]
  },
  {
   "cell_type": "code",
   "execution_count": 27,
   "id": "legal-editing",
   "metadata": {
    "execution": {
     "iopub.execute_input": "2021-03-01T16:05:12.874318Z",
     "iopub.status.busy": "2021-03-01T16:05:12.873548Z",
     "iopub.status.idle": "2021-03-01T16:05:17.458981Z",
     "shell.execute_reply": "2021-03-01T16:05:17.458126Z",
     "shell.execute_reply.started": "2021-03-01T16:05:12.874242Z"
    }
   },
   "outputs": [
    {
     "name": "stderr",
     "output_type": "stream",
     "text": [
      "/home/users/svm/Code/gtc-biodiversity/env/lib/python3.8/site-packages/geopandas/geodataframe.py:422: RuntimeWarning: Sequential read of iterator was interrupted. Resetting iterator. This can negatively impact the performance.\n",
      "  for feature in features_lst:\n",
      "Step 1 of 2: Creating nodes and finding neighbours: 100%|██████████| 11/11 [00:00<00:00, 1528.69it/s]\n",
      "Step 2 of 2: Adding edges: 100%|██████████| 11/11 [00:00<00:00, 7522.80it/s]\n",
      "Step 1 of 2: Creating nodes and finding neighbours: 100%|██████████| 10/10 [00:00<00:00, 2560.47it/s]\n",
      "Step 2 of 2: Adding edges: 100%|██████████| 10/10 [00:00<00:00, 29026.33it/s]\n"
     ]
    },
    {
     "name": "stdout",
     "output_type": "stream",
     "text": [
      "Graph successfully loaded with 11 nodes and 21 edges.\n",
      "Graph successfully loaded with 10 nodes and 21 edges.\n"
     ]
    },
    {
     "name": "stderr",
     "output_type": "stream",
     "text": [
      "Step 1 of 2: Creating nodes and finding neighbours: 100%|██████████| 6/6 [00:00<00:00, 564.56it/s]\n",
      "Step 2 of 2: Adding edges: 100%|██████████| 6/6 [00:00<00:00, 35098.78it/s]\n",
      "Step 1 of 2: Creating nodes and finding neighbours: 100%|██████████| 8/8 [00:00<00:00, 2542.77it/s]\n",
      "Step 2 of 2: Adding edges: 100%|██████████| 8/8 [00:00<00:00, 31926.20it/s]\n"
     ]
    },
    {
     "name": "stdout",
     "output_type": "stream",
     "text": [
      "Graph successfully loaded with 6 nodes and 9 edges.\n",
      "Graph successfully loaded with 8 nodes and 15 edges.\n"
     ]
    },
    {
     "name": "stderr",
     "output_type": "stream",
     "text": [
      "Step 1 of 2: Creating nodes and finding neighbours: 100%|██████████| 8/8 [00:00<00:00, 2323.88it/s]\n",
      "Step 2 of 2: Adding edges: 100%|██████████| 8/8 [00:00<00:00, 42963.42it/s]"
     ]
    },
    {
     "name": "stdout",
     "output_type": "stream",
     "text": [
      "Graph successfully loaded with 8 nodes and 13 edges.\n"
     ]
    },
    {
     "name": "stderr",
     "output_type": "stream",
     "text": [
      "\n"
     ]
    }
   ],
   "source": [
    "t0 = GeoGraph(TEST_DATA_FOLDER / \"timestack\" / \"time_0.gpkg\")\n",
    "t1 = GeoGraph(TEST_DATA_FOLDER / \"timestack\" / \"time_1.gpkg\")\n",
    "t2 = GeoGraph(TEST_DATA_FOLDER / \"timestack\" / \"time_2.gpkg\")\n",
    "t3 = GeoGraph(TEST_DATA_FOLDER / \"timestack\" / \"time_3.gpkg\")\n",
    "t4 = GeoGraph(TEST_DATA_FOLDER / \"timestack\" / \"time_4.gpkg\")"
   ]
  },
  {
   "cell_type": "code",
   "execution_count": 28,
   "id": "moderate-carbon",
   "metadata": {
    "execution": {
     "iopub.execute_input": "2021-03-01T16:05:18.640494Z",
     "iopub.status.busy": "2021-03-01T16:05:18.640189Z",
     "iopub.status.idle": "2021-03-01T16:05:19.307844Z",
     "shell.execute_reply": "2021-03-01T16:05:19.306874Z",
     "shell.execute_reply.started": "2021-03-01T16:05:18.640463Z"
    }
   },
   "outputs": [
    {
     "data": {
      "text/plain": [
       "<AxesSubplot:>"
      ]
     },
     "execution_count": 28,
     "metadata": {},
     "output_type": "execute_result"
    },
    {
     "data": {
      "image/png": "[encoded data removed]",
      "text/plain": [
       "<Figure size 432x288 with 1 Axes>"
      ]
     },
     "metadata": {
      "needs_background": "light"
     },
     "output_type": "display_data"
    }
   ],
   "source": [
    "t0.df.plot(\"class_label\")"
   ]
  },
  {
   "cell_type": "code",
   "execution_count": 29,
   "id": "artistic-gardening",
   "metadata": {
    "execution": {
     "iopub.execute_input": "2021-03-01T16:05:26.239006Z",
     "iopub.status.busy": "2021-03-01T16:05:26.238582Z",
     "iopub.status.idle": "2021-03-01T16:05:26.496798Z",
     "shell.execute_reply": "2021-03-01T16:05:26.495076Z",
     "shell.execute_reply.started": "2021-03-01T16:05:26.238964Z"
    }
   },
   "outputs": [
    {
     "name": "stdout",
     "output_type": "stream",
     "text": [
      "corner {0: array([3]), 1: array([8, 0]), 2: array([1]), 3: array([5]), 4: array([6]), 5: array([6, 9, 4, 2]), 6: array([3]), 7: array([7]), 8: array([6]), 9: array([7]), 10: array([9])}\n",
      "edge {0: array([3]), 1: array([8, 0]), 2: array([1]), 3: array([5]), 4: array([6]), 5: array([6, 4, 2]), 6: array([3]), 7: array([7]), 8: array([6]), 9: array([], dtype=int64), 10: array([9])}\n",
      "interior {0: array([], dtype=int64), 1: array([0]), 2: array([1]), 3: array([], dtype=int64), 4: array([], dtype=int64), 5: array([4]), 6: array([], dtype=int64), 7: array([7]), 8: array([], dtype=int64), 9: array([], dtype=int64), 10: array([9])}\n"
     ]
    }
   ],
   "source": [
    "t0_to_t1 = {}\n",
    "\n",
    "for mode in [\"corner\", \"edge\", \"interior\"]:\n",
    "    for node_id, node in t0.df.iterrows():\n",
    "        t0_to_t1[node_id] = identify_node(node, t1, mode=mode)\n",
    "    print(mode, t0_to_t1)"
   ]
  },
  {
   "cell_type": "code",
   "execution_count": 30,
   "id": "suspected-concern",
   "metadata": {
    "execution": {
     "iopub.execute_input": "2021-03-01T16:05:48.807285Z",
     "iopub.status.busy": "2021-03-01T16:05:48.806908Z",
     "iopub.status.idle": "2021-03-01T16:05:49.448259Z",
     "shell.execute_reply": "2021-03-01T16:05:49.447417Z",
     "shell.execute_reply.started": "2021-03-01T16:05:48.807250Z"
    }
   },
   "outputs": [
    {
     "data": {
      "text/plain": [
       "<AxesSubplot:>"
      ]
     },
     "execution_count": 30,
     "metadata": {},
     "output_type": "execute_result"
    },
    {
     "data": {
      "image/png": "[encoded data removed]",
      "text/plain": [
       "<Figure size 432x288 with 1 Axes>"
      ]
     },
     "metadata": {
      "needs_background": "light"
     },
     "output_type": "display_data"
    }
   ],
   "source": [
    "t1.df.plot(\"class_label\")"
   ]
  },
  {
   "cell_type": "markdown",
   "id": "vital-interstate",
   "metadata": {},
   "source": [
    "## 2.4 Note on timing"
   ]
  },
  {
   "cell_type": "code",
   "execution_count": 31,
   "id": "southeast-firmware",
   "metadata": {
    "execution": {
     "iopub.execute_input": "2021-03-01T16:05:54.137717Z",
     "iopub.status.busy": "2021-03-01T16:05:54.137321Z",
     "iopub.status.idle": "2021-03-01T16:05:57.485561Z",
     "shell.execute_reply": "2021-03-01T16:05:57.480678Z",
     "shell.execute_reply.started": "2021-03-01T16:05:54.137655Z"
    }
   },
   "outputs": [
    {
     "name": "stdout",
     "output_type": "stream",
     "text": [
      "379 µs ± 70.8 µs per loop (mean ± std. dev. of 7 runs, 1000 loops each)\n"
     ]
    }
   ],
   "source": [
    "%%timeit\n",
    "upper_left.df.iloc[2]"
   ]
  },
  {
   "cell_type": "code",
   "execution_count": 32,
   "id": "editorial-mumbai",
   "metadata": {
    "execution": {
     "iopub.execute_input": "2021-03-01T16:05:57.486936Z",
     "iopub.status.busy": "2021-03-01T16:05:57.486688Z",
     "iopub.status.idle": "2021-03-01T16:06:06.329565Z",
     "shell.execute_reply": "2021-03-01T16:06:06.327495Z",
     "shell.execute_reply.started": "2021-03-01T16:05:57.486906Z"
    }
   },
   "outputs": [
    {
     "name": "stdout",
     "output_type": "stream",
     "text": [
      "1.07 ms ± 74.4 µs per loop (mean ± std. dev. of 7 runs, 1000 loops each)\n"
     ]
    }
   ],
   "source": [
    "%%timeit\n",
    "upper_left.df.iloc[[0,1,2,4,6]]"
   ]
  },
  {
   "cell_type": "code",
   "execution_count": 33,
   "id": "proved-spray",
   "metadata": {
    "execution": {
     "iopub.execute_input": "2021-03-01T16:06:06.332452Z",
     "iopub.status.busy": "2021-03-01T16:06:06.332110Z",
     "iopub.status.idle": "2021-03-01T16:06:12.333555Z",
     "shell.execute_reply": "2021-03-01T16:06:12.332433Z",
     "shell.execute_reply.started": "2021-03-01T16:06:06.332418Z"
    }
   },
   "outputs": [
    {
     "name": "stdout",
     "output_type": "stream",
     "text": [
      "732 µs ± 81.6 µs per loop (mean ± std. dev. of 7 runs, 1000 loops each)\n"
     ]
    }
   ],
   "source": [
    "%%timeit\n",
    "upper_left.df.values[[0,1,2,4,6]]"
   ]
  },
  {
   "cell_type": "code",
   "execution_count": 34,
   "id": "revolutionary-grass",
   "metadata": {
    "execution": {
     "iopub.execute_input": "2021-03-01T16:06:12.334924Z",
     "iopub.status.busy": "2021-03-01T16:06:12.334685Z",
     "iopub.status.idle": "2021-03-01T16:06:18.645392Z",
     "shell.execute_reply": "2021-03-01T16:06:18.638916Z",
     "shell.execute_reply.started": "2021-03-01T16:06:12.334894Z"
    }
   },
   "outputs": [
    {
     "name": "stdout",
     "output_type": "stream",
     "text": [
      "795 µs ± 78.8 µs per loop (mean ± std. dev. of 7 runs, 1000 loops each)\n"
     ]
    }
   ],
   "source": [
    "%%timeit\n",
    "upper_left.df.to_numpy()[[0,1,2,4,6]]"
   ]
  },
  {
   "cell_type": "code",
   "execution_count": 35,
   "id": "productive-victor",
   "metadata": {
    "execution": {
     "iopub.execute_input": "2021-03-01T16:06:18.646670Z",
     "iopub.status.busy": "2021-03-01T16:06:18.646404Z",
     "iopub.status.idle": "2021-03-01T16:06:20.319716Z",
     "shell.execute_reply": "2021-03-01T16:06:20.318532Z",
     "shell.execute_reply.started": "2021-03-01T16:06:18.646638Z"
    }
   },
   "outputs": [
    {
     "data": {
      "image/png": "[encoded data removed]",
      "text/plain": [
       "<Figure size 432x288 with 1 Axes>"
      ]
     },
     "metadata": {
      "needs_background": "light"
     },
     "output_type": "display_data"
    }
   ],
   "source": [
    "node = upper_left.df.iloc[2]\n",
    "other_graph = upper_right\n",
    "\n",
    "plot_identified_nodes(node, other_graph, identify_node(node, other_graph))"
   ]
  },
  {
   "cell_type": "code",
   "execution_count": 36,
   "id": "accepted-myanmar",
   "metadata": {
    "execution": {
     "iopub.execute_input": "2021-03-01T16:06:20.321238Z",
     "iopub.status.busy": "2021-03-01T16:06:20.320977Z",
     "iopub.status.idle": "2021-03-01T16:06:23.583023Z",
     "shell.execute_reply": "2021-03-01T16:06:23.582157Z",
     "shell.execute_reply.started": "2021-03-01T16:06:20.321205Z"
    }
   },
   "outputs": [
    {
     "name": "stdout",
     "output_type": "stream",
     "text": [
      "374 µs ± 25.1 µs per loop (mean ± std. dev. of 7 runs, 1000 loops each)\n"
     ]
    }
   ],
   "source": [
    "%%timeit\n",
    "identify_node(node, other_graph, mode=\"corner\")"
   ]
  },
  {
   "cell_type": "code",
   "execution_count": 31,
   "id": "turkish-albert",
   "metadata": {
    "execution": {
     "iopub.execute_input": "2021-02-24T18:27:11.479136Z",
     "iopub.status.busy": "2021-02-24T18:27:11.478786Z",
     "iopub.status.idle": "2021-02-24T18:27:22.656318Z",
     "shell.execute_reply": "2021-02-24T18:27:22.654893Z",
     "shell.execute_reply.started": "2021-02-24T18:27:11.479096Z"
    }
   },
   "outputs": [
    {
     "name": "stdout",
     "output_type": "stream",
     "text": [
      "133 µs ± 23.4 µs per loop (mean ± std. dev. of 7 runs, 10000 loops each)\n"
     ]
    }
   ],
   "source": [
    "%%timeit\n",
    "identify_node(node, other_graph, mode=\"corner\")"
   ]
  },
  {
   "cell_type": "code",
   "execution_count": 45,
   "id": "horizontal-genetics",
   "metadata": {
    "execution": {
     "iopub.execute_input": "2021-02-24T18:29:06.068007Z",
     "iopub.status.busy": "2021-02-24T18:29:06.067524Z",
     "iopub.status.idle": "2021-02-24T18:29:07.946138Z",
     "shell.execute_reply": "2021-02-24T18:29:07.944840Z",
     "shell.execute_reply.started": "2021-02-24T18:29:06.067953Z"
    }
   },
   "outputs": [
    {
     "name": "stdout",
     "output_type": "stream",
     "text": [
      "178 µs ± 11.8 µs per loop (mean ± std. dev. of 7 runs, 1000 loops each)\n"
     ]
    }
   ],
   "source": [
    "%%timeit\n",
    "identify_node(node, other_graph, mode=\"edge\")"
   ]
  },
  {
   "cell_type": "code",
   "execution_count": 44,
   "id": "turned-september",
   "metadata": {
    "execution": {
     "iopub.execute_input": "2021-02-24T18:28:58.319317Z",
     "iopub.status.busy": "2021-02-24T18:28:58.319028Z",
     "iopub.status.idle": "2021-02-24T18:29:00.206948Z",
     "shell.execute_reply": "2021-02-24T18:29:00.206087Z",
     "shell.execute_reply.started": "2021-02-24T18:28:58.319274Z"
    }
   },
   "outputs": [
    {
     "name": "stdout",
     "output_type": "stream",
     "text": [
      "187 µs ± 20.4 µs per loop (mean ± std. dev. of 7 runs, 1000 loops each)\n"
     ]
    }
   ],
   "source": [
    "%%timeit\n",
    "identify_node(node, other_graph, mode=\"interior\")"
   ]
  },
  {
   "cell_type": "code",
   "execution_count": 38,
   "id": "cleared-laptop",
   "metadata": {
    "execution": {
     "iopub.execute_input": "2021-03-01T16:07:32.276054Z",
     "iopub.status.busy": "2021-03-01T16:07:32.275755Z",
     "iopub.status.idle": "2021-03-01T16:07:32.715509Z",
     "shell.execute_reply": "2021-03-01T16:07:32.714525Z",
     "shell.execute_reply.started": "2021-03-01T16:07:32.276022Z"
    }
   },
   "outputs": [],
   "source": [
    "%load_ext line_profiler"
   ]
  },
  {
   "cell_type": "code",
   "execution_count": 41,
   "id": "great-spelling",
   "metadata": {
    "execution": {
     "iopub.execute_input": "2021-03-01T16:07:57.772647Z",
     "iopub.status.busy": "2021-03-01T16:07:57.772156Z",
     "iopub.status.idle": "2021-03-01T16:07:57.875248Z",
     "shell.execute_reply": "2021-03-01T16:07:57.871398Z",
     "shell.execute_reply.started": "2021-03-01T16:07:57.772507Z"
    }
   },
   "outputs": [
    {
     "data": {
      "text/plain": [
       "Timer unit: 1e-06 s\n",
       "\n",
       "Total time: 0.000981 s\n",
       "File: /home/users/svm/Code/gtc-biodiversity/src/models/binary_graph_operations.py\n",
       "Function: identify_node at line 26\n",
       "\n",
       "Line #      Hits         Time  Per Hit   % Time  Line Contents\n",
       "==============================================================\n",
       "    26                                           def identify_node(node: dict, other_graph: \"GeoGraph\", mode: str = \"corner\") -> ndarray:\n",
       "    27                                               \"\"\"\n",
       "    28                                               Return list of all node ids in `other_graph` which identify with the given `node`.\n",
       "    29                                           \n",
       "    30                                               Args:\n",
       "    31                                                   node (dict): The node for which to find nodes in `other_graphs` that can be\n",
       "    32                                                       identified with `node`.\n",
       "    33                                                   other_graph (GeoGraph): The GeoGraph object in which to search for\n",
       "    34                                                       identifications\n",
       "    35                                                   mode (str, optional): Must be one of `corner`, `edge` or `interior`. Defaults\n",
       "    36                                                       to \"corner\".\n",
       "    37                                                       The different modes correspond to different rules for identification:\n",
       "    38                                                       - corner: Polygons of the same `class_label` which overlap, touch in their\n",
       "    39                                                           edges or corners will be identified with each other. (fastest)\n",
       "    40                                                       - edge: Polygons of the same `class_label` which overlap or touch in their\n",
       "    41                                                           edges will be identified with each other.\n",
       "    42                                                       - interior: Polygons of the same `class_label` which overlap will be\n",
       "    43                                                           identified with each other. Touching corners or edges are not counted.\n",
       "    44                                           \n",
       "    45                                               Returns:\n",
       "    46                                                   np.ndarray: List of node ids in `other_graph` which identify with `node`.\n",
       "    47                                               \"\"\"\n",
       "    48                                           \n",
       "    49                                               # Mode switch\n",
       "    50         1          2.0      2.0      0.2      assert mode in [\"corner\", \"edge\", \"interior\"]\n",
       "    51         1          2.0      2.0      0.2      have_valid_overlap = _BULK_SPATIAL_IDENTIFICATION_FUNCTION[mode]\n",
       "    52                                           \n",
       "    53                                               # Extract relevant node elements for legibility\n",
       "    54         1         75.0     75.0      7.6      poly = node[\"geometry\"]\n",
       "    55         1         19.0     19.0      1.9      label = node[\"class_label\"]\n",
       "    56                                           \n",
       "    57                                               # Get potential candidates for overlap\n",
       "    58         1        307.0    307.0     31.3      candidate_ids = other_graph.rtree.query(poly)\n",
       "    59                                               # Filter candidates according to the same class label\n",
       "    60         1        113.0    113.0     11.5      candidate_ids = candidate_ids[other_graph.get_class_label(candidate_ids) == label]\n",
       "    61                                               # Filtter candidates accroding to correct spatial overlap\n",
       "    62         2         16.0      8.0      1.6      candidate_ids = candidate_ids[\n",
       "    63         1        446.0    446.0     45.5          have_valid_overlap(poly, other_graph.get_geometry(candidate_ids))\n",
       "    64                                               ]\n",
       "    65                                           \n",
       "    66         1          1.0      1.0      0.1      return candidate_ids"
      ]
     },
     "metadata": {},
     "output_type": "display_data"
    }
   ],
   "source": [
    "%lprun -f identify_node identify_node(node, other_graph, mode=\"corner\")"
   ]
  },
  {
   "cell_type": "code",
   "execution_count": 41,
   "id": "affecting-reporter",
   "metadata": {
    "execution": {
     "iopub.execute_input": "2021-02-24T18:28:33.361835Z",
     "iopub.status.busy": "2021-02-24T18:28:33.361517Z",
     "iopub.status.idle": "2021-02-24T18:28:33.440693Z",
     "shell.execute_reply": "2021-02-24T18:28:33.439120Z",
     "shell.execute_reply.started": "2021-02-24T18:28:33.361797Z"
    }
   },
   "outputs": [
    {
     "data": {
      "text/plain": [
       "Timer unit: 1e-06 s\n",
       "\n",
       "Total time: 0.001171 s\n",
       "File: <ipython-input-10-820b9bd79667>\n",
       "Function: identify_node at line 34\n",
       "\n",
       "Line #      Hits         Time  Per Hit   % Time  Line Contents\n",
       "==============================================================\n",
       "    34                                           def identify_node(node, \n",
       "    35                                                             other_graph, \n",
       "    36                                                             mode = \"corner\"):\n",
       "    37                                               \n",
       "    38         1          3.0      3.0      0.3      assert mode in [\"corner\", \"edge\", \"interior\"]\n",
       "    39         1          3.0      3.0      0.3      have_valid_overlap = spatial_polygon_identifier[mode]\n",
       "    40         1          1.0      1.0      0.1      identifies_with = []\n",
       "    41         4        678.0    169.5     57.9      for candidate_id in other_graph.rtree.intersection(node[\"geometry\"].bounds):\n",
       "    42                                           \n",
       "    43         3         47.0     15.7      4.0          candidate_node = other_graph.graph.nodes[candidate_id]\n",
       "    44                                           \n",
       "    45         3        438.0    146.0     37.4          if have_same_class_label(node, candidate_node) and have_valid_overlap(node[\"geometry\"], candidate_node[\"geometry\"]):\n",
       "    46                                                       identifies_with.append(candidate_id)\n",
       "    47                                                       \n",
       "    48         1          1.0      1.0      0.1      return identifies_with"
      ]
     },
     "metadata": {},
     "output_type": "display_data"
    }
   ],
   "source": [
    "%lprun -f identify_node identify_node(node, other_graph, mode=\"edge\")"
   ]
  },
  {
   "cell_type": "code",
   "execution_count": 42,
   "id": "twenty-stanford",
   "metadata": {
    "execution": {
     "iopub.execute_input": "2021-02-24T18:28:34.238413Z",
     "iopub.status.busy": "2021-02-24T18:28:34.237835Z",
     "iopub.status.idle": "2021-02-24T18:28:34.303180Z",
     "shell.execute_reply": "2021-02-24T18:28:34.302255Z",
     "shell.execute_reply.started": "2021-02-24T18:28:34.238303Z"
    }
   },
   "outputs": [
    {
     "data": {
      "text/plain": [
       "Timer unit: 1e-06 s\n",
       "\n",
       "Total time: 0.000586 s\n",
       "File: <ipython-input-10-820b9bd79667>\n",
       "Function: identify_node at line 34\n",
       "\n",
       "Line #      Hits         Time  Per Hit   % Time  Line Contents\n",
       "==============================================================\n",
       "    34                                           def identify_node(node, \n",
       "    35                                                             other_graph, \n",
       "    36                                                             mode = \"corner\"):\n",
       "    37                                               \n",
       "    38         1          2.0      2.0      0.3      assert mode in [\"corner\", \"edge\", \"interior\"]\n",
       "    39         1          2.0      2.0      0.3      have_valid_overlap = spatial_polygon_identifier[mode]\n",
       "    40         1          0.0      0.0      0.0      identifies_with = []\n",
       "    41         4        387.0     96.8     66.0      for candidate_id in other_graph.rtree.intersection(node[\"geometry\"].bounds):\n",
       "    42                                           \n",
       "    43         3         30.0     10.0      5.1          candidate_node = other_graph.graph.nodes[candidate_id]\n",
       "    44                                           \n",
       "    45         3        164.0     54.7     28.0          if have_same_class_label(node, candidate_node) and have_valid_overlap(node[\"geometry\"], candidate_node[\"geometry\"]):\n",
       "    46                                                       identifies_with.append(candidate_id)\n",
       "    47                                                       \n",
       "    48         1          1.0      1.0      0.2      return identifies_with"
      ]
     },
     "metadata": {},
     "output_type": "display_data"
    }
   ],
   "source": [
    "%lprun -f identify_node identify_node(node, other_graph, mode=\"interior\")"
   ]
  },
  {
   "cell_type": "code",
   "execution_count": 46,
   "id": "theoretical-passing",
   "metadata": {
    "execution": {
     "iopub.execute_input": "2021-02-24T18:29:16.637686Z",
     "iopub.status.busy": "2021-02-24T18:29:16.637078Z",
     "iopub.status.idle": "2021-02-24T18:29:26.871565Z",
     "shell.execute_reply": "2021-02-24T18:29:26.870701Z",
     "shell.execute_reply.started": "2021-02-24T18:29:16.637619Z"
    }
   },
   "outputs": [
    {
     "name": "stdout",
     "output_type": "stream",
     "text": [
      "117 µs ± 11.5 µs per loop (mean ± std. dev. of 7 runs, 10000 loops each)\n"
     ]
    }
   ],
   "source": [
    "%%timeit\n",
    "list(x for x in other_graph.rtree.intersection(node[\"geometry\"].bounds))"
   ]
  },
  {
   "cell_type": "markdown",
   "id": "tutorial-precipitation",
   "metadata": {},
   "source": [
    "------------"
   ]
  },
  {
   "cell_type": "markdown",
   "id": "beginning-church",
   "metadata": {},
   "source": [
    "# Miscellaneous Experiments"
   ]
  },
  {
   "attachments": {
    "13f1e77e-b358-473e-8b20-6dc8df26ffd4.png": {
     "image/png": "[encoded data removed]"
    }
   },
   "cell_type": "markdown",
   "id": "disturbed-aggregate",
   "metadata": {
    "jupyter": {
     "source_hidden": true
    }
   },
   "source": [
    "For implementing more advanced relationship comparisons, [DE-IM9](https://shapely.readthedocs.io/en/stable/manual.html#de-9im-relationships) patterns \n",
    "are the way to go. [Wiki](https://en.wikipedia.org/wiki/DE-9IM)\n",
    "\n",
    "Here's what shapely says about them:   \n",
    "![image.png](attachment:13f1e77e-b358-473e-8b20-6dc8df26ffd4.png)"
   ]
  },
  {
   "cell_type": "markdown",
   "id": "improved-heaven",
   "metadata": {},
   "source": [
    "I want to capture shapes which\n",
    " - share any type of area\n",
    " - touch in at least a 1dim object"
   ]
  },
  {
   "cell_type": "raw",
   "id": "coastal-father",
   "metadata": {},
   "source": [
    "square_formation = 'FF2F11212'  # FF*F1****\n",
    "diagonal_formation = 'FF2F01212' # FF*F0****\n",
    "apart = 'FF2FF1212'  # FF*FF****\n",
    "\n",
    "--> checking for `not apart` and `not diagonal`"
   ]
  },
  {
   "cell_type": "code",
   "execution_count": 37,
   "id": "applied-helmet",
   "metadata": {
    "collapsed": true,
    "execution": {
     "iopub.execute_input": "2021-02-24T10:39:50.760959Z",
     "iopub.status.busy": "2021-02-24T10:39:50.760359Z",
     "iopub.status.idle": "2021-02-24T10:39:51.966280Z",
     "shell.execute_reply": "2021-02-24T10:39:51.963714Z",
     "shell.execute_reply.started": "2021-02-24T10:39:50.760875Z"
    },
    "jupyter": {
     "outputs_hidden": true
    }
   },
   "outputs": [
    {
     "data": {
      "text/plain": [
       "<AxesSubplot:>"
      ]
     },
     "execution_count": 37,
     "metadata": {},
     "output_type": "execute_result"
    },
    {
     "data": {
      "image/png": "[encoded data removed]",
      "text/plain": [
       "<Figure size 432x288 with 1 Axes>"
      ]
     },
     "metadata": {
      "needs_background": "light"
     },
     "output_type": "display_data"
    }
   ],
   "source": [
    "graph_df(full).plot(\"node_id\")"
   ]
  },
  {
   "cell_type": "code",
   "execution_count": 46,
   "id": "neutral-guinea",
   "metadata": {
    "execution": {
     "iopub.execute_input": "2021-02-24T10:41:43.492806Z",
     "iopub.status.busy": "2021-02-24T10:41:43.492176Z",
     "iopub.status.idle": "2021-02-24T10:41:44.296559Z",
     "shell.execute_reply": "2021-02-24T10:41:44.292103Z",
     "shell.execute_reply.started": "2021-02-24T10:41:43.492745Z"
    }
   },
   "outputs": [],
   "source": [
    "n = lambda idx: full.graph.nodes[idx][\"geometry\"]"
   ]
  },
  {
   "cell_type": "code",
   "execution_count": 62,
   "id": "needed-embassy",
   "metadata": {
    "execution": {
     "iopub.execute_input": "2021-02-24T11:04:03.726789Z",
     "iopub.status.busy": "2021-02-24T11:04:03.726467Z",
     "iopub.status.idle": "2021-02-24T11:04:05.091036Z",
     "shell.execute_reply": "2021-02-24T11:04:05.089311Z",
     "shell.execute_reply.started": "2021-02-24T11:04:03.726754Z"
    }
   },
   "outputs": [],
   "source": [
    "def intersects_but_not_diagonal(node1, node2):\n",
    "    return node1.intersects(node2) and not node1.relate_pattern(node2, \"FF*F0****\")"
   ]
  },
  {
   "cell_type": "code",
   "execution_count": 48,
   "id": "random-burden",
   "metadata": {
    "execution": {
     "iopub.execute_input": "2021-02-24T10:42:06.358564Z",
     "iopub.status.busy": "2021-02-24T10:42:06.357906Z",
     "iopub.status.idle": "2021-02-24T10:42:06.836738Z",
     "shell.execute_reply": "2021-02-24T10:42:06.834603Z",
     "shell.execute_reply.started": "2021-02-24T10:42:06.358504Z"
    }
   },
   "outputs": [
    {
     "data": {
      "text/plain": [
       "'FF2F11212'"
      ]
     },
     "execution_count": 48,
     "metadata": {},
     "output_type": "execute_result"
    }
   ],
   "source": [
    "n(1).relate(n(2))"
   ]
  },
  {
   "cell_type": "code",
   "execution_count": 63,
   "id": "secret-guyana",
   "metadata": {
    "execution": {
     "iopub.execute_input": "2021-02-24T11:04:29.251252Z",
     "iopub.status.busy": "2021-02-24T11:04:29.250741Z",
     "iopub.status.idle": "2021-02-24T11:04:30.325469Z",
     "shell.execute_reply": "2021-02-24T11:04:30.324658Z",
     "shell.execute_reply.started": "2021-02-24T11:04:29.251191Z"
    }
   },
   "outputs": [
    {
     "data": {
      "text/plain": [
       "True"
      ]
     },
     "execution_count": 63,
     "metadata": {},
     "output_type": "execute_result"
    }
   ],
   "source": [
    "intersects_but_not_diagonal(n(1), n(2))"
   ]
  },
  {
   "cell_type": "code",
   "execution_count": 49,
   "id": "optional-concept",
   "metadata": {
    "execution": {
     "iopub.execute_input": "2021-02-24T10:43:27.059207Z",
     "iopub.status.busy": "2021-02-24T10:43:27.058724Z",
     "iopub.status.idle": "2021-02-24T10:43:28.592522Z",
     "shell.execute_reply": "2021-02-24T10:43:28.591088Z",
     "shell.execute_reply.started": "2021-02-24T10:43:27.059139Z"
    }
   },
   "outputs": [
    {
     "data": {
      "text/plain": [
       "'FF2FF1212'"
      ]
     },
     "execution_count": 49,
     "metadata": {},
     "output_type": "execute_result"
    }
   ],
   "source": [
    "n(0).relate(n(2))"
   ]
  },
  {
   "cell_type": "code",
   "execution_count": 64,
   "id": "dramatic-allocation",
   "metadata": {
    "execution": {
     "iopub.execute_input": "2021-02-24T11:04:38.159575Z",
     "iopub.status.busy": "2021-02-24T11:04:38.158884Z",
     "iopub.status.idle": "2021-02-24T11:04:38.562231Z",
     "shell.execute_reply": "2021-02-24T11:04:38.561096Z",
     "shell.execute_reply.started": "2021-02-24T11:04:38.159518Z"
    }
   },
   "outputs": [
    {
     "data": {
      "text/plain": [
       "False"
      ]
     },
     "execution_count": 64,
     "metadata": {},
     "output_type": "execute_result"
    }
   ],
   "source": [
    "intersects_but_not_diagonal(n(0), n(2))"
   ]
  },
  {
   "cell_type": "code",
   "execution_count": 50,
   "id": "limiting-bulletin",
   "metadata": {
    "execution": {
     "iopub.execute_input": "2021-02-24T10:43:38.721378Z",
     "iopub.status.busy": "2021-02-24T10:43:38.720825Z",
     "iopub.status.idle": "2021-02-24T10:43:38.862298Z",
     "shell.execute_reply": "2021-02-24T10:43:38.861229Z",
     "shell.execute_reply.started": "2021-02-24T10:43:38.721320Z"
    }
   },
   "outputs": [
    {
     "data": {
      "text/plain": [
       "'FF2F01212'"
      ]
     },
     "execution_count": 50,
     "metadata": {},
     "output_type": "execute_result"
    }
   ],
   "source": [
    "n(4).relate(n(6))"
   ]
  },
  {
   "cell_type": "code",
   "execution_count": 66,
   "id": "productive-carolina",
   "metadata": {
    "execution": {
     "iopub.execute_input": "2021-02-24T11:04:55.772136Z",
     "iopub.status.busy": "2021-02-24T11:04:55.771676Z",
     "iopub.status.idle": "2021-02-24T11:04:55.980913Z",
     "shell.execute_reply": "2021-02-24T11:04:55.979680Z",
     "shell.execute_reply.started": "2021-02-24T11:04:55.772081Z"
    }
   },
   "outputs": [
    {
     "data": {
      "text/plain": [
       "False"
      ]
     },
     "execution_count": 66,
     "metadata": {},
     "output_type": "execute_result"
    }
   ],
   "source": [
    "intersects_but_not_diagonal(n(4), n(6))"
   ]
  },
  {
   "cell_type": "code",
   "execution_count": 30,
   "id": "random-monitor",
   "metadata": {
    "execution": {
     "iopub.execute_input": "2021-02-24T10:24:59.945102Z",
     "iopub.status.busy": "2021-02-24T10:24:59.944706Z",
     "iopub.status.idle": "2021-02-24T10:25:02.862285Z",
     "shell.execute_reply": "2021-02-24T10:25:02.860525Z",
     "shell.execute_reply.started": "2021-02-24T10:24:59.945055Z"
    }
   },
   "outputs": [
    {
     "name": "stdout",
     "output_type": "stream",
     "text": [
      "27.7 µs ± 1.36 µs per loop (mean ± std. dev. of 7 runs, 10000 loops each)\n"
     ]
    }
   ],
   "source": [
    "%%timeit\n",
    "node0[\"geometry\"].relate_pattern(node1[\"geometry\"], \"T*****FF*\")"
   ]
  },
  {
   "cell_type": "code",
   "execution_count": 31,
   "id": "tutorial-rouge",
   "metadata": {
    "execution": {
     "iopub.execute_input": "2021-02-24T10:25:02.865807Z",
     "iopub.status.busy": "2021-02-24T10:25:02.865323Z",
     "iopub.status.idle": "2021-02-24T10:25:06.562776Z",
     "shell.execute_reply": "2021-02-24T10:25:06.559913Z",
     "shell.execute_reply.started": "2021-02-24T10:25:02.865745Z"
    }
   },
   "outputs": [
    {
     "name": "stdout",
     "output_type": "stream",
     "text": [
      "42.8 µs ± 9.02 µs per loop (mean ± std. dev. of 7 runs, 10000 loops each)\n"
     ]
    }
   ],
   "source": [
    "%%timeit\n",
    "node0[\"geometry\"].relate(node1[\"geometry\"])"
   ]
  },
  {
   "cell_type": "code",
   "execution_count": 32,
   "id": "spanish-galaxy",
   "metadata": {
    "execution": {
     "iopub.execute_input": "2021-02-24T10:25:06.565992Z",
     "iopub.status.busy": "2021-02-24T10:25:06.565570Z",
     "iopub.status.idle": "2021-02-24T10:25:10.628111Z",
     "shell.execute_reply": "2021-02-24T10:25:10.626304Z",
     "shell.execute_reply.started": "2021-02-24T10:25:06.565938Z"
    }
   },
   "outputs": [
    {
     "name": "stdout",
     "output_type": "stream",
     "text": [
      "4.58 µs ± 584 ns per loop (mean ± std. dev. of 7 runs, 100000 loops each)\n"
     ]
    }
   ],
   "source": [
    "%%timeit\n",
    "node0[\"geometry\"].intersects(node1[\"geometry\"])"
   ]
  },
  {
   "cell_type": "code",
   "execution_count": 33,
   "id": "protected-african",
   "metadata": {
    "execution": {
     "iopub.execute_input": "2021-02-24T10:25:10.630694Z",
     "iopub.status.busy": "2021-02-24T10:25:10.630056Z",
     "iopub.status.idle": "2021-02-24T10:25:12.939166Z",
     "shell.execute_reply": "2021-02-24T10:25:12.938385Z",
     "shell.execute_reply.started": "2021-02-24T10:25:10.630661Z"
    }
   },
   "outputs": [
    {
     "name": "stdout",
     "output_type": "stream",
     "text": [
      "26.7 µs ± 1.6 µs per loop (mean ± std. dev. of 7 runs, 10000 loops each)\n"
     ]
    }
   ],
   "source": [
    "%%timeit\n",
    "node0[\"geometry\"].touches(node1[\"geometry\"])"
   ]
  },
  {
   "cell_type": "code",
   "execution_count": 34,
   "id": "fifty-milan",
   "metadata": {
    "execution": {
     "iopub.execute_input": "2021-02-24T10:25:12.940568Z",
     "iopub.status.busy": "2021-02-24T10:25:12.940307Z",
     "iopub.status.idle": "2021-02-24T10:25:15.455745Z",
     "shell.execute_reply": "2021-02-24T10:25:15.454776Z",
     "shell.execute_reply.started": "2021-02-24T10:25:12.940538Z"
    }
   },
   "outputs": [
    {
     "name": "stdout",
     "output_type": "stream",
     "text": [
      "2.99 µs ± 49.1 ns per loop (mean ± std. dev. of 7 runs, 100000 loops each)\n"
     ]
    }
   ],
   "source": [
    "%%timeit\n",
    "node0[\"geometry\"].contains(node1[\"geometry\"])  # why is this so fast when it is a wrapper around relate"
   ]
  },
  {
   "cell_type": "code",
   "execution_count": 322,
   "id": "foster-avenue",
   "metadata": {
    "execution": {
     "iopub.execute_input": "2021-02-24T16:49:28.405023Z",
     "iopub.status.busy": "2021-02-24T16:49:28.404546Z",
     "iopub.status.idle": "2021-02-24T16:49:30.026158Z",
     "shell.execute_reply": "2021-02-24T16:49:30.025265Z",
     "shell.execute_reply.started": "2021-02-24T16:49:28.404986Z"
    }
   },
   "outputs": [],
   "source": [
    "def de9im_extended_match(pattern, target_pattern):\n",
    "    \n",
    "    for char, target_char in zip(pattern, target_pattern):\n",
    "        if target_char == \"*\": \n",
    "            continue\n",
    "        elif target_char == \"T\" and char in \"012\":\n",
    "            continue\n",
    "        elif target_char == \"S\" and char in \"01\":\n",
    "            continue\n",
    "        elif target_char == \"U\" and char in \"12\":\n",
    "            continue\n",
    "        elif char == target_char:\n",
    "            continue\n",
    "        else:\n",
    "            return False\n",
    "    return True"
   ]
  },
  {
   "cell_type": "code",
   "execution_count": 326,
   "id": "virgin-communications",
   "metadata": {
    "execution": {
     "iopub.execute_input": "2021-02-24T16:49:55.072247Z",
     "iopub.status.busy": "2021-02-24T16:49:55.071913Z",
     "iopub.status.idle": "2021-02-24T16:49:55.618625Z",
     "shell.execute_reply": "2021-02-24T16:49:55.617768Z",
     "shell.execute_reply.started": "2021-02-24T16:49:55.072212Z"
    }
   },
   "outputs": [
    {
     "data": {
      "text/plain": [
       "True"
      ]
     },
     "execution_count": 326,
     "metadata": {},
     "output_type": "execute_result"
    }
   ],
   "source": [
    "de9im_extended_match('FF2F11212', \"FF*FS****\")"
   ]
  },
  {
   "cell_type": "markdown",
   "id": "executed-reception",
   "metadata": {},
   "source": [
    "### Checking RTree"
   ]
  },
  {
   "cell_type": "code",
   "execution_count": 34,
   "id": "surgical-graduation",
   "metadata": {
    "collapsed": true,
    "execution": {
     "iopub.execute_input": "2021-02-23T22:55:58.067807Z",
     "iopub.status.busy": "2021-02-23T22:55:58.067316Z",
     "iopub.status.idle": "2021-02-23T22:56:03.919987Z",
     "shell.execute_reply": "2021-02-23T22:56:03.918641Z",
     "shell.execute_reply.started": "2021-02-23T22:55:58.067750Z"
    },
    "jupyter": {
     "outputs_hidden": true
    }
   },
   "outputs": [
    {
     "data": {
      "image/png": "[encoded data removed]",
      "text/plain": [
       "<Figure size 432x288 with 1 Axes>"
      ]
     },
     "metadata": {
      "needs_background": "light"
     },
     "output_type": "display_data"
    },
    {
     "data": {
      "image/png": "[encoded data removed]",
      "text/plain": [
       "<Figure size 432x288 with 1 Axes>"
      ]
     },
     "metadata": {
      "needs_background": "light"
     },
     "output_type": "display_data"
    },
    {
     "data": {
      "image/png": "[encoded data removed]",
      "text/plain": [
       "<Figure size 432x288 with 1 Axes>"
      ]
     },
     "metadata": {
      "needs_background": "light"
     },
     "output_type": "display_data"
    },
    {
     "data": {
      "image/png": "[encoded data removed]",
      "text/plain": [
       "<Figure size 432x288 with 1 Axes>"
      ]
     },
     "metadata": {
      "needs_background": "light"
     },
     "output_type": "display_data"
    },
    {
     "data": {
      "image/png": "[encoded data removed]",
      "text/plain": [
       "<Figure size 432x288 with 1 Axes>"
      ]
     },
     "metadata": {
      "needs_background": "light"
     },
     "output_type": "display_data"
    },
    {
     "data": {
      "image/png": "[encoded data removed]",
      "text/plain": [
       "<Figure size 432x288 with 1 Axes>"
      ]
     },
     "metadata": {
      "needs_background": "light"
     },
     "output_type": "display_data"
    },
    {
     "data": {
      "image/png": "[encoded data removed]",
      "text/plain": [
       "<Figure size 432x288 with 1 Axes>"
      ]
     },
     "metadata": {
      "needs_background": "light"
     },
     "output_type": "display_data"
    },
    {
     "data": {
      "image/png": "[encoded data removed]",
      "text/plain": [
       "<Figure size 432x288 with 1 Axes>"
      ]
     },
     "metadata": {
      "needs_background": "light"
     },
     "output_type": "display_data"
    },
    {
     "data": {
      "image/png": "[encoded data removed]",
      "text/plain": [
       "<Figure size 432x288 with 1 Axes>"
      ]
     },
     "metadata": {
      "needs_background": "light"
     },
     "output_type": "display_data"
    },
    {
     "data": {
      "image/png": "[encoded data removed]",
      "text/plain": [
       "<Figure size 432x288 with 1 Axes>"
      ]
     },
     "metadata": {
      "needs_background": "light"
     },
     "output_type": "display_data"
    },
    {
     "data": {
      "image/png": "[encoded data removed]",
      "text/plain": [
       "<Figure size 432x288 with 1 Axes>"
      ]
     },
     "metadata": {
      "needs_background": "light"
     },
     "output_type": "display_data"
    },
    {
     "data": {
      "image/png": "[encoded data removed]",
      "text/plain": [
       "<Figure size 432x288 with 1 Axes>"
      ]
     },
     "metadata": {
      "needs_background": "light"
     },
     "output_type": "display_data"
    },
    {
     "data": {
      "image/png": "[encoded data removed]",
      "text/plain": [
       "<Figure size 432x288 with 1 Axes>"
      ]
     },
     "metadata": {
      "needs_background": "light"
     },
     "output_type": "display_data"
    },
    {
     "data": {
      "image/png": "[encoded data removed]",
      "text/plain": [
       "<Figure size 432x288 with 1 Axes>"
      ]
     },
     "metadata": {
      "needs_background": "light"
     },
     "output_type": "display_data"
    },
    {
     "data": {
      "image/png": "[encoded data removed]",
      "text/plain": [
       "<Figure size 432x288 with 1 Axes>"
      ]
     },
     "metadata": {
      "needs_background": "light"
     },
     "output_type": "display_data"
    }
   ],
   "source": [
    "for _, node in full.graph.nodes(data=True):\n",
    "\n",
    "    plt.plot(*node[\"geometry\"].exterior.xy, color=\"green\", linewidth=10)\n",
    "    for elem in full.rtree.intersection(node[\"geometry\"].bounds):\n",
    "        poly = full.graph.nodes[elem][\"geometry\"]\n",
    "        plt.plot(*poly.exterior.xy, color=\"red\")\n",
    "    plt.show()"
   ]
  },
  {
   "cell_type": "markdown",
   "id": "tropical-metadata",
   "metadata": {},
   "source": [
    "### Deprecated"
   ]
  },
  {
   "cell_type": "code",
   "execution_count": 10,
   "id": "wrapped-mason",
   "metadata": {
    "execution": {
     "iopub.execute_input": "2021-02-24T18:25:01.555301Z",
     "iopub.status.busy": "2021-02-24T18:25:01.554831Z",
     "iopub.status.idle": "2021-02-24T18:25:03.991489Z",
     "shell.execute_reply": "2021-02-24T18:25:03.990260Z",
     "shell.execute_reply.started": "2021-02-24T18:25:01.555261Z"
    }
   },
   "outputs": [],
   "source": [
    "corner_only_pattern = \"FF*F0****\"\n",
    "edge_only_pattern = \"FF*F1****\"\n",
    "overlap_pattern = \"T********\"  # since we deal with polygons, if they overlap with more than edge, the interiors always overlap\n",
    "have_same_class_label = lambda node1, node2: node1[\"class_label\"] == node2[\"class_label\"]\n",
    "\n",
    "def de9im_match(pattern, target_pattern):\n",
    "    \n",
    "    for char, target_char in zip(pattern, target_pattern):\n",
    "        if target_char == \"*\": \n",
    "            continue\n",
    "        elif target_char == \"T\" and char in \"012\":\n",
    "            continue\n",
    "        elif char == target_char:\n",
    "            continue\n",
    "        else:\n",
    "            return False\n",
    "    return True\n",
    "\n",
    "def _connects_with_interior_edge_or_corner(poly1, poly2):\n",
    "    return poly1.intersects(poly2)\n",
    "\n",
    "def _connects_with_interior_or_edge(poly1, poly2):\n",
    "    pattern = poly1.relate(poly2)\n",
    "    return de9im_match(pattern, edge_only_pattern) or de9im_match(pattern, overlap_pattern)\n",
    "\n",
    "def _connects_with_interior(poly1, poly2):\n",
    "    return poly1.relate_pattern(poly2, overlap_pattern)\n",
    "\n",
    "spatial_polygon_identifier = {\"corner\": _connects_with_interior_edge_or_corner,\n",
    "                              \"edge\": _connects_with_interior_or_edge,\n",
    "                              \"interior\": _connects_with_interior\n",
    "                             }\n",
    "    \n",
    "def identify_node(node, \n",
    "                  other_graph, \n",
    "                  mode = \"corner\"):\n",
    "    \n",
    "    assert mode in [\"corner\", \"edge\", \"interior\"]\n",
    "    have_valid_overlap = spatial_polygon_identifier[mode]\n",
    "    identifies_with = []\n",
    "    for candidate_id in other_graph.rtree.intersection(node[\"geometry\"].bounds):\n",
    "\n",
    "        candidate_node = other_graph.graph.nodes[candidate_id]\n",
    "\n",
    "        if have_same_class_label(node, candidate_node) and have_valid_overlap(node[\"geometry\"], candidate_node[\"geometry\"]):\n",
    "            identifies_with.append(candidate_id)\n",
    "            \n",
    "    return identifies_with"
   ]
  },
  {
   "cell_type": "code",
   "execution_count": 295,
   "id": "handled-sender",
   "metadata": {
    "execution": {
     "iopub.execute_input": "2021-02-24T16:23:59.678051Z",
     "iopub.status.busy": "2021-02-24T16:23:59.677702Z",
     "iopub.status.idle": "2021-02-24T16:24:04.029931Z",
     "shell.execute_reply": "2021-02-24T16:24:04.028873Z",
     "shell.execute_reply.started": "2021-02-24T16:23:59.678018Z"
    }
   },
   "outputs": [],
   "source": [
    "has_same_class_label = lambda node1, node2: node1[\"class_label\"] == node2[\"class_label\"]\n",
    "intersects = lambda node1, node2: node1[\"geometry\"].intersects(node2[\"geometry\"])\n",
    "touches_only_corners = lambda node1, node2: node1[\"geometry\"].relate_pattern(node2[\"geometry\"], \"FF*F0****\")  \n",
    "    \n",
    "def identify_node(node, other_graph, allow_corners_only = True):\n",
    "    \n",
    "    identifies_with = []\n",
    "\n",
    "    for candidate_id in other_graph.rtree.intersection(node[\"geometry\"].bounds):\n",
    "\n",
    "        candidate_node = other_graph.graph.nodes[candidate_id]\n",
    "\n",
    "        if has_same_class_label(node, candidate_node) and intersects(node, candidate_node):\n",
    "            if allow_corners_only or not touches_only_corners(node, candidate_node):\n",
    "                identifies_with.append(candidate_id)\n",
    "            \n",
    "    return identifies_with"
   ]
  },
  {
   "cell_type": "markdown",
   "id": "transparent-remove",
   "metadata": {},
   "source": [
    "# Geograph improvements"
   ]
  },
  {
   "cell_type": "raw",
   "id": "modern-version",
   "metadata": {},
   "source": [
    "Convenience functionality for GeoGraph\n",
    "    - __repr__() function meaningful\n",
    "    - possibility to plot certain nodes / the full graph\n",
    "    - possiblity to access the underlying geopandas array"
   ]
  }
 ],
 "metadata": {
  "kernelspec": {
   "display_name": "Python 3.8.6 64-bit (conda)",
   "language": "python",
   "name": "python38664bitcondaa02632c3747848fca9e6bac7131e6e7e"
  },
  "language_info": {
   "codemirror_mode": {
    "name": "ipython",
    "version": 3
   },
   "file_extension": ".py",
   "mimetype": "text/x-python",
   "name": "python",
   "nbconvert_exporter": "python",
   "pygments_lexer": "ipython3",
   "version": "3.8.6"
  }
 },
 "nbformat": 4,
 "nbformat_minor": 5
}
