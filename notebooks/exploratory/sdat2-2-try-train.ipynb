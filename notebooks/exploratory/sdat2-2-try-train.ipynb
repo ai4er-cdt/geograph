{
 "cells": [
  {
   "cell_type": "markdown",
   "id": "turned-alexander",
   "metadata": {},
   "source": [
    "# Notebook to test "
   ]
  },
  {
   "cell_type": "markdown",
   "id": "australian-volunteer",
   "metadata": {
    "heading_collapsed": true
   },
   "source": [
    "## Jupyter tools"
   ]
  },
  {
   "cell_type": "code",
   "execution_count": 4,
   "id": "friendly-zealand",
   "metadata": {
    "hidden": true
   },
   "outputs": [],
   "source": [
    "%load_ext autoreload\n",
    "%autoreload 2\n",
    "%config IPCompleter.greedy=True\n",
    "%config IPCompleter.use_jedi=False"
   ]
  },
  {
   "cell_type": "markdown",
   "id": "hungarian-living",
   "metadata": {
    "heading_collapsed": true
   },
   "source": [
    "## Import Libraries"
   ]
  },
  {
   "cell_type": "code",
   "execution_count": 5,
   "id": "indirect-fiction",
   "metadata": {
    "hidden": true
   },
   "outputs": [],
   "source": [
    "import rasterio\n",
    "import matplotlib.pyplot as plt"
   ]
  },
  {
   "cell_type": "markdown",
   "id": "reflected-legend",
   "metadata": {
    "heading_collapsed": true
   },
   "source": [
    "## Get Paths to Tiffs"
   ]
  },
  {
   "cell_type": "code",
   "execution_count": 6,
   "id": "considered-tradition",
   "metadata": {
    "hidden": true
   },
   "outputs": [],
   "source": [
    "import os\n",
    "import numpy as np\n",
    "import xarray as xr\n",
    "\n",
    "def return_path_dataarray():\n",
    "    incomplete_years = [1984, 1994, 2002, 2003, 2008]\n",
    "    years = [year for year in range(1984, 2021) if year not in incomplete_years]\n",
    "    im_type = [\"hab\", \"chern\"]\n",
    "    month_groups = [\"JFM\", \"AMJ\", \"JAS\", \"OND\"]\n",
    "    directory = (\n",
    "        \"/gws/nopw/j04/ai4er/guided-team-challenge/2021/biodiversity/gee_satellite_data\"\n",
    "    )\n",
    "    # year, month_group, im_type\n",
    "    path_array = np.empty([len(years), len(month_groups), len(im_type)], dtype=object)\n",
    "    for year in years:\n",
    "        if year not in incomplete_years:\n",
    "            path = os.path.join(directory, str(year))\n",
    "            for i in os.listdir(path):\n",
    "                full_name = os.path.join(path, i)\n",
    "                coord_list = [years, month_groups, im_type]\n",
    "                indices = []\n",
    "                for coord_no, coord in enumerate(coord_list):\n",
    "                    for counter, value in enumerate(coord):\n",
    "                        if str(value) in full_name:\n",
    "                            indices.append(counter)\n",
    "                path_array[indices[0], indices[1], indices[2]] = full_name\n",
    "    da = xr.DataArray(\n",
    "        data=path_array,\n",
    "        dims=[\"yr\", \"mn\", \"ty\"],\n",
    "        coords=dict(\n",
    "            yr=years,\n",
    "            mn=month_groups,\n",
    "            ty=im_type,\n",
    "        ),\n",
    "        attrs=dict(\n",
    "            description=\"Paths to tif.\",\n",
    "        ),\n",
    "    )\n",
    "    return da\n",
    "\n",
    "path_da = return_path_dataarray()"
   ]
  },
  {
   "cell_type": "markdown",
   "id": "small-issue",
   "metadata": {
    "heading_collapsed": true
   },
   "source": [
    "## First attempt at getting x values."
   ]
  },
  {
   "cell_type": "code",
   "execution_count": null,
   "id": "infectious-mongolia",
   "metadata": {
    "hidden": true
   },
   "outputs": [],
   "source": [
    "import numpy as np\n",
    "\n",
    "def return_x_values(path_da, year):\n",
    "    \"\"\"This seems to use up too much RAM\"\"\"\n",
    "    x_list = []\n",
    "    for mn in path_da.coords['mn'].values:\n",
    "        for ty in path_da.coords['ty'].values:\n",
    "            image = rasterio.open(path_da.sel(yr=year, mn=mn, ty=ty).values.tolist())\n",
    "            x_list.append(image.read().ravel())\n",
    "    return np.asarray(x_list)\n",
    "\n",
    "return_x_values(path_da, 2000)"
   ]
  },
  {
   "cell_type": "markdown",
   "id": "typical-relay",
   "metadata": {
    "hidden": true
   },
   "source": []
  }
 ],
 "metadata": {
  "hide_input": false,
  "kernelspec": {
   "display_name": "Python 3",
   "language": "python",
   "name": "python3"
  },
  "language_info": {
   "codemirror_mode": {
    "name": "ipython",
    "version": 3
   },
   "file_extension": ".py",
   "mimetype": "text/x-python",
   "name": "python",
   "nbconvert_exporter": "python",
   "pygments_lexer": "ipython3",
   "version": "3.8.6"
  },
  "varInspector": {
   "cols": {
    "lenName": 16,
    "lenType": 16,
    "lenVar": 40
   },
   "kernels_config": {
    "python": {
     "delete_cmd_postfix": "",
     "delete_cmd_prefix": "del ",
     "library": "var_list.py",
     "varRefreshCmd": "print(var_dic_list())"
    },
    "r": {
     "delete_cmd_postfix": ") ",
     "delete_cmd_prefix": "rm(",
     "library": "var_list.r",
     "varRefreshCmd": "cat(var_dic_list()) "
    }
   },
   "types_to_exclude": [
    "module",
    "function",
    "builtin_function_or_method",
    "instance",
    "_Feature"
   ],
   "window_display": false
  }
 },
 "nbformat": 4,
 "nbformat_minor": 5
}
