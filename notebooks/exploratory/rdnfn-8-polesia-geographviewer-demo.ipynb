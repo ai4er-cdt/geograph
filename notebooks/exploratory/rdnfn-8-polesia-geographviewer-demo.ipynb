{
 "cells": [
  {
   "cell_type": "markdown",
   "id": "excess-minutes",
   "metadata": {},
   "source": [
    "# Introduction to `GeoGraph`"
   ]
  },
  {
   "cell_type": "markdown",
   "id": "rising-milan",
   "metadata": {},
   "source": [
    "---\n",
    "\n",
    "## 0. Setup and Loading package"
   ]
  },
  {
   "cell_type": "code",
   "execution_count": null,
   "id": "level-attempt",
   "metadata": {},
   "outputs": [],
   "source": [
    "from src.data_loading import jasmin\n",
    "from src.models import geograph\n",
    "from src.visualisation import geoviewer\n",
    "from src.constants import PREFERRED_CRS"
   ]
  },
  {
   "cell_type": "markdown",
   "id": "catholic-bulletin",
   "metadata": {},
   "source": [
    "---\n",
    "\n",
    "## 1. Loading Data"
   ]
  },
  {
   "cell_type": "code",
   "execution_count": null,
   "id": "pleased-workshop",
   "metadata": {},
   "outputs": [],
   "source": [
    "# Loading Polesia data set from shared Jasmin folder\n",
    "gdf = jasmin.get_polesia_data()\n",
    "\n",
    "# Looking at south-west corner of data\n",
    "# Choosen because are of wilderness as discussed\n",
    "minx, miny, maxx, maxy = gdf.total_bounds\n",
    "square_len = 25000\n",
    "\n",
    "gdf = gdf.cx[ minx:minx+square_len  ,  miny:miny+square_len]\n",
    "\n",
    "print(\"Number of patches in region of interest:\", len(gdf))\n",
    "gdf.plot()\n",
    "gdf.head(5)"
   ]
  },
  {
   "cell_type": "markdown",
   "id": "human-sheep",
   "metadata": {},
   "source": [
    "---\n",
    "\n",
    "## 2. Creating `GeoGraph`"
   ]
  },
  {
   "cell_type": "code",
   "execution_count": null,
   "id": "copyrighted-candle",
   "metadata": {},
   "outputs": [],
   "source": [
    "# Building the main graph structure\n",
    "\n",
    "graph = geograph.GeoGraph(gdf, \n",
    "                          crs=PREFERRED_CRS, \n",
    "                          columns_to_rename={\"Eunis_name\":\"class_label\",\"AREA\":\"area\"})"
   ]
  },
  {
   "cell_type": "markdown",
   "id": "short-annex",
   "metadata": {},
   "source": [
    "---\n",
    "\n",
    "## 3. Creating Habitats"
   ]
  },
  {
   "cell_type": "code",
   "execution_count": null,
   "id": "framed-investor",
   "metadata": {},
   "outputs": [],
   "source": [
    "# First selecting the classes that make up our habitat\n",
    "# We chose all classes with 'pine' in the name.\n",
    "pine_classes = [label for label in graph.df.class_label.unique() if 'pine' in label]\n",
    "pine_classes"
   ]
  },
  {
   "cell_type": "code",
   "execution_count": null,
   "id": "ranging-airplane",
   "metadata": {},
   "outputs": [],
   "source": [
    "# Proposed distance from email: mobile (<100m), semi mobile (<25m) and sessile (<5m)\n",
    "graph.add_habitat('Sessile (5m) - pine', \n",
    "                  max_travel_distance=5, \n",
    "                  valid_classes=pine_classes)\n",
    "\n",
    "graph.add_habitat('Semi mobile (25m) - pine', \n",
    "                  max_travel_distance=25, \n",
    "                  valid_classes=pine_classes)\n",
    "\n",
    "graph.add_habitat('Mobile (500m) - pine',\n",
    "                  max_travel_distance=500, \n",
    "                  valid_classes=pine_classes)"
   ]
  },
  {
   "cell_type": "markdown",
   "id": "imposed-settlement",
   "metadata": {},
   "source": [
    "---\n",
    "\n",
    "## 4. Interactive Graph"
   ]
  },
  {
   "cell_type": "code",
   "execution_count": null,
   "id": "established-soundtrack",
   "metadata": {},
   "outputs": [],
   "source": [
    "viewer = geoviewer.GeoGraphViewer()\n",
    "viewer.add_graph(graph, name='Polesia data')\n",
    "viewer.enable_graph_controls()\n",
    "viewer"
   ]
  },
  {
   "cell_type": "markdown",
   "id": "compliant-sharing",
   "metadata": {},
   "source": [
    "### Things to consider in GeoGraphViewer\n",
    "- How `max_travel_distance` affects the number of components in habitat"
   ]
  },
  {
   "cell_type": "markdown",
   "id": "banner-inflation",
   "metadata": {},
   "source": [
    "## 5. Next Steps\n",
    "\n",
    "See questions doc..."
   ]
  },
  {
   "cell_type": "code",
   "execution_count": null,
   "id": "temporal-responsibility",
   "metadata": {},
   "outputs": [],
   "source": [
    "%load_ext autoreload\n",
    "%autoreload 2\n",
    "%config IPCompleter.greedy=True"
   ]
  },
  {
   "cell_type": "code",
   "execution_count": null,
   "id": "automotive-stuff",
   "metadata": {},
   "outputs": [],
   "source": []
  }
 ],
 "metadata": {
  "kernelspec": {
   "display_name": "Python 3",
   "language": "python",
   "name": "python3"
  },
  "language_info": {
   "codemirror_mode": {
    "name": "ipython",
    "version": 3
   },
   "file_extension": ".py",
   "mimetype": "text/x-python",
   "name": "python",
   "nbconvert_exporter": "python",
   "pygments_lexer": "ipython3",
   "version": "3.8.8"
  }
 },
 "nbformat": 4,
 "nbformat_minor": 5
}
