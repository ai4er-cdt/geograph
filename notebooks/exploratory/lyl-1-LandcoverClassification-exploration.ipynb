{
 "cells": [
  {
   "cell_type": "code",
   "execution_count": 10,
   "id": "august-tolerance",
   "metadata": {
    "ExecuteTime": {
     "end_time": "2021-01-30T17:47:15.677857Z",
     "start_time": "2021-01-30T17:47:12.008903Z"
    }
   },
   "outputs": [
    {
     "name": "stderr",
     "output_type": "stream",
     "text": [
      "/home/users/lyl1104/gtc-biodiversity/env/lib/python3.8/site-packages/arcgis/_impl/common/_mixins.py:8: DeprecationWarning: Using or importing the ABCs from 'collections' instead of from 'collections.abc' is deprecated since Python 3.3, and in 3.9 it will stop working\n",
      "  from collections import Mapping, MutableMapping, Sequence, OrderedDict\n"
     ]
    }
   ],
   "source": [
    "import os\n",
    "from pathlib import Path\n",
    "\n",
    "from arcgis import GIS\n",
    "from arcgis.learn import UnetClassifier, prepare_data"
   ]
  },
  {
   "cell_type": "code",
   "execution_count": 11,
   "id": "temporal-commodity",
   "metadata": {
    "ExecuteTime": {
     "end_time": "2021-01-30T17:49:16.750704Z",
     "start_time": "2021-01-30T17:49:14.019255Z"
    }
   },
   "outputs": [],
   "source": [
    "ent_gis = GIS(\"https://pythonapi.playground.esri.com/portal\", 'arcgis_python', 'amazing_arcgis_123')"
   ]
  },
  {
   "cell_type": "code",
   "execution_count": 12,
   "id": "published-relationship",
   "metadata": {
    "ExecuteTime": {
     "end_time": "2021-01-30T20:18:55.220657Z",
     "start_time": "2021-01-30T20:18:52.886202Z"
    },
    "scrolled": true
   },
   "outputs": [
    {
     "data": {
      "text/plain": [
       "PosixPath('/neodc/esacci/land_cover/data/land_cover_maps/v2.0.7/ESACCI-LC-L4-LCCS-Map-300m-P1Y-2015-v2.0.7.tif')"
      ]
     },
     "execution_count": 12,
     "metadata": {},
     "output_type": "execute_result"
    }
   ],
   "source": [
    "CEDA_DIR = pathlib.Path(\"/\") / \"neodc\"\n",
    "LANDCOVER_DIR = CEDA_DIR / \"esacci\" / \"land_cover\" / \"data\" / \"land_cover_maps\" / \"v2.0.7\"\n",
    "# Load sample data file:\n",
    "label_layer = LANDCOVER_DIR / \"ESACCI-LC-L4-LCCS-Map-300m-P1Y-2015-v2.0.7.tif\"\n",
    "\n",
    "label_layer"
   ]
  },
  {
   "cell_type": "code",
   "execution_count": 17,
   "id": "aquatic-hometown",
   "metadata": {
    "ExecuteTime": {
     "end_time": "2021-01-30T20:58:13.052500Z",
     "start_time": "2021-01-30T20:58:03.622850Z"
    }
   },
   "outputs": [],
   "source": [
    "import geopandas as gpd\n",
    "import pathlib\n",
    "import matplotlib.pyplot as plt\n",
    "# from src.constants import GWS_DATA_DIR\n",
    "\n",
    "GWS_DATA_DIR = pathlib.Path(\"/gws/nopw/j04/ai4er/guided-team-challenge/2021/biodiversity\")\n",
    "\n",
    "# Getting biotope data\n",
    "bio_path = GWS_DATA_DIR / \"chernobyl_habitat_data\" / \"Biotope_EUNIS_ver1.shp\"\n",
    "bio_data = gpd.read_file(bio_path)\n",
    "\n",
    "# getting vegetation data\n",
    "veg_path = GWS_DATA_DIR / \"chernobyl_habitat_data\" / \"Vegetation_mape.shp\"\n",
    "veg_data = gpd.read_file(veg_path)"
   ]
  },
  {
   "cell_type": "code",
   "execution_count": 15,
   "id": "tropical-reducing",
   "metadata": {
    "ExecuteTime": {
     "end_time": "2021-01-30T20:48:43.723236Z",
     "start_time": "2021-01-30T20:48:39.428135Z"
    }
   },
   "outputs": [
    {
     "data": {
      "application/vnd.jupyter.widget-view+json": {
       "model_id": "ab024f2093c842c4bb8d25bf6d81b7ba",
       "version_major": 2,
       "version_minor": 0
      },
      "text/plain": [
       "MapView(layout=Layout(height='400px', width='100%'))"
      ]
     },
     "metadata": {},
     "output_type": "display_data"
    },
    {
     "data": {
      "text/html": [
       "<div class=\"map-static-img-preview-f9e1d496-4a42-4091-bd6a-f8437aa9cc37\"><img src=\"\"></img></div>"
      ],
      "text/plain": [
       "<IPython.core.display.HTML object>"
      ]
     },
     "metadata": {},
     "output_type": "display_data"
    },
    {
     "data": {
      "text/html": [
       "<div class=\"map-html-embed-preview-f9e1d496-4a42-4091-bd6a-f8437aa9cc37\"></div>"
      ],
      "text/plain": [
       "<IPython.core.display.HTML object>"
      ]
     },
     "metadata": {},
     "output_type": "display_data"
    }
   ],
   "source": [
    "m = ent_gis.map(\"Chernobyl, Kyyivs’ka Oblast'\")\n",
    "m"
   ]
  },
  {
   "cell_type": "code",
   "execution_count": 19,
   "id": "weird-chosen",
   "metadata": {
    "ExecuteTime": {
     "end_time": "2021-01-30T21:15:40.797550Z",
     "start_time": "2021-01-30T21:15:39.393770Z"
    }
   },
   "outputs": [],
   "source": [
    "from arcgis.raster import analytics"
   ]
  },
  {
   "cell_type": "code",
   "execution_count": 20,
   "id": "caroline-hurricane",
   "metadata": {
    "ExecuteTime": {
     "end_time": "2021-01-30T21:15:58.891875Z",
     "start_time": "2021-01-30T21:15:58.279312Z"
    }
   },
   "outputs": [
    {
     "name": "stderr",
     "output_type": "stream",
     "text": [
      "/home/users/lyl1104/gtc-biodiversity/env/lib/python3.8/site-packages/ipykernel/ipkernel.py:283: DeprecationWarning: `should_run_async` will not call `transform_cell` automatically in the future. Please pass the result to `transformed_cell` argument and any exception that happen during thetransform in `preprocessing_exc_tuple` in IPython 7.17 and above.\n",
      "  and should_run_async(code)\n"
     ]
    },
    {
     "data": {
      "text/plain": [
       "<DatastoreManager for https://pythonapi.playground.esri.com/ra/admin>"
      ]
     },
     "execution_count": 20,
     "metadata": {},
     "output_type": "execute_result"
    }
   ],
   "source": [
    "ds = analytics.get_datastores(gis=ent_gis)\n",
    "ds"
   ]
  },
  {
   "cell_type": "code",
   "execution_count": 21,
   "id": "israeli-highway",
   "metadata": {
    "ExecuteTime": {
     "end_time": "2021-01-30T21:16:20.648966Z",
     "start_time": "2021-01-30T21:16:20.121233Z"
    }
   },
   "outputs": [
    {
     "name": "stderr",
     "output_type": "stream",
     "text": [
      "/home/users/lyl1104/gtc-biodiversity/env/lib/python3.8/site-packages/ipykernel/ipkernel.py:283: DeprecationWarning: `should_run_async` will not call `transform_cell` automatically in the future. Please pass the result to `transformed_cell` argument and any exception that happen during thetransform in `preprocessing_exc_tuple` in IPython 7.17 and above.\n",
      "  and should_run_async(code)\n"
     ]
    },
    {
     "data": {
      "text/plain": [
       "[<Datastore title:\"/fileShares/ListDatastoreContent\" type:\"folder\">,\n",
       " <Datastore title:\"/rasterStores/RasterDataStore\" type:\"rasterStore\">]"
      ]
     },
     "execution_count": 21,
     "metadata": {},
     "output_type": "execute_result"
    }
   ],
   "source": [
    "ds.search()"
   ]
  },
  {
   "cell_type": "code",
   "execution_count": 22,
   "id": "binary-massage",
   "metadata": {
    "ExecuteTime": {
     "end_time": "2021-01-30T21:16:38.192774Z",
     "start_time": "2021-01-30T21:16:37.836509Z"
    }
   },
   "outputs": [
    {
     "name": "stderr",
     "output_type": "stream",
     "text": [
      "/home/users/lyl1104/gtc-biodiversity/env/lib/python3.8/site-packages/ipykernel/ipkernel.py:283: DeprecationWarning: `should_run_async` will not call `transform_cell` automatically in the future. Please pass the result to `transformed_cell` argument and any exception that happen during thetransform in `preprocessing_exc_tuple` in IPython 7.17 and above.\n",
      "  and should_run_async(code)\n"
     ]
    },
    {
     "data": {
      "text/plain": [
       "<Datastore title:\"/rasterStores/RasterDataStore\" type:\"rasterStore\">"
      ]
     },
     "execution_count": 22,
     "metadata": {},
     "output_type": "execute_result"
    }
   ],
   "source": [
    "rasterstore = ds.get(\"/rasterStores/RasterDataStore\")\n",
    "rasterstore"
   ]
  },
  {
   "cell_type": "code",
   "execution_count": 23,
   "id": "plain-baseball",
   "metadata": {
    "ExecuteTime": {
     "end_time": "2021-01-30T21:17:01.689237Z",
     "start_time": "2021-01-30T21:17:00.373883Z"
    }
   },
   "outputs": [
    {
     "name": "stderr",
     "output_type": "stream",
     "text": [
      "/home/users/lyl1104/gtc-biodiversity/env/lib/python3.8/site-packages/ipykernel/ipkernel.py:283: DeprecationWarning: `should_run_async` will not call `transform_cell` automatically in the future. Please pass the result to `transformed_cell` argument and any exception that happen during thetransform in `preprocessing_exc_tuple` in IPython 7.17 and above.\n",
      "  and should_run_async(code)\n"
     ]
    },
    {
     "data": {
      "text/plain": [
       "'landcover_sample_world_imagery'"
      ]
     },
     "execution_count": 23,
     "metadata": {},
     "output_type": "execute_result"
    }
   ],
   "source": [
    "samplefolder = \"landcover_sample_world_imagery\"\n",
    "samplefolder"
   ]
  },
  {
   "cell_type": "code",
   "execution_count": 24,
   "id": "respected-lunch",
   "metadata": {
    "ExecuteTime": {
     "end_time": "2021-01-30T21:17:23.242966Z",
     "start_time": "2021-01-30T21:17:23.103672Z"
    }
   },
   "outputs": [
    {
     "name": "stderr",
     "output_type": "stream",
     "text": [
      "/home/users/lyl1104/gtc-biodiversity/env/lib/python3.8/site-packages/ipykernel/ipkernel.py:283: DeprecationWarning: `should_run_async` will not call `transform_cell` automatically in the future. Please pass the result to `transformed_cell` argument and any exception that happen during thetransform in `preprocessing_exc_tuple` in IPython 7.17 and above.\n",
      "  and should_run_async(code)\n"
     ]
    }
   ],
   "source": [
    "import arcgis\n",
    "from arcgis import learn\n",
    "arcgis.env.verbose = True"
   ]
  },
  {
   "cell_type": "code",
   "execution_count": 25,
   "id": "printable-satin",
   "metadata": {
    "ExecuteTime": {
     "end_time": "2021-01-30T21:18:22.562988Z",
     "start_time": "2021-01-30T21:18:21.168593Z"
    }
   },
   "outputs": [
    {
     "name": "stderr",
     "output_type": "stream",
     "text": [
      "/home/users/lyl1104/gtc-biodiversity/env/lib/python3.8/site-packages/ipykernel/ipkernel.py:283: DeprecationWarning: `should_run_async` will not call `transform_cell` automatically in the future. Please pass the result to `transformed_cell` argument and any exception that happen during thetransform in `preprocessing_exc_tuple` in IPython 7.17 and above.\n",
      "  and should_run_async(code)\n"
     ]
    },
    {
     "ename": "SyntaxError",
     "evalue": "keyword argument repeated (<ipython-input-25-d89ca9bd5823>, line 9)",
     "output_type": "error",
     "traceback": [
      "\u001b[0;36m  File \u001b[0;32m\"<ipython-input-25-d89ca9bd5823>\"\u001b[0;36m, line \u001b[0;32m9\u001b[0m\n\u001b[0;31m    context = context,\u001b[0m\n\u001b[0m    ^\u001b[0m\n\u001b[0;31mSyntaxError\u001b[0m\u001b[0;31m:\u001b[0m keyword argument repeated\n"
     ]
    }
   ],
   "source": [
    "export = learn.export_training_data(input_raster = world_imagery_layer,\n",
    "                                    output_location = samplefolder,\n",
    "                                    input_class_data = veg_data.url, \n",
    "                                    chip_format = \"PNG\", \n",
    "                                    tile_size = {\"x\":400,\"y\":400}, \n",
    "                                    stride_size = {\"x\":0,\"y\":0}, \n",
    "                                    metadata_format = \"Classified_Tiles\",                                        \n",
    "                                    context = {\"startIndex\": 0, \"exportAllTiles\": False, \"cellSize\": 2},\n",
    "                                    context = context,\n",
    "                                    gis = ent_gis)"
   ]
  },
  {
   "cell_type": "code",
   "execution_count": 26,
   "id": "functional-retreat",
   "metadata": {
    "ExecuteTime": {
     "end_time": "2021-01-30T21:23:05.263419Z",
     "start_time": "2021-01-30T21:23:02.353025Z"
    }
   },
   "outputs": [
    {
     "name": "stderr",
     "output_type": "stream",
     "text": [
      "/home/users/lyl1104/gtc-biodiversity/env/lib/python3.8/site-packages/requests_kerberos/kerberos_.py:385: DeprecationWarning: PY_SSIZE_T_CLEAN will be required for '#' formats\n",
      "  self.cbt_struct = kerberos.channelBindings(application_data=cbt_application_data)\n"
     ]
    },
    {
     "data": {
      "application/vnd.jupyter.widget-view+json": {
       "model_id": "5713cc62aa094403b79e0fe97a1b4657",
       "version_major": 2,
       "version_minor": 0
      },
      "text/plain": [
       "MapView(layout=Layout(height='400px', width='100%'))"
      ]
     },
     "metadata": {},
     "output_type": "display_data"
    },
    {
     "data": {
      "text/html": [
       "<div class=\"map-static-img-preview-130cf959-2a0b-4922-a6f5-a1638d18630e\"><img src=\"\"></img></div>"
      ],
      "text/plain": [
       "<IPython.core.display.HTML object>"
      ]
     },
     "metadata": {},
     "output_type": "display_data"
    },
    {
     "data": {
      "text/html": [
       "<div class=\"map-html-embed-preview-130cf959-2a0b-4922-a6f5-a1638d18630e\"></div>"
      ],
      "text/plain": [
       "<IPython.core.display.HTML object>"
      ]
     },
     "metadata": {},
     "output_type": "display_data"
    }
   ],
   "source": [
    "from arcgis.gis import GIS\n",
    "gis = GIS()\n",
    "gis.map()"
   ]
  },
  {
   "cell_type": "code",
   "execution_count": null,
   "id": "eligible-violence",
   "metadata": {},
   "outputs": [],
   "source": []
  }
 ],
 "metadata": {
  "hide_input": false,
  "kernelspec": {
   "display_name": "Python 3.8.6 64-bit ('env')",
   "language": "python",
   "name": "python38664bitenv25285113986f4d2b959433b1bf942294"
  },
  "language_info": {
   "codemirror_mode": {
    "name": "ipython",
    "version": 3
   },
   "file_extension": ".py",
   "mimetype": "text/x-python",
   "name": "python",
   "nbconvert_exporter": "python",
   "pygments_lexer": "ipython3",
   "version": "3.8.6"
  },
  "varInspector": {
   "cols": {
    "lenName": 16,
    "lenType": 16,
    "lenVar": 40
   },
   "kernels_config": {
    "python": {
     "delete_cmd_postfix": "",
     "delete_cmd_prefix": "del ",
     "library": "var_list.py",
     "varRefreshCmd": "print(var_dic_list())"
    },
    "r": {
     "delete_cmd_postfix": ") ",
     "delete_cmd_prefix": "rm(",
     "library": "var_list.r",
     "varRefreshCmd": "cat(var_dic_list()) "
    }
   },
   "types_to_exclude": [
    "module",
    "function",
    "builtin_function_or_method",
    "instance",
    "_Feature"
   ],
   "window_display": false
  }
 },
 "nbformat": 4,
 "nbformat_minor": 5
}
