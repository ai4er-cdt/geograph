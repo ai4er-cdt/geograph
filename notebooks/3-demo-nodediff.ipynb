{
 "cells": [
  {
   "cell_type": "code",
   "execution_count": null,
   "id": "adjustable-consequence",
   "metadata": {
    "ExecuteTime": {
     "end_time": "2021-03-23T12:37:54.611718Z",
     "start_time": "2021-03-23T12:37:54.554739Z"
    },
    "execution": {
     "iopub.execute_input": "2021-03-19T13:00:24.600643Z",
     "iopub.status.busy": "2021-03-19T13:00:24.600507Z",
     "iopub.status.idle": "2021-03-19T13:00:24.634460Z",
     "shell.execute_reply": "2021-03-19T13:00:24.634018Z",
     "shell.execute_reply.started": "2021-03-19T13:00:24.600603Z"
    }
   },
   "outputs": [],
   "source": [
    "# %load ../jupyter_setup.txt\n",
    "# Convenient jupyter setup\n",
    "%load_ext autoreload\n",
    "%autoreload 2\n",
    "%config IPCompleter.greedy=True\n",
    "%config IPCompleter.use_jedi=False "
   ]
  },
  {
   "cell_type": "code",
   "execution_count": null,
   "id": "wired-clause",
   "metadata": {
    "ExecuteTime": {
     "end_time": "2021-03-23T12:37:59.535590Z",
     "start_time": "2021-03-23T12:37:54.791707Z"
    },
    "execution": {
     "iopub.execute_input": "2021-03-19T13:00:24.635260Z",
     "iopub.status.busy": "2021-03-19T13:00:24.635144Z",
     "iopub.status.idle": "2021-03-19T13:00:27.838730Z",
     "shell.execute_reply": "2021-03-19T13:00:27.838268Z",
     "shell.execute_reply.started": "2021-03-19T13:00:24.635244Z"
    }
   },
   "outputs": [],
   "source": [
    "import matplotlib.pyplot as plt\n",
    "import matplotlib as mpl\n",
    "import seaborn as sns\n",
    "\n",
    "import numpy as np\n",
    "import pandas as pd\n",
    "\n",
    "import rioxarray as rxr\n",
    "import geopandas as gpd\n",
    "\n",
    "import pylandstats as pls\n",
    "from src.demo.plot_settings import ps_defaults, set_dim\n",
    "ps_defaults(use_tex=True)\n",
    "\n",
    "from src.geograph import GeoGraph\n",
    "from src.geotimeline import TimedGeoGraph, GeoGraphTimeline\n",
    "from src.constants import DATA_DIR, UTM35N, ROIS\n",
    "\n",
    "# Parse geotif landcover data\n",
    "chernobyl_path = lambda year: DATA_DIR / \"chernobyl\" / \"esa_cci\" / f\"esa_cci_{year}_chernobyl.tif\" \n",
    "\n",
    "# Parse ROIS\n",
    "rois = gpd.read_file(ROIS)\n",
    "cez = rois[rois[\"name\"] == \"Chernobyl Exclusion Zone\"]\n",
    "ez = rois[rois.name.str.contains(\"Exclusion\")]"
   ]
  },
  {
   "cell_type": "markdown",
   "id": "instrumental-lawsuit",
   "metadata": {},
   "source": [
    "## 2. Load Chernobyl Exclusion Zone data"
   ]
  },
  {
   "cell_type": "code",
   "execution_count": null,
   "id": "appointed-investigator",
   "metadata": {
    "ExecuteTime": {
     "end_time": "2021-03-23T12:37:59.687336Z",
     "start_time": "2021-03-23T12:37:59.654943Z"
    },
    "execution": {
     "iopub.execute_input": "2021-03-19T13:00:27.839538Z",
     "iopub.status.busy": "2021-03-19T13:00:27.839408Z",
     "iopub.status.idle": "2021-03-19T13:00:27.867849Z",
     "shell.execute_reply": "2021-03-19T13:00:27.867386Z",
     "shell.execute_reply.started": "2021-03-19T13:00:27.839521Z"
    }
   },
   "outputs": [],
   "source": [
    "def clip_and_reproject(xrdata, clip_geometry=None, to_crs=UTM35N, x_res=300, y_res=300):\n",
    "    \n",
    "    if clip_geometry is not None:\n",
    "        clipped_data = xrdata.rio.clip(clip_geometry)\n",
    "    else:\n",
    "        clipped_data = xrdata\n",
    "        \n",
    "    if to_crs is not None:\n",
    "        reprojected_data = clipped_data.rio.reproject(to_crs, resolution=(x_res, y_res))\n",
    "    else:\n",
    "        reprojected_data = clipped_data\n",
    "    \n",
    "    return reprojected_data"
   ]
  },
  {
   "cell_type": "code",
   "execution_count": null,
   "id": "established-fabric",
   "metadata": {
    "ExecuteTime": {
     "end_time": "2021-03-23T12:38:00.276860Z",
     "start_time": "2021-03-23T12:37:59.951699Z"
    },
    "execution": {
     "iopub.execute_input": "2021-03-19T13:01:17.983321Z",
     "iopub.status.busy": "2021-03-19T13:01:17.983070Z",
     "iopub.status.idle": "2021-03-19T13:01:22.253688Z",
     "shell.execute_reply": "2021-03-19T13:01:22.253335Z",
     "shell.execute_reply.started": "2021-03-19T13:01:17.983300Z"
    }
   },
   "outputs": [],
   "source": [
    "# Loading geographs from disk (Warning: Currently not working as files were pickled on JASMIN)\n",
    "# Demo path includes pre-loaded graphs for faster loading\n",
    "#demo_path = DATA_DIR / \"chernobyl\" / \"graphs\"\n",
    "#years = list(range(2000,2015))\n",
    "#cez_graphs = {year: GeoGraph(chernobyl_path(yera))\n",
    "#              for year in years}\n",
    "\n",
    "# Instead we recreate the data from scratch below for now (takes ~2min):"
   ]
  },
  {
   "cell_type": "code",
   "execution_count": null,
   "id": "sitting-things",
   "metadata": {
    "ExecuteTime": {
     "end_time": "2021-03-23T12:45:28.535177Z",
     "start_time": "2021-03-23T12:43:32.389115Z"
    }
   },
   "outputs": [],
   "source": [
    "# Loading raster data\n",
    "years = list(range(2000,2015))\n",
    "cez_rasters = {year: clip_and_reproject(rxr.open_rasterio(chernobyl_path(year)), clip_geometry=cez.geometry) \n",
    "              for year in years\n",
    "             }"
   ]
  },
  {
   "cell_type": "code",
   "execution_count": null,
   "id": "canadian-activation",
   "metadata": {},
   "outputs": [],
   "source": [
    "# Polygonising raster and transforming into graph\n",
    "cez_graphs = {}\n",
    "for year, raster in cez_rasters.items():\n",
    "    print(f\"Analysing year {year}\")\n",
    "    # Load geograph from the raster data (construction takes ~10s)\n",
    "    cez_graphs[year] = GeoGraph(data=raster.data, \n",
    "                                transform=raster.rio.transform(), \n",
    "                                mask = raster.data > 0,\n",
    "                                crs=UTM35N, \n",
    "                                connectivity=8)"
   ]
  },
  {
   "cell_type": "code",
   "execution_count": null,
   "id": "dietary-oriental",
   "metadata": {
    "ExecuteTime": {
     "end_time": "2021-03-23T12:46:25.057049Z",
     "start_time": "2021-03-23T12:46:25.031898Z"
    },
    "execution": {
     "iopub.execute_input": "2021-03-19T13:01:24.017126Z",
     "iopub.status.busy": "2021-03-19T13:01:24.016814Z",
     "iopub.status.idle": "2021-03-19T13:01:24.073162Z",
     "shell.execute_reply": "2021-03-19T13:01:24.072424Z",
     "shell.execute_reply.started": "2021-03-19T13:01:24.017104Z"
    }
   },
   "outputs": [],
   "source": [
    "cez_timeline = GeoGraphTimeline(cez_graphs)"
   ]
  },
  {
   "cell_type": "code",
   "execution_count": null,
   "id": "municipal-comparative",
   "metadata": {
    "ExecuteTime": {
     "end_time": "2021-03-23T12:47:13.599945Z",
     "start_time": "2021-03-23T12:46:25.742726Z"
    },
    "execution": {
     "iopub.execute_input": "2021-03-19T13:01:24.601384Z",
     "iopub.status.busy": "2021-03-19T13:01:24.601064Z",
     "iopub.status.idle": "2021-03-19T13:01:50.072153Z",
     "shell.execute_reply": "2021-03-19T13:01:50.071390Z",
     "shell.execute_reply.started": "2021-03-19T13:01:24.601364Z"
    }
   },
   "outputs": [],
   "source": [
    "# Perform node identification between adjacent time slices (takes ~10s)\n",
    "cez_timeline.timestack()"
   ]
  },
  {
   "cell_type": "markdown",
   "id": "sized-infrared",
   "metadata": {},
   "source": [
    "# 3. Plots"
   ]
  },
  {
   "cell_type": "markdown",
   "id": "instructional-internet",
   "metadata": {},
   "source": [
    "Let us now visualise the ecosystem dynamics from 2013 to 2014"
   ]
  },
  {
   "cell_type": "code",
   "execution_count": null,
   "id": "shared-mountain",
   "metadata": {
    "ExecuteTime": {
     "end_time": "2021-03-23T12:47:34.842217Z",
     "start_time": "2021-03-23T12:47:25.957773Z"
    },
    "execution": {
     "iopub.execute_input": "2021-03-19T13:02:47.790984Z",
     "iopub.status.busy": "2021-03-19T13:02:47.790764Z",
     "iopub.status.idle": "2021-03-19T13:02:48.436804Z",
     "shell.execute_reply": "2021-03-19T13:02:48.436483Z",
     "shell.execute_reply.started": "2021-03-19T13:02:47.790965Z"
    }
   },
   "outputs": [],
   "source": [
    "# Identify node dynamics for the year 2014\n",
    "cez_timeline.calculate_node_dynamics(2014)"
   ]
  },
  {
   "cell_type": "code",
   "execution_count": null,
   "id": "physical-price",
   "metadata": {
    "ExecuteTime": {
     "end_time": "2021-03-23T12:47:44.862467Z",
     "start_time": "2021-03-23T12:47:44.813519Z"
    },
    "execution": {
     "iopub.execute_input": "2021-03-19T13:02:48.437577Z",
     "iopub.status.busy": "2021-03-19T13:02:48.437461Z",
     "iopub.status.idle": "2021-03-19T13:02:48.465914Z",
     "shell.execute_reply": "2021-03-19T13:02:48.465382Z",
     "shell.execute_reply.started": "2021-03-19T13:02:48.437561Z"
    }
   },
   "outputs": [],
   "source": [
    "cez_timeline[2014].df.node_dynamic.unique()"
   ]
  },
  {
   "cell_type": "code",
   "execution_count": null,
   "id": "tracked-monroe",
   "metadata": {
    "ExecuteTime": {
     "end_time": "2021-03-23T12:48:42.710428Z",
     "start_time": "2021-03-23T12:48:40.509829Z"
    },
    "execution": {
     "iopub.execute_input": "2021-03-19T13:07:31.241480Z",
     "iopub.status.busy": "2021-03-19T13:07:31.241267Z",
     "iopub.status.idle": "2021-03-19T13:07:32.192469Z",
     "shell.execute_reply": "2021-03-19T13:07:32.192073Z",
     "shell.execute_reply.started": "2021-03-19T13:07:31.241462Z"
    }
   },
   "outputs": [],
   "source": [
    "graph = cez_timeline[2014]\n",
    "\n",
    "plot_scale_factor=1\n",
    "dynamic_to_int = {'split': 0, \n",
    "                  'shrank': 1,\n",
    "                  'unchanged': 2,\n",
    "                  'complex': 3,\n",
    "                  'grew': 4,\n",
    "                  'merged': 5,\n",
    "                  'birth': 6}\n",
    "\n",
    "colors = sns.color_palette(\"Paired\").as_hex()\n",
    "dynamic = lambda x: dynamic_to_int[x]\n",
    "graph.df[\"dynamic_class\"] = graph.df.node_dynamic.map(dynamic)\n",
    "\n",
    "fig, ax = plt.subplots(1)\n",
    "plt.title(\"Chernobyl Exclusion Zone 2013 to 2014\\n(ESA CCI 300m resolution)\", fontsize=9*plot_scale_factor)\n",
    "set_dim(fig, fraction_of_line_width=plot_scale_factor)\n",
    "vmin, vmax = 0, 7\n",
    "cmap = mpl.colors.ListedColormap([colors[7], colors[6], 'lightgrey', colors[0], colors[2], colors[3], colors[9]])\n",
    "graph.df.plot(column='dynamic_class', cmap=cmap, vmin=vmin, vmax=vmax, ax=ax)\n",
    "ax.set_xticks([])\n",
    "ax.set_yticks([])\n",
    "\n",
    "inset_text = (\"Node dynamics (#):\\n\"\n",
    "              f\"  Splits: {np.sum(graph.df['node_dynamic'] == 'split')}\\n\"\n",
    "              f\"  Shrinking: {np.sum(graph.df['node_dynamic'] == 'shrank')}\\n\"\n",
    "              f\"  Unchanged: {np.sum(graph.df['node_dynamic'] == 'unchanged')}\\n\"\n",
    "              f\"  Complex: {np.sum(graph.df['node_dynamic'] == 'complex')}\\n\"\n",
    "              f\"  Merges: {np.sum(graph.df['node_dynamic'] == 'merged')}\\n\"\n",
    "              f\"  Growth: {np.sum(graph.df['node_dynamic'] == 'grew')}\\n\"\n",
    "              f\"  Births: {np.sum(graph.df['node_dynamic'] == 'birth')}\"\n",
    "             )\n",
    "\n",
    "# these are matplotlib.patch.Patch properties\n",
    "props = dict(boxstyle='round', facecolor='white', alpha=0.8)\n",
    "\n",
    "# place a text box in upper left in axes coords\n",
    "ax.text(0.03, 0.97, inset_text, transform=ax.transAxes, fontsize=9*plot_scale_factor,\n",
    "        verticalalignment='top', bbox=props)\n",
    "\n",
    "from mpl_toolkits.axes_grid1.anchored_artists import AnchoredSizeBar\n",
    "import matplotlib.font_manager as fm\n",
    "fontprops = fm.FontProperties(size=6*plot_scale_factor)\n",
    "scalebar = AnchoredSizeBar(ax.transData,\n",
    "                           1e4, '10 km', 'lower left', \n",
    "                           pad=0,\n",
    "                           borderpad=.8,\n",
    "                           color='black',\n",
    "                           frameon=False,\n",
    "                           size_vertical=250,\n",
    "                           fontproperties=fontprops\n",
    "                       )\n",
    "\n",
    "ax.add_artist(scalebar)\n",
    "\n",
    "# add colorbar\n",
    "fig = ax.get_figure()\n",
    "cax = fig.add_axes([0.12, 0.08, 0.78, 0.05]) # left-offset, # bottom offset # width, # height\n",
    "sm = plt.cm.ScalarMappable(cmap=cmap, norm=plt.Normalize(vmin=vmin, vmax=vmax))\n",
    "sm._A = []\n",
    "cbar = fig.colorbar(sm, cax=cax, orientation=\"horizontal\")\n",
    "cbar.set_ticks(np.arange(vmin+0.5, vmax+1))\n",
    "cbar.set_ticklabels([\"Split\", \"Shrank\", \"Unchanged\", \"Complex\", \"Grew\", \"Merged\", \"Birth\"])\n",
    "cbar.ax.tick_params(labelsize=9*plot_scale_factor) \n",
    "ax.spines['bottom'].set_visible(False)\n",
    "ax.spines['top'].set_visible(False)\n",
    "ax.spines['right'].set_visible(False)\n",
    "ax.spines['left'].set_visible(False)\n",
    "\n",
    "\n",
    "\n",
    "#plt.savefig(\"CEZ_node_dynamics.svg\")\n",
    "#plt.savefig(\"CEZ_node_dynamics.png\")"
   ]
  },
  {
   "cell_type": "code",
   "execution_count": null,
   "id": "accompanied-turtle",
   "metadata": {
    "ExecuteTime": {
     "end_time": "2021-03-23T12:48:48.276675Z",
     "start_time": "2021-03-23T12:48:45.732343Z"
    },
    "execution": {
     "iopub.execute_input": "2021-03-19T13:10:50.740439Z",
     "iopub.status.busy": "2021-03-19T13:10:50.740232Z",
     "iopub.status.idle": "2021-03-19T13:10:53.057592Z",
     "shell.execute_reply": "2021-03-19T13:10:53.055495Z",
     "shell.execute_reply.started": "2021-03-19T13:10:50.740420Z"
    }
   },
   "outputs": [],
   "source": [
    "plot_scale_factor=1\n",
    "fig, ax = plt.subplots(1)\n",
    "set_dim(fig, fraction_of_line_width=plot_scale_factor)\n",
    "\n",
    "cmap = sns.diverging_palette(6, 120, s=360, l=55, as_cmap=True)\n",
    "norm = mpl.colors.TwoSlopeNorm(vcenter=0, vmin=-10e5, vmax=10e5)\n",
    "\n",
    "graph.df.plot(\"absolute_growth\", ax=ax, cmap=cmap, norm=norm, edgecolor=\"grey\", linewidth=0.1)\n",
    "ax.set_xticks([])\n",
    "ax.set_yticks([])\n",
    "from mpl_toolkits.axes_grid1.anchored_artists import AnchoredSizeBar\n",
    "import matplotlib.font_manager as fm\n",
    "fontprops = fm.FontProperties(size=6*plot_scale_factor)\n",
    "scalebar = AnchoredSizeBar(ax.transData,\n",
    "                           1e4, '10 km', 'lower left', \n",
    "                           pad=0,\n",
    "                           borderpad=.3,\n",
    "                           color='black',\n",
    "                           frameon=False,\n",
    "                           size_vertical=250,\n",
    "                           fontproperties=fontprops\n",
    "                       )\n",
    "\n",
    "ax.add_artist(scalebar)\n",
    "\n",
    "cbar = fig.colorbar(mpl.cm.ScalarMappable(norm=norm, cmap=cmap), \n",
    "             orientation='horizontal', \n",
    "             label='Absolute growth rate [ha / yr]',\n",
    "             #aspect=9,\n",
    "             shrink=0.88,\n",
    "             pad=0.04\n",
    "            )\n",
    "cbar.set_ticks([-10e5, -7.5*1e5, -5e5, -2.5*1e5, 0, 2.5*1e5, 5e5, 7.5*1e5, 10e5])\n",
    "cbar.set_ticklabels([-100, -75, -50, -25, 0, 25, 50, 75, 100])\n",
    "cbar.ax.tick_params(labelsize=9*plot_scale_factor) \n",
    "cbar.set_label(\"Absolute growth rate [ha/yr]\", fontsize=9*plot_scale_factor)\n",
    "plt.title(\"Chernobyl Exclusion Zone 2013 to 2014\\n(ESA CCI 300m resolution)\", fontsize=9*plot_scale_factor)\n",
    "ax.spines['bottom'].set_visible(False)\n",
    "ax.spines['top'].set_visible(False)\n",
    "ax.spines['right'].set_visible(False)\n",
    "ax.spines['left'].set_visible(False)\n",
    "plt.savefig(\"CEZ_node_growth_rates.svg\")\n",
    "plt.savefig(\"CEZ_node_growth_rates.pdf\")\n",
    "plt.savefig(\"CEZ_node_growth_rates.png\")"
   ]
  },
  {
   "cell_type": "code",
   "execution_count": null,
   "id": "spread-domestic",
   "metadata": {
    "ExecuteTime": {
     "end_time": "2021-03-23T12:48:48.578630Z",
     "start_time": "2021-03-23T12:48:48.481853Z"
    },
    "execution": {
     "iopub.execute_input": "2021-03-19T13:02:10.286468Z",
     "iopub.status.busy": "2021-03-19T13:02:10.286238Z",
     "iopub.status.idle": "2021-03-19T13:02:10.540365Z",
     "shell.execute_reply": "2021-03-19T13:02:10.539881Z",
     "shell.execute_reply.started": "2021-03-19T13:02:10.286449Z"
    }
   },
   "outputs": [],
   "source": [
    "cez_timeline[2014].get_patch_metrics()"
   ]
  },
  {
   "cell_type": "code",
   "execution_count": null,
   "id": "intimate-diving",
   "metadata": {
    "ExecuteTime": {
     "end_time": "2021-03-23T12:48:50.769956Z",
     "start_time": "2021-03-23T12:48:50.137094Z"
    },
    "execution": {
     "iopub.execute_input": "2021-03-19T13:11:15.775431Z",
     "iopub.status.busy": "2021-03-19T13:11:15.775225Z",
     "iopub.status.idle": "2021-03-19T13:11:16.003209Z",
     "shell.execute_reply": "2021-03-19T13:11:16.002765Z",
     "shell.execute_reply.started": "2021-03-19T13:11:15.775413Z"
    }
   },
   "outputs": [],
   "source": [
    "fig, ax = plt.subplots(1)\n",
    "plot_scale_factor=2\n",
    "set_dim(fig, fraction_of_line_width=plot_scale_factor)\n",
    "\n",
    "cez_timeline[2013].df.loc[1629:1629].plot(ax=ax, color=\"red\", alpha=0.6)\n",
    "cez_timeline[2014].df.loc[1187:1187].plot(ax=ax, color=\"blue\", alpha=0.6)\n",
    "cez_timeline[2014].df.loc[1625:1625].plot(ax=ax, color=\"green\", alpha=0.8)\n",
    "\n",
    "inset_text = (\n",
    "              f\"Evergreen forest (70)\\n\\n\"\n",
    "              f\"Total area: {graph.df.area.loc[1625]/1e4:.0f} ha\\n\"\n",
    "              f\"Perimeter: {graph.df.perimeter.loc[1625]/1e3:.0f} km\\n\"\n",
    "              f\"Fractal dimension: {graph.df.fractal_dimension.loc[1625]:.2f}\\n\"\n",
    "              f\"Shape index: {graph.df.shape_index.loc[1625]:.2f}\"\n",
    "             \n",
    "             )\n",
    "\n",
    "# these are matplotlib.patch.Patch properties\n",
    "props = dict(boxstyle='round', facecolor='white', alpha=0.8)\n",
    "\n",
    "# place a text box in upper left in axes coords\n",
    "ax.text(0.6, 0.95, inset_text, transform=ax.transAxes, fontsize=8*plot_scale_factor,\n",
    "        verticalalignment='top', bbox=props)\n",
    "\n",
    "ax.set_xticks([])\n",
    "ax.set_yticks([])\n",
    "ax.spines['bottom'].set_visible(False)\n",
    "ax.spines['top'].set_visible(False)\n",
    "ax.spines['right'].set_visible(False)\n",
    "ax.spines['left'].set_visible(False)\n",
    "plt.savefig(\"CEZ-nodediff-example.svg\")\n",
    "plt.savefig(\"CEZ-nodediff-example.pdf\")"
   ]
  }
 ],
 "metadata": {
  "hide_input": false,
  "kernelspec": {
   "display_name": "Python 3",
   "language": "python",
   "name": "python3"
  },
  "language_info": {
   "codemirror_mode": {
    "name": "ipython",
    "version": 3
   },
   "file_extension": ".py",
   "mimetype": "text/x-python",
   "name": "python",
   "nbconvert_exporter": "python",
   "pygments_lexer": "ipython3",
   "version": "3.8.6"
  },
  "toc": {
   "base_numbering": 1,
   "nav_menu": {},
   "number_sections": true,
   "sideBar": true,
   "skip_h1_title": false,
   "title_cell": "Table of Contents",
   "title_sidebar": "Contents",
   "toc_cell": false,
   "toc_position": {},
   "toc_section_display": true,
   "toc_window_display": false
  },
  "varInspector": {
   "cols": {
    "lenName": 16,
    "lenType": 16,
    "lenVar": 40
   },
   "kernels_config": {
    "python": {
     "delete_cmd_postfix": "",
     "delete_cmd_prefix": "del ",
     "library": "var_list.py",
     "varRefreshCmd": "print(var_dic_list())"
    },
    "r": {
     "delete_cmd_postfix": ") ",
     "delete_cmd_prefix": "rm(",
     "library": "var_list.r",
     "varRefreshCmd": "cat(var_dic_list()) "
    }
   },
   "types_to_exclude": [
    "module",
    "function",
    "builtin_function_or_method",
    "instance",
    "_Feature"
   ],
   "window_display": false
  }
 },
 "nbformat": 4,
 "nbformat_minor": 5
}
