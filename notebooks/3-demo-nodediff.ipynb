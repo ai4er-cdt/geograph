{
 "cells": [
  {
   "cell_type": "code",
   "execution_count": 1,
   "id": "minute-leather",
   "metadata": {
    "ExecuteTime": {
     "end_time": "2021-03-23T12:37:54.611718Z",
     "start_time": "2021-03-23T12:37:54.554739Z"
    },
    "execution": {
     "iopub.execute_input": "2021-03-25T11:48:01.822208Z",
     "iopub.status.busy": "2021-03-25T11:48:01.821759Z",
     "iopub.status.idle": "2021-03-25T11:48:02.305250Z",
     "shell.execute_reply": "2021-03-25T11:48:02.304528Z",
     "shell.execute_reply.started": "2021-03-25T11:48:01.822116Z"
    },
    "tags": []
   },
   "outputs": [],
   "source": [
    "# %load ../jupyter_setup.txt\n",
    "# Convenient jupyter setup\n",
    "%load_ext autoreload\n",
    "%autoreload 2\n",
    "%config IPCompleter.greedy=True\n",
    "%config IPCompleter.use_jedi=False "
   ]
  },
  {
   "cell_type": "code",
   "execution_count": 2,
   "id": "jewish-warrant",
   "metadata": {
    "ExecuteTime": {
     "end_time": "2021-03-23T12:37:59.535590Z",
     "start_time": "2021-03-23T12:37:54.791707Z"
    },
    "execution": {
     "iopub.execute_input": "2021-03-25T11:48:02.322057Z",
     "iopub.status.busy": "2021-03-25T11:48:02.321742Z",
     "iopub.status.idle": "2021-03-25T11:48:08.602635Z",
     "shell.execute_reply": "2021-03-25T11:48:08.601634Z",
     "shell.execute_reply.started": "2021-03-25T11:48:02.322013Z"
    },
    "tags": []
   },
   "outputs": [],
   "source": [
    "import matplotlib.pyplot as plt\n",
    "import matplotlib as mpl\n",
    "import seaborn as sns\n",
    "\n",
    "import numpy as np\n",
    "import pandas as pd\n",
    "\n",
    "import rioxarray as rxr\n",
    "import geopandas as gpd\n",
    "\n",
    "import pylandstats as pls\n",
    "from src.demo.plot_settings import ps_defaults, set_dim\n",
    "ps_defaults(use_tex=True)\n",
    "\n",
    "from src.geograph import GeoGraph\n",
    "from src.geotimeline import TimedGeoGraph, GeoGraphTimeline\n",
    "from src.constants import DATA_DIR, UTM35N, ROIS\n",
    "\n",
    "# Parse geotif landcover data\n",
    "chernobyl_path = lambda year: DATA_DIR / \"chernobyl\" / \"esa_cci\" / f\"esa_cci_{year}_chernobyl.tif\" \n",
    "\n",
    "# Parse ROIS\n",
    "rois = gpd.read_file(ROIS)\n",
    "cez = rois[rois[\"name\"] == \"Chernobyl Exclusion Zone\"]\n",
    "ez = rois[rois.name.str.contains(\"Exclusion\")]"
   ]
  },
  {
   "cell_type": "markdown",
   "id": "cultural-negotiation",
   "metadata": {},
   "source": [
    "## 2. Load Chernobyl Exclusion Zone data"
   ]
  },
  {
   "cell_type": "code",
   "execution_count": 3,
   "id": "noticed-reform",
   "metadata": {
    "ExecuteTime": {
     "end_time": "2021-03-23T12:37:59.687336Z",
     "start_time": "2021-03-23T12:37:59.654943Z"
    },
    "execution": {
     "iopub.execute_input": "2021-03-25T11:48:10.879983Z",
     "iopub.status.busy": "2021-03-25T11:48:10.879697Z",
     "iopub.status.idle": "2021-03-25T11:48:10.921824Z",
     "shell.execute_reply": "2021-03-25T11:48:10.921033Z",
     "shell.execute_reply.started": "2021-03-25T11:48:10.879954Z"
    },
    "tags": []
   },
   "outputs": [],
   "source": [
    "def clip_and_reproject(xrdata, clip_geometry=None, to_crs=UTM35N, x_res=300, y_res=300):\n",
    "    \n",
    "    if clip_geometry is not None:\n",
    "        clipped_data = xrdata.rio.clip(clip_geometry)\n",
    "    else:\n",
    "        clipped_data = xrdata\n",
    "        \n",
    "    if to_crs is not None:\n",
    "        reprojected_data = clipped_data.rio.reproject(to_crs, resolution=(x_res, y_res))\n",
    "    else:\n",
    "        reprojected_data = clipped_data\n",
    "    \n",
    "    return reprojected_data"
   ]
  },
  {
   "cell_type": "code",
   "execution_count": 4,
   "id": "eight-partnership",
   "metadata": {
    "ExecuteTime": {
     "end_time": "2021-03-23T12:45:28.535177Z",
     "start_time": "2021-03-23T12:43:32.389115Z"
    },
    "execution": {
     "iopub.execute_input": "2021-03-25T11:48:51.489730Z",
     "iopub.status.busy": "2021-03-25T11:48:51.489355Z",
     "iopub.status.idle": "2021-03-25T11:48:57.636423Z",
     "shell.execute_reply": "2021-03-25T11:48:57.635446Z",
     "shell.execute_reply.started": "2021-03-25T11:48:51.489685Z"
    }
   },
   "outputs": [],
   "source": [
    "# Loading raster data\n",
    "years = list(range(2000,2015))\n",
    "cez_rasters = {year: clip_and_reproject(rxr.open_rasterio(chernobyl_path(year)), clip_geometry=cez.geometry) \n",
    "              for year in years\n",
    "             }"
   ]
  },
  {
   "cell_type": "code",
   "execution_count": 5,
   "id": "employed-problem",
   "metadata": {
    "execution": {
     "iopub.execute_input": "2021-03-25T11:48:58.356163Z",
     "iopub.status.busy": "2021-03-25T11:48:58.355854Z",
     "iopub.status.idle": "2021-03-25T11:50:20.827215Z",
     "shell.execute_reply": "2021-03-25T11:50:20.826169Z",
     "shell.execute_reply.started": "2021-03-25T11:48:58.356134Z"
    }
   },
   "outputs": [
    {
     "name": "stdout",
     "output_type": "stream",
     "text": [
      "Analysing year 2000\n"
     ]
    },
    {
     "name": "stderr",
     "output_type": "stream",
     "text": [
      "Step 1 of 2: Creating nodes and finding neighbours: 100%|██████████| 1924/1924 [00:01<00:00, 1425.51it/s]\n",
      "Step 2 of 2: Adding edges: 100%|██████████| 1924/1924 [00:00<00:00, 67463.43it/s]\n"
     ]
    },
    {
     "name": "stdout",
     "output_type": "stream",
     "text": [
      "Graph successfully loaded with 1924 nodes and 4912 edges.\n",
      "Analysing year 2001\n"
     ]
    },
    {
     "name": "stderr",
     "output_type": "stream",
     "text": [
      "Step 1 of 2: Creating nodes and finding neighbours: 100%|██████████| 1931/1931 [00:01<00:00, 1439.89it/s]\n",
      "Step 2 of 2: Adding edges: 100%|██████████| 1931/1931 [00:00<00:00, 54821.01it/s]\n"
     ]
    },
    {
     "name": "stdout",
     "output_type": "stream",
     "text": [
      "Graph successfully loaded with 1931 nodes and 4918 edges.\n",
      "Analysing year 2002\n"
     ]
    },
    {
     "name": "stderr",
     "output_type": "stream",
     "text": [
      "Step 1 of 2: Creating nodes and finding neighbours: 100%|██████████| 1929/1929 [00:01<00:00, 1413.43it/s]\n",
      "Step 2 of 2: Adding edges: 100%|██████████| 1929/1929 [00:00<00:00, 61787.40it/s]\n"
     ]
    },
    {
     "name": "stdout",
     "output_type": "stream",
     "text": [
      "Graph successfully loaded with 1929 nodes and 4897 edges.\n",
      "Analysing year 2003\n"
     ]
    },
    {
     "name": "stderr",
     "output_type": "stream",
     "text": [
      "Step 1 of 2: Creating nodes and finding neighbours: 100%|██████████| 1936/1936 [00:01<00:00, 1255.91it/s]\n",
      "Step 2 of 2: Adding edges: 100%|██████████| 1936/1936 [00:00<00:00, 64933.85it/s]\n"
     ]
    },
    {
     "name": "stdout",
     "output_type": "stream",
     "text": [
      "Graph successfully loaded with 1936 nodes and 4911 edges.\n",
      "Analysing year 2004\n"
     ]
    },
    {
     "name": "stderr",
     "output_type": "stream",
     "text": [
      "Step 1 of 2: Creating nodes and finding neighbours: 100%|██████████| 1953/1953 [00:01<00:00, 1082.23it/s]\n",
      "Step 2 of 2: Adding edges: 100%|██████████| 1953/1953 [00:00<00:00, 50851.88it/s]\n"
     ]
    },
    {
     "name": "stdout",
     "output_type": "stream",
     "text": [
      "Graph successfully loaded with 1953 nodes and 4953 edges.\n",
      "Analysing year 2005\n"
     ]
    },
    {
     "name": "stderr",
     "output_type": "stream",
     "text": [
      "Step 1 of 2: Creating nodes and finding neighbours: 100%|██████████| 1960/1960 [00:01<00:00, 1202.18it/s]\n",
      "Step 2 of 2: Adding edges: 100%|██████████| 1960/1960 [00:00<00:00, 58944.24it/s]\n"
     ]
    },
    {
     "name": "stdout",
     "output_type": "stream",
     "text": [
      "Graph successfully loaded with 1960 nodes and 4973 edges.\n",
      "Analysing year 2006\n"
     ]
    },
    {
     "name": "stderr",
     "output_type": "stream",
     "text": [
      "Step 1 of 2: Creating nodes and finding neighbours: 100%|██████████| 2004/2004 [00:01<00:00, 1136.57it/s]\n",
      "Step 2 of 2: Adding edges: 100%|██████████| 2004/2004 [00:00<00:00, 61635.71it/s]\n"
     ]
    },
    {
     "name": "stdout",
     "output_type": "stream",
     "text": [
      "Graph successfully loaded with 2004 nodes and 5113 edges.\n",
      "Analysing year 2007\n"
     ]
    },
    {
     "name": "stderr",
     "output_type": "stream",
     "text": [
      "Step 1 of 2: Creating nodes and finding neighbours: 100%|██████████| 1996/1996 [00:01<00:00, 1206.78it/s]\n",
      "Step 2 of 2: Adding edges: 100%|██████████| 1996/1996 [00:00<00:00, 59821.01it/s]\n"
     ]
    },
    {
     "name": "stdout",
     "output_type": "stream",
     "text": [
      "Graph successfully loaded with 1996 nodes and 5141 edges.\n",
      "Analysing year 2008\n"
     ]
    },
    {
     "name": "stderr",
     "output_type": "stream",
     "text": [
      "Step 1 of 2: Creating nodes and finding neighbours: 100%|██████████| 1992/1992 [00:01<00:00, 1142.89it/s]\n",
      "Step 2 of 2: Adding edges: 100%|██████████| 1992/1992 [00:00<00:00, 39544.56it/s]\n"
     ]
    },
    {
     "name": "stdout",
     "output_type": "stream",
     "text": [
      "Graph successfully loaded with 1992 nodes and 5119 edges.\n",
      "Analysing year 2009\n"
     ]
    },
    {
     "name": "stderr",
     "output_type": "stream",
     "text": [
      "Step 1 of 2: Creating nodes and finding neighbours: 100%|██████████| 1994/1994 [00:01<00:00, 1236.88it/s]\n",
      "Step 2 of 2: Adding edges: 100%|██████████| 1994/1994 [00:00<00:00, 66390.22it/s]\n"
     ]
    },
    {
     "name": "stdout",
     "output_type": "stream",
     "text": [
      "Graph successfully loaded with 1994 nodes and 5108 edges.\n",
      "Analysing year 2010\n"
     ]
    },
    {
     "name": "stderr",
     "output_type": "stream",
     "text": [
      "Step 1 of 2: Creating nodes and finding neighbours: 100%|██████████| 1988/1988 [00:01<00:00, 1088.69it/s]\n",
      "Step 2 of 2: Adding edges: 100%|██████████| 1988/1988 [00:00<00:00, 50291.17it/s]\n"
     ]
    },
    {
     "name": "stdout",
     "output_type": "stream",
     "text": [
      "Graph successfully loaded with 1988 nodes and 5080 edges.\n",
      "Analysing year 2011\n"
     ]
    },
    {
     "name": "stderr",
     "output_type": "stream",
     "text": [
      "Step 1 of 2: Creating nodes and finding neighbours: 100%|██████████| 2003/2003 [00:01<00:00, 1235.16it/s]\n",
      "Step 2 of 2: Adding edges: 100%|██████████| 2003/2003 [00:00<00:00, 61921.89it/s]\n"
     ]
    },
    {
     "name": "stdout",
     "output_type": "stream",
     "text": [
      "Graph successfully loaded with 2003 nodes and 5131 edges.\n",
      "Analysing year 2012\n"
     ]
    },
    {
     "name": "stderr",
     "output_type": "stream",
     "text": [
      "Step 1 of 2: Creating nodes and finding neighbours: 100%|██████████| 1998/1998 [00:01<00:00, 1203.33it/s]\n",
      "Step 2 of 2: Adding edges: 100%|██████████| 1998/1998 [00:00<00:00, 65800.49it/s]\n"
     ]
    },
    {
     "name": "stdout",
     "output_type": "stream",
     "text": [
      "Graph successfully loaded with 1998 nodes and 5119 edges.\n",
      "Analysing year 2013\n"
     ]
    },
    {
     "name": "stderr",
     "output_type": "stream",
     "text": [
      "Step 1 of 2: Creating nodes and finding neighbours: 100%|██████████| 2003/2003 [00:01<00:00, 1127.01it/s]\n",
      "Step 2 of 2: Adding edges: 100%|██████████| 2003/2003 [00:00<00:00, 64449.54it/s]\n"
     ]
    },
    {
     "name": "stdout",
     "output_type": "stream",
     "text": [
      "Graph successfully loaded with 2003 nodes and 5140 edges.\n",
      "Analysing year 2014\n"
     ]
    },
    {
     "name": "stderr",
     "output_type": "stream",
     "text": [
      "Step 1 of 2: Creating nodes and finding neighbours: 100%|██████████| 1999/1999 [00:01<00:00, 1169.66it/s]\n",
      "Step 2 of 2: Adding edges: 100%|██████████| 1999/1999 [00:00<00:00, 65990.43it/s]"
     ]
    },
    {
     "name": "stdout",
     "output_type": "stream",
     "text": [
      "Graph successfully loaded with 1999 nodes and 5117 edges.\n"
     ]
    },
    {
     "name": "stderr",
     "output_type": "stream",
     "text": [
      "\n"
     ]
    }
   ],
   "source": [
    "## NOTE: For faster loading you can load the graphs from memory.\n",
    "#        The demo path includes pre-loaded graphs for faster loading. Simply uncomment.\n",
    "#demo_path = DATA_DIR / \"chernobyl\" / \"graphs\"\n",
    "#years = list(range(2000,2015))\n",
    "#cez_graphs = {year: GeoGraph(chernobyl_path(yera))\n",
    "#              for year in years}\n",
    "\n",
    "# Polygonising raster and transforming into graph\n",
    "cez_graphs = {}\n",
    "for year, raster in cez_rasters.items():\n",
    "    print(f\"Analysing year {year}\")\n",
    "    # Load geograph from the raster data (construction takes ~5s)\n",
    "    cez_graphs[year] = GeoGraph(data=raster.data.squeeze(), \n",
    "                                transform=raster.rio.transform(), \n",
    "                                mask = raster.data.squeeze() > 0,\n",
    "                                crs=UTM35N, \n",
    "                                connectivity=8)"
   ]
  },
  {
   "cell_type": "code",
   "execution_count": 6,
   "id": "spread-disco",
   "metadata": {
    "ExecuteTime": {
     "end_time": "2021-03-23T12:46:25.057049Z",
     "start_time": "2021-03-23T12:46:25.031898Z"
    },
    "execution": {
     "iopub.execute_input": "2021-03-25T11:50:20.830213Z",
     "iopub.status.busy": "2021-03-25T11:50:20.829988Z",
     "iopub.status.idle": "2021-03-25T11:50:21.488904Z",
     "shell.execute_reply": "2021-03-25T11:50:21.487905Z",
     "shell.execute_reply.started": "2021-03-25T11:50:20.830186Z"
    },
    "tags": []
   },
   "outputs": [],
   "source": [
    "cez_timeline = GeoGraphTimeline(cez_graphs)"
   ]
  },
  {
   "cell_type": "code",
   "execution_count": 7,
   "id": "destroyed-participation",
   "metadata": {
    "ExecuteTime": {
     "end_time": "2021-03-23T12:47:13.599945Z",
     "start_time": "2021-03-23T12:46:25.742726Z"
    },
    "execution": {
     "iopub.execute_input": "2021-03-25T11:50:21.490526Z",
     "iopub.status.busy": "2021-03-25T11:50:21.490309Z",
     "iopub.status.idle": "2021-03-25T11:51:04.880575Z",
     "shell.execute_reply": "2021-03-25T11:51:04.879962Z",
     "shell.execute_reply.started": "2021-03-25T11:50:21.490499Z"
    },
    "tags": []
   },
   "outputs": [
    {
     "data": {
      "text/plain": [
       "[<src.binary_graph_operations.NodeMap at 0x7f5264602df0>,\n",
       " <src.binary_graph_operations.NodeMap at 0x7f52245212e0>,\n",
       " <src.binary_graph_operations.NodeMap at 0x7f5264670dc0>,\n",
       " <src.binary_graph_operations.NodeMap at 0x7f51f9c24400>,\n",
       " <src.binary_graph_operations.NodeMap at 0x7f5264670fa0>,\n",
       " <src.binary_graph_operations.NodeMap at 0x7f51f9c24280>,\n",
       " <src.binary_graph_operations.NodeMap at 0x7f5264664e80>,\n",
       " <src.binary_graph_operations.NodeMap at 0x7f52244ba670>,\n",
       " <src.binary_graph_operations.NodeMap at 0x7f51fa26f6a0>,\n",
       " <src.binary_graph_operations.NodeMap at 0x7f51fa27bd90>,\n",
       " <src.binary_graph_operations.NodeMap at 0x7f51fa017130>,\n",
       " <src.binary_graph_operations.NodeMap at 0x7f51f9e4f130>,\n",
       " <src.binary_graph_operations.NodeMap at 0x7f51fa255250>,\n",
       " <src.binary_graph_operations.NodeMap at 0x7f51fa255f40>]"
      ]
     },
     "execution_count": 7,
     "metadata": {},
     "output_type": "execute_result"
    }
   ],
   "source": [
    "# Perform node identification between adjacent time slices (takes ~10s)\n",
    "cez_timeline.timestack()"
   ]
  },
  {
   "cell_type": "markdown",
   "id": "metallic-advertising",
   "metadata": {},
   "source": [
    "# 3. Plots"
   ]
  },
  {
   "cell_type": "markdown",
   "id": "connected-persian",
   "metadata": {},
   "source": [
    "Let us now visualise the ecosystem dynamics from 2013 to 2014"
   ]
  },
  {
   "cell_type": "code",
   "execution_count": 8,
   "id": "above-tunisia",
   "metadata": {
    "ExecuteTime": {
     "end_time": "2021-03-23T12:47:34.842217Z",
     "start_time": "2021-03-23T12:47:25.957773Z"
    },
    "execution": {
     "iopub.execute_input": "2021-03-25T11:51:04.881741Z",
     "iopub.status.busy": "2021-03-25T11:51:04.881510Z",
     "iopub.status.idle": "2021-03-25T11:51:09.794607Z",
     "shell.execute_reply": "2021-03-25T11:51:09.793961Z",
     "shell.execute_reply.started": "2021-03-25T11:51:04.881715Z"
    },
    "tags": []
   },
   "outputs": [
    {
     "data": {
      "text/plain": [
       "node_index\n",
       "0       unchanged\n",
       "1       unchanged\n",
       "2       unchanged\n",
       "3       unchanged\n",
       "4       unchanged\n",
       "          ...    \n",
       "1994    unchanged\n",
       "1995    unchanged\n",
       "1996    unchanged\n",
       "1997    unchanged\n",
       "1998    unchanged\n",
       "Name: node_dynamic, Length: 1999, dtype: object"
      ]
     },
     "execution_count": 8,
     "metadata": {},
     "output_type": "execute_result"
    }
   ],
   "source": [
    "# Identify node dynamics for the year 2014\n",
    "cez_timeline.calculate_node_dynamics(2014)"
   ]
  },
  {
   "cell_type": "code",
   "execution_count": 9,
   "id": "first-brand",
   "metadata": {
    "ExecuteTime": {
     "end_time": "2021-03-23T12:47:44.862467Z",
     "start_time": "2021-03-23T12:47:44.813519Z"
    },
    "execution": {
     "iopub.execute_input": "2021-03-25T11:51:09.795963Z",
     "iopub.status.busy": "2021-03-25T11:51:09.795762Z",
     "iopub.status.idle": "2021-03-25T11:51:09.834771Z",
     "shell.execute_reply": "2021-03-25T11:51:09.834144Z",
     "shell.execute_reply.started": "2021-03-25T11:51:09.795937Z"
    },
    "tags": []
   },
   "outputs": [
    {
     "data": {
      "text/plain": [
       "array(['unchanged', 'split', 'birth', 'grew', 'shrank', 'complex',\n",
       "       'merged'], dtype=object)"
      ]
     },
     "execution_count": 9,
     "metadata": {},
     "output_type": "execute_result"
    }
   ],
   "source": [
    "cez_timeline[2014].df.node_dynamic.unique()"
   ]
  },
  {
   "cell_type": "code",
   "execution_count": 10,
   "id": "unlimited-founder",
   "metadata": {
    "ExecuteTime": {
     "end_time": "2021-03-23T12:48:42.710428Z",
     "start_time": "2021-03-23T12:48:40.509829Z"
    },
    "execution": {
     "iopub.execute_input": "2021-03-25T11:51:09.836059Z",
     "iopub.status.busy": "2021-03-25T11:51:09.835858Z",
     "iopub.status.idle": "2021-03-25T11:51:10.951247Z",
     "shell.execute_reply": "2021-03-25T11:51:10.949848Z",
     "shell.execute_reply.started": "2021-03-25T11:51:09.836033Z"
    },
    "tags": []
   },
   "outputs": [
    {
     "data": {
      "image/png": "[encoded data removed]",
      "text/plain": [
       "<Figure size 597.758x369.435 with 2 Axes>"
      ]
     },
     "metadata": {
      "needs_background": "light"
     },
     "output_type": "display_data"
    }
   ],
   "source": [
    "graph = cez_timeline[2014]\n",
    "\n",
    "plot_scale_factor=1\n",
    "dynamic_to_int = {'split': 0, \n",
    "                  'shrank': 1,\n",
    "                  'unchanged': 2,\n",
    "                  'complex': 3,\n",
    "                  'grew': 4,\n",
    "                  'merged': 5,\n",
    "                  'birth': 6}\n",
    "\n",
    "colors = sns.color_palette(\"Paired\").as_hex()\n",
    "dynamic = lambda x: dynamic_to_int[x]\n",
    "graph.df[\"dynamic_class\"] = graph.df.node_dynamic.map(dynamic)\n",
    "\n",
    "fig, ax = plt.subplots(1)\n",
    "plt.title(\"Chernobyl Exclusion Zone 2013 to 2014\\n(ESA CCI 300m resolution)\", fontsize=9*plot_scale_factor)\n",
    "set_dim(fig, fraction_of_line_width=plot_scale_factor)\n",
    "vmin, vmax = 0, 7\n",
    "cmap = mpl.colors.ListedColormap([colors[7], colors[6], 'lightgrey', colors[0], colors[2], colors[3], colors[9]])\n",
    "graph.df.plot(column='dynamic_class', cmap=cmap, vmin=vmin, vmax=vmax, ax=ax)\n",
    "ax.set_xticks([])\n",
    "ax.set_yticks([])\n",
    "\n",
    "inset_text = (\"Node dynamics (#):\\n\"\n",
    "              f\"  Splits: {np.sum(graph.df['node_dynamic'] == 'split')}\\n\"\n",
    "              f\"  Shrinking: {np.sum(graph.df['node_dynamic'] == 'shrank')}\\n\"\n",
    "              f\"  Unchanged: {np.sum(graph.df['node_dynamic'] == 'unchanged')}\\n\"\n",
    "              f\"  Complex: {np.sum(graph.df['node_dynamic'] == 'complex')}\\n\"\n",
    "              f\"  Merges: {np.sum(graph.df['node_dynamic'] == 'merged')}\\n\"\n",
    "              f\"  Growth: {np.sum(graph.df['node_dynamic'] == 'grew')}\\n\"\n",
    "              f\"  Births: {np.sum(graph.df['node_dynamic'] == 'birth')}\"\n",
    "             )\n",
    "\n",
    "# these are matplotlib.patch.Patch properties\n",
    "props = dict(boxstyle='round', facecolor='white', alpha=0.8)\n",
    "\n",
    "# place a text box in upper left in axes coords\n",
    "ax.text(0.03, 0.97, inset_text, transform=ax.transAxes, fontsize=9*plot_scale_factor,\n",
    "        verticalalignment='top', bbox=props)\n",
    "\n",
    "from mpl_toolkits.axes_grid1.anchored_artists import AnchoredSizeBar\n",
    "import matplotlib.font_manager as fm\n",
    "fontprops = fm.FontProperties(size=6*plot_scale_factor)\n",
    "scalebar = AnchoredSizeBar(ax.transData,\n",
    "                           1e4, '10 km', 'lower left', \n",
    "                           pad=0,\n",
    "                           borderpad=.8,\n",
    "                           color='black',\n",
    "                           frameon=False,\n",
    "                           size_vertical=250,\n",
    "                           fontproperties=fontprops\n",
    "                       )\n",
    "\n",
    "ax.add_artist(scalebar)\n",
    "\n",
    "# add colorbar\n",
    "fig = ax.get_figure()\n",
    "cax = fig.add_axes([0.12, 0.08, 0.78, 0.05]) # left-offset, # bottom offset # width, # height\n",
    "sm = plt.cm.ScalarMappable(cmap=cmap, norm=plt.Normalize(vmin=vmin, vmax=vmax))\n",
    "sm._A = []\n",
    "cbar = fig.colorbar(sm, cax=cax, orientation=\"horizontal\")\n",
    "cbar.set_ticks(np.arange(vmin+0.5, vmax+1))\n",
    "cbar.set_ticklabels([\"Split\", \"Shrank\", \"Unchanged\", \"Complex\", \"Grew\", \"Merged\", \"Birth\"])\n",
    "cbar.ax.tick_params(labelsize=9*plot_scale_factor) \n",
    "ax.spines['bottom'].set_visible(False)\n",
    "ax.spines['top'].set_visible(False)\n",
    "ax.spines['right'].set_visible(False)\n",
    "ax.spines['left'].set_visible(False)\n",
    "\n",
    "\n",
    "\n",
    "#plt.savefig(\"CEZ_node_dynamics.svg\")\n",
    "#plt.savefig(\"CEZ_node_dynamics.png\")"
   ]
  },
  {
   "cell_type": "code",
   "execution_count": 11,
   "id": "neither-flooring",
   "metadata": {
    "ExecuteTime": {
     "end_time": "2021-03-23T12:48:48.276675Z",
     "start_time": "2021-03-23T12:48:45.732343Z"
    },
    "execution": {
     "iopub.execute_input": "2021-03-25T11:51:10.952379Z",
     "iopub.status.busy": "2021-03-25T11:51:10.952164Z",
     "iopub.status.idle": "2021-03-25T11:51:13.642048Z",
     "shell.execute_reply": "2021-03-25T11:51:13.641276Z",
     "shell.execute_reply.started": "2021-03-25T11:51:10.952350Z"
    },
    "tags": []
   },
   "outputs": [
    {
     "data": {
      "image/png": "[encoded data removed]",
      "text/plain": [
       "<Figure size 597.758x369.435 with 2 Axes>"
      ]
     },
     "metadata": {
      "needs_background": "light"
     },
     "output_type": "display_data"
    }
   ],
   "source": [
    "plot_scale_factor=1\n",
    "fig, ax = plt.subplots(1)\n",
    "set_dim(fig, fraction_of_line_width=plot_scale_factor)\n",
    "\n",
    "cmap = sns.diverging_palette(6, 120, s=360, l=55, as_cmap=True)\n",
    "norm = mpl.colors.TwoSlopeNorm(vcenter=0, vmin=-10e5, vmax=10e5)\n",
    "\n",
    "graph.df.plot(\"absolute_growth\", ax=ax, cmap=cmap, norm=norm, edgecolor=\"grey\", linewidth=0.1)\n",
    "ax.set_xticks([])\n",
    "ax.set_yticks([])\n",
    "from mpl_toolkits.axes_grid1.anchored_artists import AnchoredSizeBar\n",
    "import matplotlib.font_manager as fm\n",
    "fontprops = fm.FontProperties(size=6*plot_scale_factor)\n",
    "scalebar = AnchoredSizeBar(ax.transData,\n",
    "                           1e4, '10 km', 'lower left', \n",
    "                           pad=0,\n",
    "                           borderpad=.3,\n",
    "                           color='black',\n",
    "                           frameon=False,\n",
    "                           size_vertical=250,\n",
    "                           fontproperties=fontprops\n",
    "                       )\n",
    "\n",
    "ax.add_artist(scalebar)\n",
    "\n",
    "cbar = fig.colorbar(mpl.cm.ScalarMappable(norm=norm, cmap=cmap), \n",
    "             orientation='horizontal', \n",
    "             label='Absolute growth rate [ha / yr]',\n",
    "             #aspect=9,\n",
    "             shrink=0.88,\n",
    "             pad=0.04\n",
    "            )\n",
    "cbar.set_ticks([-10e5, -7.5*1e5, -5e5, -2.5*1e5, 0, 2.5*1e5, 5e5, 7.5*1e5, 10e5])\n",
    "cbar.set_ticklabels([-100, -75, -50, -25, 0, 25, 50, 75, 100])\n",
    "cbar.ax.tick_params(labelsize=9*plot_scale_factor) \n",
    "cbar.set_label(\"Absolute growth rate [ha/yr]\", fontsize=9*plot_scale_factor)\n",
    "plt.title(\"Chernobyl Exclusion Zone 2013 to 2014\\n(ESA CCI 300m resolution)\", fontsize=9*plot_scale_factor)\n",
    "ax.spines['bottom'].set_visible(False)\n",
    "ax.spines['top'].set_visible(False)\n",
    "ax.spines['right'].set_visible(False)\n",
    "ax.spines['left'].set_visible(False)\n",
    "plt.savefig(\"CEZ_node_growth_rates.svg\")\n",
    "plt.savefig(\"CEZ_node_growth_rates.pdf\")\n",
    "plt.savefig(\"CEZ_node_growth_rates.png\")"
   ]
  },
  {
   "cell_type": "code",
   "execution_count": 12,
   "id": "measured-hygiene",
   "metadata": {
    "ExecuteTime": {
     "end_time": "2021-03-23T12:48:48.578630Z",
     "start_time": "2021-03-23T12:48:48.481853Z"
    },
    "execution": {
     "iopub.execute_input": "2021-03-25T11:51:13.646547Z",
     "iopub.status.busy": "2021-03-25T11:51:13.646225Z",
     "iopub.status.idle": "2021-03-25T11:51:13.753877Z",
     "shell.execute_reply": "2021-03-25T11:51:13.753156Z",
     "shell.execute_reply.started": "2021-03-25T11:51:13.646518Z"
    },
    "tags": []
   },
   "outputs": [
    {
     "data": {
      "text/html": [
       "<div>\n",
       "<style scoped>\n",
       "    .dataframe tbody tr th:only-of-type {\n",
       "        vertical-align: middle;\n",
       "    }\n",
       "\n",
       "    .dataframe tbody tr th {\n",
       "        vertical-align: top;\n",
       "    }\n",
       "\n",
       "    .dataframe thead th {\n",
       "        text-align: right;\n",
       "    }\n",
       "</style>\n",
       "<table border=\"1\" class=\"dataframe\">\n",
       "  <thead>\n",
       "    <tr style=\"text-align: right;\">\n",
       "      <th></th>\n",
       "      <th>class_label</th>\n",
       "      <th>area</th>\n",
       "      <th>perimeter</th>\n",
       "      <th>perimeter_area_ratio</th>\n",
       "      <th>shape_index</th>\n",
       "      <th>fractal_dimension</th>\n",
       "    </tr>\n",
       "    <tr>\n",
       "      <th>node_index</th>\n",
       "      <th></th>\n",
       "      <th></th>\n",
       "      <th></th>\n",
       "      <th></th>\n",
       "      <th></th>\n",
       "      <th></th>\n",
       "    </tr>\n",
       "  </thead>\n",
       "  <tbody>\n",
       "    <tr>\n",
       "      <th>0</th>\n",
       "      <td>100</td>\n",
       "      <td>270000.0</td>\n",
       "      <td>2400.0</td>\n",
       "      <td>0.008889</td>\n",
       "      <td>1.154701</td>\n",
       "      <td>1.023003</td>\n",
       "    </tr>\n",
       "    <tr>\n",
       "      <th>1</th>\n",
       "      <td>70</td>\n",
       "      <td>90000.0</td>\n",
       "      <td>1200.0</td>\n",
       "      <td>0.013333</td>\n",
       "      <td>1.000000</td>\n",
       "      <td>1.000000</td>\n",
       "    </tr>\n",
       "    <tr>\n",
       "      <th>2</th>\n",
       "      <td>130</td>\n",
       "      <td>180000.0</td>\n",
       "      <td>1800.0</td>\n",
       "      <td>0.010000</td>\n",
       "      <td>1.060660</td>\n",
       "      <td>1.009734</td>\n",
       "    </tr>\n",
       "    <tr>\n",
       "      <th>3</th>\n",
       "      <td>30</td>\n",
       "      <td>90000.0</td>\n",
       "      <td>1200.0</td>\n",
       "      <td>0.013333</td>\n",
       "      <td>1.000000</td>\n",
       "      <td>1.000000</td>\n",
       "    </tr>\n",
       "    <tr>\n",
       "      <th>4</th>\n",
       "      <td>30</td>\n",
       "      <td>90000.0</td>\n",
       "      <td>1200.0</td>\n",
       "      <td>0.013333</td>\n",
       "      <td>1.000000</td>\n",
       "      <td>1.000000</td>\n",
       "    </tr>\n",
       "    <tr>\n",
       "      <th>...</th>\n",
       "      <td>...</td>\n",
       "      <td>...</td>\n",
       "      <td>...</td>\n",
       "      <td>...</td>\n",
       "      <td>...</td>\n",
       "      <td>...</td>\n",
       "    </tr>\n",
       "    <tr>\n",
       "      <th>1994</th>\n",
       "      <td>30</td>\n",
       "      <td>810000.0</td>\n",
       "      <td>6600.0</td>\n",
       "      <td>0.008148</td>\n",
       "      <td>1.833333</td>\n",
       "      <td>1.089106</td>\n",
       "    </tr>\n",
       "    <tr>\n",
       "      <th>1995</th>\n",
       "      <td>60</td>\n",
       "      <td>180000.0</td>\n",
       "      <td>2400.0</td>\n",
       "      <td>0.013333</td>\n",
       "      <td>1.414214</td>\n",
       "      <td>1.057282</td>\n",
       "    </tr>\n",
       "    <tr>\n",
       "      <th>1996</th>\n",
       "      <td>100</td>\n",
       "      <td>180000.0</td>\n",
       "      <td>2400.0</td>\n",
       "      <td>0.013333</td>\n",
       "      <td>1.414214</td>\n",
       "      <td>1.057282</td>\n",
       "    </tr>\n",
       "    <tr>\n",
       "      <th>1997</th>\n",
       "      <td>160</td>\n",
       "      <td>180000.0</td>\n",
       "      <td>2400.0</td>\n",
       "      <td>0.013333</td>\n",
       "      <td>1.414214</td>\n",
       "      <td>1.057282</td>\n",
       "    </tr>\n",
       "    <tr>\n",
       "      <th>1998</th>\n",
       "      <td>30</td>\n",
       "      <td>270000.0</td>\n",
       "      <td>3000.0</td>\n",
       "      <td>0.011111</td>\n",
       "      <td>1.443376</td>\n",
       "      <td>1.058689</td>\n",
       "    </tr>\n",
       "  </tbody>\n",
       "</table>\n",
       "<p>1999 rows × 6 columns</p>\n",
       "</div>"
      ],
      "text/plain": [
       "            class_label      area  perimeter  perimeter_area_ratio  \\\n",
       "node_index                                                           \n",
       "0                   100  270000.0     2400.0              0.008889   \n",
       "1                    70   90000.0     1200.0              0.013333   \n",
       "2                   130  180000.0     1800.0              0.010000   \n",
       "3                    30   90000.0     1200.0              0.013333   \n",
       "4                    30   90000.0     1200.0              0.013333   \n",
       "...                 ...       ...        ...                   ...   \n",
       "1994                 30  810000.0     6600.0              0.008148   \n",
       "1995                 60  180000.0     2400.0              0.013333   \n",
       "1996                100  180000.0     2400.0              0.013333   \n",
       "1997                160  180000.0     2400.0              0.013333   \n",
       "1998                 30  270000.0     3000.0              0.011111   \n",
       "\n",
       "            shape_index  fractal_dimension  \n",
       "node_index                                  \n",
       "0              1.154701           1.023003  \n",
       "1              1.000000           1.000000  \n",
       "2              1.060660           1.009734  \n",
       "3              1.000000           1.000000  \n",
       "4              1.000000           1.000000  \n",
       "...                 ...                ...  \n",
       "1994           1.833333           1.089106  \n",
       "1995           1.414214           1.057282  \n",
       "1996           1.414214           1.057282  \n",
       "1997           1.414214           1.057282  \n",
       "1998           1.443376           1.058689  \n",
       "\n",
       "[1999 rows x 6 columns]"
      ]
     },
     "execution_count": 12,
     "metadata": {},
     "output_type": "execute_result"
    }
   ],
   "source": [
    "cez_timeline[2014].get_patch_metrics()"
   ]
  },
  {
   "cell_type": "code",
   "execution_count": 13,
   "id": "capable-revolution",
   "metadata": {
    "ExecuteTime": {
     "end_time": "2021-03-23T12:48:50.769956Z",
     "start_time": "2021-03-23T12:48:50.137094Z"
    },
    "execution": {
     "iopub.execute_input": "2021-03-25T11:51:13.754969Z",
     "iopub.status.busy": "2021-03-25T11:51:13.754755Z",
     "iopub.status.idle": "2021-03-25T11:51:14.292820Z",
     "shell.execute_reply": "2021-03-25T11:51:14.292088Z",
     "shell.execute_reply.started": "2021-03-25T11:51:13.754944Z"
    },
    "tags": []
   },
   "outputs": [
    {
     "data": {
      "image/png": "[encoded data removed]",
      "text/plain": [
       "<Figure size 1195.52x738.87 with 1 Axes>"
      ]
     },
     "metadata": {},
     "output_type": "display_data"
    }
   ],
   "source": [
    "fig, ax = plt.subplots(1)\n",
    "plot_scale_factor=2\n",
    "set_dim(fig, fraction_of_line_width=plot_scale_factor)\n",
    "\n",
    "cez_timeline[2013].df.loc[1629:1629].plot(ax=ax, color=\"red\", alpha=0.6)\n",
    "cez_timeline[2014].df.loc[1187:1187].plot(ax=ax, color=\"blue\", alpha=0.6)\n",
    "cez_timeline[2014].df.loc[1625:1625].plot(ax=ax, color=\"green\", alpha=0.8)\n",
    "\n",
    "inset_text = (\n",
    "              f\"Evergreen forest (70)\\n\\n\"\n",
    "              f\"Total area: {graph.df.area.loc[1625]/1e4:.0f} ha\\n\"\n",
    "              f\"Perimeter: {graph.df.perimeter.loc[1625]/1e3:.0f} km\\n\"\n",
    "              f\"Fractal dimension: {graph.df.fractal_dimension.loc[1625]:.2f}\\n\"\n",
    "              f\"Shape index: {graph.df.shape_index.loc[1625]:.2f}\"\n",
    "             \n",
    "             )\n",
    "\n",
    "# these are matplotlib.patch.Patch properties\n",
    "props = dict(boxstyle='round', facecolor='white', alpha=0.8)\n",
    "\n",
    "# place a text box in upper left in axes coords\n",
    "ax.text(0.6, 0.95, inset_text, transform=ax.transAxes, fontsize=8*plot_scale_factor,\n",
    "        verticalalignment='top', bbox=props)\n",
    "\n",
    "ax.set_xticks([])\n",
    "ax.set_yticks([])\n",
    "ax.spines['bottom'].set_visible(False)\n",
    "ax.spines['top'].set_visible(False)\n",
    "ax.spines['right'].set_visible(False)\n",
    "ax.spines['left'].set_visible(False)\n",
    "plt.savefig(\"CEZ-nodediff-example.svg\")\n",
    "plt.savefig(\"CEZ-nodediff-example.pdf\")"
   ]
  }
 ],
 "metadata": {
  "hide_input": false,
  "kernelspec": {
   "display_name": "Python 3",
   "language": "python",
   "name": "python3"
  },
  "language_info": {
   "codemirror_mode": {
    "name": "ipython",
    "version": 3
   },
   "file_extension": ".py",
   "mimetype": "text/x-python",
   "name": "python",
   "nbconvert_exporter": "python",
   "pygments_lexer": "ipython3",
   "version": "3.8.8"
  },
  "toc": {
   "base_numbering": 1,
   "nav_menu": {},
   "number_sections": true,
   "sideBar": true,
   "skip_h1_title": false,
   "title_cell": "Table of Contents",
   "title_sidebar": "Contents",
   "toc_cell": false,
   "toc_position": {},
   "toc_section_display": true,
   "toc_window_display": false
  },
  "varInspector": {
   "cols": {
    "lenName": 16,
    "lenType": 16,
    "lenVar": 40
   },
   "kernels_config": {
    "python": {
     "delete_cmd_postfix": "",
     "delete_cmd_prefix": "del ",
     "library": "var_list.py",
     "varRefreshCmd": "print(var_dic_list())"
    },
    "r": {
     "delete_cmd_postfix": ") ",
     "delete_cmd_prefix": "rm(",
     "library": "var_list.r",
     "varRefreshCmd": "cat(var_dic_list()) "
    }
   },
   "types_to_exclude": [
    "module",
    "function",
    "builtin_function_or_method",
    "instance",
    "_Feature"
   ],
   "window_display": false
  }
 },
 "nbformat": 4,
 "nbformat_minor": 5
}
