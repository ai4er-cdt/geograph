{
 "cells": [
  {
   "cell_type": "markdown",
   "id": "fatty-orbit",
   "metadata": {},
   "source": [
    "# GeoGraph Tutorial"
   ]
  },
  {
   "cell_type": "markdown",
   "id": "critical-tooth",
   "metadata": {},
   "source": [
    "In this tutorial we will go through the `geograph` package and discuss a couple of common use cases and operations."
   ]
  },
  {
   "cell_type": "markdown",
   "id": "monetary-butterfly",
   "metadata": {},
   "source": [
    "## 1. Setup"
   ]
  },
  {
   "cell_type": "markdown",
   "id": "pleased-organization",
   "metadata": {},
   "source": [
    "## 1.1 Installation"
   ]
  },
  {
   "cell_type": "markdown",
   "id": "adaptive-hebrew",
   "metadata": {
    "execution": {
     "iopub.execute_input": "2021-05-27T10:42:18.359000Z",
     "iopub.status.busy": "2021-05-27T10:42:18.358667Z",
     "iopub.status.idle": "2021-05-27T10:42:18.589716Z",
     "shell.execute_reply": "2021-05-27T10:42:18.588125Z",
     "shell.execute_reply.started": "2021-05-27T10:42:18.358966Z"
    }
   },
   "source": [
    "To get started, you will need to make sure that you have `geograph` installed. If you\n",
    "are using this tutorial via the binder link, then `geograph` will already be installed.\n",
    "\n",
    "If you have not yet installed `geograph` you can install it via\n",
    "```\n",
    "pip install geograph\n",
    "```"
   ]
  },
  {
   "cell_type": "markdown",
   "id": "controversial-diary",
   "metadata": {},
   "source": [
    "## 1.2 Imports"
   ]
  },
  {
   "cell_type": "markdown",
   "id": "informational-world",
   "metadata": {},
   "source": [
    "Now that we have `geograph` installed, let us import the main module.\n",
    "\n",
    "We will also be loading data from two datasets, the `Polesia` and `Chernobyl` datasets. If you are \n",
    "working on binder, this data will already be downloaded for you. If you are working locally, you \n",
    "can download the data from this dropbox link [here](https://www.dropbox.com/s/ghcf4q447nxddy5/binder_data.zip?dl=1)."
   ]
  },
  {
   "cell_type": "code",
   "execution_count": 2,
   "id": "immediate-providence",
   "metadata": {
    "execution": {
     "iopub.execute_input": "2021-05-27T12:18:44.100296Z",
     "iopub.status.busy": "2021-05-27T12:18:44.099867Z",
     "iopub.status.idle": "2021-05-27T12:18:51.885747Z",
     "shell.execute_reply": "2021-05-27T12:18:51.884857Z",
     "shell.execute_reply.started": "2021-05-27T12:18:44.100246Z"
    }
   },
   "outputs": [
    {
     "name": "stderr",
     "output_type": "stream",
     "text": [
      "/home/users/svm/Code/gtc-biodiversity/env/lib/python3.8/site-packages/geopandas/_compat.py:84: UserWarning: The Shapely GEOS version (3.8.0-CAPI-1.13.1 ) is incompatible with the GEOS version PyGEOS was compiled with (3.9.0-CAPI-1.16.2). Conversions between both will be slow.\n",
      "  warnings.warn(\n"
     ]
    }
   ],
   "source": [
    "# general imports\n",
    "import pandas as pd      # for dealing with tabular data\n",
    "import geopandas as gpd  # for dealing with vector data\n",
    "import rioxarray as rxr  # for dealing with raster data\n",
    "\n",
    "# geograph imports\n",
    "import geograph\n",
    "from geograph import geotimeline\n",
    "from geograph.visualisation import geoviewer\n",
    "from geograph.constants import UTM35N\n",
    "from geograph.metrics import LANDSCAPE_METRICS_DICT, COMPONENT_METRICS_DICT\n",
    "\n",
    "# data imports (works on th binder only)\n",
    "#  if you are not working on binder, import the data from: \n",
    "#  https://www.dropbox.com/s/ghcf4q447nxddy5/binder_data.zip?dl=1\n",
    "from geograph.demo.binder_constants import DATA_DIR, ROIS, ESA_CCI_LEGEND_LINK"
   ]
  },
  {
   "cell_type": "markdown",
   "id": "liked-positive",
   "metadata": {},
   "source": [
    "## 2. Analysis of ground survey data and landscape metrics"
   ]
  },
  {
   "cell_type": "markdown",
   "id": "pursuant-joining",
   "metadata": {},
   "source": [
    "For this section, we will be working with the `Polesia` dataset, which was created by Dmitri Grummo, for the [Endangered Landscapes Program](https://www.endangeredlandscapes.org/) and was funded by Arcadia, a charitable fund of Lisbet Rausing and Peter Baldwin.\n",
    "\n",
    "The data we use here is a subset of the full dataset collected by Dmitri Grummo. It combines ground surveys and remote sensing to create a high quality land cover map with ecologically relevant land cover classes for the Polesia zone.\n",
    "The data is collected in the `WGS84 UTM35` coordinate reference system.\n",
    "\n",
    "Let us load the data and inspect it briefly."
   ]
  },
  {
   "cell_type": "code",
   "execution_count": 3,
   "id": "based-reader",
   "metadata": {
    "execution": {
     "iopub.execute_input": "2021-05-27T12:19:44.527691Z",
     "iopub.status.busy": "2021-05-27T12:19:44.527196Z",
     "iopub.status.idle": "2021-05-27T12:19:46.443084Z",
     "shell.execute_reply": "2021-05-27T12:19:46.441070Z",
     "shell.execute_reply.started": "2021-05-27T12:19:44.527644Z"
    }
   },
   "outputs": [
    {
     "name": "stderr",
     "output_type": "stream",
     "text": [
      "/home/users/svm/Code/gtc-biodiversity/env/lib/python3.8/site-packages/geopandas/geodataframe.py:422: RuntimeWarning: Sequential read of iterator was interrupted. Resetting iterator. This can negatively impact the performance.\n",
      "  for feature in features_lst:\n"
     ]
    },
    {
     "name": "stdout",
     "output_type": "stream",
     "text": [
      "Number of patches in region of interest: 323\n"
     ]
    },
    {
     "data": {
      "text/html": [
       "<div>\n",
       "<style scoped>\n",
       "    .dataframe tbody tr th:only-of-type {\n",
       "        vertical-align: middle;\n",
       "    }\n",
       "\n",
       "    .dataframe tbody tr th {\n",
       "        vertical-align: top;\n",
       "    }\n",
       "\n",
       "    .dataframe thead th {\n",
       "        text-align: right;\n",
       "    }\n",
       "</style>\n",
       "<table border=\"1\" class=\"dataframe\">\n",
       "  <thead>\n",
       "    <tr style=\"text-align: right;\">\n",
       "      <th></th>\n",
       "      <th>OBJECTID</th>\n",
       "      <th>N_Eunis</th>\n",
       "      <th>Eunis_name</th>\n",
       "      <th>Shape_Leng</th>\n",
       "      <th>Shape_Area</th>\n",
       "      <th>Leg</th>\n",
       "      <th>AREA</th>\n",
       "      <th>geometry</th>\n",
       "    </tr>\n",
       "  </thead>\n",
       "  <tbody>\n",
       "    <tr>\n",
       "      <th>0</th>\n",
       "      <td>65</td>\n",
       "      <td>D1.11</td>\n",
       "      <td>Active, relatively undamaged raised bogs</td>\n",
       "      <td>3244.211911</td>\n",
       "      <td>3.767096e+05</td>\n",
       "      <td>2</td>\n",
       "      <td>37.6710</td>\n",
       "      <td>POLYGON Z ((522663.501 5717738.222 0.000, 5227...</td>\n",
       "    </tr>\n",
       "    <tr>\n",
       "      <th>1</th>\n",
       "      <td>67</td>\n",
       "      <td>D1.11</td>\n",
       "      <td>Active, relatively undamaged raised bogs</td>\n",
       "      <td>2970.146257</td>\n",
       "      <td>3.165971e+05</td>\n",
       "      <td>2</td>\n",
       "      <td>31.6597</td>\n",
       "      <td>POLYGON Z ((525143.664 5719878.230 0.000, 5252...</td>\n",
       "    </tr>\n",
       "    <tr>\n",
       "      <th>2</th>\n",
       "      <td>68</td>\n",
       "      <td>D1.11</td>\n",
       "      <td>Active, relatively undamaged raised bogs</td>\n",
       "      <td>2182.893205</td>\n",
       "      <td>2.663976e+05</td>\n",
       "      <td>2</td>\n",
       "      <td>26.6398</td>\n",
       "      <td>POLYGON Z ((521759.472 5720117.848 0.000, 5221...</td>\n",
       "    </tr>\n",
       "    <tr>\n",
       "      <th>3</th>\n",
       "      <td>69</td>\n",
       "      <td>D1.11</td>\n",
       "      <td>Active, relatively undamaged raised bogs</td>\n",
       "      <td>3881.473848</td>\n",
       "      <td>4.075725e+05</td>\n",
       "      <td>2</td>\n",
       "      <td>40.7573</td>\n",
       "      <td>POLYGON Z ((519901.603 5719846.246 0.000, 5198...</td>\n",
       "    </tr>\n",
       "    <tr>\n",
       "      <th>4</th>\n",
       "      <td>70</td>\n",
       "      <td>D1.11</td>\n",
       "      <td>Active, relatively undamaged raised bogs</td>\n",
       "      <td>6549.770969</td>\n",
       "      <td>1.363278e+06</td>\n",
       "      <td>2</td>\n",
       "      <td>136.3280</td>\n",
       "      <td>POLYGON Z ((530088.099 5720147.705 0.000, 5300...</td>\n",
       "    </tr>\n",
       "  </tbody>\n",
       "</table>\n",
       "</div>"
      ],
      "text/plain": [
       "   OBJECTID N_Eunis                                Eunis_name   Shape_Leng  \\\n",
       "0        65   D1.11  Active, relatively undamaged raised bogs  3244.211911   \n",
       "1        67   D1.11  Active, relatively undamaged raised bogs  2970.146257   \n",
       "2        68   D1.11  Active, relatively undamaged raised bogs  2182.893205   \n",
       "3        69   D1.11  Active, relatively undamaged raised bogs  3881.473848   \n",
       "4        70   D1.11  Active, relatively undamaged raised bogs  6549.770969   \n",
       "\n",
       "     Shape_Area  Leg      AREA  \\\n",
       "0  3.767096e+05    2   37.6710   \n",
       "1  3.165971e+05    2   31.6597   \n",
       "2  2.663976e+05    2   26.6398   \n",
       "3  4.075725e+05    2   40.7573   \n",
       "4  1.363278e+06    2  136.3280   \n",
       "\n",
       "                                            geometry  \n",
       "0  POLYGON Z ((522663.501 5717738.222 0.000, 5227...  \n",
       "1  POLYGON Z ((525143.664 5719878.230 0.000, 5252...  \n",
       "2  POLYGON Z ((521759.472 5720117.848 0.000, 5221...  \n",
       "3  POLYGON Z ((519901.603 5719846.246 0.000, 5198...  \n",
       "4  POLYGON Z ((530088.099 5720147.705 0.000, 5300...  "
      ]
     },
     "execution_count": 3,
     "metadata": {},
     "output_type": "execute_result"
    },
    {
     "data": {
      "image/png": "[encoded data removed]",
      "text/plain": [
       "<Figure size 432x288 with 1 Axes>"
      ]
     },
     "metadata": {
      "needs_background": "light"
     },
     "output_type": "display_data"
    }
   ],
   "source": [
    "from geograph.demo.binder_constants import DATA_DIR  # change this if you work locally\n",
    "import geopandas as gpd\n",
    "\n",
    "# Loading Polesia data \n",
    "polesia_dataset_path = DATA_DIR / \"polesia\" / \"polesia_landcover_sample.gpkg\"\n",
    "polesia_dataset = gpd.read_file(polesia_dataset_path)\n",
    "\n",
    "# Displaying the polesia data\n",
    "print(\"Number of patches in region of interest:\", len(polesia_dataset))\n",
    "polesia_dataset.plot()\n",
    "polesia_dataset.head(5)"
   ]
  },
  {
   "cell_type": "markdown",
   "id": "embedded-validation",
   "metadata": {},
   "source": [
    "## 2.1 Creating a GeoGraph"
   ]
  },
  {
   "cell_type": "markdown",
   "id": "human-software",
   "metadata": {},
   "source": [
    "To use the tools in the `geograph` package, the first step is to create a `GeoGraph` from\n",
    "the given data. A `GeoGraph` is the central object of analysis within `geograph`. \n",
    "`GeoGraph` will automatically detect whether it is reading vector or raster\n",
    "data and create the graph for the landscape accordingly.\n",
    "\n",
    "Here's how you can create a `GeoGraph`: "
   ]
  },
  {
   "cell_type": "code",
   "execution_count": 4,
   "id": "directed-tournament",
   "metadata": {
    "execution": {
     "iopub.execute_input": "2021-05-27T12:21:02.937078Z",
     "iopub.status.busy": "2021-05-27T12:21:02.936682Z",
     "iopub.status.idle": "2021-05-27T12:21:08.335035Z",
     "shell.execute_reply": "2021-05-27T12:21:08.334203Z",
     "shell.execute_reply.started": "2021-05-27T12:21:02.937034Z"
    }
   },
   "outputs": [
    {
     "name": "stderr",
     "output_type": "stream",
     "text": [
      "Step 1 of 2: Creating nodes and finding neighbours: 100%|██████████| 323/323 [00:04<00:00, 70.70it/s] \n",
      "Step 2 of 2: Adding edges: 100%|██████████| 323/323 [00:00<00:00, 59712.63it/s]"
     ]
    },
    {
     "name": "stdout",
     "output_type": "stream",
     "text": [
      "Graph successfully loaded with 323 nodes and 816 edges.\n"
     ]
    },
    {
     "name": "stderr",
     "output_type": "stream",
     "text": [
      "\n"
     ]
    }
   ],
   "source": [
    "import geograph\n",
    "from geograph.constants import UTM35N\n",
    "\n",
    "# Building the main graph structure\n",
    "polesia_graph = geograph.GeoGraph(polesia_dataset, \n",
    "  crs=UTM35N,  # Provide the coordinate reference system of the data\n",
    "  columns_to_rename={\"Eunis_name\":\"class_label\",  # tell GeoGraph which variable should be used as class_label\n",
    "                     \"AREA\":\"area\"}\n",
    " )"
   ]
  },
  {
   "cell_type": "markdown",
   "id": "improving-vertical",
   "metadata": {},
   "source": [
    "Note that we renamed the column `Eunis_name` to `class_label`. The name `class_label` is used\n",
    "internally in `GeoGraph` to denote the land cover class of a patch in the graph. This renaming\n",
    "is needed to help the Graph understand which column contains the relevant land cover information."
   ]
  },
  {
   "cell_type": "markdown",
   "id": "decimal-breathing",
   "metadata": {},
   "source": [
    "## 2.2 Visualising the GeoGraph"
   ]
  },
  {
   "cell_type": "markdown",
   "id": "quarterly-capitol",
   "metadata": {},
   "source": [
    "Next, we can visualise the graph that we just created to make sure that it makes \n",
    "sense and to learn more about our data."
   ]
  },
  {
   "cell_type": "markdown",
   "id": "realistic-implementation",
   "metadata": {},
   "source": [
    "### 2.2.1 A first visualisation for quick inspection"
   ]
  },
  {
   "cell_type": "markdown",
   "id": "regulation-peeing",
   "metadata": {},
   "source": [
    "To do so, `geograph` comes shipped with a `visualisation` module that will allow you\n",
    "to interactively look at your data."
   ]
  },
  {
   "cell_type": "code",
   "execution_count": 5,
   "id": "failing-cologne",
   "metadata": {
    "execution": {
     "iopub.execute_input": "2021-05-27T12:22:10.731330Z",
     "iopub.status.busy": "2021-05-27T12:22:10.730968Z",
     "iopub.status.idle": "2021-05-27T12:22:20.056205Z",
     "shell.execute_reply": "2021-05-27T12:22:20.055208Z",
     "shell.execute_reply.started": "2021-05-27T12:22:10.731296Z"
    }
   },
   "outputs": [
    {
     "name": "stderr",
     "output_type": "stream",
     "text": [
      "Constructing graph: 100%|██████████| 1/1 [00:00<00:00, 1004.86it/s]\n"
     ]
    },
    {
     "data": {
      "application/vnd.jupyter.widget-view+json": {
       "model_id": "3adeb4483fdb4229b32d8a79e7c27a2a",
       "version_major": 2,
       "version_minor": 0
      },
      "text/plain": [
       "GeoGraphViewer(center=[51.389167, 30.099444], controls=(ZoomControl(options=['position', 'zoom_in_text', 'zoom…"
      ]
     },
     "metadata": {},
     "output_type": "display_data"
    }
   ],
   "source": [
    "from geograph.visualisation import geoviewer  # geograph visualisation module\n",
    "import ipyleaflet  # for satellite basemap\n",
    "\n",
    "viewer = geoviewer.GeoGraphViewer(small_screen=True)\n",
    "viewer.add_layer(ipyleaflet.basemaps.Esri.WorldImagery)\n",
    "viewer.add_graph(polesia_graph, name='Polesia data')\n",
    "viewer.enable_graph_controls()\n",
    "viewer"
   ]
  },
  {
   "cell_type": "markdown",
   "id": "devoted-devil",
   "metadata": {
    "execution": {
     "iopub.execute_input": "2021-05-27T11:15:54.841242Z",
     "iopub.status.busy": "2021-05-27T11:15:54.840927Z",
     "iopub.status.idle": "2021-05-27T11:15:55.543005Z",
     "shell.execute_reply": "2021-05-27T11:15:55.542019Z",
     "shell.execute_reply.started": "2021-05-27T11:15:54.841209Z"
    }
   },
   "source": [
    "By hovering over a patch of landcover in the graph, you will get more detailed information \n",
    "about that patch and several key patch metrics:\n",
    "- `land cover class`\n",
    "- `area`\n",
    "- `perimeter` \n",
    "- `shape_index`\n",
    "- `fractal_dimension`\n",
    "\n",
    "If you switch to the metrics tab in the top right control panel, you will also see a couple of aggregated landscape and graph based\n",
    "metrics that are available to you to better understand the landscape at hand. By default, `geograph` computes\n",
    "only a minimum amount of aggregated metrics. But many more are available.\n",
    "\n",
    "### 2.2.2 Adding further metrics\n",
    "\n",
    "To see further metrics which are available, we can have at the `geograph` metrics module:\n",
    "\n"
   ]
  },
  {
   "cell_type": "code",
   "execution_count": 6,
   "id": "spread-neighborhood",
   "metadata": {
    "execution": {
     "iopub.execute_input": "2021-05-27T12:25:59.317827Z",
     "iopub.status.busy": "2021-05-27T12:25:59.317448Z",
     "iopub.status.idle": "2021-05-27T12:26:00.232963Z",
     "shell.execute_reply": "2021-05-27T12:26:00.231289Z",
     "shell.execute_reply.started": "2021-05-27T12:25:59.317780Z"
    }
   },
   "outputs": [
    {
     "name": "stdout",
     "output_type": "stream",
     "text": [
      "Available aggregated metrics: \n",
      "\n",
      "['avg_patch_area', 'total_area', 'num_patches', 'patch_density', 'largest_patch_index', 'shannon_diversity_index', 'simpson_diversity_index', 'num_components', 'avg_component_area', 'avg_component_isolation']\n"
     ]
    }
   ],
   "source": [
    "from geograph.metrics import LANDSCAPE_METRICS_DICT, COMPONENT_METRICS_DICT\n",
    "\n",
    "available_metrics = list(LANDSCAPE_METRICS_DICT.keys()) + list(COMPONENT_METRICS_DICT.keys())\n",
    "print(f\"Available aggregated metrics: \\n\\n{available_metrics}\")"
   ]
  },
  {
   "cell_type": "markdown",
   "id": "amino-supervisor",
   "metadata": {},
   "source": [
    "If we wanted to include all these metrics in the visualisation, we can simply pass them to the `GeoGraphViewer`:"
   ]
  },
  {
   "cell_type": "code",
   "execution_count": 7,
   "id": "abandoned-worker",
   "metadata": {
    "execution": {
     "iopub.execute_input": "2021-05-27T12:26:31.411798Z",
     "iopub.status.busy": "2021-05-27T12:26:31.411485Z",
     "iopub.status.idle": "2021-05-27T12:26:45.984019Z",
     "shell.execute_reply": "2021-05-27T12:26:45.982494Z",
     "shell.execute_reply.started": "2021-05-27T12:26:31.411755Z"
    }
   },
   "outputs": [
    {
     "name": "stderr",
     "output_type": "stream",
     "text": [
      "Constructing graph: 100%|██████████| 1/1 [00:00<00:00, 1140.07it/s]\n"
     ]
    },
    {
     "name": "stdout",
     "output_type": "stream",
     "text": [
      "Calculating component polygons...\n"
     ]
    },
    {
     "name": "stderr",
     "output_type": "stream",
     "text": [
      "Constructing graph: 100%|██████████| 1/1 [00:00<00:00, 1129.32it/s]\n"
     ]
    },
    {
     "name": "stdout",
     "output_type": "stream",
     "text": [
      "Warning: very computationally expensive for graphs with more\n",
      "              than ~100 components.\n"
     ]
    },
    {
     "name": "stderr",
     "output_type": "stream",
     "text": [
      "Constructing graph: 100%|██████████| 1/1 [00:00<00:00, 892.03it/s]\n",
      "Calculating edge weights: 0it [00:00, ?it/s]\n"
     ]
    },
    {
     "data": {
      "application/vnd.jupyter.widget-view+json": {
       "model_id": "28f64dac40d34dadaeedac0d5dbe39bd",
       "version_major": 2,
       "version_minor": 0
      },
      "text/plain": [
       "GeoGraphViewer(center=[51.389167, 30.099444], controls=(ZoomControl(options=['position', 'zoom_in_text', 'zoom…"
      ]
     },
     "metadata": {},
     "output_type": "display_data"
    }
   ],
   "source": [
    "viewer = geoviewer.GeoGraphViewer(small_screen=True, metric_list=available_metrics)\n",
    "viewer.add_layer(ipyleaflet.basemaps.Esri.WorldImagery)\n",
    "viewer.add_graph(polesia_graph, name='Polesia data', with_components=True)\n",
    "viewer.enable_graph_controls()\n",
    "viewer"
   ]
  },
  {
   "cell_type": "markdown",
   "id": "conscious-doctor",
   "metadata": {
    "execution": {
     "iopub.execute_input": "2021-05-27T11:27:37.748103Z",
     "iopub.status.busy": "2021-05-27T11:27:37.747759Z",
     "iopub.status.idle": "2021-05-27T11:27:38.541963Z",
     "shell.execute_reply": "2021-05-27T11:27:38.540951Z",
     "shell.execute_reply.started": "2021-05-27T11:27:37.748056Z"
    }
   },
   "source": [
    "## 2.3 Working with habitats"
   ]
  },
  {
   "cell_type": "markdown",
   "id": "varying-trout",
   "metadata": {
    "execution": {
     "iopub.execute_input": "2021-05-27T11:33:22.624839Z",
     "iopub.status.busy": "2021-05-27T11:33:22.624530Z",
     "iopub.status.idle": "2021-05-27T11:33:22.679016Z",
     "shell.execute_reply": "2021-05-27T11:33:22.677323Z",
     "shell.execute_reply.started": "2021-05-27T11:33:22.624807Z"
    }
   },
   "source": [
    "A key feature of `geograph` is that it can combine a couple of land cover classes \n",
    "together with a prescribed maximal travel distance to form a habitat. Let us see how we can use `geograph` to analyse habitats for different species.\n",
    "\n",
    "\n",
    "We define a `habitat` as a subset of land cover classes from the full data set, together with a travel distance of how far a species of interest is likely to travel outside it’s natural habitat. Such information can be obtained for example from species databases. \n",
    "\n",
    "For the demo purposes, let us selected all sub-classes of pine forests as habitat for an imaginary species here. Note however, that this could be any subset of land cover classes.\n"
   ]
  },
  {
   "cell_type": "markdown",
   "id": "sunset-yukon",
   "metadata": {
    "execution": {
     "iopub.execute_input": "2021-05-27T11:44:59.341633Z",
     "iopub.status.busy": "2021-05-27T11:44:59.341285Z",
     "iopub.status.idle": "2021-05-27T11:45:00.161318Z",
     "shell.execute_reply": "2021-05-27T11:45:00.160539Z",
     "shell.execute_reply.started": "2021-05-27T11:44:59.341598Z"
    }
   },
   "source": [
    "### 2.3.1 Constructing habitats"
   ]
  },
  {
   "cell_type": "code",
   "execution_count": 8,
   "id": "passing-background",
   "metadata": {
    "execution": {
     "iopub.execute_input": "2021-05-27T12:28:33.017807Z",
     "iopub.status.busy": "2021-05-27T12:28:33.017433Z",
     "iopub.status.idle": "2021-05-27T12:28:33.817450Z",
     "shell.execute_reply": "2021-05-27T12:28:33.816271Z",
     "shell.execute_reply.started": "2021-05-27T12:28:33.017760Z"
    }
   },
   "outputs": [
    {
     "data": {
      "text/plain": [
       "['Subcontinental moss Scots pine forests',\n",
       " 'Subcontinental lichen Scots pine forests',\n",
       " 'Subcontinental moorgrass Scots pine forests',\n",
       " 'Boreal Labrador tea Scots pine bog woods',\n",
       " 'Boreal cottonsedge Scots pine bog woods',\n",
       " 'Boreal neutrocline sphagnum Scots pine fen woods',\n",
       " 'Mixed Scots pine-birch woodland']"
      ]
     },
     "execution_count": 8,
     "metadata": {},
     "output_type": "execute_result"
    }
   ],
   "source": [
    "# First selecting the classes that make up our habitat\n",
    "# We chose all classes with 'pine' in the name.\n",
    "pine_classes = [label for label in polesia_graph.df.class_label.unique() if 'pine' in label]\n",
    "pine_classes"
   ]
  },
  {
   "cell_type": "markdown",
   "id": "therapeutic-bradford",
   "metadata": {},
   "source": [
    "We will look at three different species which live in pine forests and differ only by their maximal travel distance outside the pine forests. We’ve  added three different maximal travel distances of 5, 25 and 500m that correspond to imaginary sessile, semi-mobile and mobile species."
   ]
  },
  {
   "cell_type": "code",
   "execution_count": 9,
   "id": "cathedral-cutting",
   "metadata": {
    "execution": {
     "iopub.execute_input": "2021-05-27T12:29:47.901911Z",
     "iopub.status.busy": "2021-05-27T12:29:47.901574Z",
     "iopub.status.idle": "2021-05-27T12:30:02.888724Z",
     "shell.execute_reply": "2021-05-27T12:30:02.887649Z",
     "shell.execute_reply.started": "2021-05-27T12:29:47.901877Z"
    }
   },
   "outputs": [
    {
     "name": "stderr",
     "output_type": "stream",
     "text": [
      "Generating habitat graph: 100%|██████████| 95/95 [00:00<00:00, 731.65it/s]\n"
     ]
    },
    {
     "name": "stdout",
     "output_type": "stream",
     "text": [
      "Calculating components...\n"
     ]
    },
    {
     "name": "stderr",
     "output_type": "stream",
     "text": [
      "Constructing graph: 100%|██████████| 39/39 [00:00<00:00, 9367.65it/s]\n"
     ]
    },
    {
     "name": "stdout",
     "output_type": "stream",
     "text": [
      "\n",
      "Habitat successfully loaded with 95 nodes and 78 edges.\n"
     ]
    },
    {
     "name": "stderr",
     "output_type": "stream",
     "text": [
      "Generating habitat graph: 100%|██████████| 95/95 [00:00<00:00, 709.01it/s]\n"
     ]
    },
    {
     "name": "stdout",
     "output_type": "stream",
     "text": [
      "Calculating components...\n"
     ]
    },
    {
     "name": "stderr",
     "output_type": "stream",
     "text": [
      "Constructing graph: 100%|██████████| 36/36 [00:00<00:00, 10528.17it/s]\n"
     ]
    },
    {
     "name": "stdout",
     "output_type": "stream",
     "text": [
      "\n",
      "Habitat successfully loaded with 95 nodes and 86 edges.\n"
     ]
    },
    {
     "name": "stderr",
     "output_type": "stream",
     "text": [
      "Generating habitat graph: 100%|██████████| 95/95 [00:00<00:00, 751.45it/s]\n"
     ]
    },
    {
     "name": "stdout",
     "output_type": "stream",
     "text": [
      "Calculating components...\n"
     ]
    },
    {
     "name": "stderr",
     "output_type": "stream",
     "text": [
      "Constructing graph: 100%|██████████| 14/14 [00:00<00:00, 6468.41it/s]"
     ]
    },
    {
     "name": "stdout",
     "output_type": "stream",
     "text": [
      "\n",
      "Habitat successfully loaded with 95 nodes and 214 edges.\n"
     ]
    },
    {
     "name": "stderr",
     "output_type": "stream",
     "text": [
      "\n"
     ]
    }
   ],
   "source": [
    "# Next, we create three different species which can live in pine forests\n",
    "# and travel outside of pine forests for different distances\n",
    "# Distances: mobile (<500m), semi mobile (<25m) and sessile (<5m) \n",
    "# (proposed by Adham Ashton-Butt at BTO)\n",
    "polesia_graph.add_habitat('Sessile', \n",
    "                  max_travel_distance=5, \n",
    "                  valid_classes=pine_classes)\n",
    "\n",
    "polesia_graph.add_habitat('Semi mobile', \n",
    "                  max_travel_distance=25, \n",
    "                  valid_classes=pine_classes)\n",
    "\n",
    "polesia_graph.add_habitat('Mobile',\n",
    "                  max_travel_distance=500, \n",
    "                  valid_classes=pine_classes)"
   ]
  },
  {
   "cell_type": "markdown",
   "id": "demanding-addiction",
   "metadata": {},
   "source": [
    "When a habitat is added, GeoGraph computes a reduced graph from the full graph. It identifies connected habitat components, given the maximal travel distance. Connected components of a habitat are collections of land cover patches that an animal can reach within its maximal travel distance outside its habitat.\n"
   ]
  },
  {
   "cell_type": "markdown",
   "id": "opposed-constitution",
   "metadata": {},
   "source": [
    "### 2.3.2 Visualising habitats"
   ]
  },
  {
   "cell_type": "markdown",
   "id": "expensive-reader",
   "metadata": {
    "execution": {
     "iopub.execute_input": "2021-05-27T11:41:10.063969Z",
     "iopub.status.busy": "2021-05-27T11:41:10.063656Z",
     "iopub.status.idle": "2021-05-27T11:41:10.966229Z",
     "shell.execute_reply": "2021-05-27T11:41:10.964924Z",
     "shell.execute_reply.started": "2021-05-27T11:41:10.063935Z"
    }
   },
   "source": [
    "\n",
    "\n",
    "We can now go ahead an visualise these habitats in the `GeoGraphViewer` to understand the habitats better.\n",
    "The visualisation allows us to quickly identify isolated or patches, or patches that might easily become detached and need special policy attention. By doing so, it gives us valuable information about habitat fragmentation.\n",
    "\n",
    "As we look at the more and more mobile species, we see that their habitat becomes more and more connected.\n",
    "\n",
    "By going to the metrics tab we can again see some key metrics for this particular habitat. For large scale analyses these metrics are also accessible directly in code, without having to go via the interactive visualisation (see section 2.4 below).\n"
   ]
  },
  {
   "cell_type": "code",
   "execution_count": 10,
   "id": "dependent-practitioner",
   "metadata": {
    "execution": {
     "iopub.execute_input": "2021-05-27T12:30:24.551617Z",
     "iopub.status.busy": "2021-05-27T12:30:24.551279Z",
     "iopub.status.idle": "2021-05-27T12:30:42.393340Z",
     "shell.execute_reply": "2021-05-27T12:30:42.392476Z",
     "shell.execute_reply.started": "2021-05-27T12:30:24.551584Z"
    }
   },
   "outputs": [
    {
     "name": "stderr",
     "output_type": "stream",
     "text": [
      "Constructing graph: 100%|██████████| 1/1 [00:00<00:00, 1132.98it/s]\n",
      "Constructing graph: 100%|██████████| 39/39 [00:00<00:00, 9592.88it/s]\n",
      "Constructing graph: 100%|██████████| 36/36 [00:00<00:00, 5293.98it/s]\n",
      "Constructing graph: 100%|██████████| 14/14 [00:00<00:00, 5017.97it/s]\n"
     ]
    },
    {
     "data": {
      "application/vnd.jupyter.widget-view+json": {
       "model_id": "8552e4477ae14aef8053d6dff5ee51e5",
       "version_major": 2,
       "version_minor": 0
      },
      "text/plain": [
       "GeoGraphViewer(center=[51.389167, 30.099444], controls=(ZoomControl(options=['position', 'zoom_in_text', 'zoom…"
      ]
     },
     "metadata": {},
     "output_type": "display_data"
    }
   ],
   "source": [
    "viewer = geoviewer.GeoGraphViewer(small_screen=True, metrics=available_metrics)\n",
    "viewer.add_layer(ipyleaflet.basemaps.Esri.WorldImagery)\n",
    "viewer.add_graph(polesia_graph, name='Polesia data', with_components=True)\n",
    "viewer.enable_graph_controls()\n",
    "viewer"
   ]
  },
  {
   "cell_type": "markdown",
   "id": "entitled-retro",
   "metadata": {},
   "source": [
    "We envision that the `habitat` functionality of geograph might help us recommend valuable regions for conservation of a species of interest based on maximizing habitat connectivity.\n",
    "\n",
    "In this particular example, adding a protected area in the bottom left region would connect three previously unconnected habitat components for the mobile species. And connecting multiple components would increase the effective habitat size for our species of interest. This increase in habitat size might have a positive impact on the species. \n",
    "Obviously, many more factors would go into an actual decision, but the key idea here is that the graph based formulation and definition of `habitats` may be able to help us make an initial recommendation.\n"
   ]
  },
  {
   "cell_type": "markdown",
   "id": "seven-tuner",
   "metadata": {},
   "source": [
    "## 2.4 Computationally analysing the GeoGraph"
   ]
  },
  {
   "cell_type": "markdown",
   "id": "productive-rebel",
   "metadata": {},
   "source": [
    "The visualisations above are a great way to familiarise yourself with the data and\n",
    "to present them to others.\n",
    "\n",
    "For some applications however, you need the metrics available in `GeoGraph` for extra\n",
    "computations or generating custom visualisations. \n",
    "\n",
    "Below, we will show how you can easily access the patch, class and \n",
    "landscape level metrics from `GeoGraph` via code and have them returned to you as \n",
    "`pandas` dataframes.\n",
    "\n"
   ]
  },
  {
   "cell_type": "code",
   "execution_count": 11,
   "id": "golden-resource",
   "metadata": {
    "execution": {
     "iopub.execute_input": "2021-05-27T12:35:23.347984Z",
     "iopub.status.busy": "2021-05-27T12:35:23.347642Z",
     "iopub.status.idle": "2021-05-27T12:35:25.055221Z",
     "shell.execute_reply": "2021-05-27T12:35:25.054476Z",
     "shell.execute_reply.started": "2021-05-27T12:35:23.347941Z"
    }
   },
   "outputs": [
    {
     "data": {
      "text/html": [
       "<div>\n",
       "<style scoped>\n",
       "    .dataframe tbody tr th:only-of-type {\n",
       "        vertical-align: middle;\n",
       "    }\n",
       "\n",
       "    .dataframe tbody tr th {\n",
       "        vertical-align: top;\n",
       "    }\n",
       "\n",
       "    .dataframe thead th {\n",
       "        text-align: right;\n",
       "    }\n",
       "</style>\n",
       "<table border=\"1\" class=\"dataframe\">\n",
       "  <thead>\n",
       "    <tr style=\"text-align: right;\">\n",
       "      <th></th>\n",
       "      <th>class_label</th>\n",
       "      <th>area</th>\n",
       "      <th>perimeter</th>\n",
       "      <th>perimeter_area_ratio</th>\n",
       "      <th>shape_index</th>\n",
       "      <th>fractal_dimension</th>\n",
       "    </tr>\n",
       "    <tr>\n",
       "      <th>node_index</th>\n",
       "      <th></th>\n",
       "      <th></th>\n",
       "      <th></th>\n",
       "      <th></th>\n",
       "      <th></th>\n",
       "      <th></th>\n",
       "    </tr>\n",
       "  </thead>\n",
       "  <tbody>\n",
       "    <tr>\n",
       "      <th>0</th>\n",
       "      <td>Active, relatively undamaged raised bogs</td>\n",
       "      <td>3.767096e+05</td>\n",
       "      <td>3244.211911</td>\n",
       "      <td>0.008612</td>\n",
       "      <td>1.321435</td>\n",
       "      <td>1.043417</td>\n",
       "    </tr>\n",
       "    <tr>\n",
       "      <th>1</th>\n",
       "      <td>Active, relatively undamaged raised bogs</td>\n",
       "      <td>3.165971e+05</td>\n",
       "      <td>2970.146257</td>\n",
       "      <td>0.009381</td>\n",
       "      <td>1.319667</td>\n",
       "      <td>1.043801</td>\n",
       "    </tr>\n",
       "    <tr>\n",
       "      <th>2</th>\n",
       "      <td>Active, relatively undamaged raised bogs</td>\n",
       "      <td>2.663976e+05</td>\n",
       "      <td>2182.893205</td>\n",
       "      <td>0.008194</td>\n",
       "      <td>1.057322</td>\n",
       "      <td>1.008923</td>\n",
       "    </tr>\n",
       "    <tr>\n",
       "      <th>3</th>\n",
       "      <td>Active, relatively undamaged raised bogs</td>\n",
       "      <td>4.075725e+05</td>\n",
       "      <td>3881.473848</td>\n",
       "      <td>0.009523</td>\n",
       "      <td>1.519967</td>\n",
       "      <td>1.064823</td>\n",
       "    </tr>\n",
       "    <tr>\n",
       "      <th>4</th>\n",
       "      <td>Active, relatively undamaged raised bogs</td>\n",
       "      <td>1.363278e+06</td>\n",
       "      <td>6549.770969</td>\n",
       "      <td>0.004804</td>\n",
       "      <td>1.402407</td>\n",
       "      <td>1.047884</td>\n",
       "    </tr>\n",
       "    <tr>\n",
       "      <th>...</th>\n",
       "      <td>...</td>\n",
       "      <td>...</td>\n",
       "      <td>...</td>\n",
       "      <td>...</td>\n",
       "      <td>...</td>\n",
       "      <td>...</td>\n",
       "    </tr>\n",
       "    <tr>\n",
       "      <th>318</th>\n",
       "      <td>Recently felled areas, formerly mixed broadlea...</td>\n",
       "      <td>4.624960e+04</td>\n",
       "      <td>1379.683795</td>\n",
       "      <td>0.029831</td>\n",
       "      <td>1.603857</td>\n",
       "      <td>1.087957</td>\n",
       "    </tr>\n",
       "    <tr>\n",
       "      <th>319</th>\n",
       "      <td>Recently felled areas, formerly mixed broadlea...</td>\n",
       "      <td>5.069803e+04</td>\n",
       "      <td>1091.917966</td>\n",
       "      <td>0.021538</td>\n",
       "      <td>1.212368</td>\n",
       "      <td>1.035551</td>\n",
       "    </tr>\n",
       "    <tr>\n",
       "      <th>320</th>\n",
       "      <td>Recently felled areas, formerly mixed broadlea...</td>\n",
       "      <td>2.063375e+05</td>\n",
       "      <td>3544.803776</td>\n",
       "      <td>0.017180</td>\n",
       "      <td>1.950937</td>\n",
       "      <td>1.109225</td>\n",
       "    </tr>\n",
       "    <tr>\n",
       "      <th>321</th>\n",
       "      <td>Recently felled areas, formerly mixed broadlea...</td>\n",
       "      <td>2.393857e+05</td>\n",
       "      <td>4567.703373</td>\n",
       "      <td>0.019081</td>\n",
       "      <td>2.333935</td>\n",
       "      <td>1.136859</td>\n",
       "    </tr>\n",
       "    <tr>\n",
       "      <th>322</th>\n",
       "      <td>Recently felled areas, formerly mixed broadlea...</td>\n",
       "      <td>1.080916e+06</td>\n",
       "      <td>12414.339063</td>\n",
       "      <td>0.011485</td>\n",
       "      <td>2.985160</td>\n",
       "      <td>1.157436</td>\n",
       "    </tr>\n",
       "  </tbody>\n",
       "</table>\n",
       "<p>323 rows × 6 columns</p>\n",
       "</div>"
      ],
      "text/plain": [
       "                                                  class_label          area  \\\n",
       "node_index                                                                    \n",
       "0                    Active, relatively undamaged raised bogs  3.767096e+05   \n",
       "1                    Active, relatively undamaged raised bogs  3.165971e+05   \n",
       "2                    Active, relatively undamaged raised bogs  2.663976e+05   \n",
       "3                    Active, relatively undamaged raised bogs  4.075725e+05   \n",
       "4                    Active, relatively undamaged raised bogs  1.363278e+06   \n",
       "...                                                       ...           ...   \n",
       "318         Recently felled areas, formerly mixed broadlea...  4.624960e+04   \n",
       "319         Recently felled areas, formerly mixed broadlea...  5.069803e+04   \n",
       "320         Recently felled areas, formerly mixed broadlea...  2.063375e+05   \n",
       "321         Recently felled areas, formerly mixed broadlea...  2.393857e+05   \n",
       "322         Recently felled areas, formerly mixed broadlea...  1.080916e+06   \n",
       "\n",
       "               perimeter  perimeter_area_ratio  shape_index  fractal_dimension  \n",
       "node_index                                                                      \n",
       "0            3244.211911              0.008612     1.321435           1.043417  \n",
       "1            2970.146257              0.009381     1.319667           1.043801  \n",
       "2            2182.893205              0.008194     1.057322           1.008923  \n",
       "3            3881.473848              0.009523     1.519967           1.064823  \n",
       "4            6549.770969              0.004804     1.402407           1.047884  \n",
       "...                  ...                   ...          ...                ...  \n",
       "318          1379.683795              0.029831     1.603857           1.087957  \n",
       "319          1091.917966              0.021538     1.212368           1.035551  \n",
       "320          3544.803776              0.017180     1.950937           1.109225  \n",
       "321          4567.703373              0.019081     2.333935           1.136859  \n",
       "322         12414.339063              0.011485     2.985160           1.157436  \n",
       "\n",
       "[323 rows x 6 columns]"
      ]
     },
     "execution_count": 11,
     "metadata": {},
     "output_type": "execute_result"
    }
   ],
   "source": [
    "# Compute all patch level metrics\n",
    "polesia_graph.get_patch_metrics()  # Note: Area and perimeter are in the units of the underlying CRS"
   ]
  },
  {
   "cell_type": "markdown",
   "id": "scientific-maria",
   "metadata": {
    "execution": {
     "iopub.execute_input": "2021-05-27T11:24:11.161544Z",
     "iopub.status.busy": "2021-05-27T11:24:11.161190Z",
     "iopub.status.idle": "2021-05-27T11:24:11.845763Z",
     "shell.execute_reply": "2021-05-27T11:24:11.844580Z",
     "shell.execute_reply.started": "2021-05-27T11:24:11.161507Z"
    }
   },
   "source": [
    "Note here that `area` and `perimeter` are in the units of the underlying CRS. In our case this is `UTM35N`, which\n",
    "has the units of metre (`m`)."
   ]
  },
  {
   "cell_type": "code",
   "execution_count": 12,
   "id": "union-explanation",
   "metadata": {
    "execution": {
     "iopub.execute_input": "2021-05-27T12:35:52.612270Z",
     "iopub.status.busy": "2021-05-27T12:35:52.611950Z",
     "iopub.status.idle": "2021-05-27T12:35:52.799758Z",
     "shell.execute_reply": "2021-05-27T12:35:52.798525Z",
     "shell.execute_reply.started": "2021-05-27T12:35:52.612236Z"
    }
   },
   "outputs": [
    {
     "data": {
      "text/html": [
       "<div>\n",
       "<style scoped>\n",
       "    .dataframe tbody tr th:only-of-type {\n",
       "        vertical-align: middle;\n",
       "    }\n",
       "\n",
       "    .dataframe tbody tr th {\n",
       "        vertical-align: top;\n",
       "    }\n",
       "\n",
       "    .dataframe thead th {\n",
       "        text-align: right;\n",
       "    }\n",
       "</style>\n",
       "<table border=\"1\" class=\"dataframe\">\n",
       "  <thead>\n",
       "    <tr style=\"text-align: right;\">\n",
       "      <th></th>\n",
       "      <th>num_patches</th>\n",
       "      <th>avg_patch_area</th>\n",
       "      <th>total_area</th>\n",
       "      <th>proportion_of_landscape</th>\n",
       "      <th>patch_density</th>\n",
       "      <th>largest_patch_index</th>\n",
       "      <th>total_edge</th>\n",
       "      <th>edge_density</th>\n",
       "      <th>shape_index</th>\n",
       "      <th>effective_mesh_size</th>\n",
       "    </tr>\n",
       "  </thead>\n",
       "  <tbody>\n",
       "    <tr>\n",
       "      <th>Active, relatively undamaged raised bogs</th>\n",
       "      <td>10</td>\n",
       "      <td>8.636351e+05</td>\n",
       "      <td>8.636351e+06</td>\n",
       "      <td>0.025815</td>\n",
       "      <td>2.989124e-08</td>\n",
       "      <td>0.011702</td>\n",
       "      <td>58761.195347</td>\n",
       "      <td>0.006804</td>\n",
       "      <td>4.998797</td>\n",
       "      <td>6.013801e+04</td>\n",
       "    </tr>\n",
       "    <tr>\n",
       "      <th>Beds of large sedges normally without free-standing water</th>\n",
       "      <td>17</td>\n",
       "      <td>1.112501e+07</td>\n",
       "      <td>1.891252e+08</td>\n",
       "      <td>0.565319</td>\n",
       "      <td>5.081511e-08</td>\n",
       "      <td>0.526203</td>\n",
       "      <td>718163.904809</td>\n",
       "      <td>0.003797</td>\n",
       "      <td>13.055362</td>\n",
       "      <td>9.269465e+07</td>\n",
       "    </tr>\n",
       "    <tr>\n",
       "      <th>Boreal Labrador tea Scots pine bog woods</th>\n",
       "      <td>6</td>\n",
       "      <td>6.688350e+05</td>\n",
       "      <td>4.013010e+06</td>\n",
       "      <td>0.011995</td>\n",
       "      <td>1.793475e-08</td>\n",
       "      <td>0.004076</td>\n",
       "      <td>34448.851308</td>\n",
       "      <td>0.008584</td>\n",
       "      <td>4.299121</td>\n",
       "      <td>1.115717e+04</td>\n",
       "    </tr>\n",
       "    <tr>\n",
       "      <th>Boreal cottonsedge Scots pine bog woods</th>\n",
       "      <td>24</td>\n",
       "      <td>4.000696e+05</td>\n",
       "      <td>9.601670e+06</td>\n",
       "      <td>0.028701</td>\n",
       "      <td>7.173898e-08</td>\n",
       "      <td>0.004115</td>\n",
       "      <td>93659.084467</td>\n",
       "      <td>0.009754</td>\n",
       "      <td>7.556428</td>\n",
       "      <td>2.109696e+04</td>\n",
       "    </tr>\n",
       "    <tr>\n",
       "      <th>Boreal neutrocline sphagnum Scots pine fen woods</th>\n",
       "      <td>6</td>\n",
       "      <td>5.878279e+05</td>\n",
       "      <td>3.526968e+06</td>\n",
       "      <td>0.010543</td>\n",
       "      <td>1.793475e-08</td>\n",
       "      <td>0.006394</td>\n",
       "      <td>28029.206581</td>\n",
       "      <td>0.007947</td>\n",
       "      <td>3.731213</td>\n",
       "      <td>1.537939e+04</td>\n",
       "    </tr>\n",
       "    <tr>\n",
       "      <th>Coniferous scrub woodland</th>\n",
       "      <td>2</td>\n",
       "      <td>7.336898e+04</td>\n",
       "      <td>1.467380e+05</td>\n",
       "      <td>0.000439</td>\n",
       "      <td>5.978248e-09</td>\n",
       "      <td>0.000266</td>\n",
       "      <td>3159.300572</td>\n",
       "      <td>0.021530</td>\n",
       "      <td>2.061863</td>\n",
       "      <td>3.367067e+01</td>\n",
       "    </tr>\n",
       "    <tr>\n",
       "      <th>Deciduous scrub woodland</th>\n",
       "      <td>5</td>\n",
       "      <td>2.208029e+05</td>\n",
       "      <td>1.104015e+06</td>\n",
       "      <td>0.003300</td>\n",
       "      <td>1.494562e-08</td>\n",
       "      <td>0.002016</td>\n",
       "      <td>11834.862516</td>\n",
       "      <td>0.010720</td>\n",
       "      <td>2.815891</td>\n",
       "      <td>1.528313e+03</td>\n",
       "    </tr>\n",
       "    <tr>\n",
       "      <th>Grey willow carrs</th>\n",
       "      <td>7</td>\n",
       "      <td>2.808792e+05</td>\n",
       "      <td>1.966155e+06</td>\n",
       "      <td>0.005877</td>\n",
       "      <td>2.092387e-08</td>\n",
       "      <td>0.002849</td>\n",
       "      <td>22848.391758</td>\n",
       "      <td>0.011621</td>\n",
       "      <td>4.073679</td>\n",
       "      <td>4.039706e+03</td>\n",
       "    </tr>\n",
       "    <tr>\n",
       "      <th>Meso-acidophilous birch swamp woods</th>\n",
       "      <td>16</td>\n",
       "      <td>3.130769e+05</td>\n",
       "      <td>5.009231e+06</td>\n",
       "      <td>0.014973</td>\n",
       "      <td>4.782599e-08</td>\n",
       "      <td>0.002956</td>\n",
       "      <td>61571.026496</td>\n",
       "      <td>0.012292</td>\n",
       "      <td>6.877504</td>\n",
       "      <td>7.953098e+03</td>\n",
       "    </tr>\n",
       "    <tr>\n",
       "      <th>Mixed Scots pine-birch woodland</th>\n",
       "      <td>1</td>\n",
       "      <td>1.497235e+05</td>\n",
       "      <td>1.497235e+05</td>\n",
       "      <td>0.000448</td>\n",
       "      <td>2.989124e-09</td>\n",
       "      <td>0.000448</td>\n",
       "      <td>2636.675623</td>\n",
       "      <td>0.017610</td>\n",
       "      <td>1.703538</td>\n",
       "      <td>6.700758e+01</td>\n",
       "    </tr>\n",
       "    <tr>\n",
       "      <th>Mixed scrub woodland</th>\n",
       "      <td>21</td>\n",
       "      <td>3.405725e+05</td>\n",
       "      <td>7.152022e+06</td>\n",
       "      <td>0.021378</td>\n",
       "      <td>6.277161e-08</td>\n",
       "      <td>0.011976</td>\n",
       "      <td>64865.583341</td>\n",
       "      <td>0.009070</td>\n",
       "      <td>6.063731</td>\n",
       "      <td>5.267078e+04</td>\n",
       "    </tr>\n",
       "    <tr>\n",
       "      <th>Mixed swamp woodland</th>\n",
       "      <td>4</td>\n",
       "      <td>3.693435e+05</td>\n",
       "      <td>1.477374e+06</td>\n",
       "      <td>0.004416</td>\n",
       "      <td>1.195650e-08</td>\n",
       "      <td>0.002513</td>\n",
       "      <td>16150.016821</td>\n",
       "      <td>0.010932</td>\n",
       "      <td>3.321756</td>\n",
       "      <td>2.584840e+03</td>\n",
       "    </tr>\n",
       "    <tr>\n",
       "      <th>Permanent mesotrophic pastures and aftermath-grazed meadows</th>\n",
       "      <td>2</td>\n",
       "      <td>2.098983e+05</td>\n",
       "      <td>4.197966e+05</td>\n",
       "      <td>0.001255</td>\n",
       "      <td>5.978248e-09</td>\n",
       "      <td>0.000677</td>\n",
       "      <td>5314.184626</td>\n",
       "      <td>0.012659</td>\n",
       "      <td>2.050488</td>\n",
       "      <td>2.650318e+02</td>\n",
       "    </tr>\n",
       "    <tr>\n",
       "      <th>Raised bog pre-woods</th>\n",
       "      <td>12</td>\n",
       "      <td>8.134423e+05</td>\n",
       "      <td>9.761308e+06</td>\n",
       "      <td>0.029178</td>\n",
       "      <td>3.586949e-08</td>\n",
       "      <td>0.007015</td>\n",
       "      <td>72876.316299</td>\n",
       "      <td>0.007466</td>\n",
       "      <td>5.831394</td>\n",
       "      <td>4.040244e+04</td>\n",
       "    </tr>\n",
       "    <tr>\n",
       "      <th>Recently felled areas, formerly coniferous trees</th>\n",
       "      <td>27</td>\n",
       "      <td>1.216664e+06</td>\n",
       "      <td>3.284994e+07</td>\n",
       "      <td>0.098193</td>\n",
       "      <td>8.070635e-08</td>\n",
       "      <td>0.042661</td>\n",
       "      <td>278653.926594</td>\n",
       "      <td>0.008483</td>\n",
       "      <td>12.154523</td>\n",
       "      <td>8.331503e+05</td>\n",
       "    </tr>\n",
       "    <tr>\n",
       "      <th>Recently felled areas, formerly mixed broadleaved and coniferous trees</th>\n",
       "      <td>68</td>\n",
       "      <td>2.746716e+05</td>\n",
       "      <td>1.867767e+07</td>\n",
       "      <td>0.055830</td>\n",
       "      <td>2.032604e-07</td>\n",
       "      <td>0.006058</td>\n",
       "      <td>224140.119609</td>\n",
       "      <td>0.012000</td>\n",
       "      <td>12.965769</td>\n",
       "      <td>4.773213e+04</td>\n",
       "    </tr>\n",
       "    <tr>\n",
       "      <th>Subcontinental lichen Scots pine forests</th>\n",
       "      <td>3</td>\n",
       "      <td>1.240435e+05</td>\n",
       "      <td>3.721306e+05</td>\n",
       "      <td>0.001112</td>\n",
       "      <td>8.967373e-09</td>\n",
       "      <td>0.000802</td>\n",
       "      <td>8777.419339</td>\n",
       "      <td>0.023587</td>\n",
       "      <td>3.597155</td>\n",
       "      <td>2.314121e+02</td>\n",
       "    </tr>\n",
       "    <tr>\n",
       "      <th>Subcontinental moorgrass Scots pine forests</th>\n",
       "      <td>35</td>\n",
       "      <td>2.762307e+05</td>\n",
       "      <td>9.668075e+06</td>\n",
       "      <td>0.028899</td>\n",
       "      <td>1.046193e-07</td>\n",
       "      <td>0.004898</td>\n",
       "      <td>140338.149178</td>\n",
       "      <td>0.014516</td>\n",
       "      <td>11.283550</td>\n",
       "      <td>2.052389e+04</td>\n",
       "    </tr>\n",
       "    <tr>\n",
       "      <th>Subcontinental moss Scots pine forests</th>\n",
       "      <td>20</td>\n",
       "      <td>4.451304e+05</td>\n",
       "      <td>8.902609e+06</td>\n",
       "      <td>0.026611</td>\n",
       "      <td>5.978248e-08</td>\n",
       "      <td>0.003226</td>\n",
       "      <td>91027.708780</td>\n",
       "      <td>0.010225</td>\n",
       "      <td>7.627022</td>\n",
       "      <td>1.907841e+04</td>\n",
       "    </tr>\n",
       "    <tr>\n",
       "      <th>Tall-herb communities of humid meadows</th>\n",
       "      <td>3</td>\n",
       "      <td>2.945233e+05</td>\n",
       "      <td>8.835698e+05</td>\n",
       "      <td>0.002641</td>\n",
       "      <td>8.967373e-09</td>\n",
       "      <td>0.001427</td>\n",
       "      <td>11697.706013</td>\n",
       "      <td>0.013239</td>\n",
       "      <td>3.111145</td>\n",
       "      <td>9.611936e+02</td>\n",
       "    </tr>\n",
       "    <tr>\n",
       "      <th>Transition mires and quaking bogs</th>\n",
       "      <td>34</td>\n",
       "      <td>6.206660e+05</td>\n",
       "      <td>2.110264e+07</td>\n",
       "      <td>0.063078</td>\n",
       "      <td>1.016302e-07</td>\n",
       "      <td>0.033639</td>\n",
       "      <td>174409.332393</td>\n",
       "      <td>0.008265</td>\n",
       "      <td>9.491641</td>\n",
       "      <td>4.089714e+05</td>\n",
       "    </tr>\n",
       "  </tbody>\n",
       "</table>\n",
       "</div>"
      ],
      "text/plain": [
       "                                                    num_patches  \\\n",
       "Active, relatively undamaged raised bogs                     10   \n",
       "Beds of large sedges normally without free-stan...           17   \n",
       "Boreal Labrador tea Scots pine bog woods                      6   \n",
       "Boreal cottonsedge Scots pine bog woods                      24   \n",
       "Boreal neutrocline sphagnum Scots pine fen woods              6   \n",
       "Coniferous scrub woodland                                     2   \n",
       "Deciduous scrub woodland                                      5   \n",
       "Grey willow carrs                                             7   \n",
       "Meso-acidophilous birch swamp woods                          16   \n",
       "Mixed Scots pine-birch woodland                               1   \n",
       "Mixed scrub woodland                                         21   \n",
       "Mixed swamp woodland                                          4   \n",
       "Permanent mesotrophic pastures and aftermath-gr...            2   \n",
       "Raised bog pre-woods                                         12   \n",
       "Recently felled areas, formerly coniferous trees             27   \n",
       "Recently felled areas, formerly mixed broadleav...           68   \n",
       "Subcontinental lichen Scots pine forests                      3   \n",
       "Subcontinental moorgrass Scots pine forests                  35   \n",
       "Subcontinental moss Scots pine forests                       20   \n",
       "Tall-herb communities of humid meadows                        3   \n",
       "Transition mires and quaking bogs                            34   \n",
       "\n",
       "                                                    avg_patch_area  \\\n",
       "Active, relatively undamaged raised bogs              8.636351e+05   \n",
       "Beds of large sedges normally without free-stan...    1.112501e+07   \n",
       "Boreal Labrador tea Scots pine bog woods              6.688350e+05   \n",
       "Boreal cottonsedge Scots pine bog woods               4.000696e+05   \n",
       "Boreal neutrocline sphagnum Scots pine fen woods      5.878279e+05   \n",
       "Coniferous scrub woodland                             7.336898e+04   \n",
       "Deciduous scrub woodland                              2.208029e+05   \n",
       "Grey willow carrs                                     2.808792e+05   \n",
       "Meso-acidophilous birch swamp woods                   3.130769e+05   \n",
       "Mixed Scots pine-birch woodland                       1.497235e+05   \n",
       "Mixed scrub woodland                                  3.405725e+05   \n",
       "Mixed swamp woodland                                  3.693435e+05   \n",
       "Permanent mesotrophic pastures and aftermath-gr...    2.098983e+05   \n",
       "Raised bog pre-woods                                  8.134423e+05   \n",
       "Recently felled areas, formerly coniferous trees      1.216664e+06   \n",
       "Recently felled areas, formerly mixed broadleav...    2.746716e+05   \n",
       "Subcontinental lichen Scots pine forests              1.240435e+05   \n",
       "Subcontinental moorgrass Scots pine forests           2.762307e+05   \n",
       "Subcontinental moss Scots pine forests                4.451304e+05   \n",
       "Tall-herb communities of humid meadows                2.945233e+05   \n",
       "Transition mires and quaking bogs                     6.206660e+05   \n",
       "\n",
       "                                                      total_area  \\\n",
       "Active, relatively undamaged raised bogs            8.636351e+06   \n",
       "Beds of large sedges normally without free-stan...  1.891252e+08   \n",
       "Boreal Labrador tea Scots pine bog woods            4.013010e+06   \n",
       "Boreal cottonsedge Scots pine bog woods             9.601670e+06   \n",
       "Boreal neutrocline sphagnum Scots pine fen woods    3.526968e+06   \n",
       "Coniferous scrub woodland                           1.467380e+05   \n",
       "Deciduous scrub woodland                            1.104015e+06   \n",
       "Grey willow carrs                                   1.966155e+06   \n",
       "Meso-acidophilous birch swamp woods                 5.009231e+06   \n",
       "Mixed Scots pine-birch woodland                     1.497235e+05   \n",
       "Mixed scrub woodland                                7.152022e+06   \n",
       "Mixed swamp woodland                                1.477374e+06   \n",
       "Permanent mesotrophic pastures and aftermath-gr...  4.197966e+05   \n",
       "Raised bog pre-woods                                9.761308e+06   \n",
       "Recently felled areas, formerly coniferous trees    3.284994e+07   \n",
       "Recently felled areas, formerly mixed broadleav...  1.867767e+07   \n",
       "Subcontinental lichen Scots pine forests            3.721306e+05   \n",
       "Subcontinental moorgrass Scots pine forests         9.668075e+06   \n",
       "Subcontinental moss Scots pine forests              8.902609e+06   \n",
       "Tall-herb communities of humid meadows              8.835698e+05   \n",
       "Transition mires and quaking bogs                   2.110264e+07   \n",
       "\n",
       "                                                    proportion_of_landscape  \\\n",
       "Active, relatively undamaged raised bogs                           0.025815   \n",
       "Beds of large sedges normally without free-stan...                 0.565319   \n",
       "Boreal Labrador tea Scots pine bog woods                           0.011995   \n",
       "Boreal cottonsedge Scots pine bog woods                            0.028701   \n",
       "Boreal neutrocline sphagnum Scots pine fen woods                   0.010543   \n",
       "Coniferous scrub woodland                                          0.000439   \n",
       "Deciduous scrub woodland                                           0.003300   \n",
       "Grey willow carrs                                                  0.005877   \n",
       "Meso-acidophilous birch swamp woods                                0.014973   \n",
       "Mixed Scots pine-birch woodland                                    0.000448   \n",
       "Mixed scrub woodland                                               0.021378   \n",
       "Mixed swamp woodland                                               0.004416   \n",
       "Permanent mesotrophic pastures and aftermath-gr...                 0.001255   \n",
       "Raised bog pre-woods                                               0.029178   \n",
       "Recently felled areas, formerly coniferous trees                   0.098193   \n",
       "Recently felled areas, formerly mixed broadleav...                 0.055830   \n",
       "Subcontinental lichen Scots pine forests                           0.001112   \n",
       "Subcontinental moorgrass Scots pine forests                        0.028899   \n",
       "Subcontinental moss Scots pine forests                             0.026611   \n",
       "Tall-herb communities of humid meadows                             0.002641   \n",
       "Transition mires and quaking bogs                                  0.063078   \n",
       "\n",
       "                                                    patch_density  \\\n",
       "Active, relatively undamaged raised bogs             2.989124e-08   \n",
       "Beds of large sedges normally without free-stan...   5.081511e-08   \n",
       "Boreal Labrador tea Scots pine bog woods             1.793475e-08   \n",
       "Boreal cottonsedge Scots pine bog woods              7.173898e-08   \n",
       "Boreal neutrocline sphagnum Scots pine fen woods     1.793475e-08   \n",
       "Coniferous scrub woodland                            5.978248e-09   \n",
       "Deciduous scrub woodland                             1.494562e-08   \n",
       "Grey willow carrs                                    2.092387e-08   \n",
       "Meso-acidophilous birch swamp woods                  4.782599e-08   \n",
       "Mixed Scots pine-birch woodland                      2.989124e-09   \n",
       "Mixed scrub woodland                                 6.277161e-08   \n",
       "Mixed swamp woodland                                 1.195650e-08   \n",
       "Permanent mesotrophic pastures and aftermath-gr...   5.978248e-09   \n",
       "Raised bog pre-woods                                 3.586949e-08   \n",
       "Recently felled areas, formerly coniferous trees     8.070635e-08   \n",
       "Recently felled areas, formerly mixed broadleav...   2.032604e-07   \n",
       "Subcontinental lichen Scots pine forests             8.967373e-09   \n",
       "Subcontinental moorgrass Scots pine forests          1.046193e-07   \n",
       "Subcontinental moss Scots pine forests               5.978248e-08   \n",
       "Tall-herb communities of humid meadows               8.967373e-09   \n",
       "Transition mires and quaking bogs                    1.016302e-07   \n",
       "\n",
       "                                                    largest_patch_index  \\\n",
       "Active, relatively undamaged raised bogs                       0.011702   \n",
       "Beds of large sedges normally without free-stan...             0.526203   \n",
       "Boreal Labrador tea Scots pine bog woods                       0.004076   \n",
       "Boreal cottonsedge Scots pine bog woods                        0.004115   \n",
       "Boreal neutrocline sphagnum Scots pine fen woods               0.006394   \n",
       "Coniferous scrub woodland                                      0.000266   \n",
       "Deciduous scrub woodland                                       0.002016   \n",
       "Grey willow carrs                                              0.002849   \n",
       "Meso-acidophilous birch swamp woods                            0.002956   \n",
       "Mixed Scots pine-birch woodland                                0.000448   \n",
       "Mixed scrub woodland                                           0.011976   \n",
       "Mixed swamp woodland                                           0.002513   \n",
       "Permanent mesotrophic pastures and aftermath-gr...             0.000677   \n",
       "Raised bog pre-woods                                           0.007015   \n",
       "Recently felled areas, formerly coniferous trees               0.042661   \n",
       "Recently felled areas, formerly mixed broadleav...             0.006058   \n",
       "Subcontinental lichen Scots pine forests                       0.000802   \n",
       "Subcontinental moorgrass Scots pine forests                    0.004898   \n",
       "Subcontinental moss Scots pine forests                         0.003226   \n",
       "Tall-herb communities of humid meadows                         0.001427   \n",
       "Transition mires and quaking bogs                              0.033639   \n",
       "\n",
       "                                                       total_edge  \\\n",
       "Active, relatively undamaged raised bogs             58761.195347   \n",
       "Beds of large sedges normally without free-stan...  718163.904809   \n",
       "Boreal Labrador tea Scots pine bog woods             34448.851308   \n",
       "Boreal cottonsedge Scots pine bog woods              93659.084467   \n",
       "Boreal neutrocline sphagnum Scots pine fen woods     28029.206581   \n",
       "Coniferous scrub woodland                             3159.300572   \n",
       "Deciduous scrub woodland                             11834.862516   \n",
       "Grey willow carrs                                    22848.391758   \n",
       "Meso-acidophilous birch swamp woods                  61571.026496   \n",
       "Mixed Scots pine-birch woodland                       2636.675623   \n",
       "Mixed scrub woodland                                 64865.583341   \n",
       "Mixed swamp woodland                                 16150.016821   \n",
       "Permanent mesotrophic pastures and aftermath-gr...    5314.184626   \n",
       "Raised bog pre-woods                                 72876.316299   \n",
       "Recently felled areas, formerly coniferous trees    278653.926594   \n",
       "Recently felled areas, formerly mixed broadleav...  224140.119609   \n",
       "Subcontinental lichen Scots pine forests              8777.419339   \n",
       "Subcontinental moorgrass Scots pine forests         140338.149178   \n",
       "Subcontinental moss Scots pine forests               91027.708780   \n",
       "Tall-herb communities of humid meadows               11697.706013   \n",
       "Transition mires and quaking bogs                   174409.332393   \n",
       "\n",
       "                                                    edge_density  shape_index  \\\n",
       "Active, relatively undamaged raised bogs                0.006804     4.998797   \n",
       "Beds of large sedges normally without free-stan...      0.003797    13.055362   \n",
       "Boreal Labrador tea Scots pine bog woods                0.008584     4.299121   \n",
       "Boreal cottonsedge Scots pine bog woods                 0.009754     7.556428   \n",
       "Boreal neutrocline sphagnum Scots pine fen woods        0.007947     3.731213   \n",
       "Coniferous scrub woodland                               0.021530     2.061863   \n",
       "Deciduous scrub woodland                                0.010720     2.815891   \n",
       "Grey willow carrs                                       0.011621     4.073679   \n",
       "Meso-acidophilous birch swamp woods                     0.012292     6.877504   \n",
       "Mixed Scots pine-birch woodland                         0.017610     1.703538   \n",
       "Mixed scrub woodland                                    0.009070     6.063731   \n",
       "Mixed swamp woodland                                    0.010932     3.321756   \n",
       "Permanent mesotrophic pastures and aftermath-gr...      0.012659     2.050488   \n",
       "Raised bog pre-woods                                    0.007466     5.831394   \n",
       "Recently felled areas, formerly coniferous trees        0.008483    12.154523   \n",
       "Recently felled areas, formerly mixed broadleav...      0.012000    12.965769   \n",
       "Subcontinental lichen Scots pine forests                0.023587     3.597155   \n",
       "Subcontinental moorgrass Scots pine forests             0.014516    11.283550   \n",
       "Subcontinental moss Scots pine forests                  0.010225     7.627022   \n",
       "Tall-herb communities of humid meadows                  0.013239     3.111145   \n",
       "Transition mires and quaking bogs                       0.008265     9.491641   \n",
       "\n",
       "                                                    effective_mesh_size  \n",
       "Active, relatively undamaged raised bogs                   6.013801e+04  \n",
       "Beds of large sedges normally without free-stan...         9.269465e+07  \n",
       "Boreal Labrador tea Scots pine bog woods                   1.115717e+04  \n",
       "Boreal cottonsedge Scots pine bog woods                    2.109696e+04  \n",
       "Boreal neutrocline sphagnum Scots pine fen woods           1.537939e+04  \n",
       "Coniferous scrub woodland                                  3.367067e+01  \n",
       "Deciduous scrub woodland                                   1.528313e+03  \n",
       "Grey willow carrs                                          4.039706e+03  \n",
       "Meso-acidophilous birch swamp woods                        7.953098e+03  \n",
       "Mixed Scots pine-birch woodland                            6.700758e+01  \n",
       "Mixed scrub woodland                                       5.267078e+04  \n",
       "Mixed swamp woodland                                       2.584840e+03  \n",
       "Permanent mesotrophic pastures and aftermath-gr...         2.650318e+02  \n",
       "Raised bog pre-woods                                       4.040244e+04  \n",
       "Recently felled areas, formerly coniferous trees           8.331503e+05  \n",
       "Recently felled areas, formerly mixed broadleav...         4.773213e+04  \n",
       "Subcontinental lichen Scots pine forests                   2.314121e+02  \n",
       "Subcontinental moorgrass Scots pine forests                2.052389e+04  \n",
       "Subcontinental moss Scots pine forests                     1.907841e+04  \n",
       "Tall-herb communities of humid meadows                     9.611936e+02  \n",
       "Transition mires and quaking bogs                          4.089714e+05  "
      ]
     },
     "execution_count": 12,
     "metadata": {},
     "output_type": "execute_result"
    }
   ],
   "source": [
    "# Compute all class metrics\n",
    "#  specific metrics or metrics only for specific classes can be computed by providing\n",
    "#  the additional `names` and `classes` parameters to the `.get_class_metrics()` method.\n",
    "polesia_graph.get_class_metrics()"
   ]
  },
  {
   "cell_type": "markdown",
   "id": "missing-fruit",
   "metadata": {},
   "source": [
    "Individual metrics can also be accessed directly via the `.get_metric()` method.\n",
    "This method gives some additional information including the units of the metric as well\n",
    "as a description about the metric.\n",
    "\n",
    "Let's try it out for the example of the Shannon Diversity index."
   ]
  },
  {
   "cell_type": "code",
   "execution_count": 13,
   "id": "crude-statement",
   "metadata": {
    "execution": {
     "iopub.execute_input": "2021-05-27T12:36:22.209679Z",
     "iopub.status.busy": "2021-05-27T12:36:22.209163Z",
     "iopub.status.idle": "2021-05-27T12:36:22.268039Z",
     "shell.execute_reply": "2021-05-27T12:36:22.267174Z",
     "shell.execute_reply.started": "2021-05-27T12:36:22.209644Z"
    }
   },
   "outputs": [
    {
     "data": {
      "text/plain": [
       "Metric(value=1.741715482112242, name='shannon_diversity_index', description='SHDI approaches 0 when the entire landscape consists of a single patch, and increases as the number of classes increases and/or the proportional distribution of area among classes becomes more equitable.', variant='conventional', unit='dimensionless')"
      ]
     },
     "execution_count": 13,
     "metadata": {},
     "output_type": "execute_result"
    }
   ],
   "source": [
    "polesia_graph.get_metric(\"shannon_diversity_index\")"
   ]
  },
  {
   "cell_type": "markdown",
   "id": "responsible-collar",
   "metadata": {},
   "source": [
    "## 3. Analysis of landscape changes"
   ]
  },
  {
   "cell_type": "markdown",
   "id": "applied-moscow",
   "metadata": {},
   "source": [
    "In this second part of the tutorial we will go through an example of how `geograph` can be\n",
    "used to analyse data that has been collected for the same region for several years.\n",
    "\n",
    "As an example, we will use raster land cover data from the European Space Agency's climate\n",
    "change initiative (ESA CCI). The [ESA CCI land cover](http://www.esa-landcover-cci.org/) initiative created yearly land cover maps at a resolution of 300m around the globe for the years 1990 to 2015.\n",
    "Specifically, we will look at the years 2013 and 2014 for the [Chernobyl exclusion zone](https://en.wikipedia.org/wiki/Chernobyl_Exclusion_Zone), which has\n",
    "seen rewilding after the nuclear catastrophe in 1986.\n",
    "\n",
    "All data comes pre-installed on the binder in the `DATA_DIR` that we imported from the `binder_constants`. If you are following this demo on your local machine, you can download the data with [this link](https://www.dropbox.com/s/ghcf4q447nxddy5/binder_data.zip?dl=1)."
   ]
  },
  {
   "cell_type": "markdown",
   "id": "framed-purple",
   "metadata": {},
   "source": [
    "## 3.1 Loading the raster data"
   ]
  },
  {
   "cell_type": "code",
   "execution_count": 14,
   "id": "optical-vaccine",
   "metadata": {
    "execution": {
     "iopub.execute_input": "2021-05-27T12:37:41.532244Z",
     "iopub.status.busy": "2021-05-27T12:37:41.531929Z",
     "iopub.status.idle": "2021-05-27T12:37:42.662841Z",
     "shell.execute_reply": "2021-05-27T12:37:42.661822Z",
     "shell.execute_reply.started": "2021-05-27T12:37:41.532210Z"
    }
   },
   "outputs": [
    {
     "data": {
      "text/html": [
       "<div>\n",
       "<style scoped>\n",
       "    .dataframe tbody tr th:only-of-type {\n",
       "        vertical-align: middle;\n",
       "    }\n",
       "\n",
       "    .dataframe tbody tr th {\n",
       "        vertical-align: top;\n",
       "    }\n",
       "\n",
       "    .dataframe thead th {\n",
       "        text-align: right;\n",
       "    }\n",
       "</style>\n",
       "<table border=\"1\" class=\"dataframe\">\n",
       "  <thead>\n",
       "    <tr style=\"text-align: right;\">\n",
       "      <th></th>\n",
       "      <th>name</th>\n",
       "      <th>area (km2)</th>\n",
       "      <th>geometry</th>\n",
       "    </tr>\n",
       "  </thead>\n",
       "  <tbody>\n",
       "    <tr>\n",
       "      <th>3</th>\n",
       "      <td>Chernobyl Exclusion Zone</td>\n",
       "      <td>2597.858793</td>\n",
       "      <td>GEOMETRYCOLLECTION (MULTIPOLYGON (((29.26795 5...</td>\n",
       "    </tr>\n",
       "  </tbody>\n",
       "</table>\n",
       "</div>"
      ],
      "text/plain": [
       "                       name   area (km2)  \\\n",
       "3  Chernobyl Exclusion Zone  2597.858793   \n",
       "\n",
       "                                            geometry  \n",
       "3  GEOMETRYCOLLECTION (MULTIPOLYGON (((29.26795 5...  "
      ]
     },
     "execution_count": 14,
     "metadata": {},
     "output_type": "execute_result"
    }
   ],
   "source": [
    "import rioxarray as rxr\n",
    "\n",
    "# Parse geotif landcover data\n",
    "chernobyl_path = lambda year: DATA_DIR / \"chernobyl\" / \"esa_cci\" / f\"esa_cci_{year}_chernobyl.tif\" \n",
    "\n",
    "# Parse ROIS\n",
    "rois = gpd.read_file(ROIS)\n",
    "# Load the shape of the chernobyl exclusion zone\n",
    "cez = rois[rois[\"name\"] == \"Chernobyl Exclusion Zone\"]\n",
    "cez"
   ]
  },
  {
   "cell_type": "code",
   "execution_count": 15,
   "id": "nutritional-month",
   "metadata": {
    "execution": {
     "iopub.execute_input": "2021-05-27T12:38:05.792357Z",
     "iopub.status.busy": "2021-05-27T12:38:05.792069Z",
     "iopub.status.idle": "2021-05-27T12:38:05.985439Z",
     "shell.execute_reply": "2021-05-27T12:38:05.984475Z",
     "shell.execute_reply.started": "2021-05-27T12:38:05.792326Z"
    }
   },
   "outputs": [],
   "source": [
    "def clip_and_reproject(xrdata, clip_geometry=None, to_crs=UTM35N, x_res=300, y_res=300):\n",
    "    \n",
    "    if clip_geometry is not None:\n",
    "        clipped_data = xrdata.rio.clip(clip_geometry)\n",
    "    else:\n",
    "        clipped_data = xrdata\n",
    "        \n",
    "    if to_crs is not None:\n",
    "        reprojected_data = clipped_data.rio.reproject(to_crs, resolution=(x_res, y_res))\n",
    "    else:\n",
    "        reprojected_data = clipped_data\n",
    "    \n",
    "    return reprojected_data"
   ]
  },
  {
   "cell_type": "markdown",
   "id": "valuable-relief",
   "metadata": {},
   "source": [
    "Next, let us open the relevant ESA CCI raster data for Chernobyl and clip and reproject them to the correct CRS\n",
    "for the region."
   ]
  },
  {
   "cell_type": "code",
   "execution_count": 16,
   "id": "patent-constant",
   "metadata": {
    "execution": {
     "iopub.execute_input": "2021-05-27T12:38:06.792735Z",
     "iopub.status.busy": "2021-05-27T12:38:06.792342Z",
     "iopub.status.idle": "2021-05-27T12:38:07.961836Z",
     "shell.execute_reply": "2021-05-27T12:38:07.960646Z",
     "shell.execute_reply.started": "2021-05-27T12:38:06.792702Z"
    }
   },
   "outputs": [],
   "source": [
    "# Loading ESA CCI land cover raster data\n",
    "years = list(range(2013,2015))\n",
    "cez_rasters = {year: clip_and_reproject(rxr.open_rasterio(chernobyl_path(year)), clip_geometry=cez.geometry) \n",
    "              for year in years\n",
    "             }"
   ]
  },
  {
   "cell_type": "markdown",
   "id": "outside-embassy",
   "metadata": {},
   "source": [
    "We will also load the ESA CCI land cover labels to interpret the classification."
   ]
  },
  {
   "cell_type": "code",
   "execution_count": 17,
   "id": "suspected-attendance",
   "metadata": {
    "execution": {
     "iopub.execute_input": "2021-05-27T12:38:15.843653Z",
     "iopub.status.busy": "2021-05-27T12:38:15.843306Z",
     "iopub.status.idle": "2021-05-27T12:38:17.037239Z",
     "shell.execute_reply": "2021-05-27T12:38:17.036361Z",
     "shell.execute_reply.started": "2021-05-27T12:38:15.843619Z"
    }
   },
   "outputs": [
    {
     "name": "stdout",
     "output_type": "stream",
     "text": [
      "There are 38 classes.\n"
     ]
    }
   ],
   "source": [
    "# Loading ESA CCI land cover legend to translate land cover labels to classes\n",
    "esa_cci_legend = pd.read_csv(ESA_CCI_LEGEND_LINK, delimiter=\";\", index_col=0)\n",
    "print(f\"There are {len(esa_cci_legend)} classes.\")\n",
    "\n",
    "class_value_to_label = {class_val: row.LCCOwnLabel for class_val, row in esa_cci_legend.iterrows()}"
   ]
  },
  {
   "cell_type": "markdown",
   "id": "rubber-insulin",
   "metadata": {},
   "source": [
    "## 3.2 Creating the GeoGraph"
   ]
  },
  {
   "cell_type": "code",
   "execution_count": 18,
   "id": "emerging-volunteer",
   "metadata": {
    "execution": {
     "iopub.execute_input": "2021-05-27T12:38:17.038581Z",
     "iopub.status.busy": "2021-05-27T12:38:17.038319Z",
     "iopub.status.idle": "2021-05-27T12:38:54.921033Z",
     "shell.execute_reply": "2021-05-27T12:38:54.920135Z",
     "shell.execute_reply.started": "2021-05-27T12:38:17.038552Z"
    }
   },
   "outputs": [
    {
     "name": "stdout",
     "output_type": "stream",
     "text": [
      "Analysing year 2013\n"
     ]
    },
    {
     "name": "stderr",
     "output_type": "stream",
     "text": [
      "Identifying nodes: 100%|██████████| 2923/2923 [00:05<00:00, 517.57it/s]\n",
      "Step 1 of 2: Creating nodes and finding neighbours: 100%|██████████| 2003/2003 [00:10<00:00, 183.85it/s]\n",
      "Step 2 of 2: Adding edges: 100%|██████████| 2003/2003 [00:00<00:00, 58508.60it/s]\n"
     ]
    },
    {
     "name": "stdout",
     "output_type": "stream",
     "text": [
      "Graph successfully loaded with 2003 nodes and 5140 edges.\n",
      "Analysing year 2014\n"
     ]
    },
    {
     "name": "stderr",
     "output_type": "stream",
     "text": [
      "Identifying nodes: 100%|██████████| 2915/2915 [00:05<00:00, 512.30it/s]\n",
      "Step 1 of 2: Creating nodes and finding neighbours: 100%|██████████| 1999/1999 [00:11<00:00, 176.44it/s]\n",
      "Step 2 of 2: Adding edges: 100%|██████████| 1999/1999 [00:00<00:00, 56989.14it/s]"
     ]
    },
    {
     "name": "stdout",
     "output_type": "stream",
     "text": [
      "Graph successfully loaded with 1999 nodes and 5117 edges.\n"
     ]
    },
    {
     "name": "stderr",
     "output_type": "stream",
     "text": [
      "\n"
     ]
    }
   ],
   "source": [
    "# Polygonising raster and transforming into graph\n",
    "cez_graphs = {}\n",
    "for year, raster in cez_rasters.items():\n",
    "    print(f\"Analysing year {year}\")\n",
    "    # Load geograph from the raster data (construction takes ~10s)\n",
    "    cez_graphs[year] = geograph.GeoGraph(data=raster.data, \n",
    "                                transform=raster.rio.transform(), \n",
    "                                crs=UTM35N, \n",
    "                                mask = raster.data > 0,\n",
    "                                connectivity=8)\n",
    "    # Map the ESA CCI land cover class value (int) to the plain text label\n",
    "    #  to have the plain text labels available in the interactive viewer.\n",
    "    cez_graphs[year].df.class_label = cez_graphs[year].df.class_label.apply(lambda x: class_value_to_label[x])"
   ]
  },
  {
   "cell_type": "markdown",
   "id": "smoking-greek",
   "metadata": {},
   "source": [
    "## 3.3 Identifying corresponding nodes"
   ]
  },
  {
   "cell_type": "code",
   "execution_count": 19,
   "id": "engaged-forty",
   "metadata": {
    "execution": {
     "iopub.execute_input": "2021-05-27T12:38:54.922781Z",
     "iopub.status.busy": "2021-05-27T12:38:54.922549Z",
     "iopub.status.idle": "2021-05-27T12:39:04.336982Z",
     "shell.execute_reply": "2021-05-27T12:39:04.335754Z",
     "shell.execute_reply.started": "2021-05-27T12:38:54.922752Z"
    }
   },
   "outputs": [
    {
     "name": "stderr",
     "output_type": "stream",
     "text": [
      "Identifying nodes: 100%|██████████| 2003/2003 [00:03<00:00, 502.23it/s]\n"
     ]
    }
   ],
   "source": [
    "cez_timeline = geotimeline.GeoGraphTimeline(cez_graphs)\n",
    "# Perform node identification\n",
    "cez_timeline.timestack()\n",
    "# Classify node dynamics for the year 2014\n",
    "cez_timeline.calculate_node_dynamics(2014);"
   ]
  },
  {
   "cell_type": "code",
   "execution_count": 20,
   "id": "small-profit",
   "metadata": {
    "execution": {
     "iopub.execute_input": "2021-05-27T12:39:04.339264Z",
     "iopub.status.busy": "2021-05-27T12:39:04.338922Z",
     "iopub.status.idle": "2021-05-27T12:39:32.834256Z",
     "shell.execute_reply": "2021-05-27T12:39:32.833422Z",
     "shell.execute_reply.started": "2021-05-27T12:39:04.339220Z"
    }
   },
   "outputs": [
    {
     "name": "stdout",
     "output_type": "stream",
     "text": [
      "Calculating component polygons...\n"
     ]
    },
    {
     "name": "stderr",
     "output_type": "stream",
     "text": [
      "Constructing graph: 100%|██████████| 1/1 [00:00<00:00, 1073.54it/s]\n"
     ]
    },
    {
     "name": "stdout",
     "output_type": "stream",
     "text": [
      "Warning: very computationally expensive for graphs with more\n",
      "              than ~100 components.\n"
     ]
    },
    {
     "name": "stderr",
     "output_type": "stream",
     "text": [
      "Constructing graph: 100%|██████████| 1/1 [00:00<00:00, 2718.28it/s]\n",
      "Calculating edge weights: 0it [00:00, ?it/s]\n"
     ]
    }
   ],
   "source": [
    "# Build up the viewer\n",
    "viewer = geoviewer.GeoGraphViewer(small_screen=True, metric_list=available_metrics)\n",
    "viewer.add_layer(ipyleaflet.basemaps.Esri.WorldImagery)\n",
    "viewer.add_graph(cez_timeline[2014], name='Chernobyl data', with_components=False)\n",
    "viewer.enable_graph_controls()"
   ]
  },
  {
   "cell_type": "code",
   "execution_count": 21,
   "id": "narrow-muslim",
   "metadata": {
    "execution": {
     "iopub.execute_input": "2021-05-27T12:39:32.835703Z",
     "iopub.status.busy": "2021-05-27T12:39:32.835426Z",
     "iopub.status.idle": "2021-05-27T12:39:34.259289Z",
     "shell.execute_reply": "2021-05-27T12:39:34.258484Z",
     "shell.execute_reply.started": "2021-05-27T12:39:32.835673Z"
    }
   },
   "outputs": [
    {
     "data": {
      "application/vnd.jupyter.widget-view+json": {
       "model_id": "e2b1cc243c2b4811b8ad5e64bfe0e205",
       "version_major": 2,
       "version_minor": 0
      },
      "text/plain": [
       "GeoGraphViewer(center=[51.389167, 30.099444], controls=(ZoomControl(options=['position', 'zoom_in_text', 'zoom…"
      ]
     },
     "metadata": {},
     "output_type": "display_data"
    }
   ],
   "source": [
    "# Display the interactive map\n",
    "viewer"
   ]
  },
  {
   "cell_type": "markdown",
   "id": "inappropriate-angel",
   "metadata": {},
   "source": [
    "In addition to the patch metrics of landscape ecology that we saw earlier, you can now also see information about a node’s behaviour in the monitoring time period in the panel on the bottom right. We can also toggle and overview of the node dynamics to see what type of change different nodes are undergoing, or look at the absolute node growth like this.\n",
    "\n",
    "This allows us to spatially resolve whether individual habitats are shrinking, growing, merging or splitting. It allows us to track how habitat fragmentation changes over the course of time.\n"
   ]
  }
 ],
 "metadata": {
  "kernelspec": {
   "display_name": "Python 3.8.6 64-bit (conda)",
   "language": "python",
   "name": "python38664bitcondaa02632c3747848fca9e6bac7131e6e7e"
  },
  "language_info": {
   "codemirror_mode": {
    "name": "ipython",
    "version": 3
   },
   "file_extension": ".py",
   "mimetype": "text/x-python",
   "name": "python",
   "nbconvert_exporter": "python",
   "pygments_lexer": "ipython3",
   "version": "3.8.6"
  }
 },
 "nbformat": 4,
 "nbformat_minor": 5
}
