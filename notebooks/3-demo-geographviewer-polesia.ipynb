{
 "cells": [
  {
   "cell_type": "markdown",
   "id": "unlimited-specialist",
   "metadata": {},
   "source": [
    "# Visualising GeoGraph Interactively"
   ]
  },
  {
   "cell_type": "markdown",
   "id": "86ba856b-c101-4414-945e-75a016237f7e",
   "metadata": {},
   "source": [
    "[![Binder](https://mybinder.org/badge_logo.svg)](https://mybinder.org/v2/gh/ai4er-cdt/gtc-biodiversity/main?filepath=notebooks%2F3-demo-geographviewer-polesia.ipynb)"
   ]
  },
  {
   "cell_type": "markdown",
   "id": "be46c56e-6f37-4528-a0de-fb61fa65932d",
   "metadata": {},
   "source": [
    "This tutorial shows how to visualise a GeoGraph on an interactive map."
   ]
  },
  {
   "cell_type": "markdown",
   "id": "cooked-caution",
   "metadata": {},
   "source": [
    "---\n",
    "\n",
    "## 1. Setup and Loading package"
   ]
  },
  {
   "cell_type": "code",
   "execution_count": 1,
   "id": "measured-modern",
   "metadata": {
    "ExecuteTime": {
     "end_time": "2021-03-24T18:30:41.287059Z",
     "start_time": "2021-03-24T18:30:40.997209Z"
    },
    "execution": {
     "iopub.execute_input": "2021-03-25T11:54:50.866123Z",
     "iopub.status.busy": "2021-03-25T11:54:50.865818Z",
     "iopub.status.idle": "2021-03-25T11:54:50.912854Z",
     "shell.execute_reply": "2021-03-25T11:54:50.907825Z",
     "shell.execute_reply.started": "2021-03-25T11:54:50.866022Z"
    },
    "nbsphinx": "hidden",
    "tags": []
   },
   "outputs": [],
   "source": [
    "%load_ext autoreload\n",
    "%autoreload 2\n",
    "%config IPCompleter.greedy=True"
   ]
  },
  {
   "cell_type": "code",
   "execution_count": 1,
   "id": "federal-virginia",
   "metadata": {
    "ExecuteTime": {
     "end_time": "2021-03-24T18:30:50.743648Z",
     "start_time": "2021-03-24T18:30:42.247097Z"
    },
    "execution": {
     "iopub.execute_input": "2021-03-25T21:27:25.852124Z",
     "iopub.status.busy": "2021-03-25T21:27:25.851792Z",
     "iopub.status.idle": "2021-03-25T21:27:28.964203Z",
     "shell.execute_reply": "2021-03-25T21:27:28.963093Z",
     "shell.execute_reply.started": "2021-03-25T21:27:25.852039Z"
    },
    "tags": []
   },
   "outputs": [],
   "source": [
    "import ipyleaflet\n",
    "import geograph\n",
    "from geograph.visualisation import geoviewer\n",
    "from geograph.constants import UTM35N\n",
    "from geograph.demo.binder_constants import DATA_DIR"
   ]
  },
  {
   "cell_type": "markdown",
   "id": "looking-elephant",
   "metadata": {},
   "source": [
    "---\n",
    "\n",
    "## 2. Loading Data"
   ]
  },
  {
   "cell_type": "markdown",
   "id": "searching-serial",
   "metadata": {},
   "source": [
    "---\n",
    "\n",
    "## 3. Creating `GeoGraph`"
   ]
  },
  {
   "cell_type": "code",
   "execution_count": 3,
   "id": "entitled-period",
   "metadata": {
    "ExecuteTime": {
     "end_time": "2021-03-24T18:31:10.520498Z",
     "start_time": "2021-03-24T18:31:08.879315Z"
    },
    "execution": {
     "iopub.execute_input": "2021-03-25T21:27:33.188180Z",
     "iopub.status.busy": "2021-03-25T21:27:33.187907Z",
     "iopub.status.idle": "2021-03-25T21:27:33.903881Z",
     "shell.execute_reply": "2021-03-25T21:27:33.902949Z",
     "shell.execute_reply.started": "2021-03-25T21:27:33.188153Z"
    },
    "tags": []
   },
   "outputs": [
    {
     "name": "stderr",
     "output_type": "stream",
     "text": [
      "Step 1 of 2: Creating nodes and finding neighbours: 100%|██████████| 323/323 [00:00<00:00, 569.78it/s]\n",
      "Step 2 of 2: Adding edges: 100%|██████████| 323/323 [00:00<00:00, 66710.67it/s]"
     ]
    },
    {
     "name": "stdout",
     "output_type": "stream",
     "text": [
      "Graph successfully loaded with 323 nodes and 816 edges.\n"
     ]
    },
    {
     "name": "stderr",
     "output_type": "stream",
     "text": [
      "\n"
     ]
    }
   ],
   "source": [
    "# Building the main graph structure\n",
    "graph = geograph.GeoGraph(\n",
    "    gdf, crs=UTM35N, columns_to_rename={\"Eunis_name\": \"class_label\", \"AREA\": \"area\"}\n",
    ")"
   ]
  },
  {
   "cell_type": "markdown",
   "id": "forced-ballet",
   "metadata": {},
   "source": [
    "---\n",
    "\n",
    "## 4. Creating Habitats"
   ]
  },
  {
   "cell_type": "code",
   "execution_count": 4,
   "id": "ruled-progress",
   "metadata": {
    "ExecuteTime": {
     "end_time": "2021-03-24T18:31:13.001569Z",
     "start_time": "2021-03-24T18:31:12.883560Z"
    },
    "execution": {
     "iopub.execute_input": "2021-03-25T21:27:35.951711Z",
     "iopub.status.busy": "2021-03-25T21:27:35.951274Z",
     "iopub.status.idle": "2021-03-25T21:27:35.958675Z",
     "shell.execute_reply": "2021-03-25T21:27:35.957805Z",
     "shell.execute_reply.started": "2021-03-25T21:27:35.951679Z"
    },
    "tags": []
   },
   "outputs": [
    {
     "data": {
      "text/plain": [
       "['Subcontinental moss Scots pine forests',\n",
       " 'Subcontinental lichen Scots pine forests',\n",
       " 'Subcontinental moorgrass Scots pine forests',\n",
       " 'Boreal Labrador tea Scots pine bog woods',\n",
       " 'Boreal cottonsedge Scots pine bog woods',\n",
       " 'Boreal neutrocline sphagnum Scots pine fen woods',\n",
       " 'Mixed Scots pine-birch woodland']"
      ]
     },
     "execution_count": 4,
     "metadata": {},
     "output_type": "execute_result"
    }
   ],
   "source": [
    "# First selecting the classes that make up our habitat\n",
    "# We chose all classes with 'pine' in the name.\n",
    "pine_classes = [label for label in graph.df.class_label.unique() if \"pine\" in label]\n",
    "pine_classes"
   ]
  },
  {
   "cell_type": "code",
   "execution_count": 5,
   "id": "regular-unemployment",
   "metadata": {
    "ExecuteTime": {
     "end_time": "2021-03-24T18:31:19.697701Z",
     "start_time": "2021-03-24T18:31:13.509316Z"
    },
    "execution": {
     "iopub.execute_input": "2021-03-25T21:27:40.115028Z",
     "iopub.status.busy": "2021-03-25T21:27:40.114714Z",
     "iopub.status.idle": "2021-03-25T21:27:44.702417Z",
     "shell.execute_reply": "2021-03-25T21:27:44.701420Z",
     "shell.execute_reply.started": "2021-03-25T21:27:40.114996Z"
    },
    "tags": []
   },
   "outputs": [
    {
     "name": "stderr",
     "output_type": "stream",
     "text": [
      "Generating habitat graph: 100%|██████████| 95/95 [00:00<00:00, 2926.68it/s]\n",
      "Constructing graph: 100%|██████████| 39/39 [00:00<00:00, 11990.75it/s]\n"
     ]
    },
    {
     "name": "stdout",
     "output_type": "stream",
     "text": [
      "Calculating components...\n",
      "Habitat successfully loaded with 95 nodes and 78 edges.\n"
     ]
    },
    {
     "name": "stderr",
     "output_type": "stream",
     "text": [
      "Generating habitat graph: 100%|██████████| 95/95 [00:00<00:00, 2645.28it/s]\n",
      "Constructing graph: 100%|██████████| 36/36 [00:00<00:00, 12607.08it/s]\n"
     ]
    },
    {
     "name": "stdout",
     "output_type": "stream",
     "text": [
      "Calculating components...\n",
      "Habitat successfully loaded with 95 nodes and 86 edges.\n"
     ]
    },
    {
     "name": "stderr",
     "output_type": "stream",
     "text": [
      "Generating habitat graph: 100%|██████████| 95/95 [00:00<00:00, 2717.04it/s]\n",
      "Constructing graph: 100%|██████████| 14/14 [00:00<00:00, 7885.09it/s]"
     ]
    },
    {
     "name": "stdout",
     "output_type": "stream",
     "text": [
      "Calculating components...\n",
      "Habitat successfully loaded with 95 nodes and 214 edges.\n"
     ]
    },
    {
     "name": "stderr",
     "output_type": "stream",
     "text": [
      "\n"
     ]
    }
   ],
   "source": [
    "# Distances: mobile (<100m), semi mobile (<25m) and sessile (<5m)\n",
    "# (proposed by Adham Ashton-Butt at BTO)\n",
    "graph.add_habitat(\"Sessile\", max_travel_distance=5, valid_classes=pine_classes)\n",
    "\n",
    "graph.add_habitat(\"Semi mobile\", max_travel_distance=25, valid_classes=pine_classes)\n",
    "\n",
    "graph.add_habitat(\"Mobile\", max_travel_distance=500, valid_classes=pine_classes)"
   ]
  },
  {
   "cell_type": "markdown",
   "id": "ambient-windsor",
   "metadata": {},
   "source": [
    "---\n",
    "\n",
    "## 5. Interactive Graph"
   ]
  },
  {
   "cell_type": "code",
   "execution_count": 6,
   "id": "tired-shirt",
   "metadata": {
    "execution": {
     "iopub.execute_input": "2021-03-25T21:27:48.746288Z",
     "iopub.status.busy": "2021-03-25T21:27:48.745942Z",
     "iopub.status.idle": "2021-03-25T21:28:03.518738Z",
     "shell.execute_reply": "2021-03-25T21:28:03.517787Z",
     "shell.execute_reply.started": "2021-03-25T21:27:48.746254Z"
    },
    "tags": []
   },
   "outputs": [
    {
     "name": "stderr",
     "output_type": "stream",
     "text": [
      "Constructing graph: 100%|██████████| 1/1 [00:00<00:00, 1093.69it/s]\n",
      "Constructing graph: 100%|██████████| 39/39 [00:00<00:00, 9548.09it/s]\n",
      "Constructing graph: 100%|██████████| 36/36 [00:00<00:00, 10671.77it/s]\n",
      "Constructing graph: 100%|██████████| 14/14 [00:00<00:00, 7224.44it/s]\n"
     ]
    },
    {
     "data": {
      "application/vnd.jupyter.widget-view+json": {
       "model_id": "33843074778f4669bbaf8d396567384b",
       "version_major": 2,
       "version_minor": 0
      },
      "text/plain": [
       "GeoGraphViewer(center=[51.389167, 30.099444], controls=(ZoomControl(options=['position', 'zoom_in_text', 'zoom…"
      ]
     },
     "metadata": {},
     "output_type": "display_data"
    }
   ],
   "source": [
    "viewer = geoviewer.GeoGraphViewer(small_screen=True)\n",
    "viewer.add_layer(ipyleaflet.basemaps.Esri.WorldImagery)\n",
    "viewer.add_graph(graph, name=\"Polesia data\", with_components=True)\n",
    "viewer.enable_graph_controls()\n",
    "viewer"
   ]
  },
  {
   "cell_type": "markdown",
   "id": "9928be0d-dc99-4d8c-9376-1d41a3414e0e",
   "metadata": {},
   "source": [
    "> Note: an interactive viewer will show up here."
   ]
  }
 ],
 "metadata": {
  "hide_input": false,
  "kernelspec": {
   "display_name": "Python 3.9.1 64-bit",
   "language": "python",
   "name": "python3"
  },
  "language_info": {
   "codemirror_mode": {
    "name": "ipython",
    "version": 3
   },
   "file_extension": ".py",
   "mimetype": "text/x-python",
   "name": "python",
   "nbconvert_exporter": "python",
   "pygments_lexer": "ipython3",
   "version": "3.9.1"
  },
  "varInspector": {
   "cols": {
    "lenName": 16,
    "lenType": 16,
    "lenVar": 40
   },
   "kernels_config": {
    "python": {
     "delete_cmd_postfix": "",
     "delete_cmd_prefix": "del ",
     "library": "var_list.py",
     "varRefreshCmd": "print(var_dic_list())"
    },
    "r": {
     "delete_cmd_postfix": ") ",
     "delete_cmd_prefix": "rm(",
     "library": "var_list.r",
     "varRefreshCmd": "cat(var_dic_list()) "
    }
   },
   "types_to_exclude": [
    "module",
    "function",
    "builtin_function_or_method",
    "instance",
    "_Feature"
   ],
   "window_display": false
  },
  "vscode": {
   "interpreter": {
    "hash": "aee8b7b246df8f9039afb4144a1f6fd8d2ca17a180786b69acc140d282b71a49"
   }
  }
 },
 "nbformat": 4,
 "nbformat_minor": 5
}
