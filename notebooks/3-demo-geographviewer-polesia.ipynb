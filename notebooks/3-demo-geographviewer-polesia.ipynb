{
 "cells": [
  {
   "cell_type": "markdown",
   "metadata": {},
   "source": [
    "# Interactive Graph Visualisation"
   ]
  },
  {
   "cell_type": "markdown",
   "metadata": {},
   "source": [
    "---\n",
    "\n",
    "## 0. Setup and Loading package"
   ]
  },
  {
   "cell_type": "code",
   "execution_count": 1,
   "metadata": {
    "ExecuteTime": {
     "end_time": "2021-03-24T18:30:41.287059Z",
     "start_time": "2021-03-24T18:30:40.997209Z"
    },
    "execution": {
     "iopub.execute_input": "2021-03-25T11:54:50.866123Z",
     "iopub.status.busy": "2021-03-25T11:54:50.865818Z",
     "iopub.status.idle": "2021-03-25T11:54:50.912854Z",
     "shell.execute_reply": "2021-03-25T11:54:50.907825Z",
     "shell.execute_reply.started": "2021-03-25T11:54:50.866022Z"
    },
    "tags": []
   },
   "outputs": [],
   "source": [
    "%load_ext autoreload\n",
    "%autoreload 2\n",
    "%config IPCompleter.greedy=True"
   ]
  },
  {
   "cell_type": "code",
   "execution_count": 1,
   "metadata": {
    "ExecuteTime": {
     "end_time": "2021-03-24T18:30:50.743648Z",
     "start_time": "2021-03-24T18:30:42.247097Z"
    },
    "execution": {
     "iopub.execute_input": "2021-03-25T21:27:25.852124Z",
     "iopub.status.busy": "2021-03-25T21:27:25.851792Z",
     "iopub.status.idle": "2021-03-25T21:27:28.964203Z",
     "shell.execute_reply": "2021-03-25T21:27:28.963093Z",
     "shell.execute_reply.started": "2021-03-25T21:27:25.852039Z"
    },
    "tags": []
   },
   "outputs": [],
   "source": [
    "import ipyleaflet\n",
    "\n",
    "import geograph\n",
    "from geograph.visualisation import geoviewer\n",
    "from geograph.constants import UTM35N\n",
    "from geograph.demo.binder_constants import DATA_DIR"
   ]
  },
  {
   "cell_type": "markdown",
   "metadata": {},
   "source": [
    "---\n",
    "\n",
    "## 1. Loading Data"
   ]
  },
  {
   "cell_type": "code",
   "execution_count": 2,
   "metadata": {
    "ExecuteTime": {
     "end_time": "2021-03-24T18:31:05.416856Z",
     "start_time": "2021-03-24T18:30:56.139996Z"
    },
    "execution": {
     "iopub.execute_input": "2021-03-25T21:27:30.338878Z",
     "iopub.status.busy": "2021-03-25T21:27:30.338429Z",
     "iopub.status.idle": "2021-03-25T21:27:31.711387Z",
     "shell.execute_reply": "2021-03-25T21:27:31.710532Z",
     "shell.execute_reply.started": "2021-03-25T21:27:30.338827Z"
    },
    "tags": []
   },
   "outputs": [
    {
     "name": "stderr",
     "output_type": "stream",
     "text": [
      "/home/users/svm/Code/gtc-biodiversity/env2/lib/python3.8/site-packages/geopandas/geodataframe.py:577: RuntimeWarning: Sequential read of iterator was interrupted. Resetting iterator. This can negatively impact the performance.\n",
      "  for feature in features_lst:\n"
     ]
    },
    {
     "name": "stdout",
     "output_type": "stream",
     "text": [
      "Number of patches in region of interest: 323\n"
     ]
    },
    {
     "data": {
      "text/html": [
       "<div>\n",
       "<style scoped>\n",
       "    .dataframe tbody tr th:only-of-type {\n",
       "        vertical-align: middle;\n",
       "    }\n",
       "\n",
       "    .dataframe tbody tr th {\n",
       "        vertical-align: top;\n",
       "    }\n",
       "\n",
       "    .dataframe thead th {\n",
       "        text-align: right;\n",
       "    }\n",
       "</style>\n",
       "<table border=\"1\" class=\"dataframe\">\n",
       "  <thead>\n",
       "    <tr style=\"text-align: right;\">\n",
       "      <th></th>\n",
       "      <th>OBJECTID</th>\n",
       "      <th>N_Eunis</th>\n",
       "      <th>Eunis_name</th>\n",
       "      <th>Shape_Leng</th>\n",
       "      <th>Shape_Area</th>\n",
       "      <th>Leg</th>\n",
       "      <th>AREA</th>\n",
       "      <th>geometry</th>\n",
       "    </tr>\n",
       "  </thead>\n",
       "  <tbody>\n",
       "    <tr>\n",
       "      <th>0</th>\n",
       "      <td>65</td>\n",
       "      <td>D1.11</td>\n",
       "      <td>Active, relatively undamaged raised bogs</td>\n",
       "      <td>3244.211911</td>\n",
       "      <td>3.767096e+05</td>\n",
       "      <td>2</td>\n",
       "      <td>37.6710</td>\n",
       "      <td>POLYGON Z ((522663.501 5717738.222 0.000, 5227...</td>\n",
       "    </tr>\n",
       "    <tr>\n",
       "      <th>1</th>\n",
       "      <td>67</td>\n",
       "      <td>D1.11</td>\n",
       "      <td>Active, relatively undamaged raised bogs</td>\n",
       "      <td>2970.146257</td>\n",
       "      <td>3.165971e+05</td>\n",
       "      <td>2</td>\n",
       "      <td>31.6597</td>\n",
       "      <td>POLYGON Z ((525143.664 5719878.230 0.000, 5252...</td>\n",
       "    </tr>\n",
       "    <tr>\n",
       "      <th>2</th>\n",
       "      <td>68</td>\n",
       "      <td>D1.11</td>\n",
       "      <td>Active, relatively undamaged raised bogs</td>\n",
       "      <td>2182.893205</td>\n",
       "      <td>2.663976e+05</td>\n",
       "      <td>2</td>\n",
       "      <td>26.6398</td>\n",
       "      <td>POLYGON Z ((521759.472 5720117.848 0.000, 5221...</td>\n",
       "    </tr>\n",
       "    <tr>\n",
       "      <th>3</th>\n",
       "      <td>69</td>\n",
       "      <td>D1.11</td>\n",
       "      <td>Active, relatively undamaged raised bogs</td>\n",
       "      <td>3881.473848</td>\n",
       "      <td>4.075725e+05</td>\n",
       "      <td>2</td>\n",
       "      <td>40.7573</td>\n",
       "      <td>POLYGON Z ((519901.603 5719846.246 0.000, 5198...</td>\n",
       "    </tr>\n",
       "    <tr>\n",
       "      <th>4</th>\n",
       "      <td>70</td>\n",
       "      <td>D1.11</td>\n",
       "      <td>Active, relatively undamaged raised bogs</td>\n",
       "      <td>6549.770969</td>\n",
       "      <td>1.363278e+06</td>\n",
       "      <td>2</td>\n",
       "      <td>136.3280</td>\n",
       "      <td>POLYGON Z ((530088.099 5720147.705 0.000, 5300...</td>\n",
       "    </tr>\n",
       "  </tbody>\n",
       "</table>\n",
       "</div>"
      ],
      "text/plain": [
       "   OBJECTID N_Eunis                                Eunis_name   Shape_Leng  \\\n",
       "0        65   D1.11  Active, relatively undamaged raised bogs  3244.211911   \n",
       "1        67   D1.11  Active, relatively undamaged raised bogs  2970.146257   \n",
       "2        68   D1.11  Active, relatively undamaged raised bogs  2182.893205   \n",
       "3        69   D1.11  Active, relatively undamaged raised bogs  3881.473848   \n",
       "4        70   D1.11  Active, relatively undamaged raised bogs  6549.770969   \n",
       "\n",
       "     Shape_Area  Leg      AREA  \\\n",
       "0  3.767096e+05    2   37.6710   \n",
       "1  3.165971e+05    2   31.6597   \n",
       "2  2.663976e+05    2   26.6398   \n",
       "3  4.075725e+05    2   40.7573   \n",
       "4  1.363278e+06    2  136.3280   \n",
       "\n",
       "                                            geometry  \n",
       "0  POLYGON Z ((522663.501 5717738.222 0.000, 5227...  \n",
       "1  POLYGON Z ((525143.664 5719878.230 0.000, 5252...  \n",
       "2  POLYGON Z ((521759.472 5720117.848 0.000, 5221...  \n",
       "3  POLYGON Z ((519901.603 5719846.246 0.000, 5198...  \n",
       "4  POLYGON Z ((530088.099 5720147.705 0.000, 5300...  "
      ]
     },
     "execution_count": 2,
     "metadata": {},
     "output_type": "execute_result"
    },
    {
     "data": {
      "image/png": "[encoded data removed]",
      "text/plain": [
       "<Figure size 432x288 with 1 Axes>"
      ]
     },
     "metadata": {
      "needs_background": "light"
     },
     "output_type": "display_data"
    }
   ],
   "source": [
    "import pathlib\n",
    "import geopandas as gpd\n",
    "\n",
    "# Loading Polesia data \n",
    "data_path = DATA_DIR / \"polesia\" / \"polesia_landcover_sample.gpkg\"\n",
    "gdf = gpd.read_file(data_path)\n",
    "\n",
    "# Looking at south-west corner of data\n",
    "# Choosen because are of wilderness as discussed\n",
    "minx, miny, maxx, maxy = gdf.total_bounds\n",
    "square_len = 25000\n",
    "\n",
    "gdf = gdf.cx[ minx:minx+square_len  ,  miny:miny+square_len]\n",
    "\n",
    "print(\"Number of patches in region of interest:\", len(gdf))\n",
    "gdf.plot()\n",
    "gdf.head(5)"
   ]
  },
  {
   "cell_type": "markdown",
   "metadata": {},
   "source": [
    "---\n",
    "\n",
    "## 2. Creating `GeoGraph`"
   ]
  },
  {
   "cell_type": "code",
   "execution_count": 3,
   "metadata": {
    "ExecuteTime": {
     "end_time": "2021-03-24T18:31:10.520498Z",
     "start_time": "2021-03-24T18:31:08.879315Z"
    },
    "execution": {
     "iopub.execute_input": "2021-03-25T21:27:33.188180Z",
     "iopub.status.busy": "2021-03-25T21:27:33.187907Z",
     "iopub.status.idle": "2021-03-25T21:27:33.903881Z",
     "shell.execute_reply": "2021-03-25T21:27:33.902949Z",
     "shell.execute_reply.started": "2021-03-25T21:27:33.188153Z"
    },
    "tags": []
   },
   "outputs": [
    {
     "name": "stderr",
     "output_type": "stream",
     "text": [
      "Step 1 of 2: Creating nodes and finding neighbours: 100%|██████████| 323/323 [00:00<00:00, 569.78it/s]\n",
      "Step 2 of 2: Adding edges: 100%|██████████| 323/323 [00:00<00:00, 66710.67it/s]"
     ]
    },
    {
     "name": "stdout",
     "output_type": "stream",
     "text": [
      "Graph successfully loaded with 323 nodes and 816 edges.\n"
     ]
    },
    {
     "name": "stderr",
     "output_type": "stream",
     "text": [
      "\n"
     ]
    }
   ],
   "source": [
    "# Building the main graph structure\n",
    "graph = geograph.GeoGraph(gdf, \n",
    "                          crs=UTM35N, \n",
    "                          columns_to_rename={\"Eunis_name\":\"class_label\",\"AREA\":\"area\"})"
   ]
  },
  {
   "cell_type": "markdown",
   "metadata": {},
   "source": [
    "---\n",
    "\n",
    "## 3. Creating Habitats"
   ]
  },
  {
   "cell_type": "code",
   "execution_count": 4,
   "metadata": {
    "ExecuteTime": {
     "end_time": "2021-03-24T18:31:13.001569Z",
     "start_time": "2021-03-24T18:31:12.883560Z"
    },
    "execution": {
     "iopub.execute_input": "2021-03-25T21:27:35.951711Z",
     "iopub.status.busy": "2021-03-25T21:27:35.951274Z",
     "iopub.status.idle": "2021-03-25T21:27:35.958675Z",
     "shell.execute_reply": "2021-03-25T21:27:35.957805Z",
     "shell.execute_reply.started": "2021-03-25T21:27:35.951679Z"
    },
    "tags": []
   },
   "outputs": [
    {
     "data": {
      "text/plain": [
       "['Subcontinental moss Scots pine forests',\n",
       " 'Subcontinental lichen Scots pine forests',\n",
       " 'Subcontinental moorgrass Scots pine forests',\n",
       " 'Boreal Labrador tea Scots pine bog woods',\n",
       " 'Boreal cottonsedge Scots pine bog woods',\n",
       " 'Boreal neutrocline sphagnum Scots pine fen woods',\n",
       " 'Mixed Scots pine-birch woodland']"
      ]
     },
     "execution_count": 4,
     "metadata": {},
     "output_type": "execute_result"
    }
   ],
   "source": [
    "# First selecting the classes that make up our habitat\n",
    "# We chose all classes with 'pine' in the name.\n",
    "pine_classes = [label for label in graph.df.class_label.unique() if 'pine' in label]\n",
    "pine_classes"
   ]
  },
  {
   "cell_type": "code",
   "execution_count": 5,
   "metadata": {
    "ExecuteTime": {
     "end_time": "2021-03-24T18:31:19.697701Z",
     "start_time": "2021-03-24T18:31:13.509316Z"
    },
    "execution": {
     "iopub.execute_input": "2021-03-25T21:27:40.115028Z",
     "iopub.status.busy": "2021-03-25T21:27:40.114714Z",
     "iopub.status.idle": "2021-03-25T21:27:44.702417Z",
     "shell.execute_reply": "2021-03-25T21:27:44.701420Z",
     "shell.execute_reply.started": "2021-03-25T21:27:40.114996Z"
    },
    "tags": []
   },
   "outputs": [
    {
     "name": "stderr",
     "output_type": "stream",
     "text": [
      "Generating habitat graph: 100%|██████████| 95/95 [00:00<00:00, 2926.68it/s]\n",
      "Constructing graph: 100%|██████████| 39/39 [00:00<00:00, 11990.75it/s]\n"
     ]
    },
    {
     "name": "stdout",
     "output_type": "stream",
     "text": [
      "Calculating components...\n",
      "Habitat successfully loaded with 95 nodes and 78 edges.\n"
     ]
    },
    {
     "name": "stderr",
     "output_type": "stream",
     "text": [
      "Generating habitat graph: 100%|██████████| 95/95 [00:00<00:00, 2645.28it/s]\n",
      "Constructing graph: 100%|██████████| 36/36 [00:00<00:00, 12607.08it/s]\n"
     ]
    },
    {
     "name": "stdout",
     "output_type": "stream",
     "text": [
      "Calculating components...\n",
      "Habitat successfully loaded with 95 nodes and 86 edges.\n"
     ]
    },
    {
     "name": "stderr",
     "output_type": "stream",
     "text": [
      "Generating habitat graph: 100%|██████████| 95/95 [00:00<00:00, 2717.04it/s]\n",
      "Constructing graph: 100%|██████████| 14/14 [00:00<00:00, 7885.09it/s]"
     ]
    },
    {
     "name": "stdout",
     "output_type": "stream",
     "text": [
      "Calculating components...\n",
      "Habitat successfully loaded with 95 nodes and 214 edges.\n"
     ]
    },
    {
     "name": "stderr",
     "output_type": "stream",
     "text": [
      "\n"
     ]
    }
   ],
   "source": [
    "# Distances: mobile (<100m), semi mobile (<25m) and sessile (<5m) \n",
    "# (proposed by Adham Ashton-Butt at BTO)\n",
    "graph.add_habitat('Sessile', \n",
    "                  max_travel_distance=5, \n",
    "                  valid_classes=pine_classes)\n",
    "\n",
    "graph.add_habitat('Semi mobile', \n",
    "                  max_travel_distance=25, \n",
    "                  valid_classes=pine_classes)\n",
    "\n",
    "graph.add_habitat('Mobile',\n",
    "                  max_travel_distance=500, \n",
    "                  valid_classes=pine_classes)"
   ]
  },
  {
   "cell_type": "markdown",
   "metadata": {},
   "source": [
    "---\n",
    "\n",
    "## 4. Interactive Graph"
   ]
  },
  {
   "cell_type": "code",
   "execution_count": 6,
   "metadata": {
    "execution": {
     "iopub.execute_input": "2021-03-25T21:27:48.746288Z",
     "iopub.status.busy": "2021-03-25T21:27:48.745942Z",
     "iopub.status.idle": "2021-03-25T21:28:03.518738Z",
     "shell.execute_reply": "2021-03-25T21:28:03.517787Z",
     "shell.execute_reply.started": "2021-03-25T21:27:48.746254Z"
    },
    "tags": []
   },
   "outputs": [
    {
     "name": "stderr",
     "output_type": "stream",
     "text": [
      "Constructing graph: 100%|██████████| 1/1 [00:00<00:00, 1093.69it/s]\n",
      "Constructing graph: 100%|██████████| 39/39 [00:00<00:00, 9548.09it/s]\n",
      "Constructing graph: 100%|██████████| 36/36 [00:00<00:00, 10671.77it/s]\n",
      "Constructing graph: 100%|██████████| 14/14 [00:00<00:00, 7224.44it/s]\n"
     ]
    },
    {
     "data": {
      "application/vnd.jupyter.widget-view+json": {
       "model_id": "33843074778f4669bbaf8d396567384b",
       "version_major": 2,
       "version_minor": 0
      },
      "text/plain": [
       "GeoGraphViewer(center=[51.389167, 30.099444], controls=(ZoomControl(options=['position', 'zoom_in_text', 'zoom…"
      ]
     },
     "metadata": {},
     "output_type": "display_data"
    }
   ],
   "source": [
    "viewer = geoviewer.GeoGraphViewer(small_screen=True)\n",
    "viewer.add_layer(ipyleaflet.basemaps.Esri.WorldImagery)\n",
    "viewer.add_graph(graph, name='Polesia data', with_components=True)\n",
    "viewer.enable_graph_controls()\n",
    "viewer"
   ]
  }
 ],
 "metadata": {
  "hide_input": false,
  "kernelspec": {
   "display_name": "Python 3",
   "language": "python",
   "name": "python3"
  },
  "language_info": {
   "codemirror_mode": {
    "name": "ipython",
    "version": 3
   },
   "file_extension": ".py",
   "mimetype": "text/x-python",
   "name": "python",
   "nbconvert_exporter": "python",
   "pygments_lexer": "ipython3",
   "version": "3.8.8"
  },
  "varInspector": {
   "cols": {
    "lenName": 16,
    "lenType": 16,
    "lenVar": 40
   },
   "kernels_config": {
    "python": {
     "delete_cmd_postfix": "",
     "delete_cmd_prefix": "del ",
     "library": "var_list.py",
     "varRefreshCmd": "print(var_dic_list())"
    },
    "r": {
     "delete_cmd_postfix": ") ",
     "delete_cmd_prefix": "rm(",
     "library": "var_list.r",
     "varRefreshCmd": "cat(var_dic_list()) "
    }
   },
   "types_to_exclude": [
    "module",
    "function",
    "builtin_function_or_method",
    "instance",
    "_Feature"
   ],
   "window_display": false
  }
 },
 "nbformat": 4,
 "nbformat_minor": 5
}