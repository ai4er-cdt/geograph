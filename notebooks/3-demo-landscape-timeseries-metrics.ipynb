{
 "cells": [
  {
   "cell_type": "code",
   "execution_count": 1,
   "id": "skilled-demand",
   "metadata": {
    "execution": {
     "iopub.execute_input": "2021-03-17T23:16:03.896121Z",
     "iopub.status.busy": "2021-03-17T23:16:03.895987Z",
     "iopub.status.idle": "2021-03-17T23:16:04.082484Z",
     "shell.execute_reply": "2021-03-17T23:16:04.082103Z",
     "shell.execute_reply.started": "2021-03-17T23:16:03.896076Z"
    }
   },
   "outputs": [],
   "source": [
    "# %load ../jupyter_setup.txt\n",
    "# Convenient jupyter setup\n",
    "%load_ext autoreload\n",
    "%load_ext line_profiler\n",
    "%autoreload 2\n",
    "%config IPCompleter.greedy=True\n",
    "%config IPCompleter.use_jedi=False "
   ]
  },
  {
   "cell_type": "markdown",
   "id": "minute-classic",
   "metadata": {
    "execution": {
     "iopub.execute_input": "2021-03-17T00:27:28.862432Z",
     "iopub.status.busy": "2021-03-17T00:27:28.862164Z",
     "iopub.status.idle": "2021-03-17T00:27:28.865126Z",
     "shell.execute_reply": "2021-03-17T00:27:28.864672Z",
     "shell.execute_reply.started": "2021-03-17T00:27:28.862410Z"
    }
   },
   "source": [
    "# 1. Imports"
   ]
  },
  {
   "cell_type": "code",
   "execution_count": 2,
   "id": "colonial-michigan",
   "metadata": {
    "execution": {
     "iopub.execute_input": "2021-03-17T23:16:04.083187Z",
     "iopub.status.busy": "2021-03-17T23:16:04.083072Z",
     "iopub.status.idle": "2021-03-17T23:16:06.651584Z",
     "shell.execute_reply": "2021-03-17T23:16:06.650979Z",
     "shell.execute_reply.started": "2021-03-17T23:16:04.083171Z"
    }
   },
   "outputs": [
    {
     "name": "stderr",
     "output_type": "stream",
     "text": [
      "/home/users/svm/Code/gtc-biodiversity/env/lib/python3.8/site-packages/geopandas/_compat.py:84: UserWarning: The Shapely GEOS version (3.8.0-CAPI-1.13.1 ) is incompatible with the GEOS version PyGEOS was compiled with (3.9.0-CAPI-1.16.2). Conversions between both will be slow.\n",
      "  warnings.warn(\n"
     ]
    }
   ],
   "source": [
    "import matplotlib.pyplot as plt\n",
    "\n",
    "import numpy as np\n",
    "import pandas as pd\n",
    "\n",
    "import rioxarray as rxr\n",
    "import geopandas as gpd\n",
    "\n",
    "import pylandstats as pls\n",
    "\n",
    "from src.models.geograph import GeoGraph\n",
    "from src.data_loading.rasterio_utils import polygonise\n",
    "from src.constants import GWS_DATA_DIR, ESA_LANDCOVER_DIR, UTM35N\n",
    "\n",
    "# Parse geotif landcover data\n",
    "chernobyl_path = lambda year: GWS_DATA_DIR / \"esa_cci_rois\" / f\"esa_cci_{year}_chernobyl.tif\" \n",
    "\n",
    "# Parse ROIS\n",
    "rois = gpd.read_file(GWS_DATA_DIR / \"chernobyl_exclusion_zone_v1.geojson\")\n",
    "cez = rois[rois[\"name\"] == \"Chernobyl Exclusion Zone\"]"
   ]
  },
  {
   "cell_type": "markdown",
   "id": "toxic-orchestra",
   "metadata": {
    "execution": {
     "iopub.execute_input": "2021-03-17T00:27:46.499896Z",
     "iopub.status.busy": "2021-03-17T00:27:46.499631Z",
     "iopub.status.idle": "2021-03-17T00:27:46.502553Z",
     "shell.execute_reply": "2021-03-17T00:27:46.502087Z",
     "shell.execute_reply.started": "2021-03-17T00:27:46.499874Z"
    }
   },
   "source": [
    "# 2. Loading Chernobyl Landcover data (ESA CCI)"
   ]
  },
  {
   "cell_type": "markdown",
   "id": "composite-inventory",
   "metadata": {
    "execution": {
     "iopub.execute_input": "2021-03-17T00:28:07.434871Z",
     "iopub.status.busy": "2021-03-17T00:28:07.434616Z",
     "iopub.status.idle": "2021-03-17T00:28:07.441569Z",
     "shell.execute_reply": "2021-03-17T00:28:07.440945Z",
     "shell.execute_reply.started": "2021-03-17T00:28:07.434849Z"
    }
   },
   "source": [
    "For this demonstration we will use the ESA CCI landcover dataset as an example to illustrate how\n",
    "geographs enable us to reproduce the same metrics that traditional fragmentation software (pylandstats, fragstats)\n",
    "produce.\n",
    "\n",
    "In this demo we will look specifically at the Chernobyl exclusion zone, so we reproject the satellite data to the right coordinate\n",
    "system (UTM35N) and clip to the CEZ region of interest)."
   ]
  },
  {
   "cell_type": "code",
   "execution_count": 3,
   "id": "alike-respect",
   "metadata": {
    "execution": {
     "iopub.execute_input": "2021-03-17T23:16:06.652603Z",
     "iopub.status.busy": "2021-03-17T23:16:06.652473Z",
     "iopub.status.idle": "2021-03-17T23:16:06.675629Z",
     "shell.execute_reply": "2021-03-17T23:16:06.675233Z",
     "shell.execute_reply.started": "2021-03-17T23:16:06.652586Z"
    }
   },
   "outputs": [],
   "source": [
    "def clip_and_reproject(xrdata, clip_geometry=None, to_crs=UTM35N, x_res=300, y_res=300):\n",
    "    \n",
    "    if clip_geometry is not None:\n",
    "        clipped_data = xrdata.rio.clip(clip_geometry)\n",
    "    else:\n",
    "        clipped_data = xrdata\n",
    "        \n",
    "    if to_crs is not None:\n",
    "        reprojected_data = clipped_data.rio.reproject(to_crs, resolution=(x_res, y_res))\n",
    "    else:\n",
    "        reprojected_data = clipped_data\n",
    "    \n",
    "    return reprojected_data"
   ]
  },
  {
   "cell_type": "code",
   "execution_count": 4,
   "id": "generous-poison",
   "metadata": {
    "execution": {
     "iopub.execute_input": "2021-03-17T23:16:06.676638Z",
     "iopub.status.busy": "2021-03-17T23:16:06.676526Z",
     "iopub.status.idle": "2021-03-17T23:16:15.524479Z",
     "shell.execute_reply": "2021-03-17T23:16:15.523811Z",
     "shell.execute_reply.started": "2021-03-17T23:16:06.676625Z"
    }
   },
   "outputs": [],
   "source": [
    "# Loading raster data\n",
    "years = range(2000, 2015)\n",
    "\n",
    "rasters = {year: clip_and_reproject(rxr.open_rasterio(chernobyl_path(year)), \n",
    "                                    clip_geometry=cez.geometry) \n",
    "           for year in years}"
   ]
  },
  {
   "cell_type": "code",
   "execution_count": 5,
   "id": "basic-float",
   "metadata": {
    "execution": {
     "iopub.execute_input": "2021-03-17T23:16:15.525812Z",
     "iopub.status.busy": "2021-03-17T23:16:15.525684Z",
     "iopub.status.idle": "2021-03-17T23:19:21.831479Z",
     "shell.execute_reply": "2021-03-17T23:19:21.831075Z",
     "shell.execute_reply.started": "2021-03-17T23:16:15.525796Z"
    }
   },
   "outputs": [
    {
     "name": "stderr",
     "output_type": "stream",
     "text": [
      "Step 1 of 2: Creating nodes and finding neighbours: 100%|██████████| 1925/1925 [00:05<00:00, 351.25it/s]\n",
      "Step 2 of 2: Adding edges: 100%|██████████| 1925/1925 [00:00<00:00, 80722.59it/s]\n"
     ]
    },
    {
     "name": "stdout",
     "output_type": "stream",
     "text": [
      "Graph successfully loaded with 1925 nodes and 5162 edges.\n"
     ]
    },
    {
     "name": "stderr",
     "output_type": "stream",
     "text": [
      "Step 1 of 2: Creating nodes and finding neighbours: 100%|██████████| 1932/1932 [00:05<00:00, 365.34it/s]\n",
      "Step 2 of 2: Adding edges: 100%|██████████| 1932/1932 [00:00<00:00, 79871.82it/s]\n"
     ]
    },
    {
     "name": "stdout",
     "output_type": "stream",
     "text": [
      "Graph successfully loaded with 1932 nodes and 5168 edges.\n"
     ]
    },
    {
     "name": "stderr",
     "output_type": "stream",
     "text": [
      "Step 1 of 2: Creating nodes and finding neighbours: 100%|██████████| 1930/1930 [00:05<00:00, 365.15it/s]\n",
      "Step 2 of 2: Adding edges: 100%|██████████| 1930/1930 [00:00<00:00, 79523.42it/s]\n"
     ]
    },
    {
     "name": "stdout",
     "output_type": "stream",
     "text": [
      "Graph successfully loaded with 1930 nodes and 5146 edges.\n"
     ]
    },
    {
     "name": "stderr",
     "output_type": "stream",
     "text": [
      "Step 1 of 2: Creating nodes and finding neighbours: 100%|██████████| 1937/1937 [00:07<00:00, 257.79it/s]\n",
      "Step 2 of 2: Adding edges: 100%|██████████| 1937/1937 [00:00<00:00, 82189.67it/s]\n"
     ]
    },
    {
     "name": "stdout",
     "output_type": "stream",
     "text": [
      "Graph successfully loaded with 1937 nodes and 5153 edges.\n"
     ]
    },
    {
     "name": "stderr",
     "output_type": "stream",
     "text": [
      "Step 1 of 2: Creating nodes and finding neighbours: 100%|██████████| 1954/1954 [00:08<00:00, 226.15it/s]\n",
      "Step 2 of 2: Adding edges: 100%|██████████| 1954/1954 [00:00<00:00, 81434.70it/s]\n"
     ]
    },
    {
     "name": "stdout",
     "output_type": "stream",
     "text": [
      "Graph successfully loaded with 1954 nodes and 5195 edges.\n"
     ]
    },
    {
     "name": "stderr",
     "output_type": "stream",
     "text": [
      "Step 1 of 2: Creating nodes and finding neighbours: 100%|██████████| 1961/1961 [00:08<00:00, 225.37it/s]\n",
      "Step 2 of 2: Adding edges: 100%|██████████| 1961/1961 [00:00<00:00, 81900.59it/s]\n"
     ]
    },
    {
     "name": "stdout",
     "output_type": "stream",
     "text": [
      "Graph successfully loaded with 1961 nodes and 5215 edges.\n"
     ]
    },
    {
     "name": "stderr",
     "output_type": "stream",
     "text": [
      "Step 1 of 2: Creating nodes and finding neighbours: 100%|██████████| 2005/2005 [00:09<00:00, 213.76it/s]\n",
      "Step 2 of 2: Adding edges: 100%|██████████| 2005/2005 [00:00<00:00, 83780.78it/s]\n"
     ]
    },
    {
     "name": "stdout",
     "output_type": "stream",
     "text": [
      "Graph successfully loaded with 2005 nodes and 5362 edges.\n"
     ]
    },
    {
     "name": "stderr",
     "output_type": "stream",
     "text": [
      "Step 1 of 2: Creating nodes and finding neighbours: 100%|██████████| 1997/1997 [00:09<00:00, 219.80it/s]\n",
      "Step 2 of 2: Adding edges: 100%|██████████| 1997/1997 [00:00<00:00, 82138.02it/s]\n"
     ]
    },
    {
     "name": "stdout",
     "output_type": "stream",
     "text": [
      "Graph successfully loaded with 1997 nodes and 5389 edges.\n"
     ]
    },
    {
     "name": "stderr",
     "output_type": "stream",
     "text": [
      "Step 1 of 2: Creating nodes and finding neighbours: 100%|██████████| 1993/1993 [00:09<00:00, 218.45it/s]\n",
      "Step 2 of 2: Adding edges: 100%|██████████| 1993/1993 [00:00<00:00, 15035.29it/s]\n"
     ]
    },
    {
     "name": "stdout",
     "output_type": "stream",
     "text": [
      "Graph successfully loaded with 1993 nodes and 5364 edges.\n"
     ]
    },
    {
     "name": "stderr",
     "output_type": "stream",
     "text": [
      "Step 1 of 2: Creating nodes and finding neighbours: 100%|██████████| 1995/1995 [00:09<00:00, 206.80it/s]\n",
      "Step 2 of 2: Adding edges: 100%|██████████| 1995/1995 [00:00<00:00, 82675.17it/s]\n"
     ]
    },
    {
     "name": "stdout",
     "output_type": "stream",
     "text": [
      "Graph successfully loaded with 1995 nodes and 5354 edges.\n"
     ]
    },
    {
     "name": "stderr",
     "output_type": "stream",
     "text": [
      "Step 1 of 2: Creating nodes and finding neighbours: 100%|██████████| 1989/1989 [00:09<00:00, 210.98it/s]\n",
      "Step 2 of 2: Adding edges: 100%|██████████| 1989/1989 [00:00<00:00, 78993.19it/s]\n"
     ]
    },
    {
     "name": "stdout",
     "output_type": "stream",
     "text": [
      "Graph successfully loaded with 1989 nodes and 5326 edges.\n"
     ]
    },
    {
     "name": "stderr",
     "output_type": "stream",
     "text": [
      "Step 1 of 2: Creating nodes and finding neighbours: 100%|██████████| 2004/2004 [00:09<00:00, 213.91it/s]\n",
      "Step 2 of 2: Adding edges: 100%|██████████| 2004/2004 [00:00<00:00, 79096.11it/s]\n"
     ]
    },
    {
     "name": "stdout",
     "output_type": "stream",
     "text": [
      "Graph successfully loaded with 2004 nodes and 5377 edges.\n"
     ]
    },
    {
     "name": "stderr",
     "output_type": "stream",
     "text": [
      "Step 1 of 2: Creating nodes and finding neighbours: 100%|██████████| 1999/1999 [00:09<00:00, 208.11it/s]\n",
      "Step 2 of 2: Adding edges: 100%|██████████| 1999/1999 [00:00<00:00, 85106.26it/s]\n"
     ]
    },
    {
     "name": "stdout",
     "output_type": "stream",
     "text": [
      "Graph successfully loaded with 1999 nodes and 5365 edges.\n"
     ]
    },
    {
     "name": "stderr",
     "output_type": "stream",
     "text": [
      "Step 1 of 2: Creating nodes and finding neighbours: 100%|██████████| 2004/2004 [00:09<00:00, 213.17it/s]\n",
      "Step 2 of 2: Adding edges: 100%|██████████| 2004/2004 [00:00<00:00, 84741.96it/s]\n"
     ]
    },
    {
     "name": "stdout",
     "output_type": "stream",
     "text": [
      "Graph successfully loaded with 2004 nodes and 5383 edges.\n"
     ]
    },
    {
     "name": "stderr",
     "output_type": "stream",
     "text": [
      "Step 1 of 2: Creating nodes and finding neighbours: 100%|██████████| 2000/2000 [00:09<00:00, 209.02it/s]\n",
      "Step 2 of 2: Adding edges: 100%|██████████| 2000/2000 [00:00<00:00, 83586.84it/s]\n"
     ]
    },
    {
     "name": "stdout",
     "output_type": "stream",
     "text": [
      "Graph successfully loaded with 2000 nodes and 5360 edges.\n",
      "CPU times: user 3min 4s, sys: 1.79 s, total: 3min 6s\n",
      "Wall time: 3min 6s\n"
     ]
    }
   ],
   "source": [
    "%%time\n",
    "# Loading raster data into geographs\n",
    "graphs = {year: GeoGraph(data=rasters[year].data, \n",
    "                         transform=rasters[year].rio.transform(), \n",
    "                         crs=UTM35N, \n",
    "                         connectivity=8)\n",
    "          for year in years}"
   ]
  },
  {
   "cell_type": "code",
   "execution_count": 6,
   "id": "varied-squad",
   "metadata": {
    "execution": {
     "iopub.execute_input": "2021-03-17T23:19:21.832394Z",
     "iopub.status.busy": "2021-03-17T23:19:21.832273Z",
     "iopub.status.idle": "2021-03-17T23:19:22.236318Z",
     "shell.execute_reply": "2021-03-17T23:19:22.235868Z",
     "shell.execute_reply.started": "2021-03-17T23:19:21.832378Z"
    }
   },
   "outputs": [],
   "source": [
    "# Loading raster data into pylandstats\n",
    "landscapes = {year: pls.Landscape(rasters[year].data.squeeze(), \n",
    "                                  res=(300,300) , \n",
    "                                  nodata=0) \n",
    "              for year in years}"
   ]
  },
  {
   "cell_type": "markdown",
   "id": "indonesian-cause",
   "metadata": {},
   "source": [
    "# 3. Metrics calculation"
   ]
  },
  {
   "cell_type": "code",
   "execution_count": 7,
   "id": "fancy-possession",
   "metadata": {
    "execution": {
     "iopub.execute_input": "2021-03-17T23:19:22.237059Z",
     "iopub.status.busy": "2021-03-17T23:19:22.236943Z",
     "iopub.status.idle": "2021-03-17T23:19:22.264471Z",
     "shell.execute_reply": "2021-03-17T23:19:22.264108Z",
     "shell.execute_reply.started": "2021-03-17T23:19:22.237044Z"
    }
   },
   "outputs": [],
   "source": [
    "from src.models.geotimeline import GeoGraphTimeline"
   ]
  },
  {
   "cell_type": "code",
   "execution_count": 116,
   "id": "distinct-noise",
   "metadata": {
    "execution": {
     "iopub.execute_input": "2021-03-18T00:06:02.160657Z",
     "iopub.status.busy": "2021-03-18T00:06:02.160435Z",
     "iopub.status.idle": "2021-03-18T00:06:02.238624Z",
     "shell.execute_reply": "2021-03-18T00:06:02.238000Z",
     "shell.execute_reply.started": "2021-03-18T00:06:02.160639Z"
    }
   },
   "outputs": [],
   "source": [
    "for graph in graphs.values():\n",
    "    no_data_nodes = graph.df[graph.df[\"class_label\"] == 0].index\n",
    "    graph._remove_nodes(no_data_nodes)"
   ]
  },
  {
   "cell_type": "code",
   "execution_count": 117,
   "id": "unusual-loading",
   "metadata": {
    "execution": {
     "iopub.execute_input": "2021-03-18T00:06:09.008520Z",
     "iopub.status.busy": "2021-03-18T00:06:09.008293Z",
     "iopub.status.idle": "2021-03-18T00:06:09.035212Z",
     "shell.execute_reply": "2021-03-18T00:06:09.034698Z",
     "shell.execute_reply.started": "2021-03-18T00:06:09.008501Z"
    }
   },
   "outputs": [],
   "source": [
    "graph_timestack = GeoGraphTimeline(graphs)"
   ]
  },
  {
   "cell_type": "code",
   "execution_count": 118,
   "id": "vocational-grenada",
   "metadata": {
    "execution": {
     "iopub.execute_input": "2021-03-18T00:06:09.634975Z",
     "iopub.status.busy": "2021-03-18T00:06:09.634738Z",
     "iopub.status.idle": "2021-03-18T00:06:09.766046Z",
     "shell.execute_reply": "2021-03-18T00:06:09.765374Z",
     "shell.execute_reply.started": "2021-03-18T00:06:09.634955Z"
    }
   },
   "outputs": [
    {
     "data": {
      "text/plain": [
       "[<matplotlib.lines.Line2D at 0x7fdd255b65e0>]"
      ]
     },
     "execution_count": 118,
     "metadata": {},
     "output_type": "execute_result"
    },
    {
     "data": {
      "image/png": "[encoded data removed]",
      "text/plain": [
       "<Figure size 432x288 with 1 Axes>"
      ]
     },
     "metadata": {
      "needs_background": "light"
     },
     "output_type": "display_data"
    }
   ],
   "source": [
    "plt.plot(graph_timestack.get_metric(\"total_area\"))"
   ]
  },
  {
   "cell_type": "code",
   "execution_count": 119,
   "id": "personal-archive",
   "metadata": {
    "execution": {
     "iopub.execute_input": "2021-03-18T00:06:10.330831Z",
     "iopub.status.busy": "2021-03-18T00:06:10.330595Z",
     "iopub.status.idle": "2021-03-18T00:06:10.493607Z",
     "shell.execute_reply": "2021-03-18T00:06:10.493026Z",
     "shell.execute_reply.started": "2021-03-18T00:06:10.330809Z"
    }
   },
   "outputs": [
    {
     "data": {
      "text/plain": [
       "[<matplotlib.lines.Line2D at 0x7fdd2548d400>]"
      ]
     },
     "execution_count": 119,
     "metadata": {},
     "output_type": "execute_result"
    },
    {
     "data": {
      "image/png": "[encoded data removed]",
      "text/plain": [
       "<Figure size 432x288 with 1 Axes>"
      ]
     },
     "metadata": {
      "needs_background": "light"
     },
     "output_type": "display_data"
    }
   ],
   "source": [
    "plt.plot(graph_timestack.times, graph_timestack.get_metric(\"shannon_diversity_index\"))"
   ]
  },
  {
   "cell_type": "code",
   "execution_count": 120,
   "id": "numerous-patch",
   "metadata": {
    "execution": {
     "iopub.execute_input": "2021-03-18T00:06:10.494422Z",
     "iopub.status.busy": "2021-03-18T00:06:10.494305Z",
     "iopub.status.idle": "2021-03-18T00:06:10.637999Z",
     "shell.execute_reply": "2021-03-18T00:06:10.637646Z",
     "shell.execute_reply.started": "2021-03-18T00:06:10.494406Z"
    }
   },
   "outputs": [
    {
     "data": {
      "text/plain": [
       "[<matplotlib.lines.Line2D at 0x7fdd3b60abb0>]"
      ]
     },
     "execution_count": 120,
     "metadata": {},
     "output_type": "execute_result"
    },
    {
     "data": {
      "image/png": "[encoded data removed]",
      "text/plain": [
       "<Figure size 432x288 with 1 Axes>"
      ]
     },
     "metadata": {
      "needs_background": "light"
     },
     "output_type": "display_data"
    }
   ],
   "source": [
    "plt.plot(graph_timestack.times, graph_timestack.get_metric(\"simpson_diversity_index\"))"
   ]
  },
  {
   "cell_type": "code",
   "execution_count": 121,
   "id": "pressing-length",
   "metadata": {
    "execution": {
     "iopub.execute_input": "2021-03-18T00:06:10.959308Z",
     "iopub.status.busy": "2021-03-18T00:06:10.959099Z",
     "iopub.status.idle": "2021-03-18T00:06:11.120008Z",
     "shell.execute_reply": "2021-03-18T00:06:11.119694Z",
     "shell.execute_reply.started": "2021-03-18T00:06:10.959290Z"
    }
   },
   "outputs": [
    {
     "data": {
      "text/plain": [
       "[<matplotlib.lines.Line2D at 0x7fdd25843820>]"
      ]
     },
     "execution_count": 121,
     "metadata": {},
     "output_type": "execute_result"
    },
    {
     "data": {
      "image/png": "[encoded data removed]",
      "text/plain": [
       "<Figure size 432x288 with 1 Axes>"
      ]
     },
     "metadata": {
      "needs_background": "light"
     },
     "output_type": "display_data"
    }
   ],
   "source": [
    "graph_timestack.get_metric(\"num_patches\").plot()"
   ]
  },
  {
   "cell_type": "code",
   "execution_count": 122,
   "id": "german-alpha",
   "metadata": {
    "execution": {
     "iopub.execute_input": "2021-03-18T00:06:11.822344Z",
     "iopub.status.busy": "2021-03-18T00:06:11.822137Z",
     "iopub.status.idle": "2021-03-18T00:06:11.969387Z",
     "shell.execute_reply": "2021-03-18T00:06:11.969075Z",
     "shell.execute_reply.started": "2021-03-18T00:06:11.822327Z"
    }
   },
   "outputs": [
    {
     "data": {
      "text/plain": [
       "[<matplotlib.lines.Line2D at 0x7fdd253506d0>]"
      ]
     },
     "execution_count": 122,
     "metadata": {},
     "output_type": "execute_result"
    },
    {
     "data": {
      "image/png": "[encoded data removed]",
      "text/plain": [
       "<Figure size 432x288 with 1 Axes>"
      ]
     },
     "metadata": {
      "needs_background": "light"
     },
     "output_type": "display_data"
    }
   ],
   "source": [
    "graph_timestack.get_metric(\"effective_mesh_size\", 10).plot()"
   ]
  },
  {
   "cell_type": "code",
   "execution_count": 123,
   "id": "superior-patio",
   "metadata": {
    "execution": {
     "iopub.execute_input": "2021-03-18T00:06:13.068791Z",
     "iopub.status.busy": "2021-03-18T00:06:13.068566Z",
     "iopub.status.idle": "2021-03-18T00:06:13.131321Z",
     "shell.execute_reply": "2021-03-18T00:06:13.130977Z",
     "shell.execute_reply.started": "2021-03-18T00:06:13.068772Z"
    }
   },
   "outputs": [
    {
     "data": {
      "text/html": [
       "<div><svg style=\"position: absolute; width: 0; height: 0; overflow: hidden\">\n",
       "<defs>\n",
       "<symbol id=\"icon-database\" viewBox=\"0 0 32 32\">\n",
       "<path d=\"M16 0c-8.837 0-16 2.239-16 5v4c0 2.761 7.163 5 16 5s16-2.239 16-5v-4c0-2.761-7.163-5-16-5z\"></path>\n",
       "<path d=\"M16 17c-8.837 0-16-2.239-16-5v6c0 2.761 7.163 5 16 5s16-2.239 16-5v-6c0 2.761-7.163 5-16 5z\"></path>\n",
       "<path d=\"M16 26c-8.837 0-16-2.239-16-5v6c0 2.761 7.163 5 16 5s16-2.239 16-5v-6c0 2.761-7.163 5-16 5z\"></path>\n",
       "</symbol>\n",
       "<symbol id=\"icon-file-text2\" viewBox=\"0 0 32 32\">\n",
       "<path d=\"M28.681 7.159c-0.694-0.947-1.662-2.053-2.724-3.116s-2.169-2.030-3.116-2.724c-1.612-1.182-2.393-1.319-2.841-1.319h-15.5c-1.378 0-2.5 1.121-2.5 2.5v27c0 1.378 1.122 2.5 2.5 2.5h23c1.378 0 2.5-1.122 2.5-2.5v-19.5c0-0.448-0.137-1.23-1.319-2.841zM24.543 5.457c0.959 0.959 1.712 1.825 2.268 2.543h-4.811v-4.811c0.718 0.556 1.584 1.309 2.543 2.268zM28 29.5c0 0.271-0.229 0.5-0.5 0.5h-23c-0.271 0-0.5-0.229-0.5-0.5v-27c0-0.271 0.229-0.5 0.5-0.5 0 0 15.499-0 15.5 0v7c0 0.552 0.448 1 1 1h7v19.5z\"></path>\n",
       "<path d=\"M23 26h-14c-0.552 0-1-0.448-1-1s0.448-1 1-1h14c0.552 0 1 0.448 1 1s-0.448 1-1 1z\"></path>\n",
       "<path d=\"M23 22h-14c-0.552 0-1-0.448-1-1s0.448-1 1-1h14c0.552 0 1 0.448 1 1s-0.448 1-1 1z\"></path>\n",
       "<path d=\"M23 18h-14c-0.552 0-1-0.448-1-1s0.448-1 1-1h14c0.552 0 1 0.448 1 1s-0.448 1-1 1z\"></path>\n",
       "</symbol>\n",
       "</defs>\n",
       "</svg>\n",
       "<style>/* CSS stylesheet for displaying xarray objects in jupyterlab.\n",
       " *\n",
       " */\n",
       "\n",
       ":root {\n",
       "  --xr-font-color0: var(--jp-content-font-color0, rgba(0, 0, 0, 1));\n",
       "  --xr-font-color2: var(--jp-content-font-color2, rgba(0, 0, 0, 0.54));\n",
       "  --xr-font-color3: var(--jp-content-font-color3, rgba(0, 0, 0, 0.38));\n",
       "  --xr-border-color: var(--jp-border-color2, #e0e0e0);\n",
       "  --xr-disabled-color: var(--jp-layout-color3, #bdbdbd);\n",
       "  --xr-background-color: var(--jp-layout-color0, white);\n",
       "  --xr-background-color-row-even: var(--jp-layout-color1, white);\n",
       "  --xr-background-color-row-odd: var(--jp-layout-color2, #eeeeee);\n",
       "}\n",
       "\n",
       "html[theme=dark],\n",
       "body.vscode-dark {\n",
       "  --xr-font-color0: rgba(255, 255, 255, 1);\n",
       "  --xr-font-color2: rgba(255, 255, 255, 0.54);\n",
       "  --xr-font-color3: rgba(255, 255, 255, 0.38);\n",
       "  --xr-border-color: #1F1F1F;\n",
       "  --xr-disabled-color: #515151;\n",
       "  --xr-background-color: #111111;\n",
       "  --xr-background-color-row-even: #111111;\n",
       "  --xr-background-color-row-odd: #313131;\n",
       "}\n",
       "\n",
       ".xr-wrap {\n",
       "  display: block;\n",
       "  min-width: 300px;\n",
       "  max-width: 700px;\n",
       "}\n",
       "\n",
       ".xr-text-repr-fallback {\n",
       "  /* fallback to plain text repr when CSS is not injected (untrusted notebook) */\n",
       "  display: none;\n",
       "}\n",
       "\n",
       ".xr-header {\n",
       "  padding-top: 6px;\n",
       "  padding-bottom: 6px;\n",
       "  margin-bottom: 4px;\n",
       "  border-bottom: solid 1px var(--xr-border-color);\n",
       "}\n",
       "\n",
       ".xr-header > div,\n",
       ".xr-header > ul {\n",
       "  display: inline;\n",
       "  margin-top: 0;\n",
       "  margin-bottom: 0;\n",
       "}\n",
       "\n",
       ".xr-obj-type,\n",
       ".xr-array-name {\n",
       "  margin-left: 2px;\n",
       "  margin-right: 10px;\n",
       "}\n",
       "\n",
       ".xr-obj-type {\n",
       "  color: var(--xr-font-color2);\n",
       "}\n",
       "\n",
       ".xr-sections {\n",
       "  padding-left: 0 !important;\n",
       "  display: grid;\n",
       "  grid-template-columns: 150px auto auto 1fr 20px 20px;\n",
       "}\n",
       "\n",
       ".xr-section-item {\n",
       "  display: contents;\n",
       "}\n",
       "\n",
       ".xr-section-item input {\n",
       "  display: none;\n",
       "}\n",
       "\n",
       ".xr-section-item input + label {\n",
       "  color: var(--xr-disabled-color);\n",
       "}\n",
       "\n",
       ".xr-section-item input:enabled + label {\n",
       "  cursor: pointer;\n",
       "  color: var(--xr-font-color2);\n",
       "}\n",
       "\n",
       ".xr-section-item input:enabled + label:hover {\n",
       "  color: var(--xr-font-color0);\n",
       "}\n",
       "\n",
       ".xr-section-summary {\n",
       "  grid-column: 1;\n",
       "  color: var(--xr-font-color2);\n",
       "  font-weight: 500;\n",
       "}\n",
       "\n",
       ".xr-section-summary > span {\n",
       "  display: inline-block;\n",
       "  padding-left: 0.5em;\n",
       "}\n",
       "\n",
       ".xr-section-summary-in:disabled + label {\n",
       "  color: var(--xr-font-color2);\n",
       "}\n",
       "\n",
       ".xr-section-summary-in + label:before {\n",
       "  display: inline-block;\n",
       "  content: '►';\n",
       "  font-size: 11px;\n",
       "  width: 15px;\n",
       "  text-align: center;\n",
       "}\n",
       "\n",
       ".xr-section-summary-in:disabled + label:before {\n",
       "  color: var(--xr-disabled-color);\n",
       "}\n",
       "\n",
       ".xr-section-summary-in:checked + label:before {\n",
       "  content: '▼';\n",
       "}\n",
       "\n",
       ".xr-section-summary-in:checked + label > span {\n",
       "  display: none;\n",
       "}\n",
       "\n",
       ".xr-section-summary,\n",
       ".xr-section-inline-details {\n",
       "  padding-top: 4px;\n",
       "  padding-bottom: 4px;\n",
       "}\n",
       "\n",
       ".xr-section-inline-details {\n",
       "  grid-column: 2 / -1;\n",
       "}\n",
       "\n",
       ".xr-section-details {\n",
       "  display: none;\n",
       "  grid-column: 1 / -1;\n",
       "  margin-bottom: 5px;\n",
       "}\n",
       "\n",
       ".xr-section-summary-in:checked ~ .xr-section-details {\n",
       "  display: contents;\n",
       "}\n",
       "\n",
       ".xr-array-wrap {\n",
       "  grid-column: 1 / -1;\n",
       "  display: grid;\n",
       "  grid-template-columns: 20px auto;\n",
       "}\n",
       "\n",
       ".xr-array-wrap > label {\n",
       "  grid-column: 1;\n",
       "  vertical-align: top;\n",
       "}\n",
       "\n",
       ".xr-preview {\n",
       "  color: var(--xr-font-color3);\n",
       "}\n",
       "\n",
       ".xr-array-preview,\n",
       ".xr-array-data {\n",
       "  padding: 0 5px !important;\n",
       "  grid-column: 2;\n",
       "}\n",
       "\n",
       ".xr-array-data,\n",
       ".xr-array-in:checked ~ .xr-array-preview {\n",
       "  display: none;\n",
       "}\n",
       "\n",
       ".xr-array-in:checked ~ .xr-array-data,\n",
       ".xr-array-preview {\n",
       "  display: inline-block;\n",
       "}\n",
       "\n",
       ".xr-dim-list {\n",
       "  display: inline-block !important;\n",
       "  list-style: none;\n",
       "  padding: 0 !important;\n",
       "  margin: 0;\n",
       "}\n",
       "\n",
       ".xr-dim-list li {\n",
       "  display: inline-block;\n",
       "  padding: 0;\n",
       "  margin: 0;\n",
       "}\n",
       "\n",
       ".xr-dim-list:before {\n",
       "  content: '(';\n",
       "}\n",
       "\n",
       ".xr-dim-list:after {\n",
       "  content: ')';\n",
       "}\n",
       "\n",
       ".xr-dim-list li:not(:last-child):after {\n",
       "  content: ',';\n",
       "  padding-right: 5px;\n",
       "}\n",
       "\n",
       ".xr-has-index {\n",
       "  font-weight: bold;\n",
       "}\n",
       "\n",
       ".xr-var-list,\n",
       ".xr-var-item {\n",
       "  display: contents;\n",
       "}\n",
       "\n",
       ".xr-var-item > div,\n",
       ".xr-var-item label,\n",
       ".xr-var-item > .xr-var-name span {\n",
       "  background-color: var(--xr-background-color-row-even);\n",
       "  margin-bottom: 0;\n",
       "}\n",
       "\n",
       ".xr-var-item > .xr-var-name:hover span {\n",
       "  padding-right: 5px;\n",
       "}\n",
       "\n",
       ".xr-var-list > li:nth-child(odd) > div,\n",
       ".xr-var-list > li:nth-child(odd) > label,\n",
       ".xr-var-list > li:nth-child(odd) > .xr-var-name span {\n",
       "  background-color: var(--xr-background-color-row-odd);\n",
       "}\n",
       "\n",
       ".xr-var-name {\n",
       "  grid-column: 1;\n",
       "}\n",
       "\n",
       ".xr-var-dims {\n",
       "  grid-column: 2;\n",
       "}\n",
       "\n",
       ".xr-var-dtype {\n",
       "  grid-column: 3;\n",
       "  text-align: right;\n",
       "  color: var(--xr-font-color2);\n",
       "}\n",
       "\n",
       ".xr-var-preview {\n",
       "  grid-column: 4;\n",
       "}\n",
       "\n",
       ".xr-var-name,\n",
       ".xr-var-dims,\n",
       ".xr-var-dtype,\n",
       ".xr-preview,\n",
       ".xr-attrs dt {\n",
       "  white-space: nowrap;\n",
       "  overflow: hidden;\n",
       "  text-overflow: ellipsis;\n",
       "  padding-right: 10px;\n",
       "}\n",
       "\n",
       ".xr-var-name:hover,\n",
       ".xr-var-dims:hover,\n",
       ".xr-var-dtype:hover,\n",
       ".xr-attrs dt:hover {\n",
       "  overflow: visible;\n",
       "  width: auto;\n",
       "  z-index: 1;\n",
       "}\n",
       "\n",
       ".xr-var-attrs,\n",
       ".xr-var-data {\n",
       "  display: none;\n",
       "  background-color: var(--xr-background-color) !important;\n",
       "  padding-bottom: 5px !important;\n",
       "}\n",
       "\n",
       ".xr-var-attrs-in:checked ~ .xr-var-attrs,\n",
       ".xr-var-data-in:checked ~ .xr-var-data {\n",
       "  display: block;\n",
       "}\n",
       "\n",
       ".xr-var-data > table {\n",
       "  float: right;\n",
       "}\n",
       "\n",
       ".xr-var-name span,\n",
       ".xr-var-data,\n",
       ".xr-attrs {\n",
       "  padding-left: 25px !important;\n",
       "}\n",
       "\n",
       ".xr-attrs,\n",
       ".xr-var-attrs,\n",
       ".xr-var-data {\n",
       "  grid-column: 1 / -1;\n",
       "}\n",
       "\n",
       "dl.xr-attrs {\n",
       "  padding: 0;\n",
       "  margin: 0;\n",
       "  display: grid;\n",
       "  grid-template-columns: 125px auto;\n",
       "}\n",
       "\n",
       ".xr-attrs dt,\n",
       ".xr-attrs dd {\n",
       "  padding: 0;\n",
       "  margin: 0;\n",
       "  float: left;\n",
       "  padding-right: 10px;\n",
       "  width: auto;\n",
       "}\n",
       "\n",
       ".xr-attrs dt {\n",
       "  font-weight: normal;\n",
       "  grid-column: 1;\n",
       "}\n",
       "\n",
       ".xr-attrs dt:hover span {\n",
       "  display: inline-block;\n",
       "  background: var(--xr-background-color);\n",
       "  padding-right: 10px;\n",
       "}\n",
       "\n",
       ".xr-attrs dd {\n",
       "  grid-column: 2;\n",
       "  white-space: pre-wrap;\n",
       "  word-break: break-all;\n",
       "}\n",
       "\n",
       ".xr-icon-database,\n",
       ".xr-icon-file-text2 {\n",
       "  display: inline-block;\n",
       "  vertical-align: middle;\n",
       "  width: 1em;\n",
       "  height: 1.5em !important;\n",
       "  stroke-width: 0;\n",
       "  stroke: currentColor;\n",
       "  fill: currentColor;\n",
       "}\n",
       "</style><pre class='xr-text-repr-fallback'>&lt;xarray.DataArray (time: 15, class_label: 16, metric: 10)&gt;\n",
       "array([[[1.46000000e+02, 4.17821918e+06, 6.10020000e+08, ...,\n",
       "         3.25071309e-03, 2.00720017e+01, 1.51005988e+07],\n",
       "        [9.40000000e+01, 2.83404255e+05, 2.66400000e+07, ...,\n",
       "         8.40090090e-03, 1.08400923e+01, 4.76302017e+03],\n",
       "        [3.31000000e+02, 3.48580060e+05, 1.15380000e+08, ...,\n",
       "         8.43473739e-03, 2.26504504e+01, 2.00204956e+04],\n",
       "        ...,\n",
       "        [           nan,            nan,            nan, ...,\n",
       "                    nan,            nan,            nan],\n",
       "        [1.00000000e+00, 1.80000000e+05, 1.80000000e+05, ...,\n",
       "         1.00000000e-02, 1.06066017e+00, 6.58785638e+00],\n",
       "        [4.40000000e+01, 2.60181818e+06, 1.14480000e+08, ...,\n",
       "         3.53773585e-03, 9.46303010e+00, 8.90230209e+05]],\n",
       "\n",
       "       [[1.48000000e+02, 4.11506757e+06, 6.09030000e+08, ...,\n",
       "         3.25107138e-03, 2.00579182e+01, 1.50962425e+07],\n",
       "        [9.40000000e+01, 2.82446809e+05, 2.65500000e+07, ...,\n",
       "         8.45197740e-03, 1.08875609e+01, 4.74160963e+03],\n",
       "        [3.30000000e+02, 3.43090909e+05, 1.13220000e+08, ...,\n",
       "         8.48436672e-03, 2.25694521e+01, 1.86238700e+04],\n",
       "...\n",
       "        [7.00000000e+00, 3.21428571e+05, 2.25000000e+06, ...,\n",
       "         8.53333333e-03, 3.20000000e+00, 4.56209055e+02],\n",
       "        [1.00000000e+00, 1.80000000e+05, 1.80000000e+05, ...,\n",
       "         1.00000000e-02, 1.06066017e+00, 6.58785638e+00],\n",
       "        [4.50000000e+01, 2.28800000e+06, 1.02960000e+08, ...,\n",
       "         4.05011655e-03, 1.02740529e+01, 7.54467665e+05]],\n",
       "\n",
       "       [[1.90000000e+02, 2.75873684e+06, 5.24160000e+08, ...,\n",
       "         3.38026557e-03, 1.93474070e+01, 1.28988779e+07],\n",
       "        [8.40000000e+01, 2.59285714e+05, 2.17800000e+07, ...,\n",
       "         8.67768595e-03, 1.01244835e+01, 3.75507814e+03],\n",
       "        [2.74000000e+02, 2.61459854e+05, 7.16400000e+07, ...,\n",
       "         9.32998325e-03, 1.97423416e+01, 8.69597043e+03],\n",
       "        ...,\n",
       "        [7.00000000e+00, 3.21428571e+05, 2.25000000e+06, ...,\n",
       "         8.53333333e-03, 3.20000000e+00, 4.56209055e+02],\n",
       "        [1.00000000e+00, 1.80000000e+05, 1.80000000e+05, ...,\n",
       "         1.00000000e-02, 1.06066017e+00, 6.58785638e+00],\n",
       "        [3.40000000e+01, 3.18176471e+06, 1.08180000e+08, ...,\n",
       "         3.97115918e-03, 1.03259684e+01, 9.15741683e+05]]])\n",
       "Coordinates:\n",
       "  * class_label  (class_label) int64 10 11 30 40 60 61 ... 160 180 190 200 210\n",
       "  * metric       (metric) object &#x27;num_patches&#x27; ... &#x27;effective_mesh_size&#x27;\n",
       "  * time         (time) int64 2000 2001 2002 2003 2004 ... 2011 2012 2013 2014</pre><div class='xr-wrap' hidden><div class='xr-header'><div class='xr-obj-type'>xarray.DataArray</div><div class='xr-array-name'></div><ul class='xr-dim-list'><li><span class='xr-has-index'>time</span>: 15</li><li><span class='xr-has-index'>class_label</span>: 16</li><li><span class='xr-has-index'>metric</span>: 10</li></ul></div><ul class='xr-sections'><li class='xr-section-item'><div class='xr-array-wrap'><input id='section-f3c15a91-9b9d-41a5-9982-b52bc7b80f61' class='xr-array-in' type='checkbox' checked><label for='section-f3c15a91-9b9d-41a5-9982-b52bc7b80f61' title='Show/hide data repr'><svg class='icon xr-icon-database'><use xlink:href='#icon-database'></use></svg></label><div class='xr-array-preview xr-preview'><span>146.0 4.178e+06 6.1e+08 0.124 ... 4.296e+05 0.003971 10.33 9.157e+05</span></div><div class='xr-array-data'><pre>array([[[1.46000000e+02, 4.17821918e+06, 6.10020000e+08, ...,\n",
       "         3.25071309e-03, 2.00720017e+01, 1.51005988e+07],\n",
       "        [9.40000000e+01, 2.83404255e+05, 2.66400000e+07, ...,\n",
       "         8.40090090e-03, 1.08400923e+01, 4.76302017e+03],\n",
       "        [3.31000000e+02, 3.48580060e+05, 1.15380000e+08, ...,\n",
       "         8.43473739e-03, 2.26504504e+01, 2.00204956e+04],\n",
       "        ...,\n",
       "        [           nan,            nan,            nan, ...,\n",
       "                    nan,            nan,            nan],\n",
       "        [1.00000000e+00, 1.80000000e+05, 1.80000000e+05, ...,\n",
       "         1.00000000e-02, 1.06066017e+00, 6.58785638e+00],\n",
       "        [4.40000000e+01, 2.60181818e+06, 1.14480000e+08, ...,\n",
       "         3.53773585e-03, 9.46303010e+00, 8.90230209e+05]],\n",
       "\n",
       "       [[1.48000000e+02, 4.11506757e+06, 6.09030000e+08, ...,\n",
       "         3.25107138e-03, 2.00579182e+01, 1.50962425e+07],\n",
       "        [9.40000000e+01, 2.82446809e+05, 2.65500000e+07, ...,\n",
       "         8.45197740e-03, 1.08875609e+01, 4.74160963e+03],\n",
       "        [3.30000000e+02, 3.43090909e+05, 1.13220000e+08, ...,\n",
       "         8.48436672e-03, 2.25694521e+01, 1.86238700e+04],\n",
       "...\n",
       "        [7.00000000e+00, 3.21428571e+05, 2.25000000e+06, ...,\n",
       "         8.53333333e-03, 3.20000000e+00, 4.56209055e+02],\n",
       "        [1.00000000e+00, 1.80000000e+05, 1.80000000e+05, ...,\n",
       "         1.00000000e-02, 1.06066017e+00, 6.58785638e+00],\n",
       "        [4.50000000e+01, 2.28800000e+06, 1.02960000e+08, ...,\n",
       "         4.05011655e-03, 1.02740529e+01, 7.54467665e+05]],\n",
       "\n",
       "       [[1.90000000e+02, 2.75873684e+06, 5.24160000e+08, ...,\n",
       "         3.38026557e-03, 1.93474070e+01, 1.28988779e+07],\n",
       "        [8.40000000e+01, 2.59285714e+05, 2.17800000e+07, ...,\n",
       "         8.67768595e-03, 1.01244835e+01, 3.75507814e+03],\n",
       "        [2.74000000e+02, 2.61459854e+05, 7.16400000e+07, ...,\n",
       "         9.32998325e-03, 1.97423416e+01, 8.69597043e+03],\n",
       "        ...,\n",
       "        [7.00000000e+00, 3.21428571e+05, 2.25000000e+06, ...,\n",
       "         8.53333333e-03, 3.20000000e+00, 4.56209055e+02],\n",
       "        [1.00000000e+00, 1.80000000e+05, 1.80000000e+05, ...,\n",
       "         1.00000000e-02, 1.06066017e+00, 6.58785638e+00],\n",
       "        [3.40000000e+01, 3.18176471e+06, 1.08180000e+08, ...,\n",
       "         3.97115918e-03, 1.03259684e+01, 9.15741683e+05]]])</pre></div></div></li><li class='xr-section-item'><input id='section-afa33fd0-dd9a-4b96-9181-168bec5e5c31' class='xr-section-summary-in' type='checkbox'  checked><label for='section-afa33fd0-dd9a-4b96-9181-168bec5e5c31' class='xr-section-summary' >Coordinates: <span>(3)</span></label><div class='xr-section-inline-details'></div><div class='xr-section-details'><ul class='xr-var-list'><li class='xr-var-item'><div class='xr-var-name'><span class='xr-has-index'>class_label</span></div><div class='xr-var-dims'>(class_label)</div><div class='xr-var-dtype'>int64</div><div class='xr-var-preview xr-preview'>10 11 30 40 60 ... 180 190 200 210</div><input id='attrs-5e49b680-8f07-4799-aff9-d40e70a4d20c' class='xr-var-attrs-in' type='checkbox' disabled><label for='attrs-5e49b680-8f07-4799-aff9-d40e70a4d20c' title='Show/Hide attributes'><svg class='icon xr-icon-file-text2'><use xlink:href='#icon-file-text2'></use></svg></label><input id='data-debdc568-b19e-4264-8587-57242b1855a6' class='xr-var-data-in' type='checkbox'><label for='data-debdc568-b19e-4264-8587-57242b1855a6' title='Show/Hide data repr'><svg class='icon xr-icon-database'><use xlink:href='#icon-database'></use></svg></label><div class='xr-var-attrs'><dl class='xr-attrs'></dl></div><div class='xr-var-data'><pre>array([ 10,  11,  30,  40,  60,  61,  70,  90, 100, 130, 150, 160, 180, 190,\n",
       "       200, 210])</pre></div></li><li class='xr-var-item'><div class='xr-var-name'><span class='xr-has-index'>metric</span></div><div class='xr-var-dims'>(metric)</div><div class='xr-var-dtype'>object</div><div class='xr-var-preview xr-preview'>&#x27;num_patches&#x27; ... &#x27;effective_mes...</div><input id='attrs-1742cdbb-016f-40dc-a917-6478fed89cc3' class='xr-var-attrs-in' type='checkbox' disabled><label for='attrs-1742cdbb-016f-40dc-a917-6478fed89cc3' title='Show/Hide attributes'><svg class='icon xr-icon-file-text2'><use xlink:href='#icon-file-text2'></use></svg></label><input id='data-670b93e0-5b15-40a6-b923-aed1d474ada1' class='xr-var-data-in' type='checkbox'><label for='data-670b93e0-5b15-40a6-b923-aed1d474ada1' title='Show/Hide data repr'><svg class='icon xr-icon-database'><use xlink:href='#icon-database'></use></svg></label><div class='xr-var-attrs'><dl class='xr-attrs'></dl></div><div class='xr-var-data'><pre>array([&#x27;num_patches&#x27;, &#x27;avg_patch_area&#x27;, &#x27;total_area&#x27;,\n",
       "       &#x27;proportion_of_landscape&#x27;, &#x27;patch_density&#x27;, &#x27;largest_patch_index&#x27;,\n",
       "       &#x27;total_edge&#x27;, &#x27;edge_density&#x27;, &#x27;shape_index&#x27;, &#x27;effective_mesh_size&#x27;],\n",
       "      dtype=object)</pre></div></li><li class='xr-var-item'><div class='xr-var-name'><span class='xr-has-index'>time</span></div><div class='xr-var-dims'>(time)</div><div class='xr-var-dtype'>int64</div><div class='xr-var-preview xr-preview'>2000 2001 2002 ... 2012 2013 2014</div><input id='attrs-683e9171-f94a-4454-b223-95ff5beec873' class='xr-var-attrs-in' type='checkbox' disabled><label for='attrs-683e9171-f94a-4454-b223-95ff5beec873' title='Show/Hide attributes'><svg class='icon xr-icon-file-text2'><use xlink:href='#icon-file-text2'></use></svg></label><input id='data-ff84633a-18ae-4b49-b0b9-6067b9d9f3de' class='xr-var-data-in' type='checkbox'><label for='data-ff84633a-18ae-4b49-b0b9-6067b9d9f3de' title='Show/Hide data repr'><svg class='icon xr-icon-database'><use xlink:href='#icon-database'></use></svg></label><div class='xr-var-attrs'><dl class='xr-attrs'></dl></div><div class='xr-var-data'><pre>array([2000, 2001, 2002, 2003, 2004, 2005, 2006, 2007, 2008, 2009, 2010, 2011,\n",
       "       2012, 2013, 2014])</pre></div></li></ul></div></li><li class='xr-section-item'><input id='section-8947c459-9478-4ea2-8d25-d4ef8aaa3b72' class='xr-section-summary-in' type='checkbox' disabled ><label for='section-8947c459-9478-4ea2-8d25-d4ef8aaa3b72' class='xr-section-summary'  title='Expand/collapse section'>Attributes: <span>(0)</span></label><div class='xr-section-inline-details'></div><div class='xr-section-details'><dl class='xr-attrs'></dl></div></li></ul></div></div>"
      ],
      "text/plain": [
       "<xarray.DataArray (time: 15, class_label: 16, metric: 10)>\n",
       "array([[[1.46000000e+02, 4.17821918e+06, 6.10020000e+08, ...,\n",
       "         3.25071309e-03, 2.00720017e+01, 1.51005988e+07],\n",
       "        [9.40000000e+01, 2.83404255e+05, 2.66400000e+07, ...,\n",
       "         8.40090090e-03, 1.08400923e+01, 4.76302017e+03],\n",
       "        [3.31000000e+02, 3.48580060e+05, 1.15380000e+08, ...,\n",
       "         8.43473739e-03, 2.26504504e+01, 2.00204956e+04],\n",
       "        ...,\n",
       "        [           nan,            nan,            nan, ...,\n",
       "                    nan,            nan,            nan],\n",
       "        [1.00000000e+00, 1.80000000e+05, 1.80000000e+05, ...,\n",
       "         1.00000000e-02, 1.06066017e+00, 6.58785638e+00],\n",
       "        [4.40000000e+01, 2.60181818e+06, 1.14480000e+08, ...,\n",
       "         3.53773585e-03, 9.46303010e+00, 8.90230209e+05]],\n",
       "\n",
       "       [[1.48000000e+02, 4.11506757e+06, 6.09030000e+08, ...,\n",
       "         3.25107138e-03, 2.00579182e+01, 1.50962425e+07],\n",
       "        [9.40000000e+01, 2.82446809e+05, 2.65500000e+07, ...,\n",
       "         8.45197740e-03, 1.08875609e+01, 4.74160963e+03],\n",
       "        [3.30000000e+02, 3.43090909e+05, 1.13220000e+08, ...,\n",
       "         8.48436672e-03, 2.25694521e+01, 1.86238700e+04],\n",
       "...\n",
       "        [7.00000000e+00, 3.21428571e+05, 2.25000000e+06, ...,\n",
       "         8.53333333e-03, 3.20000000e+00, 4.56209055e+02],\n",
       "        [1.00000000e+00, 1.80000000e+05, 1.80000000e+05, ...,\n",
       "         1.00000000e-02, 1.06066017e+00, 6.58785638e+00],\n",
       "        [4.50000000e+01, 2.28800000e+06, 1.02960000e+08, ...,\n",
       "         4.05011655e-03, 1.02740529e+01, 7.54467665e+05]],\n",
       "\n",
       "       [[1.90000000e+02, 2.75873684e+06, 5.24160000e+08, ...,\n",
       "         3.38026557e-03, 1.93474070e+01, 1.28988779e+07],\n",
       "        [8.40000000e+01, 2.59285714e+05, 2.17800000e+07, ...,\n",
       "         8.67768595e-03, 1.01244835e+01, 3.75507814e+03],\n",
       "        [2.74000000e+02, 2.61459854e+05, 7.16400000e+07, ...,\n",
       "         9.32998325e-03, 1.97423416e+01, 8.69597043e+03],\n",
       "        ...,\n",
       "        [7.00000000e+00, 3.21428571e+05, 2.25000000e+06, ...,\n",
       "         8.53333333e-03, 3.20000000e+00, 4.56209055e+02],\n",
       "        [1.00000000e+00, 1.80000000e+05, 1.80000000e+05, ...,\n",
       "         1.00000000e-02, 1.06066017e+00, 6.58785638e+00],\n",
       "        [3.40000000e+01, 3.18176471e+06, 1.08180000e+08, ...,\n",
       "         3.97115918e-03, 1.03259684e+01, 9.15741683e+05]]])\n",
       "Coordinates:\n",
       "  * class_label  (class_label) int64 10 11 30 40 60 61 ... 160 180 190 200 210\n",
       "  * metric       (metric) object 'num_patches' ... 'effective_mesh_size'\n",
       "  * time         (time) int64 2000 2001 2002 2003 2004 ... 2011 2012 2013 2014"
      ]
     },
     "execution_count": 123,
     "metadata": {},
     "output_type": "execute_result"
    }
   ],
   "source": [
    "class_metrics = graph_timestack.get_class_metrics()\n",
    "class_metrics"
   ]
  },
  {
   "cell_type": "code",
   "execution_count": 124,
   "id": "prostate-sodium",
   "metadata": {
    "execution": {
     "iopub.execute_input": "2021-03-18T00:06:18.200126Z",
     "iopub.status.busy": "2021-03-18T00:06:18.199921Z",
     "iopub.status.idle": "2021-03-18T00:06:18.231117Z",
     "shell.execute_reply": "2021-03-18T00:06:18.230807Z",
     "shell.execute_reply.started": "2021-03-18T00:06:18.200108Z"
    }
   },
   "outputs": [
    {
     "data": {
      "text/html": [
       "<div><svg style=\"position: absolute; width: 0; height: 0; overflow: hidden\">\n",
       "<defs>\n",
       "<symbol id=\"icon-database\" viewBox=\"0 0 32 32\">\n",
       "<path d=\"M16 0c-8.837 0-16 2.239-16 5v4c0 2.761 7.163 5 16 5s16-2.239 16-5v-4c0-2.761-7.163-5-16-5z\"></path>\n",
       "<path d=\"M16 17c-8.837 0-16-2.239-16-5v6c0 2.761 7.163 5 16 5s16-2.239 16-5v-6c0 2.761-7.163 5-16 5z\"></path>\n",
       "<path d=\"M16 26c-8.837 0-16-2.239-16-5v6c0 2.761 7.163 5 16 5s16-2.239 16-5v-6c0 2.761-7.163 5-16 5z\"></path>\n",
       "</symbol>\n",
       "<symbol id=\"icon-file-text2\" viewBox=\"0 0 32 32\">\n",
       "<path d=\"M28.681 7.159c-0.694-0.947-1.662-2.053-2.724-3.116s-2.169-2.030-3.116-2.724c-1.612-1.182-2.393-1.319-2.841-1.319h-15.5c-1.378 0-2.5 1.121-2.5 2.5v27c0 1.378 1.122 2.5 2.5 2.5h23c1.378 0 2.5-1.122 2.5-2.5v-19.5c0-0.448-0.137-1.23-1.319-2.841zM24.543 5.457c0.959 0.959 1.712 1.825 2.268 2.543h-4.811v-4.811c0.718 0.556 1.584 1.309 2.543 2.268zM28 29.5c0 0.271-0.229 0.5-0.5 0.5h-23c-0.271 0-0.5-0.229-0.5-0.5v-27c0-0.271 0.229-0.5 0.5-0.5 0 0 15.499-0 15.5 0v7c0 0.552 0.448 1 1 1h7v19.5z\"></path>\n",
       "<path d=\"M23 26h-14c-0.552 0-1-0.448-1-1s0.448-1 1-1h14c0.552 0 1 0.448 1 1s-0.448 1-1 1z\"></path>\n",
       "<path d=\"M23 22h-14c-0.552 0-1-0.448-1-1s0.448-1 1-1h14c0.552 0 1 0.448 1 1s-0.448 1-1 1z\"></path>\n",
       "<path d=\"M23 18h-14c-0.552 0-1-0.448-1-1s0.448-1 1-1h14c0.552 0 1 0.448 1 1s-0.448 1-1 1z\"></path>\n",
       "</symbol>\n",
       "</defs>\n",
       "</svg>\n",
       "<style>/* CSS stylesheet for displaying xarray objects in jupyterlab.\n",
       " *\n",
       " */\n",
       "\n",
       ":root {\n",
       "  --xr-font-color0: var(--jp-content-font-color0, rgba(0, 0, 0, 1));\n",
       "  --xr-font-color2: var(--jp-content-font-color2, rgba(0, 0, 0, 0.54));\n",
       "  --xr-font-color3: var(--jp-content-font-color3, rgba(0, 0, 0, 0.38));\n",
       "  --xr-border-color: var(--jp-border-color2, #e0e0e0);\n",
       "  --xr-disabled-color: var(--jp-layout-color3, #bdbdbd);\n",
       "  --xr-background-color: var(--jp-layout-color0, white);\n",
       "  --xr-background-color-row-even: var(--jp-layout-color1, white);\n",
       "  --xr-background-color-row-odd: var(--jp-layout-color2, #eeeeee);\n",
       "}\n",
       "\n",
       "html[theme=dark],\n",
       "body.vscode-dark {\n",
       "  --xr-font-color0: rgba(255, 255, 255, 1);\n",
       "  --xr-font-color2: rgba(255, 255, 255, 0.54);\n",
       "  --xr-font-color3: rgba(255, 255, 255, 0.38);\n",
       "  --xr-border-color: #1F1F1F;\n",
       "  --xr-disabled-color: #515151;\n",
       "  --xr-background-color: #111111;\n",
       "  --xr-background-color-row-even: #111111;\n",
       "  --xr-background-color-row-odd: #313131;\n",
       "}\n",
       "\n",
       ".xr-wrap {\n",
       "  display: block;\n",
       "  min-width: 300px;\n",
       "  max-width: 700px;\n",
       "}\n",
       "\n",
       ".xr-text-repr-fallback {\n",
       "  /* fallback to plain text repr when CSS is not injected (untrusted notebook) */\n",
       "  display: none;\n",
       "}\n",
       "\n",
       ".xr-header {\n",
       "  padding-top: 6px;\n",
       "  padding-bottom: 6px;\n",
       "  margin-bottom: 4px;\n",
       "  border-bottom: solid 1px var(--xr-border-color);\n",
       "}\n",
       "\n",
       ".xr-header > div,\n",
       ".xr-header > ul {\n",
       "  display: inline;\n",
       "  margin-top: 0;\n",
       "  margin-bottom: 0;\n",
       "}\n",
       "\n",
       ".xr-obj-type,\n",
       ".xr-array-name {\n",
       "  margin-left: 2px;\n",
       "  margin-right: 10px;\n",
       "}\n",
       "\n",
       ".xr-obj-type {\n",
       "  color: var(--xr-font-color2);\n",
       "}\n",
       "\n",
       ".xr-sections {\n",
       "  padding-left: 0 !important;\n",
       "  display: grid;\n",
       "  grid-template-columns: 150px auto auto 1fr 20px 20px;\n",
       "}\n",
       "\n",
       ".xr-section-item {\n",
       "  display: contents;\n",
       "}\n",
       "\n",
       ".xr-section-item input {\n",
       "  display: none;\n",
       "}\n",
       "\n",
       ".xr-section-item input + label {\n",
       "  color: var(--xr-disabled-color);\n",
       "}\n",
       "\n",
       ".xr-section-item input:enabled + label {\n",
       "  cursor: pointer;\n",
       "  color: var(--xr-font-color2);\n",
       "}\n",
       "\n",
       ".xr-section-item input:enabled + label:hover {\n",
       "  color: var(--xr-font-color0);\n",
       "}\n",
       "\n",
       ".xr-section-summary {\n",
       "  grid-column: 1;\n",
       "  color: var(--xr-font-color2);\n",
       "  font-weight: 500;\n",
       "}\n",
       "\n",
       ".xr-section-summary > span {\n",
       "  display: inline-block;\n",
       "  padding-left: 0.5em;\n",
       "}\n",
       "\n",
       ".xr-section-summary-in:disabled + label {\n",
       "  color: var(--xr-font-color2);\n",
       "}\n",
       "\n",
       ".xr-section-summary-in + label:before {\n",
       "  display: inline-block;\n",
       "  content: '►';\n",
       "  font-size: 11px;\n",
       "  width: 15px;\n",
       "  text-align: center;\n",
       "}\n",
       "\n",
       ".xr-section-summary-in:disabled + label:before {\n",
       "  color: var(--xr-disabled-color);\n",
       "}\n",
       "\n",
       ".xr-section-summary-in:checked + label:before {\n",
       "  content: '▼';\n",
       "}\n",
       "\n",
       ".xr-section-summary-in:checked + label > span {\n",
       "  display: none;\n",
       "}\n",
       "\n",
       ".xr-section-summary,\n",
       ".xr-section-inline-details {\n",
       "  padding-top: 4px;\n",
       "  padding-bottom: 4px;\n",
       "}\n",
       "\n",
       ".xr-section-inline-details {\n",
       "  grid-column: 2 / -1;\n",
       "}\n",
       "\n",
       ".xr-section-details {\n",
       "  display: none;\n",
       "  grid-column: 1 / -1;\n",
       "  margin-bottom: 5px;\n",
       "}\n",
       "\n",
       ".xr-section-summary-in:checked ~ .xr-section-details {\n",
       "  display: contents;\n",
       "}\n",
       "\n",
       ".xr-array-wrap {\n",
       "  grid-column: 1 / -1;\n",
       "  display: grid;\n",
       "  grid-template-columns: 20px auto;\n",
       "}\n",
       "\n",
       ".xr-array-wrap > label {\n",
       "  grid-column: 1;\n",
       "  vertical-align: top;\n",
       "}\n",
       "\n",
       ".xr-preview {\n",
       "  color: var(--xr-font-color3);\n",
       "}\n",
       "\n",
       ".xr-array-preview,\n",
       ".xr-array-data {\n",
       "  padding: 0 5px !important;\n",
       "  grid-column: 2;\n",
       "}\n",
       "\n",
       ".xr-array-data,\n",
       ".xr-array-in:checked ~ .xr-array-preview {\n",
       "  display: none;\n",
       "}\n",
       "\n",
       ".xr-array-in:checked ~ .xr-array-data,\n",
       ".xr-array-preview {\n",
       "  display: inline-block;\n",
       "}\n",
       "\n",
       ".xr-dim-list {\n",
       "  display: inline-block !important;\n",
       "  list-style: none;\n",
       "  padding: 0 !important;\n",
       "  margin: 0;\n",
       "}\n",
       "\n",
       ".xr-dim-list li {\n",
       "  display: inline-block;\n",
       "  padding: 0;\n",
       "  margin: 0;\n",
       "}\n",
       "\n",
       ".xr-dim-list:before {\n",
       "  content: '(';\n",
       "}\n",
       "\n",
       ".xr-dim-list:after {\n",
       "  content: ')';\n",
       "}\n",
       "\n",
       ".xr-dim-list li:not(:last-child):after {\n",
       "  content: ',';\n",
       "  padding-right: 5px;\n",
       "}\n",
       "\n",
       ".xr-has-index {\n",
       "  font-weight: bold;\n",
       "}\n",
       "\n",
       ".xr-var-list,\n",
       ".xr-var-item {\n",
       "  display: contents;\n",
       "}\n",
       "\n",
       ".xr-var-item > div,\n",
       ".xr-var-item label,\n",
       ".xr-var-item > .xr-var-name span {\n",
       "  background-color: var(--xr-background-color-row-even);\n",
       "  margin-bottom: 0;\n",
       "}\n",
       "\n",
       ".xr-var-item > .xr-var-name:hover span {\n",
       "  padding-right: 5px;\n",
       "}\n",
       "\n",
       ".xr-var-list > li:nth-child(odd) > div,\n",
       ".xr-var-list > li:nth-child(odd) > label,\n",
       ".xr-var-list > li:nth-child(odd) > .xr-var-name span {\n",
       "  background-color: var(--xr-background-color-row-odd);\n",
       "}\n",
       "\n",
       ".xr-var-name {\n",
       "  grid-column: 1;\n",
       "}\n",
       "\n",
       ".xr-var-dims {\n",
       "  grid-column: 2;\n",
       "}\n",
       "\n",
       ".xr-var-dtype {\n",
       "  grid-column: 3;\n",
       "  text-align: right;\n",
       "  color: var(--xr-font-color2);\n",
       "}\n",
       "\n",
       ".xr-var-preview {\n",
       "  grid-column: 4;\n",
       "}\n",
       "\n",
       ".xr-var-name,\n",
       ".xr-var-dims,\n",
       ".xr-var-dtype,\n",
       ".xr-preview,\n",
       ".xr-attrs dt {\n",
       "  white-space: nowrap;\n",
       "  overflow: hidden;\n",
       "  text-overflow: ellipsis;\n",
       "  padding-right: 10px;\n",
       "}\n",
       "\n",
       ".xr-var-name:hover,\n",
       ".xr-var-dims:hover,\n",
       ".xr-var-dtype:hover,\n",
       ".xr-attrs dt:hover {\n",
       "  overflow: visible;\n",
       "  width: auto;\n",
       "  z-index: 1;\n",
       "}\n",
       "\n",
       ".xr-var-attrs,\n",
       ".xr-var-data {\n",
       "  display: none;\n",
       "  background-color: var(--xr-background-color) !important;\n",
       "  padding-bottom: 5px !important;\n",
       "}\n",
       "\n",
       ".xr-var-attrs-in:checked ~ .xr-var-attrs,\n",
       ".xr-var-data-in:checked ~ .xr-var-data {\n",
       "  display: block;\n",
       "}\n",
       "\n",
       ".xr-var-data > table {\n",
       "  float: right;\n",
       "}\n",
       "\n",
       ".xr-var-name span,\n",
       ".xr-var-data,\n",
       ".xr-attrs {\n",
       "  padding-left: 25px !important;\n",
       "}\n",
       "\n",
       ".xr-attrs,\n",
       ".xr-var-attrs,\n",
       ".xr-var-data {\n",
       "  grid-column: 1 / -1;\n",
       "}\n",
       "\n",
       "dl.xr-attrs {\n",
       "  padding: 0;\n",
       "  margin: 0;\n",
       "  display: grid;\n",
       "  grid-template-columns: 125px auto;\n",
       "}\n",
       "\n",
       ".xr-attrs dt,\n",
       ".xr-attrs dd {\n",
       "  padding: 0;\n",
       "  margin: 0;\n",
       "  float: left;\n",
       "  padding-right: 10px;\n",
       "  width: auto;\n",
       "}\n",
       "\n",
       ".xr-attrs dt {\n",
       "  font-weight: normal;\n",
       "  grid-column: 1;\n",
       "}\n",
       "\n",
       ".xr-attrs dt:hover span {\n",
       "  display: inline-block;\n",
       "  background: var(--xr-background-color);\n",
       "  padding-right: 10px;\n",
       "}\n",
       "\n",
       ".xr-attrs dd {\n",
       "  grid-column: 2;\n",
       "  white-space: pre-wrap;\n",
       "  word-break: break-all;\n",
       "}\n",
       "\n",
       ".xr-icon-database,\n",
       ".xr-icon-file-text2 {\n",
       "  display: inline-block;\n",
       "  vertical-align: middle;\n",
       "  width: 1em;\n",
       "  height: 1.5em !important;\n",
       "  stroke-width: 0;\n",
       "  stroke: currentColor;\n",
       "  fill: currentColor;\n",
       "}\n",
       "</style><pre class='xr-text-repr-fallback'>&lt;xarray.DataArray (class_label: 16)&gt;\n",
       "array([6.1002e+08, 2.6640e+07, 1.1538e+08, 1.6812e+08, 1.2060e+08,\n",
       "       9.0000e+04, 8.5617e+08, 4.3218e+08, 1.2654e+08, 1.2960e+07,\n",
       "       2.3400e+06, 9.9900e+06, 1.8900e+06,        nan, 1.8000e+05,\n",
       "       1.1448e+08])\n",
       "Coordinates:\n",
       "  * class_label  (class_label) int64 10 11 30 40 60 61 ... 160 180 190 200 210\n",
       "    metric       &lt;U10 &#x27;total_area&#x27;\n",
       "    time         int64 2000</pre><div class='xr-wrap' hidden><div class='xr-header'><div class='xr-obj-type'>xarray.DataArray</div><div class='xr-array-name'></div><ul class='xr-dim-list'><li><span class='xr-has-index'>class_label</span>: 16</li></ul></div><ul class='xr-sections'><li class='xr-section-item'><div class='xr-array-wrap'><input id='section-fa620341-0436-4453-af11-f653e7fb2e19' class='xr-array-in' type='checkbox' checked><label for='section-fa620341-0436-4453-af11-f653e7fb2e19' title='Show/hide data repr'><svg class='icon xr-icon-database'><use xlink:href='#icon-database'></use></svg></label><div class='xr-array-preview xr-preview'><span>6.1e+08 2.664e+07 1.154e+08 1.681e+08 ... nan 1.8e+05 1.145e+08</span></div><div class='xr-array-data'><pre>array([6.1002e+08, 2.6640e+07, 1.1538e+08, 1.6812e+08, 1.2060e+08,\n",
       "       9.0000e+04, 8.5617e+08, 4.3218e+08, 1.2654e+08, 1.2960e+07,\n",
       "       2.3400e+06, 9.9900e+06, 1.8900e+06,        nan, 1.8000e+05,\n",
       "       1.1448e+08])</pre></div></div></li><li class='xr-section-item'><input id='section-2e52a041-dd49-4326-af2c-766775ae2c77' class='xr-section-summary-in' type='checkbox'  checked><label for='section-2e52a041-dd49-4326-af2c-766775ae2c77' class='xr-section-summary' >Coordinates: <span>(3)</span></label><div class='xr-section-inline-details'></div><div class='xr-section-details'><ul class='xr-var-list'><li class='xr-var-item'><div class='xr-var-name'><span class='xr-has-index'>class_label</span></div><div class='xr-var-dims'>(class_label)</div><div class='xr-var-dtype'>int64</div><div class='xr-var-preview xr-preview'>10 11 30 40 60 ... 180 190 200 210</div><input id='attrs-ad74e1c2-af2d-4755-ad1c-edb92be9e5be' class='xr-var-attrs-in' type='checkbox' disabled><label for='attrs-ad74e1c2-af2d-4755-ad1c-edb92be9e5be' title='Show/Hide attributes'><svg class='icon xr-icon-file-text2'><use xlink:href='#icon-file-text2'></use></svg></label><input id='data-fc323fbe-3ceb-486c-b5d3-2a432418524e' class='xr-var-data-in' type='checkbox'><label for='data-fc323fbe-3ceb-486c-b5d3-2a432418524e' title='Show/Hide data repr'><svg class='icon xr-icon-database'><use xlink:href='#icon-database'></use></svg></label><div class='xr-var-attrs'><dl class='xr-attrs'></dl></div><div class='xr-var-data'><pre>array([ 10,  11,  30,  40,  60,  61,  70,  90, 100, 130, 150, 160, 180, 190,\n",
       "       200, 210])</pre></div></li><li class='xr-var-item'><div class='xr-var-name'><span>metric</span></div><div class='xr-var-dims'>()</div><div class='xr-var-dtype'>&lt;U10</div><div class='xr-var-preview xr-preview'>&#x27;total_area&#x27;</div><input id='attrs-b506ba57-227c-41b4-9d38-4a1f8ea88ad2' class='xr-var-attrs-in' type='checkbox' disabled><label for='attrs-b506ba57-227c-41b4-9d38-4a1f8ea88ad2' title='Show/Hide attributes'><svg class='icon xr-icon-file-text2'><use xlink:href='#icon-file-text2'></use></svg></label><input id='data-5ad5e2ae-9663-4454-a783-76b58836c767' class='xr-var-data-in' type='checkbox'><label for='data-5ad5e2ae-9663-4454-a783-76b58836c767' title='Show/Hide data repr'><svg class='icon xr-icon-database'><use xlink:href='#icon-database'></use></svg></label><div class='xr-var-attrs'><dl class='xr-attrs'></dl></div><div class='xr-var-data'><pre>array(&#x27;total_area&#x27;, dtype=&#x27;&lt;U10&#x27;)</pre></div></li><li class='xr-var-item'><div class='xr-var-name'><span>time</span></div><div class='xr-var-dims'>()</div><div class='xr-var-dtype'>int64</div><div class='xr-var-preview xr-preview'>2000</div><input id='attrs-21cf086e-1435-4a42-bf73-e0db90d26ded' class='xr-var-attrs-in' type='checkbox' disabled><label for='attrs-21cf086e-1435-4a42-bf73-e0db90d26ded' title='Show/Hide attributes'><svg class='icon xr-icon-file-text2'><use xlink:href='#icon-file-text2'></use></svg></label><input id='data-685c97d5-bf2c-471f-b5a9-43ded9e781e5' class='xr-var-data-in' type='checkbox'><label for='data-685c97d5-bf2c-471f-b5a9-43ded9e781e5' title='Show/Hide data repr'><svg class='icon xr-icon-database'><use xlink:href='#icon-database'></use></svg></label><div class='xr-var-attrs'><dl class='xr-attrs'></dl></div><div class='xr-var-data'><pre>array(2000)</pre></div></li></ul></div></li><li class='xr-section-item'><input id='section-6a0f4f62-8769-4173-bf28-c907a7870bb7' class='xr-section-summary-in' type='checkbox' disabled ><label for='section-6a0f4f62-8769-4173-bf28-c907a7870bb7' class='xr-section-summary'  title='Expand/collapse section'>Attributes: <span>(0)</span></label><div class='xr-section-inline-details'></div><div class='xr-section-details'><dl class='xr-attrs'></dl></div></li></ul></div></div>"
      ],
      "text/plain": [
       "<xarray.DataArray (class_label: 16)>\n",
       "array([6.1002e+08, 2.6640e+07, 1.1538e+08, 1.6812e+08, 1.2060e+08,\n",
       "       9.0000e+04, 8.5617e+08, 4.3218e+08, 1.2654e+08, 1.2960e+07,\n",
       "       2.3400e+06, 9.9900e+06, 1.8900e+06,        nan, 1.8000e+05,\n",
       "       1.1448e+08])\n",
       "Coordinates:\n",
       "  * class_label  (class_label) int64 10 11 30 40 60 61 ... 160 180 190 200 210\n",
       "    metric       <U10 'total_area'\n",
       "    time         int64 2000"
      ]
     },
     "execution_count": 124,
     "metadata": {},
     "output_type": "execute_result"
    }
   ],
   "source": [
    "class_metrics.loc[2000, : , \"total_area\"]"
   ]
  },
  {
   "cell_type": "code",
   "execution_count": 125,
   "id": "assured-hearts",
   "metadata": {
    "execution": {
     "iopub.execute_input": "2021-03-18T00:06:19.725765Z",
     "iopub.status.busy": "2021-03-18T00:06:19.725562Z",
     "iopub.status.idle": "2021-03-18T00:06:20.373872Z",
     "shell.execute_reply": "2021-03-18T00:06:20.373497Z",
     "shell.execute_reply.started": "2021-03-18T00:06:19.725747Z"
    }
   },
   "outputs": [
    {
     "data": {
      "text/plain": [
       "<AxesSubplot:>"
      ]
     },
     "execution_count": 125,
     "metadata": {},
     "output_type": "execute_result"
    },
    {
     "data": {
      "image/png": "[encoded data removed]",
      "text/plain": [
       "<Figure size 432x288 with 1 Axes>"
      ]
     },
     "metadata": {
      "needs_background": "light"
     },
     "output_type": "display_data"
    }
   ],
   "source": [
    "graph_timestack[2000].df.plot(\"class_label\")"
   ]
  },
  {
   "cell_type": "code",
   "execution_count": 134,
   "id": "defined-october",
   "metadata": {
    "execution": {
     "iopub.execute_input": "2021-03-18T00:10:08.793138Z",
     "iopub.status.busy": "2021-03-18T00:10:08.792937Z",
     "iopub.status.idle": "2021-03-18T00:10:09.268061Z",
     "shell.execute_reply": "2021-03-18T00:10:09.267741Z",
     "shell.execute_reply.started": "2021-03-18T00:10:08.793120Z"
    }
   },
   "outputs": [
    {
     "data": {
      "text/plain": [
       "<AxesSubplot:>"
      ]
     },
     "execution_count": 134,
     "metadata": {},
     "output_type": "execute_result"
    },
    {
     "data": {
      "image/png": "[encoded data removed]",
      "text/plain": [
       "<Figure size 432x288 with 1 Axes>"
      ]
     },
     "metadata": {
      "needs_background": "light"
     },
     "output_type": "display_data"
    }
   ],
   "source": [
    "graph_timestack[2000].df[graph_timestack[2000].df[\"class_label\"].isin([50, 60, 70, 80, 90])].plot()"
   ]
  },
  {
   "cell_type": "code",
   "execution_count": 135,
   "id": "minus-soldier",
   "metadata": {
    "execution": {
     "iopub.execute_input": "2021-03-18T00:11:16.022903Z",
     "iopub.status.busy": "2021-03-18T00:11:16.022692Z",
     "iopub.status.idle": "2021-03-18T00:11:16.572883Z",
     "shell.execute_reply": "2021-03-18T00:11:16.572552Z",
     "shell.execute_reply.started": "2021-03-18T00:11:16.022884Z"
    }
   },
   "outputs": [
    {
     "name": "stdout",
     "output_type": "stream",
     "text": [
      "Object `add_habitat` not found.\n"
     ]
    }
   ],
   "source": [
    "graph_timestack[2000].add_habitat"
   ]
  },
  {
   "cell_type": "code",
   "execution_count": null,
   "id": "generous-ordinance",
   "metadata": {},
   "outputs": [],
   "source": [
    "graph_timestack[2000].add_habitat"
   ]
  },
  {
   "cell_type": "code",
   "execution_count": null,
   "id": "stuck-frontier",
   "metadata": {},
   "outputs": [],
   "source": []
  }
 ],
 "metadata": {
  "kernelspec": {
   "display_name": "Python 3.8.6 64-bit (conda)",
   "language": "python",
   "name": "python38664bitcondaa02632c3747848fca9e6bac7131e6e7e"
  },
  "language_info": {
   "codemirror_mode": {
    "name": "ipython",
    "version": 3
   },
   "file_extension": ".py",
   "mimetype": "text/x-python",
   "name": "python",
   "nbconvert_exporter": "python",
   "pygments_lexer": "ipython3",
   "version": "3.8.6"
  }
 },
 "nbformat": 4,
 "nbformat_minor": 5
}
