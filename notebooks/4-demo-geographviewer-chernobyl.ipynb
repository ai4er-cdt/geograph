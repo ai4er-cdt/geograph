{
 "cells": [
  {
   "cell_type": "markdown",
   "id": "black-appraisal",
   "metadata": {},
   "source": [
    "# Interactive Temporal Analysis"
   ]
  },
  {
   "cell_type": "markdown",
   "id": "unknown-button",
   "metadata": {
    "execution": {
     "iopub.execute_input": "2021-03-25T00:07:53.493619Z",
     "iopub.status.busy": "2021-03-25T00:07:53.493296Z",
     "iopub.status.idle": "2021-03-25T00:07:53.509659Z",
     "shell.execute_reply": "2021-03-25T00:07:53.508340Z",
     "shell.execute_reply.started": "2021-03-25T00:07:53.493590Z"
    }
   },
   "source": [
    "---\n",
    "\n",
    "## 0. Setup and Loading package"
   ]
  },
  {
   "cell_type": "code",
   "execution_count": 1,
   "id": "preceding-albany",
   "metadata": {
    "ExecuteTime": {
     "end_time": "2021-05-13T10:22:37.280943Z",
     "start_time": "2021-05-13T10:22:37.248549Z"
    },
    "execution": {
     "iopub.execute_input": "2021-03-25T21:28:16.706070Z",
     "iopub.status.busy": "2021-03-25T21:28:16.705353Z",
     "iopub.status.idle": "2021-03-25T21:28:16.970961Z",
     "shell.execute_reply": "2021-03-25T21:28:16.970299Z",
     "shell.execute_reply.started": "2021-03-25T21:28:16.705864Z"
    },
    "nbshpinx": "hidden",
    "tags": []
   },
   "outputs": [],
   "source": [
    "%load_ext autoreload\n",
    "%autoreload 2\n",
    "%config IPCompleter.greedy=True"
   ]
  },
  {
   "cell_type": "code",
   "execution_count": 3,
   "id": "ahead-duncan",
   "metadata": {
    "ExecuteTime": {
     "end_time": "2021-05-13T10:22:59.373923Z",
     "start_time": "2021-05-13T10:22:59.317735Z"
    },
    "execution": {
     "iopub.execute_input": "2021-03-25T21:28:32.226379Z",
     "iopub.status.busy": "2021-03-25T21:28:32.226099Z",
     "iopub.status.idle": "2021-03-25T21:28:38.563747Z",
     "shell.execute_reply": "2021-03-25T21:28:38.563028Z",
     "shell.execute_reply.started": "2021-03-25T21:28:32.226346Z"
    },
    "tags": []
   },
   "outputs": [],
   "source": [
    "import ipyleaflet\n",
    "import pandas as pd\n",
    "import geopandas as gpd\n",
    "import rioxarray as rxr\n",
    "\n",
    "import geograph\n",
    "from geograph import geotimeline\n",
    "from geograph.visualisation import geoviewer\n",
    "from geograph.constants import UTM35N\n",
    "from geograph.demo.binder_constants import DATA_DIR, ROIS, ESA_CCI_LEGEND_LINK"
   ]
  },
  {
   "cell_type": "markdown",
   "id": "military-security",
   "metadata": {
    "execution": {
     "iopub.execute_input": "2021-03-25T00:08:04.986653Z",
     "iopub.status.busy": "2021-03-25T00:08:04.986358Z",
     "iopub.status.idle": "2021-03-25T00:08:05.016681Z",
     "shell.execute_reply": "2021-03-25T00:08:05.015799Z",
     "shell.execute_reply.started": "2021-03-25T00:08:04.986625Z"
    }
   },
   "source": [
    "---\n",
    "\n",
    "## 1. Loading Data"
   ]
  },
  {
   "cell_type": "code",
   "execution_count": 4,
   "id": "funky-youth",
   "metadata": {
    "ExecuteTime": {
     "end_time": "2021-05-13T10:23:06.234635Z",
     "start_time": "2021-05-13T10:23:06.086486Z"
    },
    "execution": {
     "iopub.execute_input": "2021-03-25T21:28:38.565031Z",
     "iopub.status.busy": "2021-03-25T21:28:38.564810Z",
     "iopub.status.idle": "2021-03-25T21:28:38.699629Z",
     "shell.execute_reply": "2021-03-25T21:28:38.698758Z",
     "shell.execute_reply.started": "2021-03-25T21:28:38.565003Z"
    },
    "tags": []
   },
   "outputs": [],
   "source": [
    "# Parse geotif landcover data\n",
    "chernobyl_path = lambda year: DATA_DIR / \"chernobyl\" / \"esa_cci\" / f\"esa_cci_{year}_chernobyl.tif\" \n",
    "\n",
    "# Parse ROIS\n",
    "rois = gpd.read_file(ROIS)\n",
    "cez = rois[rois[\"name\"] == \"Chernobyl Exclusion Zone\"]"
   ]
  },
  {
   "cell_type": "code",
   "execution_count": 5,
   "id": "figured-reducing",
   "metadata": {
    "ExecuteTime": {
     "end_time": "2021-05-13T10:23:06.787972Z",
     "start_time": "2021-05-13T10:23:06.726950Z"
    },
    "execution": {
     "iopub.execute_input": "2021-03-25T21:28:49.615703Z",
     "iopub.status.busy": "2021-03-25T21:28:49.615394Z",
     "iopub.status.idle": "2021-03-25T21:28:50.073012Z",
     "shell.execute_reply": "2021-03-25T21:28:50.071564Z",
     "shell.execute_reply.started": "2021-03-25T21:28:49.615664Z"
    },
    "tags": []
   },
   "outputs": [],
   "source": [
    "def clip_and_reproject(xrdata, clip_geometry=None, to_crs=UTM35N, x_res=300, y_res=300):\n",
    "    \n",
    "    if clip_geometry is not None:\n",
    "        clipped_data = xrdata.rio.clip(clip_geometry)\n",
    "    else:\n",
    "        clipped_data = xrdata\n",
    "        \n",
    "    if to_crs is not None:\n",
    "        reprojected_data = clipped_data.rio.reproject(to_crs, resolution=(x_res, y_res))\n",
    "    else:\n",
    "        reprojected_data = clipped_data\n",
    "    \n",
    "    return reprojected_data"
   ]
  },
  {
   "cell_type": "code",
   "execution_count": 7,
   "id": "organizational-thriller",
   "metadata": {
    "ExecuteTime": {
     "end_time": "2021-05-13T10:24:19.232917Z",
     "start_time": "2021-05-13T10:24:17.808682Z"
    }
   },
   "outputs": [],
   "source": [
    "# Loading ESA CCI land cover raster data\n",
    "years = list(range(2013,2015))\n",
    "cez_rasters = {year: clip_and_reproject(rxr.open_rasterio(chernobyl_path(year)), clip_geometry=cez.geometry) \n",
    "              for year in years\n",
    "             }"
   ]
  },
  {
   "cell_type": "code",
   "execution_count": 8,
   "id": "nearby-persian",
   "metadata": {
    "ExecuteTime": {
     "end_time": "2021-05-13T10:24:23.887256Z",
     "start_time": "2021-05-13T10:24:22.877951Z"
    }
   },
   "outputs": [
    {
     "name": "stdout",
     "output_type": "stream",
     "text": [
      "There are 38 classes.\n"
     ]
    }
   ],
   "source": [
    "# Loading ESA CCI land cover legend to translate land cover labels to classes\n",
    "esa_cci_legend = pd.read_csv(ESA_CCI_LEGEND_LINK, delimiter=\";\", index_col=0)\n",
    "print(f\"There are {len(esa_cci_legend)} classes.\")\n",
    "\n",
    "class_value_to_label = {class_val: row.LCCOwnLabel for class_val, row in esa_cci_legend.iterrows()}"
   ]
  },
  {
   "cell_type": "markdown",
   "id": "personalized-athens",
   "metadata": {},
   "source": [
    "---\n",
    "\n",
    "## 2. Creating `GeoGraph`"
   ]
  },
  {
   "cell_type": "code",
   "execution_count": 9,
   "id": "elementary-poster",
   "metadata": {
    "ExecuteTime": {
     "end_time": "2021-05-13T10:25:35.015636Z",
     "start_time": "2021-05-13T10:25:01.151954Z"
    },
    "execution": {
     "iopub.execute_input": "2021-03-25T21:28:51.204862Z",
     "iopub.status.busy": "2021-03-25T21:28:51.204604Z",
     "iopub.status.idle": "2021-03-25T21:29:30.176505Z",
     "shell.execute_reply": "2021-03-25T21:29:30.175567Z",
     "shell.execute_reply.started": "2021-03-25T21:28:51.204830Z"
    },
    "tags": []
   },
   "outputs": [
    {
     "name": "stdout",
     "output_type": "stream",
     "text": [
      "Analysing year 2013\n"
     ]
    },
    {
     "name": "stderr",
     "output_type": "stream",
     "text": [
      "Step 1 of 2: Creating nodes and finding neighbours: 100%|██████████| 2003/2003 [00:10<00:00, 192.82it/s]\n",
      "Step 2 of 2: Adding edges: 100%|██████████| 2003/2003 [00:00<00:00, 65181.60it/s]\n"
     ]
    },
    {
     "name": "stdout",
     "output_type": "stream",
     "text": [
      "Graph successfully loaded with 2003 nodes and 5140 edges.\n",
      "Analysing year 2014\n"
     ]
    },
    {
     "name": "stderr",
     "output_type": "stream",
     "text": [
      "Step 1 of 2: Creating nodes and finding neighbours: 100%|██████████| 1999/1999 [00:10<00:00, 187.49it/s]\n",
      "Step 2 of 2: Adding edges: 100%|██████████| 1999/1999 [00:00<00:00, 64231.65it/s]"
     ]
    },
    {
     "name": "stdout",
     "output_type": "stream",
     "text": [
      "Graph successfully loaded with 1999 nodes and 5117 edges.\n"
     ]
    },
    {
     "name": "stderr",
     "output_type": "stream",
     "text": [
      "\n"
     ]
    }
   ],
   "source": [
    "# Polygonising raster and transforming into graph\n",
    "cez_graphs = {}\n",
    "for year, raster in cez_rasters.items():\n",
    "    print(f\"Analysing year {year}\")\n",
    "    # Load geograph from the raster data (construction takes ~10s)\n",
    "    cez_graphs[year] = geograph.GeoGraph(data=raster.data, \n",
    "                                transform=raster.rio.transform(), \n",
    "                                crs=UTM35N, \n",
    "                                mask = raster.data > 0,\n",
    "                                connectivity=8)\n",
    "    # Map the ESA CCI land cover class value (int) to the plain text label\n",
    "    #  to have the plain text labels available in the interactive viewer.\n",
    "    cez_graphs[year].df.class_label = cez_graphs[year].df.class_label.apply(lambda x: class_value_to_label[x])"
   ]
  },
  {
   "cell_type": "markdown",
   "id": "classified-canvas",
   "metadata": {
    "execution": {
     "iopub.execute_input": "2021-03-25T00:14:12.973100Z",
     "iopub.status.busy": "2021-03-25T00:14:12.972772Z",
     "iopub.status.idle": "2021-03-25T00:14:13.867921Z",
     "shell.execute_reply": "2021-03-25T00:14:13.866972Z",
     "shell.execute_reply.started": "2021-03-25T00:14:12.973069Z"
    }
   },
   "source": [
    "---\n",
    "\n",
    "## 3. Creating `Timeline` and identifying nodes:"
   ]
  },
  {
   "cell_type": "code",
   "execution_count": 10,
   "id": "theoretical-tactics",
   "metadata": {
    "ExecuteTime": {
     "end_time": "2021-05-13T10:25:49.959666Z",
     "start_time": "2021-05-13T10:25:41.731134Z"
    },
    "execution": {
     "iopub.execute_input": "2021-03-25T21:29:30.177956Z",
     "iopub.status.busy": "2021-03-25T21:29:30.177742Z",
     "iopub.status.idle": "2021-03-25T21:29:39.866220Z",
     "shell.execute_reply": "2021-03-25T21:29:39.865586Z",
     "shell.execute_reply.started": "2021-03-25T21:29:30.177928Z"
    },
    "tags": []
   },
   "outputs": [],
   "source": [
    "cez_timeline = geotimeline.GeoGraphTimeline(cez_graphs)\n",
    "# Perform node identification\n",
    "cez_timeline.timestack()\n",
    "# Classify node dynamics for the year 2014\n",
    "cez_timeline.calculate_node_dynamics(2014);"
   ]
  },
  {
   "cell_type": "markdown",
   "id": "painted-header",
   "metadata": {},
   "source": [
    "---\n",
    "\n",
    "## 4. Inspect in interactive viewer"
   ]
  },
  {
   "cell_type": "code",
   "execution_count": 11,
   "id": "worldwide-progressive",
   "metadata": {
    "ExecuteTime": {
     "end_time": "2021-05-13T10:26:07.464289Z",
     "start_time": "2021-05-13T10:25:50.191097Z"
    },
    "execution": {
     "iopub.execute_input": "2021-03-25T21:30:10.460571Z",
     "iopub.status.busy": "2021-03-25T21:30:10.460086Z",
     "iopub.status.idle": "2021-03-25T21:30:33.037970Z",
     "shell.execute_reply": "2021-03-25T21:30:33.037097Z",
     "shell.execute_reply.started": "2021-03-25T21:30:10.460525Z"
    },
    "tags": []
   },
   "outputs": [
    {
     "data": {
      "application/vnd.jupyter.widget-view+json": {
       "model_id": "d067883d8e97409190b4abadcea4610a",
       "version_major": 2,
       "version_minor": 0
      },
      "text/plain": [
       "GeoGraphViewer(center=[51.389167, 30.099444], controls=(ZoomControl(options=['position', 'zoom_in_text', 'zoom…"
      ]
     },
     "metadata": {},
     "output_type": "display_data"
    }
   ],
   "source": [
    "viewer = geoviewer.GeoGraphViewer(small_screen=True)\n",
    "viewer.add_layer(ipyleaflet.basemaps.Esri.WorldImagery)\n",
    "viewer.add_graph(cez_timeline[2014], name='Chernobyl data', with_components=False)\n",
    "viewer.enable_graph_controls()\n",
    "viewer"
   ]
  }
 ],
 "metadata": {
  "celltoolbar": "Edit Metadata",
  "hide_input": false,
  "kernelspec": {
   "display_name": "Python 3.8.6 64-bit (conda)",
   "language": "python",
   "name": "python38664bitcondaa02632c3747848fca9e6bac7131e6e7e"
  },
  "language_info": {
   "codemirror_mode": {
    "name": "ipython",
    "version": 3
   },
   "file_extension": ".py",
   "mimetype": "text/x-python",
   "name": "python",
   "nbconvert_exporter": "python",
   "pygments_lexer": "ipython3",
   "version": "3.8.6"
  },
  "varInspector": {
   "cols": {
    "lenName": 16,
    "lenType": 16,
    "lenVar": 40
   },
   "kernels_config": {
    "python": {
     "delete_cmd_postfix": "",
     "delete_cmd_prefix": "del ",
     "library": "var_list.py",
     "varRefreshCmd": "print(var_dic_list())"
    },
    "r": {
     "delete_cmd_postfix": ") ",
     "delete_cmd_prefix": "rm(",
     "library": "var_list.r",
     "varRefreshCmd": "cat(var_dic_list()) "
    }
   },
   "types_to_exclude": [
    "module",
    "function",
    "builtin_function_or_method",
    "instance",
    "_Feature"
   ],
   "window_display": false
  }
 },
 "nbformat": 4,
 "nbformat_minor": 5
}
