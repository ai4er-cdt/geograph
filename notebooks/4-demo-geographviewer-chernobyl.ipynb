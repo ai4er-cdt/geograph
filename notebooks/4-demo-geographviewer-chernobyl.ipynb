{
 "cells": [
  {
   "cell_type": "markdown",
   "id": "black-appraisal",
   "metadata": {},
   "source": [
    "# Visualising Temporal Analysis Interactively"
   ]
  },
  {
   "cell_type": "markdown",
   "id": "88247979-721e-438e-9c2b-f823c03f9d05",
   "metadata": {},
   "source": [
    "[![Binder](https://mybinder.org/badge_logo.svg)](https://mybinder.org/v2/gh/ai4er-cdt/gtc-biodiversity/main?filepath=notebooks%2F4-demo-geographviewer-chernobyl.ipynb)"
   ]
  },
  {
   "cell_type": "markdown",
   "id": "866ee1ad-931c-4a89-8538-55f35e85d458",
   "metadata": {},
   "source": [
    "This tutorial shows how to create and visualise a timeline of GeoGraphs."
   ]
  },
  {
   "cell_type": "markdown",
   "id": "unknown-button",
   "metadata": {
    "execution": {
     "iopub.execute_input": "2021-03-25T00:07:53.493619Z",
     "iopub.status.busy": "2021-03-25T00:07:53.493296Z",
     "iopub.status.idle": "2021-03-25T00:07:53.509659Z",
     "shell.execute_reply": "2021-03-25T00:07:53.508340Z",
     "shell.execute_reply.started": "2021-03-25T00:07:53.493590Z"
    }
   },
   "source": [
    "---\n",
    "\n",
    "## 1. Setup and Loading package"
   ]
  },
  {
   "cell_type": "code",
   "execution_count": 1,
   "id": "preceding-albany",
   "metadata": {
    "ExecuteTime": {
     "end_time": "2021-05-13T14:38:41.122907Z",
     "start_time": "2021-05-13T14:38:41.085188Z"
    },
    "execution": {
     "iopub.execute_input": "2021-03-25T21:28:16.706070Z",
     "iopub.status.busy": "2021-03-25T21:28:16.705353Z",
     "iopub.status.idle": "2021-03-25T21:28:16.970961Z",
     "shell.execute_reply": "2021-03-25T21:28:16.970299Z",
     "shell.execute_reply.started": "2021-03-25T21:28:16.705864Z"
    },
    "nbsphinx": "hidden",
    "tags": []
   },
   "outputs": [],
   "source": [
    "%load_ext autoreload\n",
    "%autoreload 2\n",
    "%config IPCompleter.greedy=True"
   ]
  },
  {
   "cell_type": "markdown",
   "id": "greenhouse-subscriber",
   "metadata": {},
   "source": [
    "Let us start by installing all relevant dependencies"
   ]
  },
  {
   "cell_type": "code",
   "execution_count": 2,
   "id": "ahead-duncan",
   "metadata": {
    "ExecuteTime": {
     "end_time": "2021-05-13T14:38:44.695951Z",
     "start_time": "2021-05-13T14:38:41.125450Z"
    },
    "execution": {
     "iopub.execute_input": "2021-03-25T21:28:32.226379Z",
     "iopub.status.busy": "2021-03-25T21:28:32.226099Z",
     "iopub.status.idle": "2021-03-25T21:28:38.563747Z",
     "shell.execute_reply": "2021-03-25T21:28:38.563028Z",
     "shell.execute_reply.started": "2021-03-25T21:28:32.226346Z"
    },
    "tags": []
   },
   "outputs": [
    {
     "name": "stderr",
     "output_type": "stream",
     "text": [
      "/home/users/svm/Code/gtc-biodiversity/env/lib/python3.8/site-packages/geopandas/_compat.py:84: UserWarning: The Shapely GEOS version (3.8.0-CAPI-1.13.1 ) is incompatible with the GEOS version PyGEOS was compiled with (3.9.0-CAPI-1.16.2). Conversions between both will be slow.\n",
      "  warnings.warn(\n"
     ]
    }
   ],
   "source": [
    "import ipyleaflet\n",
    "import pandas as pd\n",
    "import geopandas as gpd\n",
    "import rioxarray as rxr\n",
    "\n",
    "import geograph\n",
    "from geograph import geotimeline\n",
    "from geograph.visualisation import geoviewer\n",
    "from geograph.constants import UTM35N\n",
    "from geograph.demo.binder_constants import DATA_DIR, ROIS, ESA_CCI_LEGEND_LINK\n",
    "from geograph.metrics import LANDSCAPE_METRICS_DICT, COMPONENT_METRICS_DICT"
   ]
  },
  {
   "cell_type": "markdown",
   "id": "military-security",
   "metadata": {
    "execution": {
     "iopub.execute_input": "2021-03-25T00:08:04.986653Z",
     "iopub.status.busy": "2021-03-25T00:08:04.986358Z",
     "iopub.status.idle": "2021-03-25T00:08:05.016681Z",
     "shell.execute_reply": "2021-03-25T00:08:05.015799Z",
     "shell.execute_reply.started": "2021-03-25T00:08:04.986625Z"
    }
   },
   "source": [
    "---\n",
    "\n",
    "## 2. Loading Data"
   ]
  },
  {
   "cell_type": "markdown",
   "id": "sticky-distributor",
   "metadata": {},
   "source": [
    "Next, we will load the data for the Chernobyl region. For this example we will use land cover maps from the [ESA CCI land cover](http://www.esa-landcover-cci.org/) dataset. Specifically, we will look at the years 2013 and 2014 for the [Chernobyl exclusion zone](https://en.wikipedia.org/wiki/Chernobyl_Exclusion_Zone). All data comes pre-installed on the binder in the `DATA_DIR` that we imported from the `binder_constants`. If you are following this demo on your local machine, you can download the data with this link."
   ]
  },
  {
   "cell_type": "code",
   "execution_count": 3,
   "id": "funky-youth",
   "metadata": {
    "ExecuteTime": {
     "end_time": "2021-05-13T14:38:44.804412Z",
     "start_time": "2021-05-13T14:38:44.698833Z"
    },
    "execution": {
     "iopub.execute_input": "2021-03-25T21:28:38.565031Z",
     "iopub.status.busy": "2021-03-25T21:28:38.564810Z",
     "iopub.status.idle": "2021-03-25T21:28:38.699629Z",
     "shell.execute_reply": "2021-03-25T21:28:38.698758Z",
     "shell.execute_reply.started": "2021-03-25T21:28:38.565003Z"
    },
    "tags": []
   },
   "outputs": [],
   "source": [
    "# Parse geotif landcover data\n",
    "chernobyl_path = lambda year: DATA_DIR / \"chernobyl\" / \"esa_cci\" / f\"esa_cci_{year}_chernobyl.tif\" \n",
    "\n",
    "# Parse ROIS\n",
    "rois = gpd.read_file(ROIS)\n",
    "# Load the shape of the chernobyl exclusion zone\n",
    "cez = rois[rois[\"name\"] == \"Chernobyl Exclusion Zone\"]"
   ]
  },
  {
   "cell_type": "code",
   "execution_count": 4,
   "id": "figured-reducing",
   "metadata": {
    "ExecuteTime": {
     "end_time": "2021-05-13T14:38:44.848347Z",
     "start_time": "2021-05-13T14:38:44.806591Z"
    },
    "execution": {
     "iopub.execute_input": "2021-03-25T21:28:49.615703Z",
     "iopub.status.busy": "2021-03-25T21:28:49.615394Z",
     "iopub.status.idle": "2021-03-25T21:28:50.073012Z",
     "shell.execute_reply": "2021-03-25T21:28:50.071564Z",
     "shell.execute_reply.started": "2021-03-25T21:28:49.615664Z"
    },
    "tags": []
   },
   "outputs": [],
   "source": [
    "def clip_and_reproject(xrdata, clip_geometry=None, to_crs=UTM35N, x_res=300, y_res=300):\n",
    "    \n",
    "    if clip_geometry is not None:\n",
    "        clipped_data = xrdata.rio.clip(clip_geometry)\n",
    "    else:\n",
    "        clipped_data = xrdata\n",
    "        \n",
    "    if to_crs is not None:\n",
    "        reprojected_data = clipped_data.rio.reproject(to_crs, resolution=(x_res, y_res))\n",
    "    else:\n",
    "        reprojected_data = clipped_data\n",
    "    \n",
    "    return reprojected_data"
   ]
  },
  {
   "cell_type": "code",
   "execution_count": 5,
   "id": "organizational-thriller",
   "metadata": {
    "ExecuteTime": {
     "end_time": "2021-05-13T14:38:45.807415Z",
     "start_time": "2021-05-13T14:38:44.850400Z"
    }
   },
   "outputs": [],
   "source": [
    "# Loading ESA CCI land cover raster data\n",
    "years = list(range(2013,2015))\n",
    "cez_rasters = {year: clip_and_reproject(rxr.open_rasterio(chernobyl_path(year)), clip_geometry=cez.geometry) \n",
    "              for year in years\n",
    "             }"
   ]
  },
  {
   "cell_type": "code",
   "execution_count": 6,
   "id": "nearby-persian",
   "metadata": {
    "ExecuteTime": {
     "end_time": "2021-05-13T14:38:46.772366Z",
     "start_time": "2021-05-13T14:38:45.809006Z"
    }
   },
   "outputs": [
    {
     "name": "stdout",
     "output_type": "stream",
     "text": [
      "There are 38 classes.\n"
     ]
    }
   ],
   "source": [
    "# Loading ESA CCI land cover legend to translate land cover labels to classes\n",
    "esa_cci_legend = pd.read_csv(ESA_CCI_LEGEND_LINK, delimiter=\";\", index_col=0)\n",
    "print(f\"There are {len(esa_cci_legend)} classes.\")\n",
    "\n",
    "class_value_to_label = {class_val: row.LCCOwnLabel for class_val, row in esa_cci_legend.iterrows()}"
   ]
  },
  {
   "cell_type": "markdown",
   "id": "personalized-athens",
   "metadata": {},
   "source": [
    "---\n",
    "\n",
    "## 3. Creating `GeoGraph`"
   ]
  },
  {
   "cell_type": "code",
   "execution_count": 7,
   "id": "elementary-poster",
   "metadata": {
    "ExecuteTime": {
     "end_time": "2021-05-13T14:39:22.388521Z",
     "start_time": "2021-05-13T14:38:46.774711Z"
    },
    "execution": {
     "iopub.execute_input": "2021-03-25T21:28:51.204862Z",
     "iopub.status.busy": "2021-03-25T21:28:51.204604Z",
     "iopub.status.idle": "2021-03-25T21:29:30.176505Z",
     "shell.execute_reply": "2021-03-25T21:29:30.175567Z",
     "shell.execute_reply.started": "2021-03-25T21:28:51.204830Z"
    },
    "tags": []
   },
   "outputs": [
    {
     "name": "stdout",
     "output_type": "stream",
     "text": [
      "Analysing year 2013\n"
     ]
    },
    {
     "name": "stderr",
     "output_type": "stream",
     "text": [
      "Identifying nodes: 100%|██████████| 2923/2923 [00:05<00:00, 556.09it/s]\n",
      "Step 1 of 2: Creating nodes and finding neighbours: 100%|██████████| 2003/2003 [00:10<00:00, 191.28it/s]\n",
      "Step 2 of 2: Adding edges: 100%|██████████| 2003/2003 [00:00<00:00, 69617.74it/s]\n"
     ]
    },
    {
     "name": "stdout",
     "output_type": "stream",
     "text": [
      "Graph successfully loaded with 2003 nodes and 5140 edges.\n",
      "Analysing year 2014\n"
     ]
    },
    {
     "name": "stderr",
     "output_type": "stream",
     "text": [
      "Identifying nodes: 100%|██████████| 2915/2915 [00:05<00:00, 541.60it/s]\n",
      "Step 1 of 2: Creating nodes and finding neighbours: 100%|██████████| 1999/1999 [00:11<00:00, 179.66it/s]\n",
      "Step 2 of 2: Adding edges: 100%|██████████| 1999/1999 [00:00<00:00, 60868.21it/s]"
     ]
    },
    {
     "name": "stdout",
     "output_type": "stream",
     "text": [
      "Graph successfully loaded with 1999 nodes and 5117 edges.\n"
     ]
    },
    {
     "name": "stderr",
     "output_type": "stream",
     "text": [
      "\n"
     ]
    }
   ],
   "source": [
    "# Polygonising raster and transforming into graph\n",
    "cez_graphs = {}\n",
    "for year, raster in cez_rasters.items():\n",
    "    print(f\"Analysing year {year}\")\n",
    "    # Load geograph from the raster data (construction takes ~10s)\n",
    "    cez_graphs[year] = geograph.GeoGraph(data=raster.data, \n",
    "                                transform=raster.rio.transform(), \n",
    "                                crs=UTM35N, \n",
    "                                mask = raster.data > 0,\n",
    "                                connectivity=8)\n",
    "    # Map the ESA CCI land cover class value (int) to the plain text label\n",
    "    #  to have the plain text labels available in the interactive viewer.\n",
    "    cez_graphs[year].df.class_label = cez_graphs[year].df.class_label.apply(lambda x: class_value_to_label[x])"
   ]
  },
  {
   "cell_type": "markdown",
   "id": "classified-canvas",
   "metadata": {
    "execution": {
     "iopub.execute_input": "2021-03-25T00:14:12.973100Z",
     "iopub.status.busy": "2021-03-25T00:14:12.972772Z",
     "iopub.status.idle": "2021-03-25T00:14:13.867921Z",
     "shell.execute_reply": "2021-03-25T00:14:13.866972Z",
     "shell.execute_reply.started": "2021-03-25T00:14:12.973069Z"
    }
   },
   "source": [
    "---\n",
    "\n",
    "## 4. Creating `Timeline` and identifying nodes:"
   ]
  },
  {
   "cell_type": "code",
   "execution_count": 8,
   "id": "theoretical-tactics",
   "metadata": {
    "ExecuteTime": {
     "end_time": "2021-05-13T14:39:31.891754Z",
     "start_time": "2021-05-13T14:39:22.392050Z"
    },
    "execution": {
     "iopub.execute_input": "2021-03-25T21:29:30.177956Z",
     "iopub.status.busy": "2021-03-25T21:29:30.177742Z",
     "iopub.status.idle": "2021-03-25T21:29:39.866220Z",
     "shell.execute_reply": "2021-03-25T21:29:39.865586Z",
     "shell.execute_reply.started": "2021-03-25T21:29:30.177928Z"
    },
    "tags": []
   },
   "outputs": [
    {
     "name": "stderr",
     "output_type": "stream",
     "text": [
      "Identifying nodes: 100%|██████████| 2003/2003 [00:03<00:00, 514.92it/s]\n"
     ]
    }
   ],
   "source": [
    "cez_timeline = geotimeline.GeoGraphTimeline(cez_graphs)\n",
    "# Perform node identification\n",
    "cez_timeline.timestack()\n",
    "# Classify node dynamics for the year 2014\n",
    "cez_timeline.calculate_node_dynamics(2014);"
   ]
  },
  {
   "cell_type": "markdown",
   "id": "painted-header",
   "metadata": {},
   "source": [
    "---\n",
    "\n",
    "## 5. Inspect in interactive viewer"
   ]
  },
  {
   "cell_type": "code",
   "execution_count": 9,
   "id": "worldwide-progressive",
   "metadata": {
    "ExecuteTime": {
     "end_time": "2021-05-13T14:39:56.468959Z",
     "start_time": "2021-05-13T14:39:31.894193Z"
    },
    "execution": {
     "iopub.execute_input": "2021-03-25T21:30:10.460571Z",
     "iopub.status.busy": "2021-03-25T21:30:10.460086Z",
     "iopub.status.idle": "2021-03-25T21:30:33.037970Z",
     "shell.execute_reply": "2021-03-25T21:30:33.037097Z",
     "shell.execute_reply.started": "2021-03-25T21:30:10.460525Z"
    },
    "scrolled": true,
    "tags": []
   },
   "outputs": [
    {
     "name": "stdout",
     "output_type": "stream",
     "text": [
      "Calculating component polygons...\n"
     ]
    },
    {
     "name": "stderr",
     "output_type": "stream",
     "text": [
      "Constructing graph: 100%|██████████| 1/1 [00:00<00:00, 2499.59it/s]\n"
     ]
    },
    {
     "name": "stdout",
     "output_type": "stream",
     "text": [
      "Warning: very computationally expensive for graphs with more\n",
      "              than ~100 components.\n"
     ]
    },
    {
     "name": "stderr",
     "output_type": "stream",
     "text": [
      "Constructing graph: 100%|██████████| 1/1 [00:00<00:00, 3179.91it/s]\n",
      "Calculating edge weights: 0it [00:00, ?it/s]\n"
     ]
    }
   ],
   "source": [
    "# Choose metrics to display:\n",
    "metric_list = list(LANDSCAPE_METRICS_DICT.keys()) + list(COMPONENT_METRICS_DICT.keys())\n",
    "# Build up the viewer\n",
    "viewer = geoviewer.GeoGraphViewer(small_screen=True, metric_list=metric_list)\n",
    "viewer.add_layer(ipyleaflet.basemaps.Esri.WorldImagery)\n",
    "viewer.add_graph(cez_timeline[2014], name='Chernobyl data', with_components=False)\n",
    "viewer.enable_graph_controls()"
   ]
  },
  {
   "cell_type": "code",
   "execution_count": 10,
   "id": "global-fellow",
   "metadata": {
    "ExecuteTime": {
     "end_time": "2021-05-13T14:39:56.700682Z",
     "start_time": "2021-05-13T14:39:56.470983Z"
    }
   },
   "outputs": [
    {
     "data": {
      "application/vnd.jupyter.widget-view+json": {
       "model_id": "ace3e478b4354a0db1272e689b7262f5",
       "version_major": 2,
       "version_minor": 0
      },
      "text/plain": [
       "GeoGraphViewer(center=[51.389167, 30.099444], controls=(ZoomControl(options=['position', 'zoom_in_text', 'zoom…"
      ]
     },
     "metadata": {},
     "output_type": "display_data"
    }
   ],
   "source": [
    "# Display the interactive map\n",
    "viewer"
   ]
  },
  {
   "cell_type": "markdown",
   "id": "bd741fd6-4bf4-4f2f-ac27-cc73e4971b43",
   "metadata": {},
   "source": [
    "> Note: an interactive viewer will show up here."
   ]
  }
 ],
 "metadata": {
  "celltoolbar": "Edit Metadata",
  "hide_input": false,
  "kernelspec": {
   "display_name": "Python 3",
   "language": "python",
   "name": "python3"
  },
  "language_info": {
   "codemirror_mode": {
    "name": "ipython",
    "version": 3
   },
   "file_extension": ".py",
   "mimetype": "text/x-python",
   "name": "python",
   "nbconvert_exporter": "python",
   "pygments_lexer": "ipython3",
   "version": "3.8.8"
  },
  "varInspector": {
   "cols": {
    "lenName": 16,
    "lenType": 16,
    "lenVar": 40
   },
   "kernels_config": {
    "python": {
     "delete_cmd_postfix": "",
     "delete_cmd_prefix": "del ",
     "library": "var_list.py",
     "varRefreshCmd": "print(var_dic_list())"
    },
    "r": {
     "delete_cmd_postfix": ") ",
     "delete_cmd_prefix": "rm(",
     "library": "var_list.r",
     "varRefreshCmd": "cat(var_dic_list()) "
    }
   },
   "types_to_exclude": [
    "module",
    "function",
    "builtin_function_or_method",
    "instance",
    "_Feature"
   ],
   "window_display": false
  }
 },
 "nbformat": 4,
 "nbformat_minor": 5
}
